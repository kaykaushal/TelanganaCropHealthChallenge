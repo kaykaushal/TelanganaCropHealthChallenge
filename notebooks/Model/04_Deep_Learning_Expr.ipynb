{
 "cells": [
  {
   "cell_type": "code",
   "execution_count": 300,
   "id": "1401da39-64e4-49f7-996d-91a110409d8b",
   "metadata": {},
   "outputs": [],
   "source": [
    "import os \n",
    "import torch\n",
    "from torch.utils.data import Dataset, DataLoader\n",
    "import numpy as np\n",
    "import pandas as pd\n",
    "\n",
    "os.chdir('/Users/kaushalk/Desktop/open_projects/Telengana_Crop_Health/')\n",
    "# Add the 'src' directory to the Python path\n",
    "from src.process_data import compute_indices_for_df, prepare_model_data, compute_monthly_indices_for_df\n",
    "from src.visualize import plot_numerical_distributions, plot_confusion_matrix\n",
    "from src.utils import FocalLoss\n",
    "\n",
    "from sklearn.model_selection import StratifiedKFold, train_test_split\n",
    "from sklearn.metrics import accuracy_score, f1_score, confusion_matrix, classification_report\n",
    "import matplotlib.pyplot as plt\n",
    "import seaborn as sns\n",
    "\n",
    "## Deep learning package \n",
    "import torch\n",
    "import torch.nn as nn\n",
    "import torch.optim as optim\n",
    "import pytorch_lightning as pl\n",
    "import torchmetrics\n",
    "from torchmetrics.classification import Accuracy\n",
    "\n",
    "from torch.utils.data import Dataset, DataLoader, random_split"
   ]
  },
  {
   "cell_type": "code",
   "execution_count": 302,
   "id": "fcbb79d4-d6fe-4122-ad66-5655ce895fc9",
   "metadata": {},
   "outputs": [
    {
     "name": "stdout",
     "output_type": "stream",
     "text": [
      "<class 'pandas.core.frame.DataFrame'>\n",
      "Index: 7866 entries, 0 to 7887\n",
      "Data columns (total 89 columns):\n",
      " #   Column           Non-Null Count  Dtype  \n",
      "---  ------           --------------  -----  \n",
      " 0   FarmID           7866 non-null   int64  \n",
      " 1   category         7866 non-null   int64  \n",
      " 2   Crop             7866 non-null   object \n",
      " 3   State            7866 non-null   object \n",
      " 4   District         7866 non-null   object \n",
      " 5   Sub-District     7866 non-null   object \n",
      " 6   SDate            7866 non-null   object \n",
      " 7   HDate            7866 non-null   int32  \n",
      " 8   CropCoveredArea  7866 non-null   int64  \n",
      " 9   CHeight          7866 non-null   int64  \n",
      " 10  CNext            7866 non-null   object \n",
      " 11  CLast            7866 non-null   object \n",
      " 12  CTransp          7866 non-null   object \n",
      " 13  IrriType         7866 non-null   object \n",
      " 14  IrriSource       7866 non-null   object \n",
      " 15  IrriCount        7866 non-null   int64  \n",
      " 16  WaterCov         7866 non-null   int64  \n",
      " 17  ExpYield         7866 non-null   int64  \n",
      " 18  Season           7866 non-null   object \n",
      " 19  geometry         7866 non-null   object \n",
      " 20  M1_EVI           7866 non-null   float64\n",
      " 21  M1_NDRE          7866 non-null   float64\n",
      " 22  M1_GNDVI         7866 non-null   float64\n",
      " 23  M2_EVI           7691 non-null   float64\n",
      " 24  M2_NDRE          7692 non-null   float64\n",
      " 25  M2_GNDVI         7692 non-null   float64\n",
      " 26  M3_EVI           7315 non-null   float64\n",
      " 27  M3_NDRE          7318 non-null   float64\n",
      " 28  M3_GNDVI         7318 non-null   float64\n",
      " 29  M4_EVI           6425 non-null   float64\n",
      " 30  M4_NDRE          6427 non-null   float64\n",
      " 31  M4_GNDVI         6428 non-null   float64\n",
      " 32  M5_EVI           5114 non-null   float64\n",
      " 33  M5_NDRE          5114 non-null   float64\n",
      " 34  M5_GNDVI         5115 non-null   float64\n",
      " 35  M6_EVI           3888 non-null   float64\n",
      " 36  M6_NDRE          3888 non-null   float64\n",
      " 37  M6_GNDVI         3888 non-null   float64\n",
      " 38  M7_EVI           3018 non-null   float64\n",
      " 39  M7_NDRE          3018 non-null   float64\n",
      " 40  M7_GNDVI         3018 non-null   float64\n",
      " 41  M8_EVI           2515 non-null   float64\n",
      " 42  M8_NDRE          2516 non-null   float64\n",
      " 43  M8_GNDVI         2516 non-null   float64\n",
      " 44  M9_EVI           2142 non-null   float64\n",
      " 45  M9_NDRE          2142 non-null   float64\n",
      " 46  M9_GNDVI         2142 non-null   float64\n",
      " 47  M10_EVI          1798 non-null   float64\n",
      " 48  M10_NDRE         1798 non-null   float64\n",
      " 49  M10_GNDVI        1798 non-null   float64\n",
      " 50  M11_EVI          1504 non-null   float64\n",
      " 51  M11_NDRE         1504 non-null   float64\n",
      " 52  M11_GNDVI        1504 non-null   float64\n",
      " 53  M12_EVI          1165 non-null   float64\n",
      " 54  M12_NDRE         1165 non-null   float64\n",
      " 55  M12_GNDVI        1165 non-null   float64\n",
      " 56  M13_EVI          896 non-null    float64\n",
      " 57  M13_NDRE         896 non-null    float64\n",
      " 58  M13_GNDVI        896 non-null    float64\n",
      " 59  M14_EVI          686 non-null    float64\n",
      " 60  M14_NDRE         686 non-null    float64\n",
      " 61  M14_GNDVI        686 non-null    float64\n",
      " 62  M15_EVI          491 non-null    float64\n",
      " 63  M15_NDRE         491 non-null    float64\n",
      " 64  M15_GNDVI        491 non-null    float64\n",
      " 65  M16_EVI          345 non-null    float64\n",
      " 66  M16_NDRE         345 non-null    float64\n",
      " 67  M16_GNDVI        345 non-null    float64\n",
      " 68  M17_EVI          235 non-null    float64\n",
      " 69  M17_NDRE         235 non-null    float64\n",
      " 70  M17_GNDVI        235 non-null    float64\n",
      " 71  M18_EVI          161 non-null    float64\n",
      " 72  M18_NDRE         161 non-null    float64\n",
      " 73  M18_GNDVI        161 non-null    float64\n",
      " 74  M19_EVI          122 non-null    float64\n",
      " 75  M19_NDRE         122 non-null    float64\n",
      " 76  M19_GNDVI        122 non-null    float64\n",
      " 77  M20_EVI          71 non-null     float64\n",
      " 78  M20_NDRE         71 non-null     float64\n",
      " 79  M20_GNDVI        71 non-null     float64\n",
      " 80  M21_EVI          39 non-null     float64\n",
      " 81  M21_NDRE         39 non-null     float64\n",
      " 82  M21_GNDVI        39 non-null     float64\n",
      " 83  M22_EVI          17 non-null     float64\n",
      " 84  M22_NDRE         17 non-null     float64\n",
      " 85  M22_GNDVI        17 non-null     float64\n",
      " 86  M23_EVI          4 non-null      float64\n",
      " 87  M23_NDRE         4 non-null      float64\n",
      " 88  M23_GNDVI        4 non-null      float64\n",
      "dtypes: float64(69), int32(1), int64(7), object(12)\n",
      "memory usage: 5.4+ MB\n"
     ]
    }
   ],
   "source": [
    "df = pd.read_csv('data/Model/Input/train_monthly_indeces.csv', index_col=0)\n",
    "# Identify time-series columns (all M1-M23 features)\n",
    "columns_to_drop = [col for col in df.columns if 'LSWI' in col or 'LCI' in col or 'MoistureIndex' in col]\n",
    "df = df.drop(columns=columns_to_drop)\n",
    "\n",
    "time_series_columns = [col for col in df.columns if col.startswith(\"M\")]\n",
    "\n",
    "# Ensure `HDate` is numeric\n",
    "df[\"HDate\"] = pd.to_datetime(df[\"HDate\"], errors='coerce').dt.month\n",
    "\n",
    "# Category Mapping\n",
    "category_mapper = {'Healthy': 0, 'Diseased': 1, 'Pests': 2, 'Stressed': 3}\n",
    "df[\"category\"] = df[\"category\"].map(category_mapper)\n",
    "df = df.dropna(subset=['M1_EVI'])\n",
    "df.info()"
   ]
  },
  {
   "cell_type": "code",
   "execution_count": 304,
   "id": "0dff29f5-f661-4455-9ae8-5bd8cfde1c0d",
   "metadata": {},
   "outputs": [
    {
     "data": {
      "text/plain": [
       "((7866, 23, 3), (7866,))"
      ]
     },
     "execution_count": 304,
     "metadata": {},
     "output_type": "execute_result"
    }
   ],
   "source": [
    "num_farms = df.FarmID.nunique()\n",
    "# Extract Time-Series Features (EVI, NDRE, GNDVI for 23 months)\n",
    "time_series_cols = [col for col in df.columns if col.startswith('M')]\n",
    "X = df[time_series_cols].fillna(0).values.reshape(num_farms, 23, 3)  # (Farms, TimeSteps=23, Features=3)\n",
    "y = df['category'].values  # (Farms, ) - Multi-Class Labels\n",
    "X.shape, y.shape"
   ]
  },
  {
   "cell_type": "code",
   "execution_count": 349,
   "id": "6c33a0f8-24d9-4501-8759-284972c77a02",
   "metadata": {},
   "outputs": [],
   "source": [
    "from torch.utils.data import DataLoader, WeightedRandomSampler\n",
    "from torch.utils.data import DataLoader, TensorDataset\n",
    "# Split into train and validation sets (80% Train, 20% Validation)\n",
    "X_train, X_valid, y_train, y_valid = train_test_split(X, y, test_size=0.2, random_state=42, stratify=y)\n",
    "\n",
    "# Convert to PyTorch tensors\n",
    "X_train_tensor = torch.tensor(X_train, dtype=torch.float32)\n",
    "X_valid_tensor = torch.tensor(X_valid, dtype=torch.float32)\n",
    "y_train_tensor = torch.tensor(y_train, dtype=torch.long)\n",
    "y_valid_tensor = torch.tensor(y_valid, dtype=torch.long)\n",
    "\n",
    "# Create Dataloaders\n",
    "batch_size = 16\n",
    "train_dataset = TensorDataset(X_train_tensor, y_train_tensor)\n",
    "valid_dataset = TensorDataset(X_valid_tensor, y_valid_tensor)\n",
    "\n",
    "# Balance Class while training\n",
    "class_counts = np.bincount(y_train)\n",
    "class_weights = 1.0 / class_counts\n",
    "sample_weights = class_weights[y_train]\n",
    "\n",
    "sampler = WeightedRandomSampler(sample_weights, len(sample_weights), replacement=True)\n",
    "\n",
    "train_loader = DataLoader(train_dataset, batch_size=batch_size,  sampler=sampler)\n",
    "valid_loader = DataLoader(valid_dataset, batch_size=batch_size, shuffle=False)"
   ]
  },
  {
   "cell_type": "markdown",
   "id": "da032954-3ace-44d9-be1c-336ebe391130",
   "metadata": {},
   "source": [
    "## Deep Learning Models"
   ]
  },
  {
   "cell_type": "code",
   "execution_count": 352,
   "id": "f7e41d69-264a-4410-8b82-ac24e5d03d35",
   "metadata": {},
   "outputs": [],
   "source": [
    "import torch\n",
    "import torch.nn as nn\n",
    "import torch.nn.functional as F\n",
    "import pytorch_lightning as pl\n",
    "from torch.optim.lr_scheduler import StepLR\n",
    "from torch.utils.data import DataLoader, TensorDataset\n",
    "from pytorch_lightning.callbacks import ModelCheckpoint, EarlyStopping\n",
    "from pytorch_lightning.loggers import TensorBoardLogger"
   ]
  },
  {
   "cell_type": "code",
   "execution_count": 354,
   "id": "724c4d1f-cb19-4e08-a344-519d5c4b2ad2",
   "metadata": {},
   "outputs": [],
   "source": [
    "# Use MPS if available (Mac M3 optimization)\n",
    "device = torch.device(\"mps\" if torch.backends.mps.is_available() \n",
    "                      else \"cuda\" if torch.cuda.is_available() else \"cpu\")"
   ]
  },
  {
   "cell_type": "code",
   "execution_count": 356,
   "id": "f128ab4a-4c17-4484-bdb4-0c6da3ed413a",
   "metadata": {},
   "outputs": [],
   "source": [
    "import torch\n",
    "import torch.nn as nn\n",
    "import torch.nn.functional as F\n",
    "import pytorch_lightning as pl\n",
    "from torch.optim.lr_scheduler import StepLR\n",
    "from torch.utils.data import DataLoader, TensorDataset\n",
    "from pytorch_lightning.callbacks import ModelCheckpoint, EarlyStopping\n",
    "from pytorch_lightning.loggers import TensorBoardLogger\n",
    "\n",
    "# Check device compatibility for Mac M3\n",
    "device = torch.device(\"mps\" if torch.backends.mps.is_available() else \"cpu\")\n",
    "\n",
    "class FPN1D_Lightning(pl.LightningModule):\n",
    "    def __init__(self, input_channels, sequence_length, num_classes=4, lr=0.0008):\n",
    "        super(FPN1D_Lightning, self).__init__()\n",
    "        self.lr = lr\n",
    "\n",
    "        # Bottom-Up Pathway\n",
    "        self.conv1 = nn.Conv1d(input_channels, 64, kernel_size=3, padding=1)\n",
    "        self.conv2 = nn.Conv1d(64, 128, kernel_size=3, stride=2, padding=1)\n",
    "        self.conv3 = nn.Conv1d(128, 256, kernel_size=3, stride=2, padding=1)\n",
    "\n",
    "        # Lateral Connections\n",
    "        self.lateral2 = nn.Conv1d(128, 128, kernel_size=1)\n",
    "        self.lateral1 = nn.Conv1d(64, 64, kernel_size=1)\n",
    "\n",
    "        # Top-Down Pathway\n",
    "        self.up2 = nn.Conv1d(256, 128, kernel_size=1)\n",
    "        self.up1 = nn.Conv1d(128, 64, kernel_size=1)\n",
    "\n",
    "        # Fully Connected Layers\n",
    "        self.fc = nn.Linear(64 * sequence_length, 128)\n",
    "        self.out = nn.Linear(128, num_classes)\n",
    "\n",
    "        self.criterion = FocalLoss()\n",
    "\n",
    "    def forward(self, x):\n",
    "        x = x.permute(0, 2, 1)  # (batch, channels, time)\n",
    "        \n",
    "        # Bottom-Up Pathway\n",
    "        c1 = F.relu(self.conv1(x))\n",
    "        c2 = F.relu(self.conv2(c1))\n",
    "        c3 = F.relu(self.conv3(c2))\n",
    "\n",
    "        # Top-Down Pathway\n",
    "        p2 = self.up2(c3)\n",
    "        p2 = F.interpolate(p2, size=c2.shape[2], mode=\"linear\", align_corners=False)\n",
    "        p2 = F.relu(p2 + self.lateral2(c2))\n",
    "\n",
    "        p1 = self.up1(p2)\n",
    "        p1 = F.interpolate(p1, size=c1.shape[2], mode=\"linear\", align_corners=False)\n",
    "        p1 = F.relu(p1 + self.lateral1(c1))\n",
    "\n",
    "        # Feature Extraction\n",
    "        r1 = p1.view(p1.shape[0], -1)\n",
    "        features = self.fc(r1)\n",
    "        output = self.out(features)\n",
    "\n",
    "        return output\n",
    "\n",
    "    def training_step(self, batch, batch_idx):\n",
    "        X_batch, y_batch = batch\n",
    "        outputs = self(X_batch)\n",
    "        loss = self.criterion(outputs, y_batch)\n",
    "        self.log(\"train_loss\", loss, prog_bar=True)\n",
    "        return loss\n",
    "\n",
    "    def validation_step(self, batch, batch_idx):\n",
    "        X_batch, y_batch = batch\n",
    "        outputs = self(X_batch)\n",
    "        loss = self.criterion(outputs, y_batch)\n",
    "        self.log(\"val_loss\", loss, prog_bar=True)\n",
    "        return loss\n",
    "\n",
    "    def configure_optimizers(self):\n",
    "        optimizer = torch.optim.RMSprop(self.parameters(), lr=self.lr, weight_decay=0.00014)\n",
    "        scheduler = optim.lr_scheduler.CosineAnnealingLR(optimizer, T_max=10)  #StepLR(optimizer, step_size=10, gamma=0.65)\n",
    "        return {\"optimizer\": optimizer, \"lr_scheduler\": scheduler}"
   ]
  },
  {
   "cell_type": "code",
   "execution_count": 358,
   "id": "1935fe18-adb7-440a-98ef-72c0e990a16b",
   "metadata": {},
   "outputs": [],
   "source": [
    "# Logger & Checkpoints\n",
    "from pytorch_lightning.callbacks import ModelCheckpoint, EarlyStopping, RichProgressBar\n",
    "\n",
    "logger = TensorBoardLogger(\"lightning_logs\", name=\"FPN1D_Fnl\")\n",
    "\n",
    "checkpoint_callback = ModelCheckpoint(\n",
    "    monitor=\"val_loss\",\n",
    "    dirpath=\"checkpoints\",\n",
    "    filename=\"fpn1d_best-final\",\n",
    "    save_top_k=1,\n",
    "    mode=\"min\"\n",
    ")\n",
    "\n",
    "early_stopping_callback = EarlyStopping(monitor=\"val_loss\", patience=20, mode=\"min\")\n",
    "progress_bar = RichProgressBar()"
   ]
  },
  {
   "cell_type": "code",
   "execution_count": 360,
   "id": "5db96e31-6748-4ba9-8c6a-2ed51d1b9c0a",
   "metadata": {},
   "outputs": [
    {
     "data": {
      "text/html": [
       "<pre style=\"white-space:pre;overflow-x:auto;line-height:normal;font-family:Menlo,'DejaVu Sans Mono',consolas,'Courier New',monospace\">Epoch 23/49 <span style=\"color: #6206e0; text-decoration-color: #6206e0\">━━━━━━━━━━━━━━━━━━━━━━━━━━━━━━━━</span> 394/394 <span style=\"color: #7f7f7f; text-decoration-color: #7f7f7f\">0:00:05 • 0:00:00</span> <span style=\"color: #7f7f7f; text-decoration-color: #7f7f7f; text-decoration: underline\">76.40it/s</span> <span style=\"font-style: italic\">v_num: 3.000 train_loss: 0.553    </span>\n",
       "                                                                                 <span style=\"font-style: italic\">val_loss: 0.757                   </span>\n",
       "</pre>\n"
      ],
      "text/plain": [
       "Epoch 23/49 \u001b[38;2;98;6;224m━━━━━━━━━━━━━━━━━━━━━━━━━━━━━━━━\u001b[0m 394/394 \u001b[2m0:00:05 • 0:00:00\u001b[0m \u001b[2;4m76.40it/s\u001b[0m \u001b[3mv_num: 3.000 train_loss: 0.553    \u001b[0m\n",
       "                                                                                 \u001b[3mval_loss: 0.757                   \u001b[0m\n"
      ]
     },
     "metadata": {},
     "output_type": "display_data"
    },
    {
     "data": {
      "text/html": [
       "<pre style=\"white-space:pre;overflow-x:auto;line-height:normal;font-family:Menlo,'DejaVu Sans Mono',consolas,'Courier New',monospace\"></pre>\n"
      ],
      "text/plain": []
     },
     "metadata": {},
     "output_type": "display_data"
    }
   ],
   "source": [
    "# Training\n",
    "model = FPN1D_Lightning(input_channels=X_train_tensor.shape[2], sequence_length=X_train_tensor.shape[1], lr=0.003)\n",
    "\n",
    "trainer = pl.Trainer(\n",
    "    max_epochs=50,\n",
    "    devices=1,\n",
    "    accelerator=\"mps\" if torch.backends.mps.is_available() else \"cpu\",\n",
    "    logger=logger,\n",
    "    callbacks=[checkpoint_callback, early_stopping_callback, progress_bar],\n",
    "    enable_progress_bar=True\n",
    ")\n",
    "\n",
    "trainer.fit(model, train_loader, valid_loader)"
   ]
  },
  {
   "cell_type": "code",
   "execution_count": 369,
   "id": "835286a2-0fb0-4abc-901c-ff5f0fb8957f",
   "metadata": {},
   "outputs": [
    {
     "data": {
      "text/plain": [
       "'/Users/kaushalk/Desktop/open_projects/Telengana_Crop_Health/checkpoints/fpn1d_best-final-v3.ckpt'"
      ]
     },
     "execution_count": 369,
     "metadata": {},
     "output_type": "execute_result"
    }
   ],
   "source": [
    "checkpoint_callback.best_model_path"
   ]
  },
  {
   "cell_type": "code",
   "execution_count": 371,
   "id": "9b1ead9e-745d-4bfc-a5b4-19606a85bb6b",
   "metadata": {},
   "outputs": [
    {
     "data": {
      "text/plain": [
       "FPN1D_Lightning(\n",
       "  (conv1): Conv1d(3, 64, kernel_size=(3,), stride=(1,), padding=(1,))\n",
       "  (conv2): Conv1d(64, 128, kernel_size=(3,), stride=(2,), padding=(1,))\n",
       "  (conv3): Conv1d(128, 256, kernel_size=(3,), stride=(2,), padding=(1,))\n",
       "  (lateral2): Conv1d(128, 128, kernel_size=(1,), stride=(1,))\n",
       "  (lateral1): Conv1d(64, 64, kernel_size=(1,), stride=(1,))\n",
       "  (up2): Conv1d(256, 128, kernel_size=(1,), stride=(1,))\n",
       "  (up1): Conv1d(128, 64, kernel_size=(1,), stride=(1,))\n",
       "  (fc): Linear(in_features=1472, out_features=128, bias=True)\n",
       "  (out): Linear(in_features=128, out_features=4, bias=True)\n",
       "  (criterion): FocalLoss(\n",
       "    (ce_loss): CrossEntropyLoss()\n",
       "  )\n",
       ")"
      ]
     },
     "execution_count": 371,
     "metadata": {},
     "output_type": "execute_result"
    }
   ],
   "source": [
    "# Load Best Model from Checkpoint\n",
    "best_model_path = checkpoint_callback.best_model_path  # This gives the best checkpoint path\n",
    "\n",
    "# Load model with necessary parameters\n",
    "fpn_model = FPN1D_Lightning.load_from_checkpoint(\n",
    "    best_model_path, \n",
    "    input_channels=3, \n",
    "    sequence_length=23\n",
    ")\n",
    "fpn_model.eval()\n",
    "model.to(device)"
   ]
  },
  {
   "cell_type": "code",
   "execution_count": 373,
   "id": "c000e202-b1b0-480e-beec-7baa4f85c798",
   "metadata": {},
   "outputs": [],
   "source": [
    "# Lists to store predictions and ground truth labels\n",
    "y_preds = []\n",
    "y_true = []\n",
    "\n",
    "# Evaluation Loop\n",
    "with torch.no_grad():\n",
    "    for X_batch, y_batch in valid_loader:\n",
    "        X_batch, y_batch = X_batch.to(device), y_batch.to(device)\n",
    "\n",
    "        outputs = model(X_batch)\n",
    "        _, predicted = torch.max(outputs, 1)\n",
    "\n",
    "        y_preds.extend(predicted.cpu().numpy())\n",
    "        y_true.extend(y_batch.cpu().numpy())"
   ]
  },
  {
   "cell_type": "code",
   "execution_count": 375,
   "id": "1873c9e6-f620-4577-8d81-0b0c85065c44",
   "metadata": {},
   "outputs": [
    {
     "name": "stdout",
     "output_type": "stream",
     "text": [
      "\n",
      "🔹 Classification Report:\n",
      "               precision    recall  f1-score   support\n",
      "\n",
      "           0       0.85      0.11      0.19      1298\n",
      "           1       0.03      0.06      0.04        95\n",
      "           2       0.07      0.51      0.12        97\n",
      "           3       0.06      0.37      0.10        84\n",
      "\n",
      "    accuracy                           0.14      1574\n",
      "   macro avg       0.25      0.26      0.11      1574\n",
      "weighted avg       0.71      0.14      0.17      1574\n",
      "\n",
      "\n",
      "✅ Accuracy: 0.14167725540025414\n",
      "✅ Weighted F1 Score: 0.1704470492598453\n"
     ]
    }
   ],
   "source": [
    "# Generate Classification Report\n",
    "classification_rep = classification_report(y_true, y_preds, digits=2)\n",
    "conf_matrix = confusion_matrix(y_true, y_preds)\n",
    "accuracy = accuracy_score(y_true, y_preds)\n",
    "f1 = f1_score(y_true, y_preds, average=\"weighted\")\n",
    "\n",
    "# Print Results\n",
    "print(\"\\n🔹 Classification Report:\\n\", classification_rep)\n",
    "print(\"\\n✅ Accuracy:\", accuracy)\n",
    "print(\"✅ Weighted F1 Score:\", f1)"
   ]
  },
  {
   "cell_type": "markdown",
   "id": "66afcc25-e029-4d30-9eb0-dc7bd09f8b5a",
   "metadata": {},
   "source": [
    "### FPN HP Tuning "
   ]
  },
  {
   "cell_type": "code",
   "execution_count": 343,
   "id": "a8818bf3-1764-494e-8f24-9f2d86fb654c",
   "metadata": {},
   "outputs": [],
   "source": [
    "import optuna\n",
    "from optuna.trial import Trial\n",
    "import pytorch_lightning as pl\n",
    "from pytorch_lightning.callbacks import ModelCheckpoint, EarlyStopping, RichProgressBar\n",
    "from pytorch_lightning.loggers import TensorBoardLogger\n",
    "import torch\n",
    "import torch.nn as nn\n",
    "from typing import Dict, Any\n",
    "\n",
    "class HyperparameterTuner:\n",
    "    def __init__(\n",
    "        self,\n",
    "        X_train_tensor,\n",
    "        train_loader,\n",
    "        valid_loader,\n",
    "        n_trials=50,\n",
    "        study_name=\"fpn1d_optimization\",\n",
    "        storage_name=\"sqlite:///fpn1d_tuning.db\"\n",
    "    ):\n",
    "        self.X_train_tensor = X_train_tensor\n",
    "        self.train_loader = train_loader\n",
    "        self.valid_loader = valid_loader\n",
    "        self.n_trials = n_trials\n",
    "        self.study_name = study_name\n",
    "        self.storage_name = storage_name\n",
    "        \n",
    "    def objective(self, trial: Trial) -> float:\n",
    "        # Hyperparameter search space\n",
    "        config = {\n",
    "            \"learning_rate\": trial.suggest_float(\"learning_rate\", 1e-5, 1e-2, log=True),\n",
    "            \"weight_decay\": trial.suggest_float(\"weight_decay\", 1e-6, 1e-3, log=True),\n",
    "            \"scheduler_step_size\": trial.suggest_int(\"scheduler_step_size\", 5, 15),\n",
    "            \"scheduler_gamma\": trial.suggest_float(\"scheduler_gamma\", 0.5, 0.9),\n",
    "            \"batch_size\": trial.suggest_categorical(\"batch_size\", [16, 32, 64, 128]),\n",
    "            \"optimizer\": trial.suggest_categorical(\"optimizer\", [\"Adam\", \"AdamW\", \"RMSprop\"])\n",
    "        }\n",
    "        \n",
    "        # Model configuration\n",
    "        model = FPN1D_Lightning(\n",
    "            input_channels=self.X_train_tensor.shape[2],\n",
    "            sequence_length=self.X_train_tensor.shape[1],\n",
    "            lr=config[\"learning_rate\"]\n",
    "        )\n",
    "        \n",
    "        # Training configuration\n",
    "        logger = TensorBoardLogger(\n",
    "            save_dir=\"lightning_logs\",\n",
    "            name=f\"trial_{trial.number}\",\n",
    "            version=f\"v{trial.number}\"\n",
    "        )\n",
    "        \n",
    "        checkpoint_callback = ModelCheckpoint(\n",
    "            monitor=\"val_loss\",\n",
    "            dirpath=f\"checkpoints/trial_{trial.number}\",\n",
    "            filename=f\"fpn1d_trial_{trial.number}_best\",\n",
    "            save_top_k=1,\n",
    "            mode=\"min\"\n",
    "        )\n",
    "        \n",
    "        early_stopping = EarlyStopping(\n",
    "            monitor=\"val_loss\",\n",
    "            patience=3,\n",
    "            mode=\"min\"\n",
    "        )\n",
    "        \n",
    "        # Configure optimizer and scheduler\n",
    "        def configure_optimizers(model):\n",
    "            optimizers = {\n",
    "                \"Adam\": torch.optim.Adam,\n",
    "                \"AdamW\": torch.optim.AdamW,\n",
    "                \"RMSprop\": torch.optim.RMSprop\n",
    "            }\n",
    "            \n",
    "            optimizer = optimizers[config[\"optimizer\"]](\n",
    "                model.parameters(),\n",
    "                lr=config[\"learning_rate\"],\n",
    "                weight_decay=config[\"weight_decay\"]\n",
    "            )\n",
    "            \n",
    "            scheduler = torch.optim.lr_scheduler.StepLR(\n",
    "                optimizer,\n",
    "                step_size=config[\"scheduler_step_size\"],\n",
    "                gamma=config[\"scheduler_gamma\"]\n",
    "            )\n",
    "            \n",
    "            return {\"optimizer\": optimizer, \"lr_scheduler\": scheduler}\n",
    "        \n",
    "        model.configure_optimizers = lambda: configure_optimizers(model)\n",
    "        \n",
    "        # Trainer\n",
    "        trainer = pl.Trainer(\n",
    "            max_epochs=30,\n",
    "            devices=1,\n",
    "            accelerator=\"mps\" if torch.backends.mps.is_available() else \"cpu\",\n",
    "            logger=logger,\n",
    "            callbacks=[checkpoint_callback, early_stopping, RichProgressBar()],\n",
    "            enable_progress_bar=True\n",
    "        )\n",
    "        \n",
    "        # Train and evaluate\n",
    "        trainer.fit(model, self.train_loader, self.valid_loader)\n",
    "        \n",
    "        # Return the best validation loss\n",
    "        return checkpoint_callback.best_model_score.item()\n",
    "    \n",
    "    def run_study(self) -> Dict[str, Any]:\n",
    "        study = optuna.create_study(\n",
    "            study_name=self.study_name,\n",
    "            storage=self.storage_name,\n",
    "            direction=\"minimize\",\n",
    "            load_if_exists=True\n",
    "        )\n",
    "        \n",
    "        study.optimize(self.objective, n_trials=self.n_trials)\n",
    "        \n",
    "        # Get best parameters and results\n",
    "        best_params = study.best_params\n",
    "        best_value = study.best_value\n",
    "        \n",
    "        # Print optimization results\n",
    "        print(\"\\nBest trial:\")\n",
    "        print(f\"Value: {best_value:.4f}\")\n",
    "        print(\"\\nBest hyperparameters:\")\n",
    "        for param, value in best_params.items():\n",
    "            print(f\"{param}: {value}\")\n",
    "            \n",
    "        return {\n",
    "            \"best_params\": best_params,\n",
    "            \"best_value\": best_value,\n",
    "            \"study\": study\n",
    "        }\n",
    "\n",
    "    def plot_optimization_history(self, study):\n",
    "        import optuna.visualization as vis\n",
    "        \n",
    "        # Plot optimization history\n",
    "        fig_history = vis.plot_optimization_history(study)\n",
    "        fig_history.show()\n",
    "        \n",
    "        # Plot parameter importances\n",
    "        fig_importance = vis.plot_param_importances(study)\n",
    "        fig_importance.show()\n",
    "        \n",
    "        # Plot parallel coordinate plot\n",
    "        fig_parallel = vis.plot_parallel_coordinate(study)\n",
    "        fig_parallel.show()\n",
    "\n"
   ]
  },
  {
   "cell_type": "code",
   "execution_count": 345,
   "id": "19e5a416-a212-40cc-9212-18a37a7373df",
   "metadata": {},
   "outputs": [],
   "source": [
    "# Usage example\n",
    "def run_hyperparameter_tuning(X_train_tensor, train_loader, valid_loader):\n",
    "    tuner = HyperparameterTuner(\n",
    "        X_train_tensor=X_train_tensor,\n",
    "        train_loader=train_loader,\n",
    "        valid_loader=valid_loader,\n",
    "        n_trials=20\n",
    "    )\n",
    "    \n",
    "    results = tuner.run_study()\n",
    "    tuner.plot_optimization_history(results[\"study\"])\n",
    "    \n",
    "    return results"
   ]
  },
  {
   "cell_type": "code",
   "execution_count": 347,
   "id": "8b18f0a7-2557-48c7-be9f-9083d2fb31a0",
   "metadata": {},
   "outputs": [
    {
     "data": {
      "text/html": [
       "<pre style=\"white-space:pre;overflow-x:auto;line-height:normal;font-family:Menlo,'DejaVu Sans Mono',consolas,'Courier New',monospace\">Epoch 6/29 <span style=\"color: #6206e0; text-decoration-color: #6206e0\">━━━━━━━━━━━━━━━━━━━━━━━━━━━━━━━━━</span> 197/197 <span style=\"color: #7f7f7f; text-decoration-color: #7f7f7f\">0:00:02 • 0:00:00</span> <span style=\"color: #7f7f7f; text-decoration-color: #7f7f7f; text-decoration: underline\">67.57it/s</span> <span style=\"font-style: italic\">v_num: v72 train_loss: 0.719      </span>\n",
       "                                                                                 <span style=\"font-style: italic\">val_loss: 0.817                   </span>\n",
       "</pre>\n"
      ],
      "text/plain": [
       "Epoch 6/29 \u001b[38;2;98;6;224m━━━━━━━━━━━━━━━━━━━━━━━━━━━━━━━━━\u001b[0m 197/197 \u001b[2m0:00:02 • 0:00:00\u001b[0m \u001b[2;4m67.57it/s\u001b[0m \u001b[3mv_num: v72 train_loss: 0.719      \u001b[0m\n",
       "                                                                                 \u001b[3mval_loss: 0.817                   \u001b[0m\n"
      ]
     },
     "metadata": {},
     "output_type": "display_data"
    },
    {
     "data": {
      "text/html": [
       "<pre style=\"white-space:pre;overflow-x:auto;line-height:normal;font-family:Menlo,'DejaVu Sans Mono',consolas,'Courier New',monospace\"></pre>\n"
      ],
      "text/plain": []
     },
     "metadata": {},
     "output_type": "display_data"
    },
    {
     "name": "stderr",
     "output_type": "stream",
     "text": [
      "[I 2025-02-09 13:03:34,974] Trial 72 finished with value: 0.7301933765411377 and parameters: {'learning_rate': 0.00042847027683886343, 'weight_decay': 0.00032855617086930756, 'scheduler_step_size': 11, 'scheduler_gamma': 0.7891006160624068, 'batch_size': 16, 'optimizer': 'Adam'}. Best is trial 56 with value: 0.6185992360115051.\n"
     ]
    },
    {
     "name": "stdout",
     "output_type": "stream",
     "text": [
      "\n",
      "Best trial:\n",
      "Value: 0.6186\n",
      "\n",
      "Best hyperparameters:\n",
      "learning_rate: 0.0031396998489935544\n",
      "weight_decay: 0.00014092886811511684\n",
      "scheduler_step_size: 15\n",
      "scheduler_gamma: 0.8966127848310197\n",
      "batch_size: 16\n",
      "optimizer: RMSprop\n"
     ]
    },
    {
     "data": {
      "application/vnd.plotly.v1+json": {
       "config": {
        "plotlyServerURL": "https://plot.ly"
       },
       "data": [
        {
         "mode": "markers",
         "name": "Objective Value",
         "type": "scatter",
         "x": [
          0,
          1,
          3,
          4,
          5,
          6,
          7,
          8,
          9,
          10,
          11,
          12,
          13,
          14,
          15,
          16,
          17,
          18,
          19,
          20,
          21,
          22,
          23,
          24,
          25,
          26,
          27,
          28,
          29,
          30,
          31,
          32,
          33,
          34,
          35,
          36,
          37,
          38,
          39,
          40,
          41,
          42,
          43,
          44,
          45,
          46,
          47,
          48,
          49,
          50,
          51,
          52,
          53,
          54,
          55,
          56,
          57,
          58,
          59,
          60,
          61,
          62,
          63,
          64,
          65,
          66,
          67,
          68,
          69,
          70,
          71,
          72
         ],
         "y": [
          1.3203963041305542,
          1.228979468345642,
          1.3249990940093994,
          1.3426814079284668,
          1.3429073095321655,
          1.313105583190918,
          1.2894729375839233,
          1.3254467248916626,
          1.358359932899475,
          1.3683576583862305,
          1.3563650846481323,
          1.304099440574646,
          1.3456109762191772,
          1.357972502708435,
          1.3668559789657593,
          1.3542375564575195,
          1.342891812324524,
          1.294268250465393,
          1.3544729948043823,
          1.2777248620986938,
          1.3248088359832764,
          1.2368369102478027,
          1.3246277570724487,
          1.3315757513046265,
          1.2978733777999878,
          1.3542231321334839,
          1.3762811422348022,
          1.3330857753753662,
          1.263526439666748,
          1.1648985147476196,
          1.3599932193756104,
          1.2924590110778809,
          1.2915735244750977,
          1.254168152809143,
          1.3556095361709595,
          1.3114591836929321,
          1.3795373439788818,
          1.3524370193481445,
          1.3488327264785767,
          1.356225848197937,
          1.361785650253296,
          1.2187787294387817,
          1.2318986654281616,
          1.210344672203064,
          1.319124698638916,
          1.2389219999313354,
          1.348663330078125,
          1.3361306190490723,
          1.3453601598739624,
          1.2527742385864258,
          1.3360991477966309,
          1.2750455141067505,
          0.7772930264472961,
          0.7760496139526367,
          0.691702127456665,
          0.6185992360115051,
          0.6843743920326233,
          0.7584133744239807,
          0.7801697254180908,
          0.7369080781936646,
          0.744251549243927,
          0.7353046536445618,
          0.7556328177452087,
          0.7407630681991577,
          0.7552871704101562,
          0.7485508918762207,
          0.7379935383796692,
          0.7020747661590576,
          0.6617689728736877,
          0.7434184551239014,
          0.715858519077301,
          0.7301933765411377
         ]
        },
        {
         "mode": "lines",
         "name": "Best Value",
         "type": "scatter",
         "x": [
          0,
          1,
          2,
          3,
          4,
          5,
          6,
          7,
          8,
          9,
          10,
          11,
          12,
          13,
          14,
          15,
          16,
          17,
          18,
          19,
          20,
          21,
          22,
          23,
          24,
          25,
          26,
          27,
          28,
          29,
          30,
          31,
          32,
          33,
          34,
          35,
          36,
          37,
          38,
          39,
          40,
          41,
          42,
          43,
          44,
          45,
          46,
          47,
          48,
          49,
          50,
          51,
          52,
          53,
          54,
          55,
          56,
          57,
          58,
          59,
          60,
          61,
          62,
          63,
          64,
          65,
          66,
          67,
          68,
          69,
          70,
          71,
          72
         ],
         "y": [
          1.3203963041305542,
          1.228979468345642,
          1.228979468345642,
          1.228979468345642,
          1.228979468345642,
          1.228979468345642,
          1.228979468345642,
          1.228979468345642,
          1.228979468345642,
          1.228979468345642,
          1.228979468345642,
          1.228979468345642,
          1.228979468345642,
          1.228979468345642,
          1.228979468345642,
          1.228979468345642,
          1.228979468345642,
          1.228979468345642,
          1.228979468345642,
          1.228979468345642,
          1.228979468345642,
          1.228979468345642,
          1.228979468345642,
          1.228979468345642,
          1.228979468345642,
          1.228979468345642,
          1.228979468345642,
          1.228979468345642,
          1.228979468345642,
          1.228979468345642,
          1.1648985147476196,
          1.1648985147476196,
          1.1648985147476196,
          1.1648985147476196,
          1.1648985147476196,
          1.1648985147476196,
          1.1648985147476196,
          1.1648985147476196,
          1.1648985147476196,
          1.1648985147476196,
          1.1648985147476196,
          1.1648985147476196,
          1.1648985147476196,
          1.1648985147476196,
          1.1648985147476196,
          1.1648985147476196,
          1.1648985147476196,
          1.1648985147476196,
          1.1648985147476196,
          1.1648985147476196,
          1.1648985147476196,
          1.1648985147476196,
          1.1648985147476196,
          0.7772930264472961,
          0.7760496139526367,
          0.691702127456665,
          0.6185992360115051,
          0.6185992360115051,
          0.6185992360115051,
          0.6185992360115051,
          0.6185992360115051,
          0.6185992360115051,
          0.6185992360115051,
          0.6185992360115051,
          0.6185992360115051,
          0.6185992360115051,
          0.6185992360115051,
          0.6185992360115051,
          0.6185992360115051,
          0.6185992360115051,
          0.6185992360115051,
          0.6185992360115051,
          0.6185992360115051
         ]
        },
        {
         "marker": {
          "color": "#cccccc"
         },
         "mode": "markers",
         "name": "Infeasible Trial",
         "showlegend": false,
         "type": "scatter",
         "x": [],
         "y": []
        }
       ],
       "layout": {
        "autosize": true,
        "template": {
         "data": {
          "bar": [
           {
            "error_x": {
             "color": "#2a3f5f"
            },
            "error_y": {
             "color": "#2a3f5f"
            },
            "marker": {
             "line": {
              "color": "#E5ECF6",
              "width": 0.5
             },
             "pattern": {
              "fillmode": "overlay",
              "size": 10,
              "solidity": 0.2
             }
            },
            "type": "bar"
           }
          ],
          "barpolar": [
           {
            "marker": {
             "line": {
              "color": "#E5ECF6",
              "width": 0.5
             },
             "pattern": {
              "fillmode": "overlay",
              "size": 10,
              "solidity": 0.2
             }
            },
            "type": "barpolar"
           }
          ],
          "carpet": [
           {
            "aaxis": {
             "endlinecolor": "#2a3f5f",
             "gridcolor": "white",
             "linecolor": "white",
             "minorgridcolor": "white",
             "startlinecolor": "#2a3f5f"
            },
            "baxis": {
             "endlinecolor": "#2a3f5f",
             "gridcolor": "white",
             "linecolor": "white",
             "minorgridcolor": "white",
             "startlinecolor": "#2a3f5f"
            },
            "type": "carpet"
           }
          ],
          "choropleth": [
           {
            "colorbar": {
             "outlinewidth": 0,
             "ticks": ""
            },
            "type": "choropleth"
           }
          ],
          "contour": [
           {
            "colorbar": {
             "outlinewidth": 0,
             "ticks": ""
            },
            "colorscale": [
             [
              0,
              "#0d0887"
             ],
             [
              0.1111111111111111,
              "#46039f"
             ],
             [
              0.2222222222222222,
              "#7201a8"
             ],
             [
              0.3333333333333333,
              "#9c179e"
             ],
             [
              0.4444444444444444,
              "#bd3786"
             ],
             [
              0.5555555555555556,
              "#d8576b"
             ],
             [
              0.6666666666666666,
              "#ed7953"
             ],
             [
              0.7777777777777778,
              "#fb9f3a"
             ],
             [
              0.8888888888888888,
              "#fdca26"
             ],
             [
              1,
              "#f0f921"
             ]
            ],
            "type": "contour"
           }
          ],
          "contourcarpet": [
           {
            "colorbar": {
             "outlinewidth": 0,
             "ticks": ""
            },
            "type": "contourcarpet"
           }
          ],
          "heatmap": [
           {
            "colorbar": {
             "outlinewidth": 0,
             "ticks": ""
            },
            "colorscale": [
             [
              0,
              "#0d0887"
             ],
             [
              0.1111111111111111,
              "#46039f"
             ],
             [
              0.2222222222222222,
              "#7201a8"
             ],
             [
              0.3333333333333333,
              "#9c179e"
             ],
             [
              0.4444444444444444,
              "#bd3786"
             ],
             [
              0.5555555555555556,
              "#d8576b"
             ],
             [
              0.6666666666666666,
              "#ed7953"
             ],
             [
              0.7777777777777778,
              "#fb9f3a"
             ],
             [
              0.8888888888888888,
              "#fdca26"
             ],
             [
              1,
              "#f0f921"
             ]
            ],
            "type": "heatmap"
           }
          ],
          "heatmapgl": [
           {
            "colorbar": {
             "outlinewidth": 0,
             "ticks": ""
            },
            "colorscale": [
             [
              0,
              "#0d0887"
             ],
             [
              0.1111111111111111,
              "#46039f"
             ],
             [
              0.2222222222222222,
              "#7201a8"
             ],
             [
              0.3333333333333333,
              "#9c179e"
             ],
             [
              0.4444444444444444,
              "#bd3786"
             ],
             [
              0.5555555555555556,
              "#d8576b"
             ],
             [
              0.6666666666666666,
              "#ed7953"
             ],
             [
              0.7777777777777778,
              "#fb9f3a"
             ],
             [
              0.8888888888888888,
              "#fdca26"
             ],
             [
              1,
              "#f0f921"
             ]
            ],
            "type": "heatmapgl"
           }
          ],
          "histogram": [
           {
            "marker": {
             "pattern": {
              "fillmode": "overlay",
              "size": 10,
              "solidity": 0.2
             }
            },
            "type": "histogram"
           }
          ],
          "histogram2d": [
           {
            "colorbar": {
             "outlinewidth": 0,
             "ticks": ""
            },
            "colorscale": [
             [
              0,
              "#0d0887"
             ],
             [
              0.1111111111111111,
              "#46039f"
             ],
             [
              0.2222222222222222,
              "#7201a8"
             ],
             [
              0.3333333333333333,
              "#9c179e"
             ],
             [
              0.4444444444444444,
              "#bd3786"
             ],
             [
              0.5555555555555556,
              "#d8576b"
             ],
             [
              0.6666666666666666,
              "#ed7953"
             ],
             [
              0.7777777777777778,
              "#fb9f3a"
             ],
             [
              0.8888888888888888,
              "#fdca26"
             ],
             [
              1,
              "#f0f921"
             ]
            ],
            "type": "histogram2d"
           }
          ],
          "histogram2dcontour": [
           {
            "colorbar": {
             "outlinewidth": 0,
             "ticks": ""
            },
            "colorscale": [
             [
              0,
              "#0d0887"
             ],
             [
              0.1111111111111111,
              "#46039f"
             ],
             [
              0.2222222222222222,
              "#7201a8"
             ],
             [
              0.3333333333333333,
              "#9c179e"
             ],
             [
              0.4444444444444444,
              "#bd3786"
             ],
             [
              0.5555555555555556,
              "#d8576b"
             ],
             [
              0.6666666666666666,
              "#ed7953"
             ],
             [
              0.7777777777777778,
              "#fb9f3a"
             ],
             [
              0.8888888888888888,
              "#fdca26"
             ],
             [
              1,
              "#f0f921"
             ]
            ],
            "type": "histogram2dcontour"
           }
          ],
          "mesh3d": [
           {
            "colorbar": {
             "outlinewidth": 0,
             "ticks": ""
            },
            "type": "mesh3d"
           }
          ],
          "parcoords": [
           {
            "line": {
             "colorbar": {
              "outlinewidth": 0,
              "ticks": ""
             }
            },
            "type": "parcoords"
           }
          ],
          "pie": [
           {
            "automargin": true,
            "type": "pie"
           }
          ],
          "scatter": [
           {
            "fillpattern": {
             "fillmode": "overlay",
             "size": 10,
             "solidity": 0.2
            },
            "type": "scatter"
           }
          ],
          "scatter3d": [
           {
            "line": {
             "colorbar": {
              "outlinewidth": 0,
              "ticks": ""
             }
            },
            "marker": {
             "colorbar": {
              "outlinewidth": 0,
              "ticks": ""
             }
            },
            "type": "scatter3d"
           }
          ],
          "scattercarpet": [
           {
            "marker": {
             "colorbar": {
              "outlinewidth": 0,
              "ticks": ""
             }
            },
            "type": "scattercarpet"
           }
          ],
          "scattergeo": [
           {
            "marker": {
             "colorbar": {
              "outlinewidth": 0,
              "ticks": ""
             }
            },
            "type": "scattergeo"
           }
          ],
          "scattergl": [
           {
            "marker": {
             "colorbar": {
              "outlinewidth": 0,
              "ticks": ""
             }
            },
            "type": "scattergl"
           }
          ],
          "scattermapbox": [
           {
            "marker": {
             "colorbar": {
              "outlinewidth": 0,
              "ticks": ""
             }
            },
            "type": "scattermapbox"
           }
          ],
          "scatterpolar": [
           {
            "marker": {
             "colorbar": {
              "outlinewidth": 0,
              "ticks": ""
             }
            },
            "type": "scatterpolar"
           }
          ],
          "scatterpolargl": [
           {
            "marker": {
             "colorbar": {
              "outlinewidth": 0,
              "ticks": ""
             }
            },
            "type": "scatterpolargl"
           }
          ],
          "scatterternary": [
           {
            "marker": {
             "colorbar": {
              "outlinewidth": 0,
              "ticks": ""
             }
            },
            "type": "scatterternary"
           }
          ],
          "surface": [
           {
            "colorbar": {
             "outlinewidth": 0,
             "ticks": ""
            },
            "colorscale": [
             [
              0,
              "#0d0887"
             ],
             [
              0.1111111111111111,
              "#46039f"
             ],
             [
              0.2222222222222222,
              "#7201a8"
             ],
             [
              0.3333333333333333,
              "#9c179e"
             ],
             [
              0.4444444444444444,
              "#bd3786"
             ],
             [
              0.5555555555555556,
              "#d8576b"
             ],
             [
              0.6666666666666666,
              "#ed7953"
             ],
             [
              0.7777777777777778,
              "#fb9f3a"
             ],
             [
              0.8888888888888888,
              "#fdca26"
             ],
             [
              1,
              "#f0f921"
             ]
            ],
            "type": "surface"
           }
          ],
          "table": [
           {
            "cells": {
             "fill": {
              "color": "#EBF0F8"
             },
             "line": {
              "color": "white"
             }
            },
            "header": {
             "fill": {
              "color": "#C8D4E3"
             },
             "line": {
              "color": "white"
             }
            },
            "type": "table"
           }
          ]
         },
         "layout": {
          "annotationdefaults": {
           "arrowcolor": "#2a3f5f",
           "arrowhead": 0,
           "arrowwidth": 1
          },
          "autotypenumbers": "strict",
          "coloraxis": {
           "colorbar": {
            "outlinewidth": 0,
            "ticks": ""
           }
          },
          "colorscale": {
           "diverging": [
            [
             0,
             "#8e0152"
            ],
            [
             0.1,
             "#c51b7d"
            ],
            [
             0.2,
             "#de77ae"
            ],
            [
             0.3,
             "#f1b6da"
            ],
            [
             0.4,
             "#fde0ef"
            ],
            [
             0.5,
             "#f7f7f7"
            ],
            [
             0.6,
             "#e6f5d0"
            ],
            [
             0.7,
             "#b8e186"
            ],
            [
             0.8,
             "#7fbc41"
            ],
            [
             0.9,
             "#4d9221"
            ],
            [
             1,
             "#276419"
            ]
           ],
           "sequential": [
            [
             0,
             "#0d0887"
            ],
            [
             0.1111111111111111,
             "#46039f"
            ],
            [
             0.2222222222222222,
             "#7201a8"
            ],
            [
             0.3333333333333333,
             "#9c179e"
            ],
            [
             0.4444444444444444,
             "#bd3786"
            ],
            [
             0.5555555555555556,
             "#d8576b"
            ],
            [
             0.6666666666666666,
             "#ed7953"
            ],
            [
             0.7777777777777778,
             "#fb9f3a"
            ],
            [
             0.8888888888888888,
             "#fdca26"
            ],
            [
             1,
             "#f0f921"
            ]
           ],
           "sequentialminus": [
            [
             0,
             "#0d0887"
            ],
            [
             0.1111111111111111,
             "#46039f"
            ],
            [
             0.2222222222222222,
             "#7201a8"
            ],
            [
             0.3333333333333333,
             "#9c179e"
            ],
            [
             0.4444444444444444,
             "#bd3786"
            ],
            [
             0.5555555555555556,
             "#d8576b"
            ],
            [
             0.6666666666666666,
             "#ed7953"
            ],
            [
             0.7777777777777778,
             "#fb9f3a"
            ],
            [
             0.8888888888888888,
             "#fdca26"
            ],
            [
             1,
             "#f0f921"
            ]
           ]
          },
          "colorway": [
           "#636efa",
           "#EF553B",
           "#00cc96",
           "#ab63fa",
           "#FFA15A",
           "#19d3f3",
           "#FF6692",
           "#B6E880",
           "#FF97FF",
           "#FECB52"
          ],
          "font": {
           "color": "#2a3f5f"
          },
          "geo": {
           "bgcolor": "white",
           "lakecolor": "white",
           "landcolor": "#E5ECF6",
           "showlakes": true,
           "showland": true,
           "subunitcolor": "white"
          },
          "hoverlabel": {
           "align": "left"
          },
          "hovermode": "closest",
          "mapbox": {
           "style": "light"
          },
          "paper_bgcolor": "white",
          "plot_bgcolor": "#E5ECF6",
          "polar": {
           "angularaxis": {
            "gridcolor": "white",
            "linecolor": "white",
            "ticks": ""
           },
           "bgcolor": "#E5ECF6",
           "radialaxis": {
            "gridcolor": "white",
            "linecolor": "white",
            "ticks": ""
           }
          },
          "scene": {
           "xaxis": {
            "backgroundcolor": "#E5ECF6",
            "gridcolor": "white",
            "gridwidth": 2,
            "linecolor": "white",
            "showbackground": true,
            "ticks": "",
            "zerolinecolor": "white"
           },
           "yaxis": {
            "backgroundcolor": "#E5ECF6",
            "gridcolor": "white",
            "gridwidth": 2,
            "linecolor": "white",
            "showbackground": true,
            "ticks": "",
            "zerolinecolor": "white"
           },
           "zaxis": {
            "backgroundcolor": "#E5ECF6",
            "gridcolor": "white",
            "gridwidth": 2,
            "linecolor": "white",
            "showbackground": true,
            "ticks": "",
            "zerolinecolor": "white"
           }
          },
          "shapedefaults": {
           "line": {
            "color": "#2a3f5f"
           }
          },
          "ternary": {
           "aaxis": {
            "gridcolor": "white",
            "linecolor": "white",
            "ticks": ""
           },
           "baxis": {
            "gridcolor": "white",
            "linecolor": "white",
            "ticks": ""
           },
           "bgcolor": "#E5ECF6",
           "caxis": {
            "gridcolor": "white",
            "linecolor": "white",
            "ticks": ""
           }
          },
          "title": {
           "x": 0.05
          },
          "xaxis": {
           "automargin": true,
           "gridcolor": "white",
           "linecolor": "white",
           "ticks": "",
           "title": {
            "standoff": 15
           },
           "zerolinecolor": "white",
           "zerolinewidth": 2
          },
          "yaxis": {
           "automargin": true,
           "gridcolor": "white",
           "linecolor": "white",
           "ticks": "",
           "title": {
            "standoff": 15
           },
           "zerolinecolor": "white",
           "zerolinewidth": 2
          }
         }
        },
        "title": {
         "text": "Optimization History Plot"
        },
        "xaxis": {
         "autorange": true,
         "range": [
          -4.412711514651259,
          76.41271151465126
         ],
         "title": {
          "text": "Trial"
         },
         "type": "linear"
        },
        "yaxis": {
         "autorange": true,
         "range": [
          0.5558033727326439,
          1.442333207257743
         ],
         "title": {
          "text": "Objective Value"
         },
         "type": "linear"
        }
       }
      },
      "image/png": "[encoded data removed]",
      "text/html": [
       "<div>                            <div id=\"c523bde7-1fe8-4e74-8fe8-3a546562cd39\" class=\"plotly-graph-div\" style=\"height:525px; width:100%;\"></div>            <script type=\"text/javascript\">                require([\"plotly\"], function(Plotly) {                    window.PLOTLYENV=window.PLOTLYENV || {};                                    if (document.getElementById(\"c523bde7-1fe8-4e74-8fe8-3a546562cd39\")) {                    Plotly.newPlot(                        \"c523bde7-1fe8-4e74-8fe8-3a546562cd39\",                        [{\"mode\":\"markers\",\"name\":\"Objective Value\",\"x\":[0,1,3,4,5,6,7,8,9,10,11,12,13,14,15,16,17,18,19,20,21,22,23,24,25,26,27,28,29,30,31,32,33,34,35,36,37,38,39,40,41,42,43,44,45,46,47,48,49,50,51,52,53,54,55,56,57,58,59,60,61,62,63,64,65,66,67,68,69,70,71,72],\"y\":[1.3203963041305542,1.228979468345642,1.3249990940093994,1.3426814079284668,1.3429073095321655,1.313105583190918,1.2894729375839233,1.3254467248916626,1.358359932899475,1.3683576583862305,1.3563650846481323,1.304099440574646,1.3456109762191772,1.357972502708435,1.3668559789657593,1.3542375564575195,1.342891812324524,1.294268250465393,1.3544729948043823,1.2777248620986938,1.3248088359832764,1.2368369102478027,1.3246277570724487,1.3315757513046265,1.2978733777999878,1.3542231321334839,1.3762811422348022,1.3330857753753662,1.263526439666748,1.1648985147476196,1.3599932193756104,1.2924590110778809,1.2915735244750977,1.254168152809143,1.3556095361709595,1.3114591836929321,1.3795373439788818,1.3524370193481445,1.3488327264785767,1.356225848197937,1.361785650253296,1.2187787294387817,1.2318986654281616,1.210344672203064,1.319124698638916,1.2389219999313354,1.348663330078125,1.3361306190490723,1.3453601598739624,1.2527742385864258,1.3360991477966309,1.2750455141067505,0.7772930264472961,0.7760496139526367,0.691702127456665,0.6185992360115051,0.6843743920326233,0.7584133744239807,0.7801697254180908,0.7369080781936646,0.744251549243927,0.7353046536445618,0.7556328177452087,0.7407630681991577,0.7552871704101562,0.7485508918762207,0.7379935383796692,0.7020747661590576,0.6617689728736877,0.7434184551239014,0.715858519077301,0.7301933765411377],\"type\":\"scatter\"},{\"mode\":\"lines\",\"name\":\"Best Value\",\"x\":[0,1,2,3,4,5,6,7,8,9,10,11,12,13,14,15,16,17,18,19,20,21,22,23,24,25,26,27,28,29,30,31,32,33,34,35,36,37,38,39,40,41,42,43,44,45,46,47,48,49,50,51,52,53,54,55,56,57,58,59,60,61,62,63,64,65,66,67,68,69,70,71,72],\"y\":[1.3203963041305542,1.228979468345642,1.228979468345642,1.228979468345642,1.228979468345642,1.228979468345642,1.228979468345642,1.228979468345642,1.228979468345642,1.228979468345642,1.228979468345642,1.228979468345642,1.228979468345642,1.228979468345642,1.228979468345642,1.228979468345642,1.228979468345642,1.228979468345642,1.228979468345642,1.228979468345642,1.228979468345642,1.228979468345642,1.228979468345642,1.228979468345642,1.228979468345642,1.228979468345642,1.228979468345642,1.228979468345642,1.228979468345642,1.228979468345642,1.1648985147476196,1.1648985147476196,1.1648985147476196,1.1648985147476196,1.1648985147476196,1.1648985147476196,1.1648985147476196,1.1648985147476196,1.1648985147476196,1.1648985147476196,1.1648985147476196,1.1648985147476196,1.1648985147476196,1.1648985147476196,1.1648985147476196,1.1648985147476196,1.1648985147476196,1.1648985147476196,1.1648985147476196,1.1648985147476196,1.1648985147476196,1.1648985147476196,1.1648985147476196,0.7772930264472961,0.7760496139526367,0.691702127456665,0.6185992360115051,0.6185992360115051,0.6185992360115051,0.6185992360115051,0.6185992360115051,0.6185992360115051,0.6185992360115051,0.6185992360115051,0.6185992360115051,0.6185992360115051,0.6185992360115051,0.6185992360115051,0.6185992360115051,0.6185992360115051,0.6185992360115051,0.6185992360115051,0.6185992360115051],\"type\":\"scatter\"},{\"marker\":{\"color\":\"#cccccc\"},\"mode\":\"markers\",\"name\":\"Infeasible Trial\",\"showlegend\":false,\"x\":[],\"y\":[],\"type\":\"scatter\"}],                        {\"title\":{\"text\":\"Optimization History Plot\"},\"xaxis\":{\"title\":{\"text\":\"Trial\"}},\"yaxis\":{\"title\":{\"text\":\"Objective Value\"}},\"template\":{\"data\":{\"histogram2dcontour\":[{\"type\":\"histogram2dcontour\",\"colorbar\":{\"outlinewidth\":0,\"ticks\":\"\"},\"colorscale\":[[0.0,\"#0d0887\"],[0.1111111111111111,\"#46039f\"],[0.2222222222222222,\"#7201a8\"],[0.3333333333333333,\"#9c179e\"],[0.4444444444444444,\"#bd3786\"],[0.5555555555555556,\"#d8576b\"],[0.6666666666666666,\"#ed7953\"],[0.7777777777777778,\"#fb9f3a\"],[0.8888888888888888,\"#fdca26\"],[1.0,\"#f0f921\"]]}],\"choropleth\":[{\"type\":\"choropleth\",\"colorbar\":{\"outlinewidth\":0,\"ticks\":\"\"}}],\"histogram2d\":[{\"type\":\"histogram2d\",\"colorbar\":{\"outlinewidth\":0,\"ticks\":\"\"},\"colorscale\":[[0.0,\"#0d0887\"],[0.1111111111111111,\"#46039f\"],[0.2222222222222222,\"#7201a8\"],[0.3333333333333333,\"#9c179e\"],[0.4444444444444444,\"#bd3786\"],[0.5555555555555556,\"#d8576b\"],[0.6666666666666666,\"#ed7953\"],[0.7777777777777778,\"#fb9f3a\"],[0.8888888888888888,\"#fdca26\"],[1.0,\"#f0f921\"]]}],\"heatmap\":[{\"type\":\"heatmap\",\"colorbar\":{\"outlinewidth\":0,\"ticks\":\"\"},\"colorscale\":[[0.0,\"#0d0887\"],[0.1111111111111111,\"#46039f\"],[0.2222222222222222,\"#7201a8\"],[0.3333333333333333,\"#9c179e\"],[0.4444444444444444,\"#bd3786\"],[0.5555555555555556,\"#d8576b\"],[0.6666666666666666,\"#ed7953\"],[0.7777777777777778,\"#fb9f3a\"],[0.8888888888888888,\"#fdca26\"],[1.0,\"#f0f921\"]]}],\"heatmapgl\":[{\"type\":\"heatmapgl\",\"colorbar\":{\"outlinewidth\":0,\"ticks\":\"\"},\"colorscale\":[[0.0,\"#0d0887\"],[0.1111111111111111,\"#46039f\"],[0.2222222222222222,\"#7201a8\"],[0.3333333333333333,\"#9c179e\"],[0.4444444444444444,\"#bd3786\"],[0.5555555555555556,\"#d8576b\"],[0.6666666666666666,\"#ed7953\"],[0.7777777777777778,\"#fb9f3a\"],[0.8888888888888888,\"#fdca26\"],[1.0,\"#f0f921\"]]}],\"contourcarpet\":[{\"type\":\"contourcarpet\",\"colorbar\":{\"outlinewidth\":0,\"ticks\":\"\"}}],\"contour\":[{\"type\":\"contour\",\"colorbar\":{\"outlinewidth\":0,\"ticks\":\"\"},\"colorscale\":[[0.0,\"#0d0887\"],[0.1111111111111111,\"#46039f\"],[0.2222222222222222,\"#7201a8\"],[0.3333333333333333,\"#9c179e\"],[0.4444444444444444,\"#bd3786\"],[0.5555555555555556,\"#d8576b\"],[0.6666666666666666,\"#ed7953\"],[0.7777777777777778,\"#fb9f3a\"],[0.8888888888888888,\"#fdca26\"],[1.0,\"#f0f921\"]]}],\"surface\":[{\"type\":\"surface\",\"colorbar\":{\"outlinewidth\":0,\"ticks\":\"\"},\"colorscale\":[[0.0,\"#0d0887\"],[0.1111111111111111,\"#46039f\"],[0.2222222222222222,\"#7201a8\"],[0.3333333333333333,\"#9c179e\"],[0.4444444444444444,\"#bd3786\"],[0.5555555555555556,\"#d8576b\"],[0.6666666666666666,\"#ed7953\"],[0.7777777777777778,\"#fb9f3a\"],[0.8888888888888888,\"#fdca26\"],[1.0,\"#f0f921\"]]}],\"mesh3d\":[{\"type\":\"mesh3d\",\"colorbar\":{\"outlinewidth\":0,\"ticks\":\"\"}}],\"scatter\":[{\"fillpattern\":{\"fillmode\":\"overlay\",\"size\":10,\"solidity\":0.2},\"type\":\"scatter\"}],\"parcoords\":[{\"type\":\"parcoords\",\"line\":{\"colorbar\":{\"outlinewidth\":0,\"ticks\":\"\"}}}],\"scatterpolargl\":[{\"type\":\"scatterpolargl\",\"marker\":{\"colorbar\":{\"outlinewidth\":0,\"ticks\":\"\"}}}],\"bar\":[{\"error_x\":{\"color\":\"#2a3f5f\"},\"error_y\":{\"color\":\"#2a3f5f\"},\"marker\":{\"line\":{\"color\":\"#E5ECF6\",\"width\":0.5},\"pattern\":{\"fillmode\":\"overlay\",\"size\":10,\"solidity\":0.2}},\"type\":\"bar\"}],\"scattergeo\":[{\"type\":\"scattergeo\",\"marker\":{\"colorbar\":{\"outlinewidth\":0,\"ticks\":\"\"}}}],\"scatterpolar\":[{\"type\":\"scatterpolar\",\"marker\":{\"colorbar\":{\"outlinewidth\":0,\"ticks\":\"\"}}}],\"histogram\":[{\"marker\":{\"pattern\":{\"fillmode\":\"overlay\",\"size\":10,\"solidity\":0.2}},\"type\":\"histogram\"}],\"scattergl\":[{\"type\":\"scattergl\",\"marker\":{\"colorbar\":{\"outlinewidth\":0,\"ticks\":\"\"}}}],\"scatter3d\":[{\"type\":\"scatter3d\",\"line\":{\"colorbar\":{\"outlinewidth\":0,\"ticks\":\"\"}},\"marker\":{\"colorbar\":{\"outlinewidth\":0,\"ticks\":\"\"}}}],\"scattermapbox\":[{\"type\":\"scattermapbox\",\"marker\":{\"colorbar\":{\"outlinewidth\":0,\"ticks\":\"\"}}}],\"scatterternary\":[{\"type\":\"scatterternary\",\"marker\":{\"colorbar\":{\"outlinewidth\":0,\"ticks\":\"\"}}}],\"scattercarpet\":[{\"type\":\"scattercarpet\",\"marker\":{\"colorbar\":{\"outlinewidth\":0,\"ticks\":\"\"}}}],\"carpet\":[{\"aaxis\":{\"endlinecolor\":\"#2a3f5f\",\"gridcolor\":\"white\",\"linecolor\":\"white\",\"minorgridcolor\":\"white\",\"startlinecolor\":\"#2a3f5f\"},\"baxis\":{\"endlinecolor\":\"#2a3f5f\",\"gridcolor\":\"white\",\"linecolor\":\"white\",\"minorgridcolor\":\"white\",\"startlinecolor\":\"#2a3f5f\"},\"type\":\"carpet\"}],\"table\":[{\"cells\":{\"fill\":{\"color\":\"#EBF0F8\"},\"line\":{\"color\":\"white\"}},\"header\":{\"fill\":{\"color\":\"#C8D4E3\"},\"line\":{\"color\":\"white\"}},\"type\":\"table\"}],\"barpolar\":[{\"marker\":{\"line\":{\"color\":\"#E5ECF6\",\"width\":0.5},\"pattern\":{\"fillmode\":\"overlay\",\"size\":10,\"solidity\":0.2}},\"type\":\"barpolar\"}],\"pie\":[{\"automargin\":true,\"type\":\"pie\"}]},\"layout\":{\"autotypenumbers\":\"strict\",\"colorway\":[\"#636efa\",\"#EF553B\",\"#00cc96\",\"#ab63fa\",\"#FFA15A\",\"#19d3f3\",\"#FF6692\",\"#B6E880\",\"#FF97FF\",\"#FECB52\"],\"font\":{\"color\":\"#2a3f5f\"},\"hovermode\":\"closest\",\"hoverlabel\":{\"align\":\"left\"},\"paper_bgcolor\":\"white\",\"plot_bgcolor\":\"#E5ECF6\",\"polar\":{\"bgcolor\":\"#E5ECF6\",\"angularaxis\":{\"gridcolor\":\"white\",\"linecolor\":\"white\",\"ticks\":\"\"},\"radialaxis\":{\"gridcolor\":\"white\",\"linecolor\":\"white\",\"ticks\":\"\"}},\"ternary\":{\"bgcolor\":\"#E5ECF6\",\"aaxis\":{\"gridcolor\":\"white\",\"linecolor\":\"white\",\"ticks\":\"\"},\"baxis\":{\"gridcolor\":\"white\",\"linecolor\":\"white\",\"ticks\":\"\"},\"caxis\":{\"gridcolor\":\"white\",\"linecolor\":\"white\",\"ticks\":\"\"}},\"coloraxis\":{\"colorbar\":{\"outlinewidth\":0,\"ticks\":\"\"}},\"colorscale\":{\"sequential\":[[0.0,\"#0d0887\"],[0.1111111111111111,\"#46039f\"],[0.2222222222222222,\"#7201a8\"],[0.3333333333333333,\"#9c179e\"],[0.4444444444444444,\"#bd3786\"],[0.5555555555555556,\"#d8576b\"],[0.6666666666666666,\"#ed7953\"],[0.7777777777777778,\"#fb9f3a\"],[0.8888888888888888,\"#fdca26\"],[1.0,\"#f0f921\"]],\"sequentialminus\":[[0.0,\"#0d0887\"],[0.1111111111111111,\"#46039f\"],[0.2222222222222222,\"#7201a8\"],[0.3333333333333333,\"#9c179e\"],[0.4444444444444444,\"#bd3786\"],[0.5555555555555556,\"#d8576b\"],[0.6666666666666666,\"#ed7953\"],[0.7777777777777778,\"#fb9f3a\"],[0.8888888888888888,\"#fdca26\"],[1.0,\"#f0f921\"]],\"diverging\":[[0,\"#8e0152\"],[0.1,\"#c51b7d\"],[0.2,\"#de77ae\"],[0.3,\"#f1b6da\"],[0.4,\"#fde0ef\"],[0.5,\"#f7f7f7\"],[0.6,\"#e6f5d0\"],[0.7,\"#b8e186\"],[0.8,\"#7fbc41\"],[0.9,\"#4d9221\"],[1,\"#276419\"]]},\"xaxis\":{\"gridcolor\":\"white\",\"linecolor\":\"white\",\"ticks\":\"\",\"title\":{\"standoff\":15},\"zerolinecolor\":\"white\",\"automargin\":true,\"zerolinewidth\":2},\"yaxis\":{\"gridcolor\":\"white\",\"linecolor\":\"white\",\"ticks\":\"\",\"title\":{\"standoff\":15},\"zerolinecolor\":\"white\",\"automargin\":true,\"zerolinewidth\":2},\"scene\":{\"xaxis\":{\"backgroundcolor\":\"#E5ECF6\",\"gridcolor\":\"white\",\"linecolor\":\"white\",\"showbackground\":true,\"ticks\":\"\",\"zerolinecolor\":\"white\",\"gridwidth\":2},\"yaxis\":{\"backgroundcolor\":\"#E5ECF6\",\"gridcolor\":\"white\",\"linecolor\":\"white\",\"showbackground\":true,\"ticks\":\"\",\"zerolinecolor\":\"white\",\"gridwidth\":2},\"zaxis\":{\"backgroundcolor\":\"#E5ECF6\",\"gridcolor\":\"white\",\"linecolor\":\"white\",\"showbackground\":true,\"ticks\":\"\",\"zerolinecolor\":\"white\",\"gridwidth\":2}},\"shapedefaults\":{\"line\":{\"color\":\"#2a3f5f\"}},\"annotationdefaults\":{\"arrowcolor\":\"#2a3f5f\",\"arrowhead\":0,\"arrowwidth\":1},\"geo\":{\"bgcolor\":\"white\",\"landcolor\":\"#E5ECF6\",\"subunitcolor\":\"white\",\"showland\":true,\"showlakes\":true,\"lakecolor\":\"white\"},\"title\":{\"x\":0.05},\"mapbox\":{\"style\":\"light\"}}}},                        {\"responsive\": true}                    ).then(function(){\n",
       "                            \n",
       "var gd = document.getElementById('c523bde7-1fe8-4e74-8fe8-3a546562cd39');\n",
       "var x = new MutationObserver(function (mutations, observer) {{\n",
       "        var display = window.getComputedStyle(gd).display;\n",
       "        if (!display || display === 'none') {{\n",
       "            console.log([gd, 'removed!']);\n",
       "            Plotly.purge(gd);\n",
       "            observer.disconnect();\n",
       "        }}\n",
       "}});\n",
       "\n",
       "// Listen for the removal of the full notebook cells\n",
       "var notebookContainer = gd.closest('#notebook-container');\n",
       "if (notebookContainer) {{\n",
       "    x.observe(notebookContainer, {childList: true});\n",
       "}}\n",
       "\n",
       "// Listen for the clearing of the current output cell\n",
       "var outputEl = gd.closest('.output');\n",
       "if (outputEl) {{\n",
       "    x.observe(outputEl, {childList: true});\n",
       "}}\n",
       "\n",
       "                        })                };                });            </script>        </div>"
      ]
     },
     "metadata": {},
     "output_type": "display_data"
    },
    {
     "data": {
      "application/vnd.plotly.v1+json": {
       "config": {
        "plotlyServerURL": "https://plot.ly"
       },
       "data": [
        {
         "cliponaxis": false,
         "hovertemplate": [
          "scheduler_step_size (IntDistribution): 0.03691586960355866<extra></extra>",
          "learning_rate (FloatDistribution): 0.04428006353091922<extra></extra>",
          "optimizer (CategoricalDistribution): 0.10149428568682771<extra></extra>",
          "scheduler_gamma (FloatDistribution): 0.17324712091296982<extra></extra>",
          "batch_size (CategoricalDistribution): 0.24821415280648076<extra></extra>",
          "weight_decay (FloatDistribution): 0.39584850745924366<extra></extra>"
         ],
         "name": "Objective Value",
         "orientation": "h",
         "text": [
          "0.04",
          "0.04",
          "0.10",
          "0.17",
          "0.25",
          "0.40"
         ],
         "textposition": "outside",
         "type": "bar",
         "x": [
          0.03691586960355866,
          0.04428006353091922,
          0.10149428568682771,
          0.17324712091296982,
          0.24821415280648076,
          0.39584850745924366
         ],
         "y": [
          "scheduler_step_size",
          "learning_rate",
          "optimizer",
          "scheduler_gamma",
          "batch_size",
          "weight_decay"
         ]
        }
       ],
       "layout": {
        "autosize": true,
        "template": {
         "data": {
          "bar": [
           {
            "error_x": {
             "color": "#2a3f5f"
            },
            "error_y": {
             "color": "#2a3f5f"
            },
            "marker": {
             "line": {
              "color": "#E5ECF6",
              "width": 0.5
             },
             "pattern": {
              "fillmode": "overlay",
              "size": 10,
              "solidity": 0.2
             }
            },
            "type": "bar"
           }
          ],
          "barpolar": [
           {
            "marker": {
             "line": {
              "color": "#E5ECF6",
              "width": 0.5
             },
             "pattern": {
              "fillmode": "overlay",
              "size": 10,
              "solidity": 0.2
             }
            },
            "type": "barpolar"
           }
          ],
          "carpet": [
           {
            "aaxis": {
             "endlinecolor": "#2a3f5f",
             "gridcolor": "white",
             "linecolor": "white",
             "minorgridcolor": "white",
             "startlinecolor": "#2a3f5f"
            },
            "baxis": {
             "endlinecolor": "#2a3f5f",
             "gridcolor": "white",
             "linecolor": "white",
             "minorgridcolor": "white",
             "startlinecolor": "#2a3f5f"
            },
            "type": "carpet"
           }
          ],
          "choropleth": [
           {
            "colorbar": {
             "outlinewidth": 0,
             "ticks": ""
            },
            "type": "choropleth"
           }
          ],
          "contour": [
           {
            "colorbar": {
             "outlinewidth": 0,
             "ticks": ""
            },
            "colorscale": [
             [
              0,
              "#0d0887"
             ],
             [
              0.1111111111111111,
              "#46039f"
             ],
             [
              0.2222222222222222,
              "#7201a8"
             ],
             [
              0.3333333333333333,
              "#9c179e"
             ],
             [
              0.4444444444444444,
              "#bd3786"
             ],
             [
              0.5555555555555556,
              "#d8576b"
             ],
             [
              0.6666666666666666,
              "#ed7953"
             ],
             [
              0.7777777777777778,
              "#fb9f3a"
             ],
             [
              0.8888888888888888,
              "#fdca26"
             ],
             [
              1,
              "#f0f921"
             ]
            ],
            "type": "contour"
           }
          ],
          "contourcarpet": [
           {
            "colorbar": {
             "outlinewidth": 0,
             "ticks": ""
            },
            "type": "contourcarpet"
           }
          ],
          "heatmap": [
           {
            "colorbar": {
             "outlinewidth": 0,
             "ticks": ""
            },
            "colorscale": [
             [
              0,
              "#0d0887"
             ],
             [
              0.1111111111111111,
              "#46039f"
             ],
             [
              0.2222222222222222,
              "#7201a8"
             ],
             [
              0.3333333333333333,
              "#9c179e"
             ],
             [
              0.4444444444444444,
              "#bd3786"
             ],
             [
              0.5555555555555556,
              "#d8576b"
             ],
             [
              0.6666666666666666,
              "#ed7953"
             ],
             [
              0.7777777777777778,
              "#fb9f3a"
             ],
             [
              0.8888888888888888,
              "#fdca26"
             ],
             [
              1,
              "#f0f921"
             ]
            ],
            "type": "heatmap"
           }
          ],
          "heatmapgl": [
           {
            "colorbar": {
             "outlinewidth": 0,
             "ticks": ""
            },
            "colorscale": [
             [
              0,
              "#0d0887"
             ],
             [
              0.1111111111111111,
              "#46039f"
             ],
             [
              0.2222222222222222,
              "#7201a8"
             ],
             [
              0.3333333333333333,
              "#9c179e"
             ],
             [
              0.4444444444444444,
              "#bd3786"
             ],
             [
              0.5555555555555556,
              "#d8576b"
             ],
             [
              0.6666666666666666,
              "#ed7953"
             ],
             [
              0.7777777777777778,
              "#fb9f3a"
             ],
             [
              0.8888888888888888,
              "#fdca26"
             ],
             [
              1,
              "#f0f921"
             ]
            ],
            "type": "heatmapgl"
           }
          ],
          "histogram": [
           {
            "marker": {
             "pattern": {
              "fillmode": "overlay",
              "size": 10,
              "solidity": 0.2
             }
            },
            "type": "histogram"
           }
          ],
          "histogram2d": [
           {
            "colorbar": {
             "outlinewidth": 0,
             "ticks": ""
            },
            "colorscale": [
             [
              0,
              "#0d0887"
             ],
             [
              0.1111111111111111,
              "#46039f"
             ],
             [
              0.2222222222222222,
              "#7201a8"
             ],
             [
              0.3333333333333333,
              "#9c179e"
             ],
             [
              0.4444444444444444,
              "#bd3786"
             ],
             [
              0.5555555555555556,
              "#d8576b"
             ],
             [
              0.6666666666666666,
              "#ed7953"
             ],
             [
              0.7777777777777778,
              "#fb9f3a"
             ],
             [
              0.8888888888888888,
              "#fdca26"
             ],
             [
              1,
              "#f0f921"
             ]
            ],
            "type": "histogram2d"
           }
          ],
          "histogram2dcontour": [
           {
            "colorbar": {
             "outlinewidth": 0,
             "ticks": ""
            },
            "colorscale": [
             [
              0,
              "#0d0887"
             ],
             [
              0.1111111111111111,
              "#46039f"
             ],
             [
              0.2222222222222222,
              "#7201a8"
             ],
             [
              0.3333333333333333,
              "#9c179e"
             ],
             [
              0.4444444444444444,
              "#bd3786"
             ],
             [
              0.5555555555555556,
              "#d8576b"
             ],
             [
              0.6666666666666666,
              "#ed7953"
             ],
             [
              0.7777777777777778,
              "#fb9f3a"
             ],
             [
              0.8888888888888888,
              "#fdca26"
             ],
             [
              1,
              "#f0f921"
             ]
            ],
            "type": "histogram2dcontour"
           }
          ],
          "mesh3d": [
           {
            "colorbar": {
             "outlinewidth": 0,
             "ticks": ""
            },
            "type": "mesh3d"
           }
          ],
          "parcoords": [
           {
            "line": {
             "colorbar": {
              "outlinewidth": 0,
              "ticks": ""
             }
            },
            "type": "parcoords"
           }
          ],
          "pie": [
           {
            "automargin": true,
            "type": "pie"
           }
          ],
          "scatter": [
           {
            "fillpattern": {
             "fillmode": "overlay",
             "size": 10,
             "solidity": 0.2
            },
            "type": "scatter"
           }
          ],
          "scatter3d": [
           {
            "line": {
             "colorbar": {
              "outlinewidth": 0,
              "ticks": ""
             }
            },
            "marker": {
             "colorbar": {
              "outlinewidth": 0,
              "ticks": ""
             }
            },
            "type": "scatter3d"
           }
          ],
          "scattercarpet": [
           {
            "marker": {
             "colorbar": {
              "outlinewidth": 0,
              "ticks": ""
             }
            },
            "type": "scattercarpet"
           }
          ],
          "scattergeo": [
           {
            "marker": {
             "colorbar": {
              "outlinewidth": 0,
              "ticks": ""
             }
            },
            "type": "scattergeo"
           }
          ],
          "scattergl": [
           {
            "marker": {
             "colorbar": {
              "outlinewidth": 0,
              "ticks": ""
             }
            },
            "type": "scattergl"
           }
          ],
          "scattermapbox": [
           {
            "marker": {
             "colorbar": {
              "outlinewidth": 0,
              "ticks": ""
             }
            },
            "type": "scattermapbox"
           }
          ],
          "scatterpolar": [
           {
            "marker": {
             "colorbar": {
              "outlinewidth": 0,
              "ticks": ""
             }
            },
            "type": "scatterpolar"
           }
          ],
          "scatterpolargl": [
           {
            "marker": {
             "colorbar": {
              "outlinewidth": 0,
              "ticks": ""
             }
            },
            "type": "scatterpolargl"
           }
          ],
          "scatterternary": [
           {
            "marker": {
             "colorbar": {
              "outlinewidth": 0,
              "ticks": ""
             }
            },
            "type": "scatterternary"
           }
          ],
          "surface": [
           {
            "colorbar": {
             "outlinewidth": 0,
             "ticks": ""
            },
            "colorscale": [
             [
              0,
              "#0d0887"
             ],
             [
              0.1111111111111111,
              "#46039f"
             ],
             [
              0.2222222222222222,
              "#7201a8"
             ],
             [
              0.3333333333333333,
              "#9c179e"
             ],
             [
              0.4444444444444444,
              "#bd3786"
             ],
             [
              0.5555555555555556,
              "#d8576b"
             ],
             [
              0.6666666666666666,
              "#ed7953"
             ],
             [
              0.7777777777777778,
              "#fb9f3a"
             ],
             [
              0.8888888888888888,
              "#fdca26"
             ],
             [
              1,
              "#f0f921"
             ]
            ],
            "type": "surface"
           }
          ],
          "table": [
           {
            "cells": {
             "fill": {
              "color": "#EBF0F8"
             },
             "line": {
              "color": "white"
             }
            },
            "header": {
             "fill": {
              "color": "#C8D4E3"
             },
             "line": {
              "color": "white"
             }
            },
            "type": "table"
           }
          ]
         },
         "layout": {
          "annotationdefaults": {
           "arrowcolor": "#2a3f5f",
           "arrowhead": 0,
           "arrowwidth": 1
          },
          "autotypenumbers": "strict",
          "coloraxis": {
           "colorbar": {
            "outlinewidth": 0,
            "ticks": ""
           }
          },
          "colorscale": {
           "diverging": [
            [
             0,
             "#8e0152"
            ],
            [
             0.1,
             "#c51b7d"
            ],
            [
             0.2,
             "#de77ae"
            ],
            [
             0.3,
             "#f1b6da"
            ],
            [
             0.4,
             "#fde0ef"
            ],
            [
             0.5,
             "#f7f7f7"
            ],
            [
             0.6,
             "#e6f5d0"
            ],
            [
             0.7,
             "#b8e186"
            ],
            [
             0.8,
             "#7fbc41"
            ],
            [
             0.9,
             "#4d9221"
            ],
            [
             1,
             "#276419"
            ]
           ],
           "sequential": [
            [
             0,
             "#0d0887"
            ],
            [
             0.1111111111111111,
             "#46039f"
            ],
            [
             0.2222222222222222,
             "#7201a8"
            ],
            [
             0.3333333333333333,
             "#9c179e"
            ],
            [
             0.4444444444444444,
             "#bd3786"
            ],
            [
             0.5555555555555556,
             "#d8576b"
            ],
            [
             0.6666666666666666,
             "#ed7953"
            ],
            [
             0.7777777777777778,
             "#fb9f3a"
            ],
            [
             0.8888888888888888,
             "#fdca26"
            ],
            [
             1,
             "#f0f921"
            ]
           ],
           "sequentialminus": [
            [
             0,
             "#0d0887"
            ],
            [
             0.1111111111111111,
             "#46039f"
            ],
            [
             0.2222222222222222,
             "#7201a8"
            ],
            [
             0.3333333333333333,
             "#9c179e"
            ],
            [
             0.4444444444444444,
             "#bd3786"
            ],
            [
             0.5555555555555556,
             "#d8576b"
            ],
            [
             0.6666666666666666,
             "#ed7953"
            ],
            [
             0.7777777777777778,
             "#fb9f3a"
            ],
            [
             0.8888888888888888,
             "#fdca26"
            ],
            [
             1,
             "#f0f921"
            ]
           ]
          },
          "colorway": [
           "#636efa",
           "#EF553B",
           "#00cc96",
           "#ab63fa",
           "#FFA15A",
           "#19d3f3",
           "#FF6692",
           "#B6E880",
           "#FF97FF",
           "#FECB52"
          ],
          "font": {
           "color": "#2a3f5f"
          },
          "geo": {
           "bgcolor": "white",
           "lakecolor": "white",
           "landcolor": "#E5ECF6",
           "showlakes": true,
           "showland": true,
           "subunitcolor": "white"
          },
          "hoverlabel": {
           "align": "left"
          },
          "hovermode": "closest",
          "mapbox": {
           "style": "light"
          },
          "paper_bgcolor": "white",
          "plot_bgcolor": "#E5ECF6",
          "polar": {
           "angularaxis": {
            "gridcolor": "white",
            "linecolor": "white",
            "ticks": ""
           },
           "bgcolor": "#E5ECF6",
           "radialaxis": {
            "gridcolor": "white",
            "linecolor": "white",
            "ticks": ""
           }
          },
          "scene": {
           "xaxis": {
            "backgroundcolor": "#E5ECF6",
            "gridcolor": "white",
            "gridwidth": 2,
            "linecolor": "white",
            "showbackground": true,
            "ticks": "",
            "zerolinecolor": "white"
           },
           "yaxis": {
            "backgroundcolor": "#E5ECF6",
            "gridcolor": "white",
            "gridwidth": 2,
            "linecolor": "white",
            "showbackground": true,
            "ticks": "",
            "zerolinecolor": "white"
           },
           "zaxis": {
            "backgroundcolor": "#E5ECF6",
            "gridcolor": "white",
            "gridwidth": 2,
            "linecolor": "white",
            "showbackground": true,
            "ticks": "",
            "zerolinecolor": "white"
           }
          },
          "shapedefaults": {
           "line": {
            "color": "#2a3f5f"
           }
          },
          "ternary": {
           "aaxis": {
            "gridcolor": "white",
            "linecolor": "white",
            "ticks": ""
           },
           "baxis": {
            "gridcolor": "white",
            "linecolor": "white",
            "ticks": ""
           },
           "bgcolor": "#E5ECF6",
           "caxis": {
            "gridcolor": "white",
            "linecolor": "white",
            "ticks": ""
           }
          },
          "title": {
           "x": 0.05
          },
          "xaxis": {
           "automargin": true,
           "gridcolor": "white",
           "linecolor": "white",
           "ticks": "",
           "title": {
            "standoff": 15
           },
           "zerolinecolor": "white",
           "zerolinewidth": 2
          },
          "yaxis": {
           "automargin": true,
           "gridcolor": "white",
           "linecolor": "white",
           "ticks": "",
           "title": {
            "standoff": 15
           },
           "zerolinecolor": "white",
           "zerolinewidth": 2
          }
         }
        },
        "title": {
         "text": "Hyperparameter Importances"
        },
        "xaxis": {
         "autorange": true,
         "range": [
          0,
          0.4166826394307828
         ],
         "title": {
          "text": "Hyperparameter Importance"
         },
         "type": "linear"
        },
        "yaxis": {
         "autorange": true,
         "range": [
          -0.5,
          5.5
         ],
         "title": {
          "text": "Hyperparameter"
         },
         "type": "category"
        }
       }
      },
      "image/png": "[encoded data removed]",
      "text/html": [
       "<div>                            <div id=\"ed90ca0d-5152-4bdc-a452-39993723c742\" class=\"plotly-graph-div\" style=\"height:525px; width:100%;\"></div>            <script type=\"text/javascript\">                require([\"plotly\"], function(Plotly) {                    window.PLOTLYENV=window.PLOTLYENV || {};                                    if (document.getElementById(\"ed90ca0d-5152-4bdc-a452-39993723c742\")) {                    Plotly.newPlot(                        \"ed90ca0d-5152-4bdc-a452-39993723c742\",                        [{\"cliponaxis\":false,\"hovertemplate\":[\"scheduler_step_size (IntDistribution): 0.03691586960355866\\u003cextra\\u003e\\u003c\\u002fextra\\u003e\",\"learning_rate (FloatDistribution): 0.04428006353091922\\u003cextra\\u003e\\u003c\\u002fextra\\u003e\",\"optimizer (CategoricalDistribution): 0.10149428568682771\\u003cextra\\u003e\\u003c\\u002fextra\\u003e\",\"scheduler_gamma (FloatDistribution): 0.17324712091296982\\u003cextra\\u003e\\u003c\\u002fextra\\u003e\",\"batch_size (CategoricalDistribution): 0.24821415280648076\\u003cextra\\u003e\\u003c\\u002fextra\\u003e\",\"weight_decay (FloatDistribution): 0.39584850745924366\\u003cextra\\u003e\\u003c\\u002fextra\\u003e\"],\"name\":\"Objective Value\",\"orientation\":\"h\",\"text\":[\"0.04\",\"0.04\",\"0.10\",\"0.17\",\"0.25\",\"0.40\"],\"textposition\":\"outside\",\"x\":[0.03691586960355866,0.04428006353091922,0.10149428568682771,0.17324712091296982,0.24821415280648076,0.39584850745924366],\"y\":[\"scheduler_step_size\",\"learning_rate\",\"optimizer\",\"scheduler_gamma\",\"batch_size\",\"weight_decay\"],\"type\":\"bar\"}],                        {\"title\":{\"text\":\"Hyperparameter Importances\"},\"xaxis\":{\"title\":{\"text\":\"Hyperparameter Importance\"}},\"yaxis\":{\"title\":{\"text\":\"Hyperparameter\"}},\"template\":{\"data\":{\"histogram2dcontour\":[{\"type\":\"histogram2dcontour\",\"colorbar\":{\"outlinewidth\":0,\"ticks\":\"\"},\"colorscale\":[[0.0,\"#0d0887\"],[0.1111111111111111,\"#46039f\"],[0.2222222222222222,\"#7201a8\"],[0.3333333333333333,\"#9c179e\"],[0.4444444444444444,\"#bd3786\"],[0.5555555555555556,\"#d8576b\"],[0.6666666666666666,\"#ed7953\"],[0.7777777777777778,\"#fb9f3a\"],[0.8888888888888888,\"#fdca26\"],[1.0,\"#f0f921\"]]}],\"choropleth\":[{\"type\":\"choropleth\",\"colorbar\":{\"outlinewidth\":0,\"ticks\":\"\"}}],\"histogram2d\":[{\"type\":\"histogram2d\",\"colorbar\":{\"outlinewidth\":0,\"ticks\":\"\"},\"colorscale\":[[0.0,\"#0d0887\"],[0.1111111111111111,\"#46039f\"],[0.2222222222222222,\"#7201a8\"],[0.3333333333333333,\"#9c179e\"],[0.4444444444444444,\"#bd3786\"],[0.5555555555555556,\"#d8576b\"],[0.6666666666666666,\"#ed7953\"],[0.7777777777777778,\"#fb9f3a\"],[0.8888888888888888,\"#fdca26\"],[1.0,\"#f0f921\"]]}],\"heatmap\":[{\"type\":\"heatmap\",\"colorbar\":{\"outlinewidth\":0,\"ticks\":\"\"},\"colorscale\":[[0.0,\"#0d0887\"],[0.1111111111111111,\"#46039f\"],[0.2222222222222222,\"#7201a8\"],[0.3333333333333333,\"#9c179e\"],[0.4444444444444444,\"#bd3786\"],[0.5555555555555556,\"#d8576b\"],[0.6666666666666666,\"#ed7953\"],[0.7777777777777778,\"#fb9f3a\"],[0.8888888888888888,\"#fdca26\"],[1.0,\"#f0f921\"]]}],\"heatmapgl\":[{\"type\":\"heatmapgl\",\"colorbar\":{\"outlinewidth\":0,\"ticks\":\"\"},\"colorscale\":[[0.0,\"#0d0887\"],[0.1111111111111111,\"#46039f\"],[0.2222222222222222,\"#7201a8\"],[0.3333333333333333,\"#9c179e\"],[0.4444444444444444,\"#bd3786\"],[0.5555555555555556,\"#d8576b\"],[0.6666666666666666,\"#ed7953\"],[0.7777777777777778,\"#fb9f3a\"],[0.8888888888888888,\"#fdca26\"],[1.0,\"#f0f921\"]]}],\"contourcarpet\":[{\"type\":\"contourcarpet\",\"colorbar\":{\"outlinewidth\":0,\"ticks\":\"\"}}],\"contour\":[{\"type\":\"contour\",\"colorbar\":{\"outlinewidth\":0,\"ticks\":\"\"},\"colorscale\":[[0.0,\"#0d0887\"],[0.1111111111111111,\"#46039f\"],[0.2222222222222222,\"#7201a8\"],[0.3333333333333333,\"#9c179e\"],[0.4444444444444444,\"#bd3786\"],[0.5555555555555556,\"#d8576b\"],[0.6666666666666666,\"#ed7953\"],[0.7777777777777778,\"#fb9f3a\"],[0.8888888888888888,\"#fdca26\"],[1.0,\"#f0f921\"]]}],\"surface\":[{\"type\":\"surface\",\"colorbar\":{\"outlinewidth\":0,\"ticks\":\"\"},\"colorscale\":[[0.0,\"#0d0887\"],[0.1111111111111111,\"#46039f\"],[0.2222222222222222,\"#7201a8\"],[0.3333333333333333,\"#9c179e\"],[0.4444444444444444,\"#bd3786\"],[0.5555555555555556,\"#d8576b\"],[0.6666666666666666,\"#ed7953\"],[0.7777777777777778,\"#fb9f3a\"],[0.8888888888888888,\"#fdca26\"],[1.0,\"#f0f921\"]]}],\"mesh3d\":[{\"type\":\"mesh3d\",\"colorbar\":{\"outlinewidth\":0,\"ticks\":\"\"}}],\"scatter\":[{\"fillpattern\":{\"fillmode\":\"overlay\",\"size\":10,\"solidity\":0.2},\"type\":\"scatter\"}],\"parcoords\":[{\"type\":\"parcoords\",\"line\":{\"colorbar\":{\"outlinewidth\":0,\"ticks\":\"\"}}}],\"scatterpolargl\":[{\"type\":\"scatterpolargl\",\"marker\":{\"colorbar\":{\"outlinewidth\":0,\"ticks\":\"\"}}}],\"bar\":[{\"error_x\":{\"color\":\"#2a3f5f\"},\"error_y\":{\"color\":\"#2a3f5f\"},\"marker\":{\"line\":{\"color\":\"#E5ECF6\",\"width\":0.5},\"pattern\":{\"fillmode\":\"overlay\",\"size\":10,\"solidity\":0.2}},\"type\":\"bar\"}],\"scattergeo\":[{\"type\":\"scattergeo\",\"marker\":{\"colorbar\":{\"outlinewidth\":0,\"ticks\":\"\"}}}],\"scatterpolar\":[{\"type\":\"scatterpolar\",\"marker\":{\"colorbar\":{\"outlinewidth\":0,\"ticks\":\"\"}}}],\"histogram\":[{\"marker\":{\"pattern\":{\"fillmode\":\"overlay\",\"size\":10,\"solidity\":0.2}},\"type\":\"histogram\"}],\"scattergl\":[{\"type\":\"scattergl\",\"marker\":{\"colorbar\":{\"outlinewidth\":0,\"ticks\":\"\"}}}],\"scatter3d\":[{\"type\":\"scatter3d\",\"line\":{\"colorbar\":{\"outlinewidth\":0,\"ticks\":\"\"}},\"marker\":{\"colorbar\":{\"outlinewidth\":0,\"ticks\":\"\"}}}],\"scattermapbox\":[{\"type\":\"scattermapbox\",\"marker\":{\"colorbar\":{\"outlinewidth\":0,\"ticks\":\"\"}}}],\"scatterternary\":[{\"type\":\"scatterternary\",\"marker\":{\"colorbar\":{\"outlinewidth\":0,\"ticks\":\"\"}}}],\"scattercarpet\":[{\"type\":\"scattercarpet\",\"marker\":{\"colorbar\":{\"outlinewidth\":0,\"ticks\":\"\"}}}],\"carpet\":[{\"aaxis\":{\"endlinecolor\":\"#2a3f5f\",\"gridcolor\":\"white\",\"linecolor\":\"white\",\"minorgridcolor\":\"white\",\"startlinecolor\":\"#2a3f5f\"},\"baxis\":{\"endlinecolor\":\"#2a3f5f\",\"gridcolor\":\"white\",\"linecolor\":\"white\",\"minorgridcolor\":\"white\",\"startlinecolor\":\"#2a3f5f\"},\"type\":\"carpet\"}],\"table\":[{\"cells\":{\"fill\":{\"color\":\"#EBF0F8\"},\"line\":{\"color\":\"white\"}},\"header\":{\"fill\":{\"color\":\"#C8D4E3\"},\"line\":{\"color\":\"white\"}},\"type\":\"table\"}],\"barpolar\":[{\"marker\":{\"line\":{\"color\":\"#E5ECF6\",\"width\":0.5},\"pattern\":{\"fillmode\":\"overlay\",\"size\":10,\"solidity\":0.2}},\"type\":\"barpolar\"}],\"pie\":[{\"automargin\":true,\"type\":\"pie\"}]},\"layout\":{\"autotypenumbers\":\"strict\",\"colorway\":[\"#636efa\",\"#EF553B\",\"#00cc96\",\"#ab63fa\",\"#FFA15A\",\"#19d3f3\",\"#FF6692\",\"#B6E880\",\"#FF97FF\",\"#FECB52\"],\"font\":{\"color\":\"#2a3f5f\"},\"hovermode\":\"closest\",\"hoverlabel\":{\"align\":\"left\"},\"paper_bgcolor\":\"white\",\"plot_bgcolor\":\"#E5ECF6\",\"polar\":{\"bgcolor\":\"#E5ECF6\",\"angularaxis\":{\"gridcolor\":\"white\",\"linecolor\":\"white\",\"ticks\":\"\"},\"radialaxis\":{\"gridcolor\":\"white\",\"linecolor\":\"white\",\"ticks\":\"\"}},\"ternary\":{\"bgcolor\":\"#E5ECF6\",\"aaxis\":{\"gridcolor\":\"white\",\"linecolor\":\"white\",\"ticks\":\"\"},\"baxis\":{\"gridcolor\":\"white\",\"linecolor\":\"white\",\"ticks\":\"\"},\"caxis\":{\"gridcolor\":\"white\",\"linecolor\":\"white\",\"ticks\":\"\"}},\"coloraxis\":{\"colorbar\":{\"outlinewidth\":0,\"ticks\":\"\"}},\"colorscale\":{\"sequential\":[[0.0,\"#0d0887\"],[0.1111111111111111,\"#46039f\"],[0.2222222222222222,\"#7201a8\"],[0.3333333333333333,\"#9c179e\"],[0.4444444444444444,\"#bd3786\"],[0.5555555555555556,\"#d8576b\"],[0.6666666666666666,\"#ed7953\"],[0.7777777777777778,\"#fb9f3a\"],[0.8888888888888888,\"#fdca26\"],[1.0,\"#f0f921\"]],\"sequentialminus\":[[0.0,\"#0d0887\"],[0.1111111111111111,\"#46039f\"],[0.2222222222222222,\"#7201a8\"],[0.3333333333333333,\"#9c179e\"],[0.4444444444444444,\"#bd3786\"],[0.5555555555555556,\"#d8576b\"],[0.6666666666666666,\"#ed7953\"],[0.7777777777777778,\"#fb9f3a\"],[0.8888888888888888,\"#fdca26\"],[1.0,\"#f0f921\"]],\"diverging\":[[0,\"#8e0152\"],[0.1,\"#c51b7d\"],[0.2,\"#de77ae\"],[0.3,\"#f1b6da\"],[0.4,\"#fde0ef\"],[0.5,\"#f7f7f7\"],[0.6,\"#e6f5d0\"],[0.7,\"#b8e186\"],[0.8,\"#7fbc41\"],[0.9,\"#4d9221\"],[1,\"#276419\"]]},\"xaxis\":{\"gridcolor\":\"white\",\"linecolor\":\"white\",\"ticks\":\"\",\"title\":{\"standoff\":15},\"zerolinecolor\":\"white\",\"automargin\":true,\"zerolinewidth\":2},\"yaxis\":{\"gridcolor\":\"white\",\"linecolor\":\"white\",\"ticks\":\"\",\"title\":{\"standoff\":15},\"zerolinecolor\":\"white\",\"automargin\":true,\"zerolinewidth\":2},\"scene\":{\"xaxis\":{\"backgroundcolor\":\"#E5ECF6\",\"gridcolor\":\"white\",\"linecolor\":\"white\",\"showbackground\":true,\"ticks\":\"\",\"zerolinecolor\":\"white\",\"gridwidth\":2},\"yaxis\":{\"backgroundcolor\":\"#E5ECF6\",\"gridcolor\":\"white\",\"linecolor\":\"white\",\"showbackground\":true,\"ticks\":\"\",\"zerolinecolor\":\"white\",\"gridwidth\":2},\"zaxis\":{\"backgroundcolor\":\"#E5ECF6\",\"gridcolor\":\"white\",\"linecolor\":\"white\",\"showbackground\":true,\"ticks\":\"\",\"zerolinecolor\":\"white\",\"gridwidth\":2}},\"shapedefaults\":{\"line\":{\"color\":\"#2a3f5f\"}},\"annotationdefaults\":{\"arrowcolor\":\"#2a3f5f\",\"arrowhead\":0,\"arrowwidth\":1},\"geo\":{\"bgcolor\":\"white\",\"landcolor\":\"#E5ECF6\",\"subunitcolor\":\"white\",\"showland\":true,\"showlakes\":true,\"lakecolor\":\"white\"},\"title\":{\"x\":0.05},\"mapbox\":{\"style\":\"light\"}}}},                        {\"responsive\": true}                    ).then(function(){\n",
       "                            \n",
       "var gd = document.getElementById('ed90ca0d-5152-4bdc-a452-39993723c742');\n",
       "var x = new MutationObserver(function (mutations, observer) {{\n",
       "        var display = window.getComputedStyle(gd).display;\n",
       "        if (!display || display === 'none') {{\n",
       "            console.log([gd, 'removed!']);\n",
       "            Plotly.purge(gd);\n",
       "            observer.disconnect();\n",
       "        }}\n",
       "}});\n",
       "\n",
       "// Listen for the removal of the full notebook cells\n",
       "var notebookContainer = gd.closest('#notebook-container');\n",
       "if (notebookContainer) {{\n",
       "    x.observe(notebookContainer, {childList: true});\n",
       "}}\n",
       "\n",
       "// Listen for the clearing of the current output cell\n",
       "var outputEl = gd.closest('.output');\n",
       "if (outputEl) {{\n",
       "    x.observe(outputEl, {childList: true});\n",
       "}}\n",
       "\n",
       "                        })                };                });            </script>        </div>"
      ]
     },
     "metadata": {},
     "output_type": "display_data"
    },
    {
     "data": {
      "application/vnd.plotly.v1+json": {
       "config": {
        "plotlyServerURL": "https://plot.ly"
       },
       "data": [
        {
         "dimensions": [
          {
           "label": "Objective Value",
           "range": [
            0.6185992360115051,
            1.3795373439788818
           ],
           "values": [
            1.228979468345642,
            1.3249990940093994,
            1.3426814079284668,
            1.313105583190918,
            1.2894729375839233,
            1.304099440574646,
            1.3456109762191772,
            1.3542375564575195,
            1.342891812324524,
            1.294268250465393,
            1.361785650253296,
            1.210344672203064,
            1.319124698638916,
            1.2389219999313354,
            1.348663330078125,
            1.3361306190490723,
            1.2527742385864258,
            0.7772930264472961,
            0.7760496139526367,
            0.691702127456665,
            0.6185992360115051,
            0.6843743920326233,
            0.7584133744239807,
            0.7801697254180908,
            0.7369080781936646,
            0.744251549243927,
            0.7353046536445618,
            0.7556328177452087,
            0.7407630681991577,
            0.7552871704101562,
            0.7485508918762207,
            0.7379935383796692,
            0.7020747661590576,
            0.6617689728736877,
            0.7434184551239014,
            0.715858519077301,
            0.7301933765411377,
            1.3563650846481323,
            1.3668559789657593,
            1.3544729948043823,
            1.1648985147476196,
            1.3599932193756104,
            1.2924590110778809,
            1.2915735244750977,
            1.254168152809143,
            1.3556095361709595,
            1.3114591836929321,
            1.3795373439788818,
            1.3488327264785767,
            1.2318986654281616,
            1.3360991477966309,
            1.358359932899475,
            1.357972502708435,
            1.2777248620986938,
            1.3248088359832764,
            1.2368369102478027,
            1.3246277570724487,
            1.3315757513046265,
            1.2978733777999878,
            1.3542231321334839,
            1.3762811422348022,
            1.3330857753753662,
            1.263526439666748,
            1.2187787294387817,
            1.2750455141067505,
            1.3203963041305542,
            1.3429073095321655,
            1.3254467248916626,
            1.3683576583862305,
            1.3524370193481445,
            1.356225848197937,
            1.3453601598739624
           ]
          },
          {
           "label": "batch_size",
           "range": [
            0,
            3
           ],
           "ticktext": [
            "16",
            "32",
            "64",
            "128"
           ],
           "tickvals": [
            0,
            1,
            2,
            3
           ],
           "values": [
            0,
            0,
            0,
            0,
            0,
            0,
            0,
            0,
            0,
            0,
            0,
            0,
            0,
            0,
            0,
            0,
            0,
            0,
            0,
            0,
            0,
            0,
            0,
            0,
            0,
            0,
            0,
            0,
            0,
            0,
            0,
            0,
            0,
            0,
            0,
            0,
            0,
            1,
            1,
            1,
            1,
            1,
            1,
            1,
            1,
            1,
            1,
            1,
            1,
            1,
            1,
            2,
            2,
            2,
            2,
            2,
            2,
            2,
            2,
            2,
            2,
            2,
            2,
            2,
            2,
            3,
            3,
            3,
            3,
            3,
            3,
            3
           ]
          },
          {
           "label": "learning_rate",
           "range": [
            -4.977953864296983,
            -2.00591075354058
           ],
           "ticktext": [
            "1.05e-05",
            "0.0001",
            "0.001",
            "0.00986"
           ],
           "tickvals": [
            -4.977953864296983,
            -4,
            -3,
            -2.00591075354058
           ],
           "values": [
            -2.0340393872372555,
            -3.8004251056297975,
            -3.1853976659040804,
            -2.440035171243592,
            -2.3579610785406167,
            -2.0277252114294906,
            -2.0070446283511503,
            -2.2507619033026662,
            -2.844284170710376,
            -4.127192225398509,
            -2.15393593030673,
            -2.310010567887352,
            -2.3265037526563686,
            -2.0199225171002992,
            -4.7407784938316855,
            -2.3462831178821606,
            -2.580495574641069,
            -2.4725367758383805,
            -2.478735464797432,
            -2.480384274734246,
            -2.503111867900182,
            -2.9637019785764354,
            -3.031057513707423,
            -2.957673187072411,
            -3.2077784551887816,
            -3.2238572696507366,
            -3.254631421423796,
            -3.2640692828917452,
            -3.27727655707737,
            -3.6561626752685563,
            -3.4596788670267142,
            -3.1534438730887158,
            -3.1049534469675564,
            -3.3467420528185987,
            -3.5725231522573035,
            -3.429724719323356,
            -3.3680792998845255,
            -4.977953864296983,
            -3.0907446632242017,
            -3.215232184185675,
            -2.018065181117405,
            -2.314406828563745,
            -2.00591075354058,
            -2.1651574827880773,
            -2.1526105251611014,
            -2.4352456913813936,
            -2.215528633872802,
            -2.4172054739639846,
            -2.6148723181228197,
            -2.1370590407901964,
            -2.097554052519505,
            -4.442318121848137,
            -2.5266352933414056,
            -2.7595280552018524,
            -2.7355943038213524,
            -2.2052805164314653,
            -2.17032988449308,
            -2.7064767193946926,
            -2.2485798421262695,
            -3.0301292948505956,
            -2.6011522586304654,
            -3.37656760580874,
            -2.0298104984601757,
            -2.007368573790953,
            -2.251272119295189,
            -3.7782699353844422,
            -3.6220952054781628,
            -2.531812727156595,
            -2.844270380300066,
            -3.867226767922276,
            -2.4507590389163822,
            -2.900106631940489
           ]
          },
          {
           "label": "optimizer",
           "range": [
            0,
            2
           ],
           "ticktext": [
            "AdamW",
            "RMSprop",
            "Adam"
           ],
           "tickvals": [
            0,
            1,
            2
           ],
           "values": [
            0,
            1,
            0,
            2,
            2,
            2,
            0,
            0,
            2,
            0,
            0,
            1,
            1,
            1,
            1,
            1,
            1,
            1,
            1,
            1,
            1,
            1,
            1,
            1,
            1,
            1,
            1,
            1,
            1,
            1,
            1,
            1,
            1,
            1,
            1,
            2,
            2,
            0,
            0,
            2,
            0,
            0,
            0,
            0,
            0,
            0,
            0,
            0,
            0,
            1,
            2,
            2,
            2,
            1,
            1,
            1,
            1,
            1,
            1,
            1,
            1,
            1,
            1,
            1,
            1,
            0,
            1,
            1,
            2,
            0,
            0,
            1
           ]
          },
          {
           "label": "scheduler_gamma",
           "range": [
            0.5120486959147923,
            0.8999388871824024
           ],
           "values": [
            0.8779571547987657,
            0.6957361244699702,
            0.7044347632285725,
            0.6972949343209021,
            0.7978399428135922,
            0.8836366309402724,
            0.8287221646142715,
            0.8475862871119112,
            0.7507914684057193,
            0.6262036284594238,
            0.5120486959147923,
            0.6200554458161821,
            0.6185096220637641,
            0.6058756286233252,
            0.6907983114014618,
            0.5586158785812726,
            0.8153200585568235,
            0.8896554035490103,
            0.8890372554476113,
            0.8958432100289305,
            0.8966127848310197,
            0.8953912771594152,
            0.8999388871824024,
            0.8973663606414188,
            0.8801506152968979,
            0.8617868853947707,
            0.8639925466808119,
            0.8618259392253742,
            0.8598990401326997,
            0.8801317247265821,
            0.8400933535697734,
            0.8589203754659571,
            0.8233267589770252,
            0.8271443262437126,
            0.8256537131332881,
            0.7894206801107001,
            0.7891006160624068,
            0.8829018338510742,
            0.77636362840416,
            0.8996570818651722,
            0.6562742837063755,
            0.6392650064588102,
            0.6647415644639421,
            0.593707158997845,
            0.6660765049031874,
            0.7205991419801234,
            0.6690407980150459,
            0.5903011019709468,
            0.7185792879236153,
            0.6732838768158343,
            0.6929286976544774,
            0.6970061314109542,
            0.7892891013996152,
            0.841788730759274,
            0.8487705493641933,
            0.7492781965537264,
            0.7456455599583587,
            0.8329619602051199,
            0.642154774697319,
            0.7488921406757111,
            0.8562810483187349,
            0.8125836079151801,
            0.8692112767905825,
            0.8716113026906267,
            0.7723871004231001,
            0.6972781516081468,
            0.8032221166377114,
            0.5747998286823944,
            0.5356962922121375,
            0.6681202926654192,
            0.5433887772601852,
            0.6520229007112572
           ]
          },
          {
           "label": "scheduler_step_size",
           "range": [
            5,
            15
           ],
           "values": [
            14,
            5,
            14,
            6,
            11,
            13,
            9,
            11,
            8,
            13,
            13,
            14,
            7,
            15,
            15,
            14,
            13,
            15,
            15,
            15,
            15,
            15,
            15,
            15,
            14,
            10,
            10,
            10,
            10,
            9,
            9,
            10,
            11,
            11,
            11,
            11,
            11,
            15,
            15,
            11,
            15,
            15,
            15,
            14,
            15,
            13,
            14,
            15,
            14,
            15,
            6,
            12,
            13,
            14,
            14,
            14,
            14,
            15,
            12,
            14,
            12,
            13,
            15,
            15,
            14,
            8,
            11,
            5,
            10,
            12,
            10,
            5
           ]
          },
          {
           "label": "weight_decay",
           "range": [
            -5.985755071910732,
            -3.0081951743216933
           ],
           "ticktext": [
            "1.03e-06",
            "1e-05",
            "0.0001",
            "0.000981"
           ],
           "tickvals": [
            -5.985755071910732,
            -5,
            -4,
            -3.0081951743216933
           ],
           "values": [
            -4.275587479776553,
            -3.9186122974557023,
            -3.51803394034447,
            -3.6140430886887507,
            -5.596792460519857,
            -5.985755071910732,
            -5.274740671076458,
            -4.45488640094259,
            -5.252755948222146,
            -5.4385049392367275,
            -3.7421657275481093,
            -4.064409456737106,
            -3.4142351114765965,
            -3.913663671277806,
            -3.6865240510595587,
            -4.0270303131586775,
            -4.623086075983981,
            -3.9635966038834285,
            -4.022274012421408,
            -3.860293857054681,
            -3.851000036138812,
            -3.3844021995202684,
            -3.0884566149116015,
            -3.0081951743216933,
            -3.1398515223360497,
            -3.215181810598035,
            -3.1575639939084548,
            -3.226044017577441,
            -3.2687361020762884,
            -3.487519813102183,
            -3.301380463780448,
            -3.156874977580832,
            -3.1543990220530698,
            -3.1417287797719253,
            -3.386009948910851,
            -3.5686949896502416,
            -3.4833903715739947,
            -3.0718267850103604,
            -5.636071450137166,
            -4.8662256431265565,
            -4.66551274292864,
            -4.804064881532574,
            -4.671023938582077,
            -5.003784357215849,
            -4.264724797156685,
            -3.987168293088592,
            -3.778500777461208,
            -4.067812311808206,
            -5.111452557729607,
            -3.998535416022809,
            -4.450147977245717,
            -4.939437604755329,
            -4.562425399315176,
            -4.32038819644067,
            -4.4106802718649645,
            -4.182624107916798,
            -4.183084265507052,
            -4.116944036137824,
            -4.599566419895208,
            -3.592844414306901,
            -3.8304662799698432,
            -3.314034478027213,
            -4.258094007235765,
            -4.2066263886718405,
            -4.173802046260235,
            -4.861472592534726,
            -4.156661281111917,
            -3.88924900277969,
            -5.853989732773367,
            -4.7583196508690975,
            -4.3722087746186435,
            -4.5296566505759515
           ]
          }
         ],
         "labelangle": 30,
         "labelside": "bottom",
         "line": {
          "color": [
           1.228979468345642,
           1.3249990940093994,
           1.3426814079284668,
           1.313105583190918,
           1.2894729375839233,
           1.304099440574646,
           1.3456109762191772,
           1.3542375564575195,
           1.342891812324524,
           1.294268250465393,
           1.361785650253296,
           1.210344672203064,
           1.319124698638916,
           1.2389219999313354,
           1.348663330078125,
           1.3361306190490723,
           1.2527742385864258,
           0.7772930264472961,
           0.7760496139526367,
           0.691702127456665,
           0.6185992360115051,
           0.6843743920326233,
           0.7584133744239807,
           0.7801697254180908,
           0.7369080781936646,
           0.744251549243927,
           0.7353046536445618,
           0.7556328177452087,
           0.7407630681991577,
           0.7552871704101562,
           0.7485508918762207,
           0.7379935383796692,
           0.7020747661590576,
           0.6617689728736877,
           0.7434184551239014,
           0.715858519077301,
           0.7301933765411377,
           1.3563650846481323,
           1.3668559789657593,
           1.3544729948043823,
           1.1648985147476196,
           1.3599932193756104,
           1.2924590110778809,
           1.2915735244750977,
           1.254168152809143,
           1.3556095361709595,
           1.3114591836929321,
           1.3795373439788818,
           1.3488327264785767,
           1.2318986654281616,
           1.3360991477966309,
           1.358359932899475,
           1.357972502708435,
           1.2777248620986938,
           1.3248088359832764,
           1.2368369102478027,
           1.3246277570724487,
           1.3315757513046265,
           1.2978733777999878,
           1.3542231321334839,
           1.3762811422348022,
           1.3330857753753662,
           1.263526439666748,
           1.2187787294387817,
           1.2750455141067505,
           1.3203963041305542,
           1.3429073095321655,
           1.3254467248916626,
           1.3683576583862305,
           1.3524370193481445,
           1.356225848197937,
           1.3453601598739624
          ],
          "colorbar": {
           "title": {
            "text": "Objective Value"
           }
          },
          "colorscale": [
           [
            0,
            "rgb(247,251,255)"
           ],
           [
            0.125,
            "rgb(222,235,247)"
           ],
           [
            0.25,
            "rgb(198,219,239)"
           ],
           [
            0.375,
            "rgb(158,202,225)"
           ],
           [
            0.5,
            "rgb(107,174,214)"
           ],
           [
            0.625,
            "rgb(66,146,198)"
           ],
           [
            0.75,
            "rgb(33,113,181)"
           ],
           [
            0.875,
            "rgb(8,81,156)"
           ],
           [
            1,
            "rgb(8,48,107)"
           ]
          ],
          "reversescale": true,
          "showscale": true
         },
         "type": "parcoords"
        }
       ],
       "layout": {
        "autosize": true,
        "template": {
         "data": {
          "bar": [
           {
            "error_x": {
             "color": "#2a3f5f"
            },
            "error_y": {
             "color": "#2a3f5f"
            },
            "marker": {
             "line": {
              "color": "#E5ECF6",
              "width": 0.5
             },
             "pattern": {
              "fillmode": "overlay",
              "size": 10,
              "solidity": 0.2
             }
            },
            "type": "bar"
           }
          ],
          "barpolar": [
           {
            "marker": {
             "line": {
              "color": "#E5ECF6",
              "width": 0.5
             },
             "pattern": {
              "fillmode": "overlay",
              "size": 10,
              "solidity": 0.2
             }
            },
            "type": "barpolar"
           }
          ],
          "carpet": [
           {
            "aaxis": {
             "endlinecolor": "#2a3f5f",
             "gridcolor": "white",
             "linecolor": "white",
             "minorgridcolor": "white",
             "startlinecolor": "#2a3f5f"
            },
            "baxis": {
             "endlinecolor": "#2a3f5f",
             "gridcolor": "white",
             "linecolor": "white",
             "minorgridcolor": "white",
             "startlinecolor": "#2a3f5f"
            },
            "type": "carpet"
           }
          ],
          "choropleth": [
           {
            "colorbar": {
             "outlinewidth": 0,
             "ticks": ""
            },
            "type": "choropleth"
           }
          ],
          "contour": [
           {
            "colorbar": {
             "outlinewidth": 0,
             "ticks": ""
            },
            "colorscale": [
             [
              0,
              "#0d0887"
             ],
             [
              0.1111111111111111,
              "#46039f"
             ],
             [
              0.2222222222222222,
              "#7201a8"
             ],
             [
              0.3333333333333333,
              "#9c179e"
             ],
             [
              0.4444444444444444,
              "#bd3786"
             ],
             [
              0.5555555555555556,
              "#d8576b"
             ],
             [
              0.6666666666666666,
              "#ed7953"
             ],
             [
              0.7777777777777778,
              "#fb9f3a"
             ],
             [
              0.8888888888888888,
              "#fdca26"
             ],
             [
              1,
              "#f0f921"
             ]
            ],
            "type": "contour"
           }
          ],
          "contourcarpet": [
           {
            "colorbar": {
             "outlinewidth": 0,
             "ticks": ""
            },
            "type": "contourcarpet"
           }
          ],
          "heatmap": [
           {
            "colorbar": {
             "outlinewidth": 0,
             "ticks": ""
            },
            "colorscale": [
             [
              0,
              "#0d0887"
             ],
             [
              0.1111111111111111,
              "#46039f"
             ],
             [
              0.2222222222222222,
              "#7201a8"
             ],
             [
              0.3333333333333333,
              "#9c179e"
             ],
             [
              0.4444444444444444,
              "#bd3786"
             ],
             [
              0.5555555555555556,
              "#d8576b"
             ],
             [
              0.6666666666666666,
              "#ed7953"
             ],
             [
              0.7777777777777778,
              "#fb9f3a"
             ],
             [
              0.8888888888888888,
              "#fdca26"
             ],
             [
              1,
              "#f0f921"
             ]
            ],
            "type": "heatmap"
           }
          ],
          "heatmapgl": [
           {
            "colorbar": {
             "outlinewidth": 0,
             "ticks": ""
            },
            "colorscale": [
             [
              0,
              "#0d0887"
             ],
             [
              0.1111111111111111,
              "#46039f"
             ],
             [
              0.2222222222222222,
              "#7201a8"
             ],
             [
              0.3333333333333333,
              "#9c179e"
             ],
             [
              0.4444444444444444,
              "#bd3786"
             ],
             [
              0.5555555555555556,
              "#d8576b"
             ],
             [
              0.6666666666666666,
              "#ed7953"
             ],
             [
              0.7777777777777778,
              "#fb9f3a"
             ],
             [
              0.8888888888888888,
              "#fdca26"
             ],
             [
              1,
              "#f0f921"
             ]
            ],
            "type": "heatmapgl"
           }
          ],
          "histogram": [
           {
            "marker": {
             "pattern": {
              "fillmode": "overlay",
              "size": 10,
              "solidity": 0.2
             }
            },
            "type": "histogram"
           }
          ],
          "histogram2d": [
           {
            "colorbar": {
             "outlinewidth": 0,
             "ticks": ""
            },
            "colorscale": [
             [
              0,
              "#0d0887"
             ],
             [
              0.1111111111111111,
              "#46039f"
             ],
             [
              0.2222222222222222,
              "#7201a8"
             ],
             [
              0.3333333333333333,
              "#9c179e"
             ],
             [
              0.4444444444444444,
              "#bd3786"
             ],
             [
              0.5555555555555556,
              "#d8576b"
             ],
             [
              0.6666666666666666,
              "#ed7953"
             ],
             [
              0.7777777777777778,
              "#fb9f3a"
             ],
             [
              0.8888888888888888,
              "#fdca26"
             ],
             [
              1,
              "#f0f921"
             ]
            ],
            "type": "histogram2d"
           }
          ],
          "histogram2dcontour": [
           {
            "colorbar": {
             "outlinewidth": 0,
             "ticks": ""
            },
            "colorscale": [
             [
              0,
              "#0d0887"
             ],
             [
              0.1111111111111111,
              "#46039f"
             ],
             [
              0.2222222222222222,
              "#7201a8"
             ],
             [
              0.3333333333333333,
              "#9c179e"
             ],
             [
              0.4444444444444444,
              "#bd3786"
             ],
             [
              0.5555555555555556,
              "#d8576b"
             ],
             [
              0.6666666666666666,
              "#ed7953"
             ],
             [
              0.7777777777777778,
              "#fb9f3a"
             ],
             [
              0.8888888888888888,
              "#fdca26"
             ],
             [
              1,
              "#f0f921"
             ]
            ],
            "type": "histogram2dcontour"
           }
          ],
          "mesh3d": [
           {
            "colorbar": {
             "outlinewidth": 0,
             "ticks": ""
            },
            "type": "mesh3d"
           }
          ],
          "parcoords": [
           {
            "line": {
             "colorbar": {
              "outlinewidth": 0,
              "ticks": ""
             }
            },
            "type": "parcoords"
           }
          ],
          "pie": [
           {
            "automargin": true,
            "type": "pie"
           }
          ],
          "scatter": [
           {
            "fillpattern": {
             "fillmode": "overlay",
             "size": 10,
             "solidity": 0.2
            },
            "type": "scatter"
           }
          ],
          "scatter3d": [
           {
            "line": {
             "colorbar": {
              "outlinewidth": 0,
              "ticks": ""
             }
            },
            "marker": {
             "colorbar": {
              "outlinewidth": 0,
              "ticks": ""
             }
            },
            "type": "scatter3d"
           }
          ],
          "scattercarpet": [
           {
            "marker": {
             "colorbar": {
              "outlinewidth": 0,
              "ticks": ""
             }
            },
            "type": "scattercarpet"
           }
          ],
          "scattergeo": [
           {
            "marker": {
             "colorbar": {
              "outlinewidth": 0,
              "ticks": ""
             }
            },
            "type": "scattergeo"
           }
          ],
          "scattergl": [
           {
            "marker": {
             "colorbar": {
              "outlinewidth": 0,
              "ticks": ""
             }
            },
            "type": "scattergl"
           }
          ],
          "scattermapbox": [
           {
            "marker": {
             "colorbar": {
              "outlinewidth": 0,
              "ticks": ""
             }
            },
            "type": "scattermapbox"
           }
          ],
          "scatterpolar": [
           {
            "marker": {
             "colorbar": {
              "outlinewidth": 0,
              "ticks": ""
             }
            },
            "type": "scatterpolar"
           }
          ],
          "scatterpolargl": [
           {
            "marker": {
             "colorbar": {
              "outlinewidth": 0,
              "ticks": ""
             }
            },
            "type": "scatterpolargl"
           }
          ],
          "scatterternary": [
           {
            "marker": {
             "colorbar": {
              "outlinewidth": 0,
              "ticks": ""
             }
            },
            "type": "scatterternary"
           }
          ],
          "surface": [
           {
            "colorbar": {
             "outlinewidth": 0,
             "ticks": ""
            },
            "colorscale": [
             [
              0,
              "#0d0887"
             ],
             [
              0.1111111111111111,
              "#46039f"
             ],
             [
              0.2222222222222222,
              "#7201a8"
             ],
             [
              0.3333333333333333,
              "#9c179e"
             ],
             [
              0.4444444444444444,
              "#bd3786"
             ],
             [
              0.5555555555555556,
              "#d8576b"
             ],
             [
              0.6666666666666666,
              "#ed7953"
             ],
             [
              0.7777777777777778,
              "#fb9f3a"
             ],
             [
              0.8888888888888888,
              "#fdca26"
             ],
             [
              1,
              "#f0f921"
             ]
            ],
            "type": "surface"
           }
          ],
          "table": [
           {
            "cells": {
             "fill": {
              "color": "#EBF0F8"
             },
             "line": {
              "color": "white"
             }
            },
            "header": {
             "fill": {
              "color": "#C8D4E3"
             },
             "line": {
              "color": "white"
             }
            },
            "type": "table"
           }
          ]
         },
         "layout": {
          "annotationdefaults": {
           "arrowcolor": "#2a3f5f",
           "arrowhead": 0,
           "arrowwidth": 1
          },
          "autotypenumbers": "strict",
          "coloraxis": {
           "colorbar": {
            "outlinewidth": 0,
            "ticks": ""
           }
          },
          "colorscale": {
           "diverging": [
            [
             0,
             "#8e0152"
            ],
            [
             0.1,
             "#c51b7d"
            ],
            [
             0.2,
             "#de77ae"
            ],
            [
             0.3,
             "#f1b6da"
            ],
            [
             0.4,
             "#fde0ef"
            ],
            [
             0.5,
             "#f7f7f7"
            ],
            [
             0.6,
             "#e6f5d0"
            ],
            [
             0.7,
             "#b8e186"
            ],
            [
             0.8,
             "#7fbc41"
            ],
            [
             0.9,
             "#4d9221"
            ],
            [
             1,
             "#276419"
            ]
           ],
           "sequential": [
            [
             0,
             "#0d0887"
            ],
            [
             0.1111111111111111,
             "#46039f"
            ],
            [
             0.2222222222222222,
             "#7201a8"
            ],
            [
             0.3333333333333333,
             "#9c179e"
            ],
            [
             0.4444444444444444,
             "#bd3786"
            ],
            [
             0.5555555555555556,
             "#d8576b"
            ],
            [
             0.6666666666666666,
             "#ed7953"
            ],
            [
             0.7777777777777778,
             "#fb9f3a"
            ],
            [
             0.8888888888888888,
             "#fdca26"
            ],
            [
             1,
             "#f0f921"
            ]
           ],
           "sequentialminus": [
            [
             0,
             "#0d0887"
            ],
            [
             0.1111111111111111,
             "#46039f"
            ],
            [
             0.2222222222222222,
             "#7201a8"
            ],
            [
             0.3333333333333333,
             "#9c179e"
            ],
            [
             0.4444444444444444,
             "#bd3786"
            ],
            [
             0.5555555555555556,
             "#d8576b"
            ],
            [
             0.6666666666666666,
             "#ed7953"
            ],
            [
             0.7777777777777778,
             "#fb9f3a"
            ],
            [
             0.8888888888888888,
             "#fdca26"
            ],
            [
             1,
             "#f0f921"
            ]
           ]
          },
          "colorway": [
           "#636efa",
           "#EF553B",
           "#00cc96",
           "#ab63fa",
           "#FFA15A",
           "#19d3f3",
           "#FF6692",
           "#B6E880",
           "#FF97FF",
           "#FECB52"
          ],
          "font": {
           "color": "#2a3f5f"
          },
          "geo": {
           "bgcolor": "white",
           "lakecolor": "white",
           "landcolor": "#E5ECF6",
           "showlakes": true,
           "showland": true,
           "subunitcolor": "white"
          },
          "hoverlabel": {
           "align": "left"
          },
          "hovermode": "closest",
          "mapbox": {
           "style": "light"
          },
          "paper_bgcolor": "white",
          "plot_bgcolor": "#E5ECF6",
          "polar": {
           "angularaxis": {
            "gridcolor": "white",
            "linecolor": "white",
            "ticks": ""
           },
           "bgcolor": "#E5ECF6",
           "radialaxis": {
            "gridcolor": "white",
            "linecolor": "white",
            "ticks": ""
           }
          },
          "scene": {
           "xaxis": {
            "backgroundcolor": "#E5ECF6",
            "gridcolor": "white",
            "gridwidth": 2,
            "linecolor": "white",
            "showbackground": true,
            "ticks": "",
            "zerolinecolor": "white"
           },
           "yaxis": {
            "backgroundcolor": "#E5ECF6",
            "gridcolor": "white",
            "gridwidth": 2,
            "linecolor": "white",
            "showbackground": true,
            "ticks": "",
            "zerolinecolor": "white"
           },
           "zaxis": {
            "backgroundcolor": "#E5ECF6",
            "gridcolor": "white",
            "gridwidth": 2,
            "linecolor": "white",
            "showbackground": true,
            "ticks": "",
            "zerolinecolor": "white"
           }
          },
          "shapedefaults": {
           "line": {
            "color": "#2a3f5f"
           }
          },
          "ternary": {
           "aaxis": {
            "gridcolor": "white",
            "linecolor": "white",
            "ticks": ""
           },
           "baxis": {
            "gridcolor": "white",
            "linecolor": "white",
            "ticks": ""
           },
           "bgcolor": "#E5ECF6",
           "caxis": {
            "gridcolor": "white",
            "linecolor": "white",
            "ticks": ""
           }
          },
          "title": {
           "x": 0.05
          },
          "xaxis": {
           "automargin": true,
           "gridcolor": "white",
           "linecolor": "white",
           "ticks": "",
           "title": {
            "standoff": 15
           },
           "zerolinecolor": "white",
           "zerolinewidth": 2
          },
          "yaxis": {
           "automargin": true,
           "gridcolor": "white",
           "linecolor": "white",
           "ticks": "",
           "title": {
            "standoff": 15
           },
           "zerolinecolor": "white",
           "zerolinewidth": 2
          }
         }
        },
        "title": {
         "text": "Parallel Coordinate Plot"
        }
       }
      },
      "image/png": "[encoded data removed]",
      "text/html": [
       "<div>                            <div id=\"818d7a6e-d829-4688-9e46-ffe7bf2b8738\" class=\"plotly-graph-div\" style=\"height:525px; width:100%;\"></div>            <script type=\"text/javascript\">                require([\"plotly\"], function(Plotly) {                    window.PLOTLYENV=window.PLOTLYENV || {};                                    if (document.getElementById(\"818d7a6e-d829-4688-9e46-ffe7bf2b8738\")) {                    Plotly.newPlot(                        \"818d7a6e-d829-4688-9e46-ffe7bf2b8738\",                        [{\"dimensions\":[{\"label\":\"Objective Value\",\"range\":[0.6185992360115051,1.3795373439788818],\"values\":[1.228979468345642,1.3249990940093994,1.3426814079284668,1.313105583190918,1.2894729375839233,1.304099440574646,1.3456109762191772,1.3542375564575195,1.342891812324524,1.294268250465393,1.361785650253296,1.210344672203064,1.319124698638916,1.2389219999313354,1.348663330078125,1.3361306190490723,1.2527742385864258,0.7772930264472961,0.7760496139526367,0.691702127456665,0.6185992360115051,0.6843743920326233,0.7584133744239807,0.7801697254180908,0.7369080781936646,0.744251549243927,0.7353046536445618,0.7556328177452087,0.7407630681991577,0.7552871704101562,0.7485508918762207,0.7379935383796692,0.7020747661590576,0.6617689728736877,0.7434184551239014,0.715858519077301,0.7301933765411377,1.3563650846481323,1.3668559789657593,1.3544729948043823,1.1648985147476196,1.3599932193756104,1.2924590110778809,1.2915735244750977,1.254168152809143,1.3556095361709595,1.3114591836929321,1.3795373439788818,1.3488327264785767,1.2318986654281616,1.3360991477966309,1.358359932899475,1.357972502708435,1.2777248620986938,1.3248088359832764,1.2368369102478027,1.3246277570724487,1.3315757513046265,1.2978733777999878,1.3542231321334839,1.3762811422348022,1.3330857753753662,1.263526439666748,1.2187787294387817,1.2750455141067505,1.3203963041305542,1.3429073095321655,1.3254467248916626,1.3683576583862305,1.3524370193481445,1.356225848197937,1.3453601598739624]},{\"label\":\"batch_size\",\"range\":[0,3],\"ticktext\":[\"16\",\"32\",\"64\",\"128\"],\"tickvals\":[0,1,2,3],\"values\":[0,0,0,0,0,0,0,0,0,0,0,0,0,0,0,0,0,0,0,0,0,0,0,0,0,0,0,0,0,0,0,0,0,0,0,0,0,1,1,1,1,1,1,1,1,1,1,1,1,1,1,2,2,2,2,2,2,2,2,2,2,2,2,2,2,3,3,3,3,3,3,3]},{\"label\":\"learning_rate\",\"range\":[-4.977953864296983,-2.00591075354058],\"ticktext\":[\"1.05e-05\",\"0.0001\",\"0.001\",\"0.00986\"],\"tickvals\":[-4.977953864296983,-4,-3,-2.00591075354058],\"values\":[-2.0340393872372555,-3.8004251056297975,-3.1853976659040804,-2.440035171243592,-2.3579610785406167,-2.0277252114294906,-2.0070446283511503,-2.2507619033026662,-2.844284170710376,-4.127192225398509,-2.15393593030673,-2.310010567887352,-2.3265037526563686,-2.0199225171002992,-4.7407784938316855,-2.3462831178821606,-2.580495574641069,-2.4725367758383805,-2.478735464797432,-2.480384274734246,-2.503111867900182,-2.9637019785764354,-3.031057513707423,-2.957673187072411,-3.2077784551887816,-3.2238572696507366,-3.254631421423796,-3.2640692828917452,-3.27727655707737,-3.6561626752685563,-3.4596788670267142,-3.1534438730887158,-3.1049534469675564,-3.3467420528185987,-3.5725231522573035,-3.429724719323356,-3.3680792998845255,-4.977953864296983,-3.0907446632242017,-3.215232184185675,-2.018065181117405,-2.314406828563745,-2.00591075354058,-2.1651574827880773,-2.1526105251611014,-2.4352456913813936,-2.215528633872802,-2.4172054739639846,-2.6148723181228197,-2.1370590407901964,-2.097554052519505,-4.442318121848137,-2.5266352933414056,-2.7595280552018524,-2.7355943038213524,-2.2052805164314653,-2.17032988449308,-2.7064767193946926,-2.2485798421262695,-3.0301292948505956,-2.6011522586304654,-3.37656760580874,-2.0298104984601757,-2.007368573790953,-2.251272119295189,-3.7782699353844422,-3.6220952054781628,-2.531812727156595,-2.844270380300066,-3.867226767922276,-2.4507590389163822,-2.900106631940489]},{\"label\":\"optimizer\",\"range\":[0,2],\"ticktext\":[\"AdamW\",\"RMSprop\",\"Adam\"],\"tickvals\":[0,1,2],\"values\":[0,1,0,2,2,2,0,0,2,0,0,1,1,1,1,1,1,1,1,1,1,1,1,1,1,1,1,1,1,1,1,1,1,1,1,2,2,0,0,2,0,0,0,0,0,0,0,0,0,1,2,2,2,1,1,1,1,1,1,1,1,1,1,1,1,0,1,1,2,0,0,1]},{\"label\":\"scheduler_gamma\",\"range\":[0.5120486959147923,0.8999388871824024],\"values\":[0.8779571547987657,0.6957361244699702,0.7044347632285725,0.6972949343209021,0.7978399428135922,0.8836366309402724,0.8287221646142715,0.8475862871119112,0.7507914684057193,0.6262036284594238,0.5120486959147923,0.6200554458161821,0.6185096220637641,0.6058756286233252,0.6907983114014618,0.5586158785812726,0.8153200585568235,0.8896554035490103,0.8890372554476113,0.8958432100289305,0.8966127848310197,0.8953912771594152,0.8999388871824024,0.8973663606414188,0.8801506152968979,0.8617868853947707,0.8639925466808119,0.8618259392253742,0.8598990401326997,0.8801317247265821,0.8400933535697734,0.8589203754659571,0.8233267589770252,0.8271443262437126,0.8256537131332881,0.7894206801107001,0.7891006160624068,0.8829018338510742,0.77636362840416,0.8996570818651722,0.6562742837063755,0.6392650064588102,0.6647415644639421,0.593707158997845,0.6660765049031874,0.7205991419801234,0.6690407980150459,0.5903011019709468,0.7185792879236153,0.6732838768158343,0.6929286976544774,0.6970061314109542,0.7892891013996152,0.841788730759274,0.8487705493641933,0.7492781965537264,0.7456455599583587,0.8329619602051199,0.642154774697319,0.7488921406757111,0.8562810483187349,0.8125836079151801,0.8692112767905825,0.8716113026906267,0.7723871004231001,0.6972781516081468,0.8032221166377114,0.5747998286823944,0.5356962922121375,0.6681202926654192,0.5433887772601852,0.6520229007112572]},{\"label\":\"scheduler_step_size\",\"range\":[5,15],\"values\":[14,5,14,6,11,13,9,11,8,13,13,14,7,15,15,14,13,15,15,15,15,15,15,15,14,10,10,10,10,9,9,10,11,11,11,11,11,15,15,11,15,15,15,14,15,13,14,15,14,15,6,12,13,14,14,14,14,15,12,14,12,13,15,15,14,8,11,5,10,12,10,5]},{\"label\":\"weight_decay\",\"range\":[-5.985755071910732,-3.0081951743216933],\"ticktext\":[\"1.03e-06\",\"1e-05\",\"0.0001\",\"0.000981\"],\"tickvals\":[-5.985755071910732,-5,-4,-3.0081951743216933],\"values\":[-4.275587479776553,-3.9186122974557023,-3.51803394034447,-3.6140430886887507,-5.596792460519857,-5.985755071910732,-5.274740671076458,-4.45488640094259,-5.252755948222146,-5.4385049392367275,-3.7421657275481093,-4.064409456737106,-3.4142351114765965,-3.913663671277806,-3.6865240510595587,-4.0270303131586775,-4.623086075983981,-3.9635966038834285,-4.022274012421408,-3.860293857054681,-3.851000036138812,-3.3844021995202684,-3.0884566149116015,-3.0081951743216933,-3.1398515223360497,-3.215181810598035,-3.1575639939084548,-3.226044017577441,-3.2687361020762884,-3.487519813102183,-3.301380463780448,-3.156874977580832,-3.1543990220530698,-3.1417287797719253,-3.386009948910851,-3.5686949896502416,-3.4833903715739947,-3.0718267850103604,-5.636071450137166,-4.8662256431265565,-4.66551274292864,-4.804064881532574,-4.671023938582077,-5.003784357215849,-4.264724797156685,-3.987168293088592,-3.778500777461208,-4.067812311808206,-5.111452557729607,-3.998535416022809,-4.450147977245717,-4.939437604755329,-4.562425399315176,-4.32038819644067,-4.4106802718649645,-4.182624107916798,-4.183084265507052,-4.116944036137824,-4.599566419895208,-3.592844414306901,-3.8304662799698432,-3.314034478027213,-4.258094007235765,-4.2066263886718405,-4.173802046260235,-4.861472592534726,-4.156661281111917,-3.88924900277969,-5.853989732773367,-4.7583196508690975,-4.3722087746186435,-4.5296566505759515]}],\"labelangle\":30,\"labelside\":\"bottom\",\"line\":{\"color\":[1.228979468345642,1.3249990940093994,1.3426814079284668,1.313105583190918,1.2894729375839233,1.304099440574646,1.3456109762191772,1.3542375564575195,1.342891812324524,1.294268250465393,1.361785650253296,1.210344672203064,1.319124698638916,1.2389219999313354,1.348663330078125,1.3361306190490723,1.2527742385864258,0.7772930264472961,0.7760496139526367,0.691702127456665,0.6185992360115051,0.6843743920326233,0.7584133744239807,0.7801697254180908,0.7369080781936646,0.744251549243927,0.7353046536445618,0.7556328177452087,0.7407630681991577,0.7552871704101562,0.7485508918762207,0.7379935383796692,0.7020747661590576,0.6617689728736877,0.7434184551239014,0.715858519077301,0.7301933765411377,1.3563650846481323,1.3668559789657593,1.3544729948043823,1.1648985147476196,1.3599932193756104,1.2924590110778809,1.2915735244750977,1.254168152809143,1.3556095361709595,1.3114591836929321,1.3795373439788818,1.3488327264785767,1.2318986654281616,1.3360991477966309,1.358359932899475,1.357972502708435,1.2777248620986938,1.3248088359832764,1.2368369102478027,1.3246277570724487,1.3315757513046265,1.2978733777999878,1.3542231321334839,1.3762811422348022,1.3330857753753662,1.263526439666748,1.2187787294387817,1.2750455141067505,1.3203963041305542,1.3429073095321655,1.3254467248916626,1.3683576583862305,1.3524370193481445,1.356225848197937,1.3453601598739624],\"colorbar\":{\"title\":{\"text\":\"Objective Value\"}},\"colorscale\":[[0.0,\"rgb(247,251,255)\"],[0.125,\"rgb(222,235,247)\"],[0.25,\"rgb(198,219,239)\"],[0.375,\"rgb(158,202,225)\"],[0.5,\"rgb(107,174,214)\"],[0.625,\"rgb(66,146,198)\"],[0.75,\"rgb(33,113,181)\"],[0.875,\"rgb(8,81,156)\"],[1.0,\"rgb(8,48,107)\"]],\"reversescale\":true,\"showscale\":true},\"type\":\"parcoords\"}],                        {\"title\":{\"text\":\"Parallel Coordinate Plot\"},\"template\":{\"data\":{\"histogram2dcontour\":[{\"type\":\"histogram2dcontour\",\"colorbar\":{\"outlinewidth\":0,\"ticks\":\"\"},\"colorscale\":[[0.0,\"#0d0887\"],[0.1111111111111111,\"#46039f\"],[0.2222222222222222,\"#7201a8\"],[0.3333333333333333,\"#9c179e\"],[0.4444444444444444,\"#bd3786\"],[0.5555555555555556,\"#d8576b\"],[0.6666666666666666,\"#ed7953\"],[0.7777777777777778,\"#fb9f3a\"],[0.8888888888888888,\"#fdca26\"],[1.0,\"#f0f921\"]]}],\"choropleth\":[{\"type\":\"choropleth\",\"colorbar\":{\"outlinewidth\":0,\"ticks\":\"\"}}],\"histogram2d\":[{\"type\":\"histogram2d\",\"colorbar\":{\"outlinewidth\":0,\"ticks\":\"\"},\"colorscale\":[[0.0,\"#0d0887\"],[0.1111111111111111,\"#46039f\"],[0.2222222222222222,\"#7201a8\"],[0.3333333333333333,\"#9c179e\"],[0.4444444444444444,\"#bd3786\"],[0.5555555555555556,\"#d8576b\"],[0.6666666666666666,\"#ed7953\"],[0.7777777777777778,\"#fb9f3a\"],[0.8888888888888888,\"#fdca26\"],[1.0,\"#f0f921\"]]}],\"heatmap\":[{\"type\":\"heatmap\",\"colorbar\":{\"outlinewidth\":0,\"ticks\":\"\"},\"colorscale\":[[0.0,\"#0d0887\"],[0.1111111111111111,\"#46039f\"],[0.2222222222222222,\"#7201a8\"],[0.3333333333333333,\"#9c179e\"],[0.4444444444444444,\"#bd3786\"],[0.5555555555555556,\"#d8576b\"],[0.6666666666666666,\"#ed7953\"],[0.7777777777777778,\"#fb9f3a\"],[0.8888888888888888,\"#fdca26\"],[1.0,\"#f0f921\"]]}],\"heatmapgl\":[{\"type\":\"heatmapgl\",\"colorbar\":{\"outlinewidth\":0,\"ticks\":\"\"},\"colorscale\":[[0.0,\"#0d0887\"],[0.1111111111111111,\"#46039f\"],[0.2222222222222222,\"#7201a8\"],[0.3333333333333333,\"#9c179e\"],[0.4444444444444444,\"#bd3786\"],[0.5555555555555556,\"#d8576b\"],[0.6666666666666666,\"#ed7953\"],[0.7777777777777778,\"#fb9f3a\"],[0.8888888888888888,\"#fdca26\"],[1.0,\"#f0f921\"]]}],\"contourcarpet\":[{\"type\":\"contourcarpet\",\"colorbar\":{\"outlinewidth\":0,\"ticks\":\"\"}}],\"contour\":[{\"type\":\"contour\",\"colorbar\":{\"outlinewidth\":0,\"ticks\":\"\"},\"colorscale\":[[0.0,\"#0d0887\"],[0.1111111111111111,\"#46039f\"],[0.2222222222222222,\"#7201a8\"],[0.3333333333333333,\"#9c179e\"],[0.4444444444444444,\"#bd3786\"],[0.5555555555555556,\"#d8576b\"],[0.6666666666666666,\"#ed7953\"],[0.7777777777777778,\"#fb9f3a\"],[0.8888888888888888,\"#fdca26\"],[1.0,\"#f0f921\"]]}],\"surface\":[{\"type\":\"surface\",\"colorbar\":{\"outlinewidth\":0,\"ticks\":\"\"},\"colorscale\":[[0.0,\"#0d0887\"],[0.1111111111111111,\"#46039f\"],[0.2222222222222222,\"#7201a8\"],[0.3333333333333333,\"#9c179e\"],[0.4444444444444444,\"#bd3786\"],[0.5555555555555556,\"#d8576b\"],[0.6666666666666666,\"#ed7953\"],[0.7777777777777778,\"#fb9f3a\"],[0.8888888888888888,\"#fdca26\"],[1.0,\"#f0f921\"]]}],\"mesh3d\":[{\"type\":\"mesh3d\",\"colorbar\":{\"outlinewidth\":0,\"ticks\":\"\"}}],\"scatter\":[{\"fillpattern\":{\"fillmode\":\"overlay\",\"size\":10,\"solidity\":0.2},\"type\":\"scatter\"}],\"parcoords\":[{\"type\":\"parcoords\",\"line\":{\"colorbar\":{\"outlinewidth\":0,\"ticks\":\"\"}}}],\"scatterpolargl\":[{\"type\":\"scatterpolargl\",\"marker\":{\"colorbar\":{\"outlinewidth\":0,\"ticks\":\"\"}}}],\"bar\":[{\"error_x\":{\"color\":\"#2a3f5f\"},\"error_y\":{\"color\":\"#2a3f5f\"},\"marker\":{\"line\":{\"color\":\"#E5ECF6\",\"width\":0.5},\"pattern\":{\"fillmode\":\"overlay\",\"size\":10,\"solidity\":0.2}},\"type\":\"bar\"}],\"scattergeo\":[{\"type\":\"scattergeo\",\"marker\":{\"colorbar\":{\"outlinewidth\":0,\"ticks\":\"\"}}}],\"scatterpolar\":[{\"type\":\"scatterpolar\",\"marker\":{\"colorbar\":{\"outlinewidth\":0,\"ticks\":\"\"}}}],\"histogram\":[{\"marker\":{\"pattern\":{\"fillmode\":\"overlay\",\"size\":10,\"solidity\":0.2}},\"type\":\"histogram\"}],\"scattergl\":[{\"type\":\"scattergl\",\"marker\":{\"colorbar\":{\"outlinewidth\":0,\"ticks\":\"\"}}}],\"scatter3d\":[{\"type\":\"scatter3d\",\"line\":{\"colorbar\":{\"outlinewidth\":0,\"ticks\":\"\"}},\"marker\":{\"colorbar\":{\"outlinewidth\":0,\"ticks\":\"\"}}}],\"scattermapbox\":[{\"type\":\"scattermapbox\",\"marker\":{\"colorbar\":{\"outlinewidth\":0,\"ticks\":\"\"}}}],\"scatterternary\":[{\"type\":\"scatterternary\",\"marker\":{\"colorbar\":{\"outlinewidth\":0,\"ticks\":\"\"}}}],\"scattercarpet\":[{\"type\":\"scattercarpet\",\"marker\":{\"colorbar\":{\"outlinewidth\":0,\"ticks\":\"\"}}}],\"carpet\":[{\"aaxis\":{\"endlinecolor\":\"#2a3f5f\",\"gridcolor\":\"white\",\"linecolor\":\"white\",\"minorgridcolor\":\"white\",\"startlinecolor\":\"#2a3f5f\"},\"baxis\":{\"endlinecolor\":\"#2a3f5f\",\"gridcolor\":\"white\",\"linecolor\":\"white\",\"minorgridcolor\":\"white\",\"startlinecolor\":\"#2a3f5f\"},\"type\":\"carpet\"}],\"table\":[{\"cells\":{\"fill\":{\"color\":\"#EBF0F8\"},\"line\":{\"color\":\"white\"}},\"header\":{\"fill\":{\"color\":\"#C8D4E3\"},\"line\":{\"color\":\"white\"}},\"type\":\"table\"}],\"barpolar\":[{\"marker\":{\"line\":{\"color\":\"#E5ECF6\",\"width\":0.5},\"pattern\":{\"fillmode\":\"overlay\",\"size\":10,\"solidity\":0.2}},\"type\":\"barpolar\"}],\"pie\":[{\"automargin\":true,\"type\":\"pie\"}]},\"layout\":{\"autotypenumbers\":\"strict\",\"colorway\":[\"#636efa\",\"#EF553B\",\"#00cc96\",\"#ab63fa\",\"#FFA15A\",\"#19d3f3\",\"#FF6692\",\"#B6E880\",\"#FF97FF\",\"#FECB52\"],\"font\":{\"color\":\"#2a3f5f\"},\"hovermode\":\"closest\",\"hoverlabel\":{\"align\":\"left\"},\"paper_bgcolor\":\"white\",\"plot_bgcolor\":\"#E5ECF6\",\"polar\":{\"bgcolor\":\"#E5ECF6\",\"angularaxis\":{\"gridcolor\":\"white\",\"linecolor\":\"white\",\"ticks\":\"\"},\"radialaxis\":{\"gridcolor\":\"white\",\"linecolor\":\"white\",\"ticks\":\"\"}},\"ternary\":{\"bgcolor\":\"#E5ECF6\",\"aaxis\":{\"gridcolor\":\"white\",\"linecolor\":\"white\",\"ticks\":\"\"},\"baxis\":{\"gridcolor\":\"white\",\"linecolor\":\"white\",\"ticks\":\"\"},\"caxis\":{\"gridcolor\":\"white\",\"linecolor\":\"white\",\"ticks\":\"\"}},\"coloraxis\":{\"colorbar\":{\"outlinewidth\":0,\"ticks\":\"\"}},\"colorscale\":{\"sequential\":[[0.0,\"#0d0887\"],[0.1111111111111111,\"#46039f\"],[0.2222222222222222,\"#7201a8\"],[0.3333333333333333,\"#9c179e\"],[0.4444444444444444,\"#bd3786\"],[0.5555555555555556,\"#d8576b\"],[0.6666666666666666,\"#ed7953\"],[0.7777777777777778,\"#fb9f3a\"],[0.8888888888888888,\"#fdca26\"],[1.0,\"#f0f921\"]],\"sequentialminus\":[[0.0,\"#0d0887\"],[0.1111111111111111,\"#46039f\"],[0.2222222222222222,\"#7201a8\"],[0.3333333333333333,\"#9c179e\"],[0.4444444444444444,\"#bd3786\"],[0.5555555555555556,\"#d8576b\"],[0.6666666666666666,\"#ed7953\"],[0.7777777777777778,\"#fb9f3a\"],[0.8888888888888888,\"#fdca26\"],[1.0,\"#f0f921\"]],\"diverging\":[[0,\"#8e0152\"],[0.1,\"#c51b7d\"],[0.2,\"#de77ae\"],[0.3,\"#f1b6da\"],[0.4,\"#fde0ef\"],[0.5,\"#f7f7f7\"],[0.6,\"#e6f5d0\"],[0.7,\"#b8e186\"],[0.8,\"#7fbc41\"],[0.9,\"#4d9221\"],[1,\"#276419\"]]},\"xaxis\":{\"gridcolor\":\"white\",\"linecolor\":\"white\",\"ticks\":\"\",\"title\":{\"standoff\":15},\"zerolinecolor\":\"white\",\"automargin\":true,\"zerolinewidth\":2},\"yaxis\":{\"gridcolor\":\"white\",\"linecolor\":\"white\",\"ticks\":\"\",\"title\":{\"standoff\":15},\"zerolinecolor\":\"white\",\"automargin\":true,\"zerolinewidth\":2},\"scene\":{\"xaxis\":{\"backgroundcolor\":\"#E5ECF6\",\"gridcolor\":\"white\",\"linecolor\":\"white\",\"showbackground\":true,\"ticks\":\"\",\"zerolinecolor\":\"white\",\"gridwidth\":2},\"yaxis\":{\"backgroundcolor\":\"#E5ECF6\",\"gridcolor\":\"white\",\"linecolor\":\"white\",\"showbackground\":true,\"ticks\":\"\",\"zerolinecolor\":\"white\",\"gridwidth\":2},\"zaxis\":{\"backgroundcolor\":\"#E5ECF6\",\"gridcolor\":\"white\",\"linecolor\":\"white\",\"showbackground\":true,\"ticks\":\"\",\"zerolinecolor\":\"white\",\"gridwidth\":2}},\"shapedefaults\":{\"line\":{\"color\":\"#2a3f5f\"}},\"annotationdefaults\":{\"arrowcolor\":\"#2a3f5f\",\"arrowhead\":0,\"arrowwidth\":1},\"geo\":{\"bgcolor\":\"white\",\"landcolor\":\"#E5ECF6\",\"subunitcolor\":\"white\",\"showland\":true,\"showlakes\":true,\"lakecolor\":\"white\"},\"title\":{\"x\":0.05},\"mapbox\":{\"style\":\"light\"}}}},                        {\"responsive\": true}                    ).then(function(){\n",
       "                            \n",
       "var gd = document.getElementById('818d7a6e-d829-4688-9e46-ffe7bf2b8738');\n",
       "var x = new MutationObserver(function (mutations, observer) {{\n",
       "        var display = window.getComputedStyle(gd).display;\n",
       "        if (!display || display === 'none') {{\n",
       "            console.log([gd, 'removed!']);\n",
       "            Plotly.purge(gd);\n",
       "            observer.disconnect();\n",
       "        }}\n",
       "}});\n",
       "\n",
       "// Listen for the removal of the full notebook cells\n",
       "var notebookContainer = gd.closest('#notebook-container');\n",
       "if (notebookContainer) {{\n",
       "    x.observe(notebookContainer, {childList: true});\n",
       "}}\n",
       "\n",
       "// Listen for the clearing of the current output cell\n",
       "var outputEl = gd.closest('.output');\n",
       "if (outputEl) {{\n",
       "    x.observe(outputEl, {childList: true});\n",
       "}}\n",
       "\n",
       "                        })                };                });            </script>        </div>"
      ]
     },
     "metadata": {},
     "output_type": "display_data"
    }
   ],
   "source": [
    "results = run_hyperparameter_tuning(X_train_tensor, train_loader, valid_loader)"
   ]
  },
  {
   "cell_type": "markdown",
   "id": "8151dc23-6dc8-42f8-9a87-ed91d6976175",
   "metadata": {},
   "source": [
    "### U-NET Tuning "
   ]
  },
  {
   "cell_type": "code",
   "execution_count": 267,
   "id": "a65684db-ded8-4483-ad32-f9bc505d2d54",
   "metadata": {},
   "outputs": [],
   "source": [
    "import torch\n",
    "import torch.nn as nn\n",
    "import torch.nn.functional as F\n",
    "\n",
    "class SEBlock(nn.Module):\n",
    "    \"\"\"Squeeze-and-Excitation Block to enhance channel-wise features.\"\"\"\n",
    "    def __init__(self, channels, reduction=16):\n",
    "        super(SEBlock, self).__init__()\n",
    "        self.fc1 = nn.Linear(channels, channels // reduction)\n",
    "        self.fc2 = nn.Linear(channels // reduction, channels)\n",
    "\n",
    "    def forward(self, x):\n",
    "        w = F.adaptive_avg_pool1d(x, 1).squeeze(-1)  # [B, C]\n",
    "        w = F.relu(self.fc1(w))\n",
    "        w = torch.sigmoid(self.fc2(w)).unsqueeze(-1)\n",
    "        return x * w  # Channel-wise attention\n",
    "\n",
    "class UNet1D_Improved(nn.Module):\n",
    "    def __init__(self, input_channels=3, seq_length=23, num_classes=4):\n",
    "        super(UNet1D_Improved, self).__init__()\n",
    "\n",
    "        self.conv1 = nn.Conv1d(input_channels, 32, kernel_size=3, padding=1)\n",
    "        self.bn1 = nn.BatchNorm1d(32)\n",
    "        self.se1 = SEBlock(32)\n",
    "\n",
    "        self.conv2 = nn.Conv1d(32, 64, kernel_size=3, dilation=2, padding=2)  # Dilated Conv\n",
    "        self.bn2 = nn.BatchNorm1d(64)\n",
    "        self.se2 = SEBlock(64)\n",
    "\n",
    "        self.conv3 = nn.Conv1d(64, 128, kernel_size=3, dilation=2, padding=2)\n",
    "        self.bn3 = nn.BatchNorm1d(128)\n",
    "        self.se3 = SEBlock(128)\n",
    "\n",
    "        self.pool = nn.AdaptiveAvgPool1d(1)\n",
    "\n",
    "        self.fc1 = nn.Linear(128, 64)\n",
    "        self.fc2 = nn.Linear(64, num_classes)\n",
    "\n",
    "        self.dropout = nn.Dropout(0.3)\n",
    "\n",
    "    def forward(self, x):\n",
    "        x = x.permute(0, 2, 1)\n",
    "\n",
    "        x = F.relu(self.bn1(self.conv1(x)))\n",
    "        x = self.se1(x)\n",
    "\n",
    "        x = F.relu(self.bn2(self.conv2(x)))\n",
    "        x = self.se2(x)\n",
    "\n",
    "        x = F.relu(self.bn3(self.conv3(x)))\n",
    "        x = self.se3(x)\n",
    "\n",
    "        x = self.pool(x).squeeze(-1)\n",
    "        x = F.relu(self.fc1(x))\n",
    "        x = self.dropout(x)\n",
    "        x = self.fc2(x)\n",
    "\n",
    "        return x"
   ]
  },
  {
   "cell_type": "code",
   "execution_count": 293,
   "id": "216f5e4e-64da-467f-858f-991526543437",
   "metadata": {},
   "outputs": [],
   "source": [
    "from torch.utils.tensorboard import SummaryWriter\n",
    "from sklearn.metrics import balanced_accuracy_score, confusion_matrix\n",
    "\n",
    "class ImbalancedUNetTuner:\n",
    "    def __init__(\n",
    "        self,\n",
    "        train_loader: DataLoader,\n",
    "        valid_loader: DataLoader,\n",
    "        input_channels: int,\n",
    "        seq_length: int,\n",
    "        num_classes: int,\n",
    "        device: torch.device,\n",
    "        checkpoint_dir: str = \"model_checkpoints\",\n",
    "        n_trials: int = 20,\n",
    "        study_name: str = \"unet_focal_loss_optimization\"\n",
    "    ):\n",
    "        self.train_loader = train_loader\n",
    "        self.valid_loader = valid_loader\n",
    "        self.input_channels = input_channels\n",
    "        self.seq_length = seq_length\n",
    "        self.num_classes = num_classes\n",
    "        self.device = device\n",
    "        self.n_trials = n_trials\n",
    "        self.study_name = study_name\n",
    "        \n",
    "        # Initialize checkpointing\n",
    "        self.checkpoint_callback = ModelCheckpoint(\n",
    "            dirpath=checkpoint_dir,\n",
    "            filename_prefix=\"unet_focal\",\n",
    "            monitor='balanced_acc',\n",
    "            mode='max'\n",
    "        )\n",
    "        \n",
    "        # Create TensorBoard logger\n",
    "        self.tensorboard_dir = os.path.join(checkpoint_dir, 'tensorboard_logs')\n",
    "        os.makedirs(self.tensorboard_dir, exist_ok=True)\n",
    "    \n",
    "    def create_model(self, trial: Trial) -> UNet1D_Improved:\n",
    "        # Model architecture hyperparameters\n",
    "        se_reduction = trial.suggest_int(\"se_reduction\", 4, 32)\n",
    "        dropout_rate = trial.suggest_float(\"dropout_rate\", 0.1, 0.5)\n",
    "        initial_channels = trial.suggest_categorical(\"initial_channels\", [16, 32, 64])\n",
    "        dilation_rate = trial.suggest_int(\"dilation_rate\", 1, 4)\n",
    "        \n",
    "        model = UNet1D_Improved(\n",
    "            input_channels=self.input_channels,\n",
    "            seq_length=self.seq_length,\n",
    "            num_classes=self.num_classes\n",
    "        )\n",
    "        return model.to(self.device)\n",
    "    \n",
    "    def create_criterion(self, config):\n",
    "        return FocalLoss()\n",
    "    \n",
    "    def create_optimizer(self, model, config):\n",
    "        optimizers = {\n",
    "            \"Adam\": lambda params, lr, wd: torch.optim.Adam(\n",
    "                params, lr=lr, weight_decay=wd, eps=1e-7\n",
    "            ),\n",
    "            \"AdamW\": lambda params, lr, wd: torch.optim.AdamW(\n",
    "                params, lr=lr, weight_decay=wd, eps=1e-7\n",
    "            )\n",
    "        }\n",
    "        \n",
    "        return optimizers[config[\"optimizer_name\"]](\n",
    "            model.parameters(),\n",
    "            lr=config[\"learning_rate\"],\n",
    "            wd=config[\"weight_decay\"]\n",
    "        )\n",
    "\n",
    "    def train_epoch(self, model, optimizer, criterion, scheduler):\n",
    "        \"\"\"Run one training epoch\"\"\"\n",
    "        model.train()\n",
    "        total_loss = 0.0\n",
    "        num_batches = len(self.train_loader)\n",
    "        \n",
    "        for i, (X_batch, y_batch) in enumerate(self.train_loader):\n",
    "            X_batch, y_batch = X_batch.to(self.device), y_batch.to(self.device)\n",
    "            \n",
    "            # Forward pass\n",
    "            optimizer.zero_grad()\n",
    "            outputs = model(X_batch)\n",
    "            loss = criterion(outputs, y_batch)\n",
    "            \n",
    "            # Backward pass\n",
    "            loss.backward()\n",
    "            torch.nn.utils.clip_grad_norm_(model.parameters(), max_norm=1.0)\n",
    "            optimizer.step()\n",
    "            scheduler.step()\n",
    "            \n",
    "            # Accumulate loss\n",
    "            total_loss += loss.item()\n",
    "            \n",
    "        return total_loss / num_batches\n",
    "\n",
    "    def validate_epoch(self, model, criterion):\n",
    "        \"\"\"Run one validation epoch\"\"\"\n",
    "        model.eval()\n",
    "        total_loss = 0.0\n",
    "        all_predictions = []\n",
    "        all_targets = []\n",
    "        num_batches = len(self.valid_loader)\n",
    "        \n",
    "        with torch.no_grad():\n",
    "            for X_batch, y_batch in self.valid_loader:\n",
    "                X_batch, y_batch = X_batch.to(self.device), y_batch.to(self.device)\n",
    "                \n",
    "                # Forward pass\n",
    "                outputs = model(X_batch)\n",
    "                loss = criterion(outputs, y_batch)\n",
    "                \n",
    "                # Store predictions and targets for metrics\n",
    "                predictions = outputs.argmax(dim=1)\n",
    "                all_predictions.extend(predictions.cpu().numpy())\n",
    "                all_targets.extend(y_batch.cpu().numpy())\n",
    "                \n",
    "                # Accumulate loss\n",
    "                total_loss += loss.item()\n",
    "        \n",
    "        # Calculate metrics\n",
    "        balanced_acc = balanced_accuracy_score(all_targets, all_predictions)\n",
    "        confusion_mat = confusion_matrix(all_targets, all_predictions)\n",
    "        \n",
    "        return total_loss / num_batches, balanced_acc, confusion_mat\n",
    "\n",
    "    def plot_confusion_matrix(self, confusion_mat):\n",
    "        \"\"\"Plot confusion matrix using seaborn\"\"\"\n",
    "        plt.figure(figsize=(10, 8))\n",
    "        sns.heatmap(confusion_mat, annot=True, fmt='d', cmap='Blues')\n",
    "        plt.xlabel('Predicted')\n",
    "        plt.ylabel('True')\n",
    "        return plt.gcf()\n",
    "\n",
    "    def save_model(self, model, trial_number, balanced_acc):\n",
    "        \"\"\"Save model checkpoint\"\"\"\n",
    "        checkpoint_path = os.path.join(\n",
    "            self.checkpoint_dir, \n",
    "            f'model_trial_{trial_number}_acc_{balanced_acc:.4f}.pt'\n",
    "        )\n",
    "        torch.save({\n",
    "            'model_state_dict': model.state_dict(),\n",
    "            'balanced_acc': balanced_acc,\n",
    "            'trial_number': trial_number\n",
    "        }, checkpoint_path)\n",
    "\n",
    "    def load_best_model(self):\n",
    "        \"\"\"Load the best model from checkpoints\"\"\"\n",
    "        best_model_path = os.path.join(self.checkpoint_callback.dirpath, \"unet_focal_best.pth\")\n",
    "        if os.path.exists(best_model_path):\n",
    "            checkpoint = torch.load(best_model_path)\n",
    "            model = UNet1D_Improved(\n",
    "                input_channels=self.input_channels,\n",
    "                seq_length=self.seq_length,\n",
    "                num_classes=self.num_classes\n",
    "            ).to(self.device)\n",
    "            model.load_state_dict(checkpoint['model_state_dict'])\n",
    "            return model, checkpoint['trial_params'], checkpoint['score']\n",
    "        else:\n",
    "            raise FileNotFoundError(\"No best model checkpoint found\")\n",
    "    \n",
    "    def create_scheduler(self, optimizer, config):\n",
    "        return torch.optim.lr_scheduler.OneCycleLR(\n",
    "            optimizer,\n",
    "            max_lr=config[\"learning_rate\"],\n",
    "            epochs=30,\n",
    "            steps_per_epoch=len(self.train_loader),\n",
    "            pct_start=0.3,\n",
    "            div_factor=25.0,\n",
    "            final_div_factor=1e4\n",
    "        )\n",
    "    \n",
    "    def objective(self, trial: Trial) -> float:\n",
    "        writer = SummaryWriter(os.path.join(self.tensorboard_dir, f'trial_{trial.number}'))\n",
    "        \n",
    "        # Hyperparameter search space\n",
    "        config = {\n",
    "            \"learning_rate\": trial.suggest_float(\"learning_rate\", 1e-4, 1e-2, log=True),\n",
    "            \"weight_decay\": trial.suggest_float(\"weight_decay\", 1e-5, 1e-3, log=True),\n",
    "            \"batch_size\": trial.suggest_categorical(\"batch_size\", [16, 32, 64]),\n",
    "            \"optimizer_name\": trial.suggest_categorical(\"optimizer\", [\"Adam\", \"AdamW\"]),\n",
    "        }\n",
    "        \n",
    "        model = self.create_model(trial)\n",
    "        optimizer = self.create_optimizer(model, config)\n",
    "        scheduler = self.create_scheduler(optimizer, config)\n",
    "        criterion = self.create_criterion(config)\n",
    "        \n",
    "        best_balanced_acc = 0.0\n",
    "        patience = 7  # Increased patience for better convergence\n",
    "        patience_counter = 0\n",
    "        \n",
    "        for epoch in range(30):\n",
    "            # Training phase\n",
    "            train_loss = self.train_epoch(model, optimizer, criterion, scheduler)\n",
    "            \n",
    "            # Validation phase\n",
    "            val_loss, balanced_acc, confusion_mat = self.validate_epoch(model, criterion)\n",
    "            \n",
    "            # Log metrics\n",
    "            writer.add_scalar('Loss/train', train_loss, epoch)\n",
    "            writer.add_scalar('Loss/validation', val_loss, epoch)\n",
    "            writer.add_scalar('Metrics/balanced_accuracy', balanced_acc, epoch)\n",
    "            \n",
    "            # Log confusion matrix periodically\n",
    "            if epoch % 5 == 0:\n",
    "                fig = self.plot_confusion_matrix(confusion_mat)\n",
    "                writer.add_figure('Confusion Matrix', fig, epoch)\n",
    "                plt.close(fig)\n",
    "            \n",
    "            # Handle checkpointing\n",
    "            if self.checkpoint_callback.update(balanced_acc, model, trial.number, config):\n",
    "                best_balanced_acc = balanced_acc\n",
    "                patience_counter = 0\n",
    "            else:\n",
    "                patience_counter += 1\n",
    "            \n",
    "            # Early stopping\n",
    "            if patience_counter >= patience:\n",
    "                break\n",
    "            \n",
    "            trial.report(-balanced_acc, epoch)\n",
    "            if trial.should_prune():\n",
    "                writer.close()\n",
    "                raise optuna.TrialPruned()\n",
    "        \n",
    "        writer.close()\n",
    "        return -best_balanced_acc\n",
    "\n",
    "    def run_study(self):\n",
    "        study = optuna.create_study(\n",
    "            study_name=self.study_name,\n",
    "            direction=\"minimize\",\n",
    "            pruner=optuna.pruners.MedianPruner(n_startup_trials=5)\n",
    "        )\n",
    "        \n",
    "        study.optimize(self.objective, n_trials=self.n_trials)\n",
    "        \n",
    "        # Print results\n",
    "        print(\"\\nBest trial:\")\n",
    "        trial = study.best_trial\n",
    "        print(f\"Balanced Accuracy: {-trial.value:.4f}\")\n",
    "        print(\"\\nBest hyperparameters:\")\n",
    "        for param, value in trial.params.items():\n",
    "            print(f\"{param}: {value}\")\n",
    "        \n",
    "        return study\n"
   ]
  },
  {
   "cell_type": "code",
   "execution_count": 295,
   "id": "285343e4-5a76-478b-8a55-d6fd4beea160",
   "metadata": {},
   "outputs": [],
   "source": [
    "# Usage example\n",
    "def run_unet_focal_tuning(\n",
    "    train_loader, \n",
    "    valid_loader, \n",
    "    input_channels, \n",
    "    seq_length, \n",
    "    num_classes, \n",
    "    device,\n",
    "    checkpoint_dir=\"model_checkpoints\"\n",
    "):\n",
    "    tuner = ImbalancedUNetTuner(\n",
    "        train_loader=train_loader,\n",
    "        valid_loader=valid_loader,\n",
    "        input_channels=input_channels,\n",
    "        seq_length=seq_length,\n",
    "        num_classes=num_classes,\n",
    "        device=device,\n",
    "        checkpoint_dir=checkpoint_dir,\n",
    "        n_trials=20\n",
    "    )\n",
    "    \n",
    "    study = tuner.run_study()\n",
    "    \n",
    "    # Load best model\n",
    "    best_model, best_params, best_score = tuner.load_best_model()\n",
    "    \n",
    "    return {\n",
    "        \"study\": study,\n",
    "        \"best_model\": best_model,\n",
    "        \"best_params\": best_params,\n",
    "        \"best_score\": best_score\n",
    "    }"
   ]
  },
  {
   "cell_type": "code",
   "execution_count": 297,
   "id": "5f2b3cbc-7389-482c-ae67-432128f8a9e7",
   "metadata": {},
   "outputs": [
    {
     "name": "stderr",
     "output_type": "stream",
     "text": [
      "[I 2025-02-09 12:23:26,914] A new study created in memory with name: unet_focal_loss_optimization\n",
      "[I 2025-02-09 12:24:53,336] Trial 0 finished with value: -0.28232109758694546 and parameters: {'learning_rate': 0.0025106912081889828, 'weight_decay': 0.00010750072867778556, 'batch_size': 64, 'optimizer': 'Adam', 'se_reduction': 26, 'dropout_rate': 0.38807547669399345, 'initial_channels': 32, 'dilation_rate': 2}. Best is trial 0 with value: -0.28232109758694546.\n",
      "[I 2025-02-09 12:26:00,552] Trial 1 finished with value: -0.2843787521278853 and parameters: {'learning_rate': 0.0006169042838943542, 'weight_decay': 0.00010551331566353282, 'batch_size': 64, 'optimizer': 'Adam', 'se_reduction': 9, 'dropout_rate': 0.4734019454205324, 'initial_channels': 32, 'dilation_rate': 2}. Best is trial 1 with value: -0.2843787521278853.\n",
      "[I 2025-02-09 12:26:37,480] Trial 2 finished with value: -0.0 and parameters: {'learning_rate': 0.00016061695353599765, 'weight_decay': 5.35760424009688e-05, 'batch_size': 16, 'optimizer': 'Adam', 'se_reduction': 13, 'dropout_rate': 0.1127717522019629, 'initial_channels': 16, 'dilation_rate': 3}. Best is trial 1 with value: -0.2843787521278853.\n",
      "[I 2025-02-09 12:27:14,059] Trial 3 finished with value: -0.0 and parameters: {'learning_rate': 0.0008475042973555623, 'weight_decay': 0.000876380396001305, 'batch_size': 16, 'optimizer': 'Adam', 'se_reduction': 20, 'dropout_rate': 0.47198948445478195, 'initial_channels': 64, 'dilation_rate': 1}. Best is trial 1 with value: -0.2843787521278853.\n",
      "[I 2025-02-09 12:27:50,719] Trial 4 finished with value: -0.0 and parameters: {'learning_rate': 0.00011714596505671822, 'weight_decay': 2.797481892940697e-05, 'batch_size': 32, 'optimizer': 'Adam', 'se_reduction': 8, 'dropout_rate': 0.24472522356705292, 'initial_channels': 64, 'dilation_rate': 3}. Best is trial 1 with value: -0.2843787521278853.\n",
      "[I 2025-02-09 12:28:26,914] Trial 5 finished with value: -0.0 and parameters: {'learning_rate': 0.0035286439521975154, 'weight_decay': 1.2085116174499855e-05, 'batch_size': 64, 'optimizer': 'AdamW', 'se_reduction': 19, 'dropout_rate': 0.4704906932056293, 'initial_channels': 64, 'dilation_rate': 2}. Best is trial 1 with value: -0.2843787521278853.\n",
      "[I 2025-02-09 12:28:32,537] Trial 6 pruned. \n",
      "[I 2025-02-09 12:28:37,644] Trial 7 pruned. \n",
      "[I 2025-02-09 12:28:48,190] Trial 8 pruned. \n",
      "[I 2025-02-09 12:28:53,624] Trial 9 pruned. \n",
      "[I 2025-02-09 12:28:58,945] Trial 10 pruned. \n",
      "[I 2025-02-09 12:29:04,452] Trial 11 pruned. \n",
      "[I 2025-02-09 12:29:09,669] Trial 12 pruned. \n",
      "[I 2025-02-09 12:29:15,081] Trial 13 pruned. \n",
      "[I 2025-02-09 12:29:20,332] Trial 14 pruned. \n",
      "[I 2025-02-09 12:29:57,607] Trial 15 finished with value: -0.0 and parameters: {'learning_rate': 0.0004732035851627837, 'weight_decay': 3.0894888080076626e-05, 'batch_size': 64, 'optimizer': 'Adam', 'se_reduction': 32, 'dropout_rate': 0.41527434429320476, 'initial_channels': 32, 'dilation_rate': 2}. Best is trial 1 with value: -0.2843787521278853.\n",
      "[I 2025-02-09 12:30:02,886] Trial 16 pruned. \n",
      "[I 2025-02-09 12:30:08,136] Trial 17 pruned. \n",
      "[I 2025-02-09 12:30:43,703] Trial 18 finished with value: -0.0 and parameters: {'learning_rate': 0.002797594906509447, 'weight_decay': 2.966602886441649e-05, 'batch_size': 64, 'optimizer': 'AdamW', 'se_reduction': 10, 'dropout_rate': 0.43398755371232184, 'initial_channels': 16, 'dilation_rate': 3}. Best is trial 1 with value: -0.2843787521278853.\n",
      "[I 2025-02-09 12:31:20,638] Trial 19 finished with value: -0.0 and parameters: {'learning_rate': 0.0052367640650602945, 'weight_decay': 5.871564566124508e-05, 'batch_size': 64, 'optimizer': 'Adam', 'se_reduction': 16, 'dropout_rate': 0.18988914769975618, 'initial_channels': 32, 'dilation_rate': 1}. Best is trial 1 with value: -0.2843787521278853.\n"
     ]
    },
    {
     "name": "stdout",
     "output_type": "stream",
     "text": [
      "\n",
      "Best trial:\n",
      "Balanced Accuracy: 0.2844\n",
      "\n",
      "Best hyperparameters:\n",
      "learning_rate: 0.0006169042838943542\n",
      "weight_decay: 0.00010551331566353282\n",
      "batch_size: 64\n",
      "optimizer: Adam\n",
      "se_reduction: 9\n",
      "dropout_rate: 0.4734019454205324\n",
      "initial_channels: 32\n",
      "dilation_rate: 2\n"
     ]
    },
    {
     "name": "stderr",
     "output_type": "stream",
     "text": [
      "/var/folders/6s/pmgl89tn2bz6y4blfg2jymbh0000gn/T/ipykernel_26697/3347232833.py:150: FutureWarning:\n",
      "\n",
      "You are using `torch.load` with `weights_only=False` (the current default value), which uses the default pickle module implicitly. It is possible to construct malicious pickle data which will execute arbitrary code during unpickling (See https://github.com/pytorch/pytorch/blob/main/SECURITY.md#untrusted-models for more details). In a future release, the default value for `weights_only` will be flipped to `True`. This limits the functions that could be executed during unpickling. Arbitrary objects will no longer be allowed to be loaded via this mode unless they are explicitly allowlisted by the user via `torch.serialization.add_safe_globals`. We recommend you start setting `weights_only=True` for any use case where you don't have full control of the loaded file. Please open an issue on GitHub for any issues related to this experimental feature.\n",
      "\n"
     ]
    }
   ],
   "source": [
    "unet_results = run_unet_focal_tuning(\n",
    "    train_loader=train_loader,\n",
    "    valid_loader=valid_loader,\n",
    "    input_channels=3,\n",
    "    seq_length=23,\n",
    "    num_classes=4,\n",
    "    device=device,\n",
    "    checkpoint_dir=\"model_checkpoints\"\n",
    ")"
   ]
  },
  {
   "cell_type": "code",
   "execution_count": 364,
   "id": "aa27e080-4d9e-4f9e-9732-481c37371999",
   "metadata": {},
   "outputs": [
    {
     "data": {
      "text/plain": [
       "{'study': <optuna.study.study.Study at 0x38cfb9db0>,\n",
       " 'best_model': UNet1D_Improved(\n",
       "   (conv1): Conv1d(3, 32, kernel_size=(3,), stride=(1,), padding=(1,))\n",
       "   (bn1): BatchNorm1d(32, eps=1e-05, momentum=0.1, affine=True, track_running_stats=True)\n",
       "   (se1): SEBlock(\n",
       "     (fc1): Linear(in_features=32, out_features=2, bias=True)\n",
       "     (fc2): Linear(in_features=2, out_features=32, bias=True)\n",
       "   )\n",
       "   (conv2): Conv1d(32, 64, kernel_size=(3,), stride=(1,), padding=(2,), dilation=(2,))\n",
       "   (bn2): BatchNorm1d(64, eps=1e-05, momentum=0.1, affine=True, track_running_stats=True)\n",
       "   (se2): SEBlock(\n",
       "     (fc1): Linear(in_features=64, out_features=4, bias=True)\n",
       "     (fc2): Linear(in_features=4, out_features=64, bias=True)\n",
       "   )\n",
       "   (conv3): Conv1d(64, 128, kernel_size=(3,), stride=(1,), padding=(2,), dilation=(2,))\n",
       "   (bn3): BatchNorm1d(128, eps=1e-05, momentum=0.1, affine=True, track_running_stats=True)\n",
       "   (se3): SEBlock(\n",
       "     (fc1): Linear(in_features=128, out_features=8, bias=True)\n",
       "     (fc2): Linear(in_features=8, out_features=128, bias=True)\n",
       "   )\n",
       "   (pool): AdaptiveAvgPool1d(output_size=1)\n",
       "   (fc1): Linear(in_features=128, out_features=64, bias=True)\n",
       "   (fc2): Linear(in_features=64, out_features=4, bias=True)\n",
       "   (dropout): Dropout(p=0.3, inplace=False)\n",
       " ),\n",
       " 'best_params': {'learning_rate': 0.0006169042838943542,\n",
       "  'weight_decay': 0.00010551331566353282,\n",
       "  'batch_size': 64,\n",
       "  'optimizer_name': 'Adam'},\n",
       " 'best_score': 0.2843787521278853}"
      ]
     },
     "execution_count": 364,
     "metadata": {},
     "output_type": "execute_result"
    }
   ],
   "source": [
    "unet_results"
   ]
  },
  {
   "cell_type": "code",
   "execution_count": null,
   "id": "f825b684-055c-47fa-8e59-1e8515047ccb",
   "metadata": {},
   "outputs": [],
   "source": []
  }
 ],
 "metadata": {
  "kernelspec": {
   "display_name": "Python (geoai)",
   "language": "python",
   "name": "geoai"
  },
  "language_info": {
   "codemirror_mode": {
    "name": "ipython",
    "version": 3
   },
   "file_extension": ".py",
   "mimetype": "text/x-python",
   "name": "python",
   "nbconvert_exporter": "python",
   "pygments_lexer": "ipython3",
   "version": "3.10.16"
  }
 },
 "nbformat": 4,
 "nbformat_minor": 5
}
