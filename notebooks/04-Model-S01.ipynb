{
 "cells": [
  {
   "cell_type": "markdown",
   "id": "a31cea5a-69f7-40dd-b95a-891cda10114b",
   "metadata": {},
   "source": [
    "## Final Model developement "
   ]
  },
  {
   "cell_type": "code",
   "execution_count": 2,
   "id": "00c7ac4b-e567-43df-9793-29fb9dff966f",
   "metadata": {},
   "outputs": [],
   "source": [
    "# Import packages \n",
    "import os \n",
    "import numpy as np\n",
    "import pandas as pd\n",
    "import xarray as xr\n",
    "os.chdir('/Users/kaushalk/Desktop/open_projects/Telengana_Crop_Health/')\n",
    "# Add the 'src' directory to the Python path\n",
    "from src.process_data import compute_indices_for_df, prepare_model_data\n",
    "from src.visualize import plot_numerical_distributions, plot_confusion_matrix\n",
    "\n",
    "from sklearn.model_selection import StratifiedKFold, train_test_split\n",
    "from sklearn.metrics import classification_report, f1_score, make_scorer\n",
    "from lightgbm import LGBMClassifier\n",
    "from catboost import CatBoostClassifier\n",
    "\n",
    "import matplotlib.pyplot as plt\n",
    "import seaborn as sns\n",
    "from sklearn.metrics import confusion_matrix\n",
    "from sklearn.model_selection import GridSearchCV\n",
    "\n",
    "from imblearn.over_sampling import SMOTE\n",
    "from imblearn.combine import SMOTETomek\n",
    "from sklearn.cluster import KMeans\n",
    "from imblearn.over_sampling import KMeansSMOTE\n",
    "from imblearn.ensemble import BalancedRandomForestClassifier"
   ]
  },
  {
   "cell_type": "markdown",
   "id": "9b05babd-1214-494e-a580-dbc5ef1ae1f4",
   "metadata": {},
   "source": [
    "### Data Collection & prepration"
   ]
  },
  {
   "cell_type": "code",
   "execution_count": 5,
   "id": "3bb39247-2034-458a-8a5f-00038c2553d8",
   "metadata": {},
   "outputs": [
    {
     "data": {
      "text/html": [
       "<div>\n",
       "<style scoped>\n",
       "    .dataframe tbody tr th:only-of-type {\n",
       "        vertical-align: middle;\n",
       "    }\n",
       "\n",
       "    .dataframe tbody tr th {\n",
       "        vertical-align: top;\n",
       "    }\n",
       "\n",
       "    .dataframe thead th {\n",
       "        text-align: right;\n",
       "    }\n",
       "</style>\n",
       "<table border=\"1\" class=\"dataframe\">\n",
       "  <thead>\n",
       "    <tr style=\"text-align: right;\">\n",
       "      <th></th>\n",
       "      <th>FarmID</th>\n",
       "      <th>category</th>\n",
       "      <th>Crop</th>\n",
       "      <th>State</th>\n",
       "      <th>District</th>\n",
       "      <th>Sub-District</th>\n",
       "      <th>SDate</th>\n",
       "      <th>HDate</th>\n",
       "      <th>CropCoveredArea</th>\n",
       "      <th>CHeight</th>\n",
       "      <th>...</th>\n",
       "      <th>tif_path</th>\n",
       "      <th>NDVI</th>\n",
       "      <th>EVI</th>\n",
       "      <th>NDWI</th>\n",
       "      <th>GNDVI</th>\n",
       "      <th>SAVI</th>\n",
       "      <th>MSAVI</th>\n",
       "      <th>MoistureIndex</th>\n",
       "      <th>NDRE</th>\n",
       "      <th>CCCI</th>\n",
       "    </tr>\n",
       "  </thead>\n",
       "  <tbody>\n",
       "    <tr>\n",
       "      <th>0</th>\n",
       "      <td>1326576</td>\n",
       "      <td>Healthy</td>\n",
       "      <td>Paddy</td>\n",
       "      <td>Telangana</td>\n",
       "      <td>Medak</td>\n",
       "      <td>Kulcharam</td>\n",
       "      <td>2023-11-25 0:00:00</td>\n",
       "      <td>2024-04-14 0:00:00</td>\n",
       "      <td>97</td>\n",
       "      <td>54</td>\n",
       "      <td>...</td>\n",
       "      <td>data/raw/gee_downloads_train//20240412T050649_...</td>\n",
       "      <td>0.103244</td>\n",
       "      <td>0.169276</td>\n",
       "      <td>-0.137874</td>\n",
       "      <td>0.137874</td>\n",
       "      <td>0.093438</td>\n",
       "      <td>0.089909</td>\n",
       "      <td>0.095105</td>\n",
       "      <td>0.004241</td>\n",
       "      <td>-0.146658</td>\n",
       "    </tr>\n",
       "    <tr>\n",
       "      <th>1</th>\n",
       "      <td>1326577</td>\n",
       "      <td>Healthy</td>\n",
       "      <td>Paddy</td>\n",
       "      <td>Telangana</td>\n",
       "      <td>Medak</td>\n",
       "      <td>Kulcharam</td>\n",
       "      <td>2023-11-13 0:00:00</td>\n",
       "      <td>2024-04-26 0:00:00</td>\n",
       "      <td>82</td>\n",
       "      <td>58</td>\n",
       "      <td>...</td>\n",
       "      <td>data/raw/gee_downloads_train//20240425T051649_...</td>\n",
       "      <td>0.196182</td>\n",
       "      <td>0.359014</td>\n",
       "      <td>-0.191513</td>\n",
       "      <td>0.191513</td>\n",
       "      <td>0.157596</td>\n",
       "      <td>0.146604</td>\n",
       "      <td>-0.032861</td>\n",
       "      <td>0.005505</td>\n",
       "      <td>0.027249</td>\n",
       "    </tr>\n",
       "    <tr>\n",
       "      <th>2</th>\n",
       "      <td>1326578</td>\n",
       "      <td>Healthy</td>\n",
       "      <td>Paddy</td>\n",
       "      <td>Telangana</td>\n",
       "      <td>Medak</td>\n",
       "      <td>Kulcharam</td>\n",
       "      <td>2023-12-19 0:00:00</td>\n",
       "      <td>2024-04-28 0:00:00</td>\n",
       "      <td>92</td>\n",
       "      <td>91</td>\n",
       "      <td>...</td>\n",
       "      <td>data/raw/gee_downloads_train//20240427T050651_...</td>\n",
       "      <td>0.206604</td>\n",
       "      <td>0.375025</td>\n",
       "      <td>-0.207168</td>\n",
       "      <td>0.207168</td>\n",
       "      <td>0.173276</td>\n",
       "      <td>0.163626</td>\n",
       "      <td>-0.032272</td>\n",
       "      <td>0.013724</td>\n",
       "      <td>0.065676</td>\n",
       "    </tr>\n",
       "    <tr>\n",
       "      <th>3</th>\n",
       "      <td>1331836</td>\n",
       "      <td>Diseased</td>\n",
       "      <td>Paddy</td>\n",
       "      <td>Telangana</td>\n",
       "      <td>Medak</td>\n",
       "      <td>Kulcharam</td>\n",
       "      <td>2023-02-11 0:00:00</td>\n",
       "      <td>2024-11-04 0:00:00</td>\n",
       "      <td>91</td>\n",
       "      <td>52</td>\n",
       "      <td>...</td>\n",
       "      <td>data/raw/gee_downloads_train//20241103T050951_...</td>\n",
       "      <td>0.205601</td>\n",
       "      <td>0.314560</td>\n",
       "      <td>-0.219299</td>\n",
       "      <td>0.219299</td>\n",
       "      <td>0.171823</td>\n",
       "      <td>0.162070</td>\n",
       "      <td>0.019914</td>\n",
       "      <td>0.012624</td>\n",
       "      <td>0.059579</td>\n",
       "    </tr>\n",
       "    <tr>\n",
       "      <th>4</th>\n",
       "      <td>1326579</td>\n",
       "      <td>Diseased</td>\n",
       "      <td>Paddy</td>\n",
       "      <td>Telangana</td>\n",
       "      <td>Medak</td>\n",
       "      <td>Kulcharam</td>\n",
       "      <td>2023-12-12 0:00:00</td>\n",
       "      <td>2024-05-19 0:00:00</td>\n",
       "      <td>94</td>\n",
       "      <td>55</td>\n",
       "      <td>...</td>\n",
       "      <td>data/raw/gee_downloads_train//20240517T050651_...</td>\n",
       "      <td>0.204152</td>\n",
       "      <td>0.689947</td>\n",
       "      <td>-0.185398</td>\n",
       "      <td>0.185398</td>\n",
       "      <td>0.185018</td>\n",
       "      <td>0.179114</td>\n",
       "      <td>-0.078713</td>\n",
       "      <td>0.026941</td>\n",
       "      <td>0.129725</td>\n",
       "    </tr>\n",
       "  </tbody>\n",
       "</table>\n",
       "<p>5 rows × 30 columns</p>\n",
       "</div>"
      ],
      "text/plain": [
       "    FarmID  category   Crop      State District Sub-District  \\\n",
       "0  1326576   Healthy  Paddy  Telangana    Medak    Kulcharam   \n",
       "1  1326577   Healthy  Paddy  Telangana    Medak    Kulcharam   \n",
       "2  1326578   Healthy  Paddy  Telangana    Medak    Kulcharam   \n",
       "3  1331836  Diseased  Paddy  Telangana    Medak    Kulcharam   \n",
       "4  1326579  Diseased  Paddy  Telangana    Medak    Kulcharam   \n",
       "\n",
       "                SDate               HDate  CropCoveredArea  CHeight  ...  \\\n",
       "0  2023-11-25 0:00:00  2024-04-14 0:00:00               97       54  ...   \n",
       "1  2023-11-13 0:00:00  2024-04-26 0:00:00               82       58  ...   \n",
       "2  2023-12-19 0:00:00  2024-04-28 0:00:00               92       91  ...   \n",
       "3  2023-02-11 0:00:00  2024-11-04 0:00:00               91       52  ...   \n",
       "4  2023-12-12 0:00:00  2024-05-19 0:00:00               94       55  ...   \n",
       "\n",
       "                                            tif_path      NDVI       EVI  \\\n",
       "0  data/raw/gee_downloads_train//20240412T050649_...  0.103244  0.169276   \n",
       "1  data/raw/gee_downloads_train//20240425T051649_...  0.196182  0.359014   \n",
       "2  data/raw/gee_downloads_train//20240427T050651_...  0.206604  0.375025   \n",
       "3  data/raw/gee_downloads_train//20241103T050951_...  0.205601  0.314560   \n",
       "4  data/raw/gee_downloads_train//20240517T050651_...  0.204152  0.689947   \n",
       "\n",
       "       NDWI     GNDVI      SAVI     MSAVI  MoistureIndex      NDRE      CCCI  \n",
       "0 -0.137874  0.137874  0.093438  0.089909       0.095105  0.004241 -0.146658  \n",
       "1 -0.191513  0.191513  0.157596  0.146604      -0.032861  0.005505  0.027249  \n",
       "2 -0.207168  0.207168  0.173276  0.163626      -0.032272  0.013724  0.065676  \n",
       "3 -0.219299  0.219299  0.171823  0.162070       0.019914  0.012624  0.059579  \n",
       "4 -0.185398  0.185398  0.185018  0.179114      -0.078713  0.026941  0.129725  \n",
       "\n",
       "[5 rows x 30 columns]"
      ]
     },
     "execution_count": 5,
     "metadata": {},
     "output_type": "execute_result"
    }
   ],
   "source": [
    "## Collect data \n",
    "## Model Training data\n",
    "df = pd.read_csv('data/processed/training_s2_indices.csv', index_col=0)\n",
    "df.head()"
   ]
  },
  {
   "cell_type": "code",
   "execution_count": 7,
   "id": "b7085eb8-a19e-4ead-8a9a-1a42117f110f",
   "metadata": {},
   "outputs": [
    {
     "data": {
      "text/plain": [
       "{0: 'Healthy', 1: 'Diseased', 2: 'Pests', 3: 'Stressed'}"
      ]
     },
     "execution_count": 7,
     "metadata": {},
     "output_type": "execute_result"
    }
   ],
   "source": [
    "# categorical data transformation \n",
    "category_mapper = {label: idx for idx, label in enumerate(df['category'].unique()) if pd.notna(label)}\n",
    "idx_to_category_mapper = {idx: label for idx, label in enumerate(df['category'].unique()) if pd.notna(label)}\n",
    "idx_to_category_mapper"
   ]
  },
  {
   "cell_type": "code",
   "execution_count": 9,
   "id": "45f1e177-c352-4df7-929f-a22372d31541",
   "metadata": {},
   "outputs": [
    {
     "data": {
      "text/plain": [
       "Index(['FarmID', 'category', 'Crop', 'State', 'District', 'Sub-District',\n",
       "       'SDate', 'HDate', 'CropCoveredArea', 'CHeight', 'CNext', 'CLast',\n",
       "       'CTransp', 'IrriType', 'IrriSource', 'IrriCount', 'WaterCov',\n",
       "       'ExpYield', 'Season', 'geometry', 'tif_path', 'NDVI', 'EVI', 'NDWI',\n",
       "       'GNDVI', 'SAVI', 'MSAVI', 'MoistureIndex', 'NDRE', 'CCCI'],\n",
       "      dtype='object')"
      ]
     },
     "execution_count": 9,
     "metadata": {},
     "output_type": "execute_result"
    }
   ],
   "source": [
    "df.columns"
   ]
  },
  {
   "cell_type": "code",
   "execution_count": 75,
   "id": "39149703-b7d6-4fb8-be61-0f549fc8b711",
   "metadata": {},
   "outputs": [],
   "source": [
    "## Data Preprocessing \n",
    "df['SDate'] = pd.to_datetime(df.SDate)\n",
    "df['HDate'] = pd.to_datetime(df.HDate)\n",
    "df['TDays'] = (df.HDate - df.SDate).dt.days\n",
    "#df = df[df.TDays < 12*30]\n",
    "to_drop = ['FarmID', 'State', 'District', 'Sub-District',\n",
    "       'SDate', 'HDate', 'geometry', 'tif_path']\n",
    "train = df.drop(columns=to_drop)\n",
    "train_data = prepare_model_data(train)"
   ]
  },
  {
   "cell_type": "code",
   "execution_count": 77,
   "id": "a962aaf5-2915-43a2-bbf8-9bef28351535",
   "metadata": {},
   "outputs": [
    {
     "data": {
      "text/plain": [
       "(6959, 31)"
      ]
     },
     "execution_count": 77,
     "metadata": {},
     "output_type": "execute_result"
    }
   ],
   "source": [
    "df.shape"
   ]
  },
  {
   "cell_type": "code",
   "execution_count": 79,
   "id": "f942dd40-3bb6-488f-8b63-e89314184f9f",
   "metadata": {},
   "outputs": [
    {
     "data": {
      "text/html": [
       "<div>\n",
       "<style scoped>\n",
       "    .dataframe tbody tr th:only-of-type {\n",
       "        vertical-align: middle;\n",
       "    }\n",
       "\n",
       "    .dataframe tbody tr th {\n",
       "        vertical-align: top;\n",
       "    }\n",
       "\n",
       "    .dataframe thead th {\n",
       "        text-align: right;\n",
       "    }\n",
       "</style>\n",
       "<table border=\"1\" class=\"dataframe\">\n",
       "  <thead>\n",
       "    <tr style=\"text-align: right;\">\n",
       "      <th></th>\n",
       "      <th>Crop</th>\n",
       "      <th>CropCoveredArea</th>\n",
       "      <th>CHeight</th>\n",
       "      <th>CNext</th>\n",
       "      <th>CLast</th>\n",
       "      <th>CTransp</th>\n",
       "      <th>IrriType</th>\n",
       "      <th>IrriSource</th>\n",
       "      <th>IrriCount</th>\n",
       "      <th>WaterCov</th>\n",
       "      <th>...</th>\n",
       "      <th>EVI</th>\n",
       "      <th>NDWI</th>\n",
       "      <th>GNDVI</th>\n",
       "      <th>SAVI</th>\n",
       "      <th>MSAVI</th>\n",
       "      <th>MoistureIndex</th>\n",
       "      <th>NDRE</th>\n",
       "      <th>CCCI</th>\n",
       "      <th>TDays</th>\n",
       "      <th>target</th>\n",
       "    </tr>\n",
       "  </thead>\n",
       "  <tbody>\n",
       "    <tr>\n",
       "      <th>0</th>\n",
       "      <td>5</td>\n",
       "      <td>97</td>\n",
       "      <td>54</td>\n",
       "      <td>4</td>\n",
       "      <td>0</td>\n",
       "      <td>3</td>\n",
       "      <td>1</td>\n",
       "      <td>1</td>\n",
       "      <td>4</td>\n",
       "      <td>87</td>\n",
       "      <td>...</td>\n",
       "      <td>0.169276</td>\n",
       "      <td>-0.137874</td>\n",
       "      <td>0.137874</td>\n",
       "      <td>0.093438</td>\n",
       "      <td>0.089909</td>\n",
       "      <td>0.095105</td>\n",
       "      <td>0.004241</td>\n",
       "      <td>-0.146658</td>\n",
       "      <td>141</td>\n",
       "      <td>0</td>\n",
       "    </tr>\n",
       "    <tr>\n",
       "      <th>1</th>\n",
       "      <td>5</td>\n",
       "      <td>82</td>\n",
       "      <td>58</td>\n",
       "      <td>4</td>\n",
       "      <td>0</td>\n",
       "      <td>3</td>\n",
       "      <td>1</td>\n",
       "      <td>0</td>\n",
       "      <td>5</td>\n",
       "      <td>94</td>\n",
       "      <td>...</td>\n",
       "      <td>0.359014</td>\n",
       "      <td>-0.191513</td>\n",
       "      <td>0.191513</td>\n",
       "      <td>0.157596</td>\n",
       "      <td>0.146604</td>\n",
       "      <td>-0.032861</td>\n",
       "      <td>0.005505</td>\n",
       "      <td>0.027249</td>\n",
       "      <td>165</td>\n",
       "      <td>0</td>\n",
       "    </tr>\n",
       "    <tr>\n",
       "      <th>2</th>\n",
       "      <td>5</td>\n",
       "      <td>92</td>\n",
       "      <td>91</td>\n",
       "      <td>4</td>\n",
       "      <td>0</td>\n",
       "      <td>3</td>\n",
       "      <td>1</td>\n",
       "      <td>0</td>\n",
       "      <td>3</td>\n",
       "      <td>99</td>\n",
       "      <td>...</td>\n",
       "      <td>0.375025</td>\n",
       "      <td>-0.207168</td>\n",
       "      <td>0.207168</td>\n",
       "      <td>0.173276</td>\n",
       "      <td>0.163626</td>\n",
       "      <td>-0.032272</td>\n",
       "      <td>0.013724</td>\n",
       "      <td>0.065676</td>\n",
       "      <td>131</td>\n",
       "      <td>0</td>\n",
       "    </tr>\n",
       "    <tr>\n",
       "      <th>4</th>\n",
       "      <td>5</td>\n",
       "      <td>94</td>\n",
       "      <td>55</td>\n",
       "      <td>4</td>\n",
       "      <td>0</td>\n",
       "      <td>3</td>\n",
       "      <td>1</td>\n",
       "      <td>0</td>\n",
       "      <td>5</td>\n",
       "      <td>97</td>\n",
       "      <td>...</td>\n",
       "      <td>0.689947</td>\n",
       "      <td>-0.185398</td>\n",
       "      <td>0.185398</td>\n",
       "      <td>0.185018</td>\n",
       "      <td>0.179114</td>\n",
       "      <td>-0.078713</td>\n",
       "      <td>0.026941</td>\n",
       "      <td>0.129725</td>\n",
       "      <td>159</td>\n",
       "      <td>1</td>\n",
       "    </tr>\n",
       "    <tr>\n",
       "      <th>5</th>\n",
       "      <td>5</td>\n",
       "      <td>97</td>\n",
       "      <td>51</td>\n",
       "      <td>4</td>\n",
       "      <td>0</td>\n",
       "      <td>3</td>\n",
       "      <td>1</td>\n",
       "      <td>1</td>\n",
       "      <td>5</td>\n",
       "      <td>85</td>\n",
       "      <td>...</td>\n",
       "      <td>0.342297</td>\n",
       "      <td>-0.159876</td>\n",
       "      <td>0.159876</td>\n",
       "      <td>0.137544</td>\n",
       "      <td>0.129885</td>\n",
       "      <td>-0.051080</td>\n",
       "      <td>0.033711</td>\n",
       "      <td>0.205249</td>\n",
       "      <td>157</td>\n",
       "      <td>2</td>\n",
       "    </tr>\n",
       "  </tbody>\n",
       "</table>\n",
       "<p>5 rows × 23 columns</p>\n",
       "</div>"
      ],
      "text/plain": [
       "   Crop  CropCoveredArea  CHeight  CNext  CLast  CTransp  IrriType  \\\n",
       "0     5               97       54      4      0        3         1   \n",
       "1     5               82       58      4      0        3         1   \n",
       "2     5               92       91      4      0        3         1   \n",
       "4     5               94       55      4      0        3         1   \n",
       "5     5               97       51      4      0        3         1   \n",
       "\n",
       "   IrriSource  IrriCount  WaterCov  ...       EVI      NDWI     GNDVI  \\\n",
       "0           1          4        87  ...  0.169276 -0.137874  0.137874   \n",
       "1           0          5        94  ...  0.359014 -0.191513  0.191513   \n",
       "2           0          3        99  ...  0.375025 -0.207168  0.207168   \n",
       "4           0          5        97  ...  0.689947 -0.185398  0.185398   \n",
       "5           1          5        85  ...  0.342297 -0.159876  0.159876   \n",
       "\n",
       "       SAVI     MSAVI  MoistureIndex      NDRE      CCCI  TDays  target  \n",
       "0  0.093438  0.089909       0.095105  0.004241 -0.146658    141       0  \n",
       "1  0.157596  0.146604      -0.032861  0.005505  0.027249    165       0  \n",
       "2  0.173276  0.163626      -0.032272  0.013724  0.065676    131       0  \n",
       "4  0.185018  0.179114      -0.078713  0.026941  0.129725    159       1  \n",
       "5  0.137544  0.129885      -0.051080  0.033711  0.205249    157       2  \n",
       "\n",
       "[5 rows x 23 columns]"
      ]
     },
     "execution_count": 79,
     "metadata": {},
     "output_type": "execute_result"
    }
   ],
   "source": [
    "train_data.head()"
   ]
  },
  {
   "cell_type": "markdown",
   "id": "f44e27fe-3b22-40e6-83ae-aa0fd641e8b1",
   "metadata": {},
   "source": [
    "#### Train/validation split"
   ]
  },
  {
   "cell_type": "code",
   "execution_count": 82,
   "id": "adb45c46-c507-43c9-b8c7-a79cfb17222c",
   "metadata": {},
   "outputs": [],
   "source": [
    "corr_matrix = train_data.corr('spearman')\n",
    "dissimilarity = 1 - abs(corr_matrix.values)"
   ]
  },
  {
   "cell_type": "code",
   "execution_count": 84,
   "id": "6221722d-8fe1-49a8-a20f-55d9b7c5f9af",
   "metadata": {},
   "outputs": [
    {
     "data": {
      "image/png": "[encoded data removed]",
      "text/plain": [
       "<Figure size 700x500 with 1 Axes>"
      ]
     },
     "metadata": {},
     "output_type": "display_data"
    }
   ],
   "source": [
    "from scipy.cluster import hierarchy\n",
    "from scipy.spatial.distance import squareform\n",
    "\n",
    "# hierarchical clustering based on dissimilarity\n",
    "linkage_matrix = hierarchy.linkage(squareform(dissimilarity), method='complete')\n",
    "\n",
    "fig,ax = plt.subplots(1,1,figsize=(7,5))\n",
    "dendogram = hierarchy.dendrogram(\n",
    "    linkage_matrix, ax=ax, \n",
    "    labels=corr_matrix.columns.tolist(),\n",
    ")\n",
    "_ = ax.set_xticklabels(ax.get_xticklabels(), rotation=90, fontsize=8)\n",
    "_ = ax.set_ylabel('Distance')\n",
    "_ = ax.set_title('Hierarchical clustering dendogram - spearman corr')\n",
    "fig.tight_layout()"
   ]
  },
  {
   "cell_type": "code",
   "execution_count": 86,
   "id": "07bb61da-1983-473d-8346-e30b9c3cbc94",
   "metadata": {},
   "outputs": [
    {
     "name": "stdout",
     "output_type": "stream",
     "text": [
      "Number of clusters: 18\n",
      "Cluster 1\n",
      "['Season']\n",
      "\n",
      "Cluster 2\n",
      "['MoistureIndex']\n",
      "\n",
      "Cluster 3\n",
      "['NDVI', 'EVI', 'NDWI', 'GNDVI', 'SAVI', 'MSAVI']\n",
      "\n",
      "Cluster 4\n",
      "['NDRE']\n",
      "\n",
      "Cluster 5\n",
      "['CCCI']\n",
      "\n",
      "Cluster 6\n",
      "['TDays']\n",
      "\n",
      "Cluster 7\n",
      "['target']\n",
      "\n",
      "Cluster 8\n",
      "['CTransp']\n",
      "\n",
      "Cluster 9\n",
      "['WaterCov']\n",
      "\n",
      "Cluster 10\n",
      "['CLast']\n",
      "\n",
      "Cluster 11\n",
      "['IrriSource']\n",
      "\n",
      "Cluster 12\n",
      "['CropCoveredArea']\n",
      "\n",
      "Cluster 13\n",
      "['ExpYield']\n",
      "\n",
      "Cluster 14\n",
      "['Crop']\n",
      "\n",
      "Cluster 15\n",
      "['IrriCount']\n",
      "\n",
      "Cluster 16\n",
      "['CHeight']\n",
      "\n",
      "Cluster 17\n",
      "['CNext']\n",
      "\n",
      "Cluster 18\n",
      "['IrriType']\n",
      "\n"
     ]
    }
   ],
   "source": [
    "threshold = 0.3\n",
    "\n",
    "cluster_labels = hierarchy.fcluster(linkage_matrix, threshold, criterion='distance')\n",
    "n_clusters = len(set(cluster_labels))\n",
    "print(f'Number of clusters: {n_clusters}')\n",
    "\n",
    "cluster_features = {}\n",
    "\n",
    "for label in range(1, n_clusters + 1):\n",
    "    print(f'Cluster {label}')\n",
    "\n",
    "    leaves_in_cluster = cluster_labels == label\n",
    "    cluster_features[label] = corr_matrix.columns[leaves_in_cluster].to_list()\n",
    "    print(cluster_features[label])\n",
    "    print()"
   ]
  },
  {
   "cell_type": "code",
   "execution_count": 88,
   "id": "e89f8059-428a-4dc9-b1d4-1d763a4513ad",
   "metadata": {},
   "outputs": [
    {
     "data": {
      "text/plain": [
       "['Season',\n",
       " 'MoistureIndex',\n",
       " 'NDVI',\n",
       " 'NDRE',\n",
       " 'CCCI',\n",
       " 'TDays',\n",
       " 'target',\n",
       " 'CTransp',\n",
       " 'WaterCov',\n",
       " 'CLast',\n",
       " 'IrriSource',\n",
       " 'CropCoveredArea',\n",
       " 'ExpYield',\n",
       " 'Crop',\n",
       " 'IrriCount',\n",
       " 'CHeight',\n",
       " 'CNext',\n",
       " 'IrriType']"
      ]
     },
     "execution_count": 88,
     "metadata": {},
     "output_type": "execute_result"
    }
   ],
   "source": [
    "cluster_features = [cols[0] for cols in cluster_features.values()]\n",
    "cluster_features"
   ]
  },
  {
   "cell_type": "code",
   "execution_count": 90,
   "id": "a26a46ba-24f9-4cbc-9152-b1c8dba001b7",
   "metadata": {},
   "outputs": [
    {
     "data": {
      "text/html": [
       "<div>\n",
       "<style scoped>\n",
       "    .dataframe tbody tr th:only-of-type {\n",
       "        vertical-align: middle;\n",
       "    }\n",
       "\n",
       "    .dataframe tbody tr th {\n",
       "        vertical-align: top;\n",
       "    }\n",
       "\n",
       "    .dataframe thead th {\n",
       "        text-align: right;\n",
       "    }\n",
       "</style>\n",
       "<table border=\"1\" class=\"dataframe\">\n",
       "  <thead>\n",
       "    <tr style=\"text-align: right;\">\n",
       "      <th></th>\n",
       "      <th>Crop</th>\n",
       "      <th>CropCoveredArea</th>\n",
       "      <th>CHeight</th>\n",
       "      <th>CNext</th>\n",
       "      <th>CLast</th>\n",
       "      <th>CTransp</th>\n",
       "      <th>IrriType</th>\n",
       "      <th>IrriSource</th>\n",
       "      <th>IrriCount</th>\n",
       "      <th>WaterCov</th>\n",
       "      <th>...</th>\n",
       "      <th>EVI</th>\n",
       "      <th>NDWI</th>\n",
       "      <th>GNDVI</th>\n",
       "      <th>SAVI</th>\n",
       "      <th>MSAVI</th>\n",
       "      <th>MoistureIndex</th>\n",
       "      <th>NDRE</th>\n",
       "      <th>CCCI</th>\n",
       "      <th>TDays</th>\n",
       "      <th>target</th>\n",
       "    </tr>\n",
       "  </thead>\n",
       "  <tbody>\n",
       "    <tr>\n",
       "      <th>0</th>\n",
       "      <td>5</td>\n",
       "      <td>97</td>\n",
       "      <td>54</td>\n",
       "      <td>4</td>\n",
       "      <td>0</td>\n",
       "      <td>3</td>\n",
       "      <td>1</td>\n",
       "      <td>1</td>\n",
       "      <td>4</td>\n",
       "      <td>87</td>\n",
       "      <td>...</td>\n",
       "      <td>0.169276</td>\n",
       "      <td>-0.137874</td>\n",
       "      <td>0.137874</td>\n",
       "      <td>0.093438</td>\n",
       "      <td>0.089909</td>\n",
       "      <td>0.095105</td>\n",
       "      <td>0.004241</td>\n",
       "      <td>-0.146658</td>\n",
       "      <td>141</td>\n",
       "      <td>0</td>\n",
       "    </tr>\n",
       "    <tr>\n",
       "      <th>1</th>\n",
       "      <td>5</td>\n",
       "      <td>82</td>\n",
       "      <td>58</td>\n",
       "      <td>4</td>\n",
       "      <td>0</td>\n",
       "      <td>3</td>\n",
       "      <td>1</td>\n",
       "      <td>0</td>\n",
       "      <td>5</td>\n",
       "      <td>94</td>\n",
       "      <td>...</td>\n",
       "      <td>0.359014</td>\n",
       "      <td>-0.191513</td>\n",
       "      <td>0.191513</td>\n",
       "      <td>0.157596</td>\n",
       "      <td>0.146604</td>\n",
       "      <td>-0.032861</td>\n",
       "      <td>0.005505</td>\n",
       "      <td>0.027249</td>\n",
       "      <td>165</td>\n",
       "      <td>0</td>\n",
       "    </tr>\n",
       "    <tr>\n",
       "      <th>2</th>\n",
       "      <td>5</td>\n",
       "      <td>92</td>\n",
       "      <td>91</td>\n",
       "      <td>4</td>\n",
       "      <td>0</td>\n",
       "      <td>3</td>\n",
       "      <td>1</td>\n",
       "      <td>0</td>\n",
       "      <td>3</td>\n",
       "      <td>99</td>\n",
       "      <td>...</td>\n",
       "      <td>0.375025</td>\n",
       "      <td>-0.207168</td>\n",
       "      <td>0.207168</td>\n",
       "      <td>0.173276</td>\n",
       "      <td>0.163626</td>\n",
       "      <td>-0.032272</td>\n",
       "      <td>0.013724</td>\n",
       "      <td>0.065676</td>\n",
       "      <td>131</td>\n",
       "      <td>0</td>\n",
       "    </tr>\n",
       "    <tr>\n",
       "      <th>4</th>\n",
       "      <td>5</td>\n",
       "      <td>94</td>\n",
       "      <td>55</td>\n",
       "      <td>4</td>\n",
       "      <td>0</td>\n",
       "      <td>3</td>\n",
       "      <td>1</td>\n",
       "      <td>0</td>\n",
       "      <td>5</td>\n",
       "      <td>97</td>\n",
       "      <td>...</td>\n",
       "      <td>0.689947</td>\n",
       "      <td>-0.185398</td>\n",
       "      <td>0.185398</td>\n",
       "      <td>0.185018</td>\n",
       "      <td>0.179114</td>\n",
       "      <td>-0.078713</td>\n",
       "      <td>0.026941</td>\n",
       "      <td>0.129725</td>\n",
       "      <td>159</td>\n",
       "      <td>1</td>\n",
       "    </tr>\n",
       "    <tr>\n",
       "      <th>5</th>\n",
       "      <td>5</td>\n",
       "      <td>97</td>\n",
       "      <td>51</td>\n",
       "      <td>4</td>\n",
       "      <td>0</td>\n",
       "      <td>3</td>\n",
       "      <td>1</td>\n",
       "      <td>1</td>\n",
       "      <td>5</td>\n",
       "      <td>85</td>\n",
       "      <td>...</td>\n",
       "      <td>0.342297</td>\n",
       "      <td>-0.159876</td>\n",
       "      <td>0.159876</td>\n",
       "      <td>0.137544</td>\n",
       "      <td>0.129885</td>\n",
       "      <td>-0.051080</td>\n",
       "      <td>0.033711</td>\n",
       "      <td>0.205249</td>\n",
       "      <td>157</td>\n",
       "      <td>2</td>\n",
       "    </tr>\n",
       "  </tbody>\n",
       "</table>\n",
       "<p>5 rows × 23 columns</p>\n",
       "</div>"
      ],
      "text/plain": [
       "   Crop  CropCoveredArea  CHeight  CNext  CLast  CTransp  IrriType  \\\n",
       "0     5               97       54      4      0        3         1   \n",
       "1     5               82       58      4      0        3         1   \n",
       "2     5               92       91      4      0        3         1   \n",
       "4     5               94       55      4      0        3         1   \n",
       "5     5               97       51      4      0        3         1   \n",
       "\n",
       "   IrriSource  IrriCount  WaterCov  ...       EVI      NDWI     GNDVI  \\\n",
       "0           1          4        87  ...  0.169276 -0.137874  0.137874   \n",
       "1           0          5        94  ...  0.359014 -0.191513  0.191513   \n",
       "2           0          3        99  ...  0.375025 -0.207168  0.207168   \n",
       "4           0          5        97  ...  0.689947 -0.185398  0.185398   \n",
       "5           1          5        85  ...  0.342297 -0.159876  0.159876   \n",
       "\n",
       "       SAVI     MSAVI  MoistureIndex      NDRE      CCCI  TDays  target  \n",
       "0  0.093438  0.089909       0.095105  0.004241 -0.146658    141       0  \n",
       "1  0.157596  0.146604      -0.032861  0.005505  0.027249    165       0  \n",
       "2  0.173276  0.163626      -0.032272  0.013724  0.065676    131       0  \n",
       "4  0.185018  0.179114      -0.078713  0.026941  0.129725    159       1  \n",
       "5  0.137544  0.129885      -0.051080  0.033711  0.205249    157       2  \n",
       "\n",
       "[5 rows x 23 columns]"
      ]
     },
     "execution_count": 90,
     "metadata": {},
     "output_type": "execute_result"
    }
   ],
   "source": [
    "train_data.head()"
   ]
  },
  {
   "cell_type": "code",
   "execution_count": 92,
   "id": "6cf54747-c47f-49aa-bba4-ddb0c727df1b",
   "metadata": {},
   "outputs": [
    {
     "data": {
      "text/plain": [
       "((6959, 17), (6959,))"
      ]
     },
     "execution_count": 92,
     "metadata": {},
     "output_type": "execute_result"
    }
   ],
   "source": [
    "# Separate features and target variable in the train set\n",
    "#X = train_data.drop(columns=['target'])\n",
    "X = train_data[cluster_features].drop(columns=['target'])\n",
    "y = train_data['target'].astype(int)\n",
    "X.shape, y.shape"
   ]
  },
  {
   "cell_type": "code",
   "execution_count": null,
   "id": "5f124926-41aa-41c3-bff4-9cb8e0872db7",
   "metadata": {},
   "outputs": [],
   "source": []
  },
  {
   "cell_type": "code",
   "execution_count": null,
   "id": "757f3220-514c-4721-bdd6-18bc4a629cbf",
   "metadata": {
    "scrolled": true
   },
   "outputs": [],
   "source": [
    "import warnings\n",
    "import optuna\n",
    "import numpy as np\n",
    "import pandas as pd\n",
    "from sklearn.model_selection import StratifiedKFold\n",
    "from sklearn.metrics import roc_auc_score\n",
    "from lightgbm import LGBMClassifier, early_stopping, log_evaluation\n",
    "\n",
    "# Example dataset (replace with actual data)\n",
    "# X, y = your_dataset_features, your_dataset_labels\n",
    "# Ensure `y` contains integer labels from 0 to num_classes - 1\n",
    "\n",
    "N_FOLDS = 5\n",
    "\n",
    "# Function to fit and validate the model\n",
    "def fit_and_valid_model(X, y, params, num_classes):\n",
    "    cv = StratifiedKFold(n_splits=N_FOLDS, shuffle=True, random_state=42)\n",
    "    scores = []\n",
    "\n",
    "    for train_index, valid_index in cv.split(X, y):\n",
    "        X_train, X_valid = X.iloc[train_index], X.iloc[valid_index]\n",
    "        y_train, y_valid = y.iloc[train_index], y.iloc[valid_index]\n",
    "\n",
    "        # Train LightGBM with multiclass objective\n",
    "        model = LGBMClassifier(\n",
    "            **params,\n",
    "            class_weight=\"balanced\",\n",
    "            num_class=4,  # Specify the number of classes\n",
    "            random_state=42,\n",
    "            verbose=-1,\n",
    "        )\n",
    "        model.fit(X_train, \n",
    "                  y_train,\n",
    "                  eval_set=[(X_valid, y_valid)],  # Validation set for early stopping\n",
    "                  eval_metric=\"multi_logloss\",\n",
    "                  callbacks=[early_stopping(stopping_rounds=10), log_evaluation(5)]\n",
    "                 )\n",
    "\n",
    "        # Predict probabilities for evaluation\n",
    "        y_pred_proba = model.predict_proba(X_valid)\n",
    "\n",
    "        # Check if probabilities sum to 1 for each row\n",
    "        if not np.allclose(np.sum(y_pred_proba, axis=1), 1.0):\n",
    "            raise ValueError(\"Predicted probabilities do not sum to 1.\")\n",
    "\n",
    "        # Calculate ROC AUC for multiclass\n",
    "        score = roc_auc_score(\n",
    "            y_valid,\n",
    "            y_pred_proba,\n",
    "            multi_class=\"ovr\",  # Specify one-vs-rest (ovr) strategy\n",
    "            average=\"macro\"\n",
    "        )\n",
    "        scores.append(score)\n",
    "\n",
    "    return np.mean(scores)\n",
    "\n",
    "# Optuna objective function\n",
    "def optuna_objective(trial: optuna.trial.Trial) -> float:\n",
    "    num_classes = len(np.unique(y))  # Calculate the number of classes\n",
    "    params = {\n",
    "        \"n_estimators\": trial.suggest_int(\"n_estimators\", 50, 1000, log=True),\n",
    "        \"learning_rate\": trial.suggest_float(\"learning_rate\", 1e-2, 0.1, log=True),\n",
    "        \"max_depth\": trial.suggest_int(\"max_depth\", 2, 24, log=True),\n",
    "        \"num_leaves\": trial.suggest_int(\"num_leaves\", 2, 64, log=True),\n",
    "        \"subsample\": trial.suggest_float(\"subsample\", 0.25, 1),\n",
    "        \"colsample_bytree\": trial.suggest_float(\"colsample_bytree\", 0.1, 1),\n",
    "        \"colsample_bynode\": trial.suggest_float(\"colsample_bynode\", 0.1, 1),\n",
    "        \"reg_alpha\": trial.suggest_float(\"reg_alpha\", 1e-4, 10, log=True),\n",
    "        \"reg_lambda\": trial.suggest_float(\"reg_lambda\", 1e-4, 10, log=True),\n",
    "        \"min_split_gain\": trial.suggest_float(\"min_split_gain\", 1e-4, 100, log=True),\n",
    "        \"min_child_samples\": trial.suggest_int(\"min_child_samples\", 10, 100, log=True),\n",
    "        \"objective\": \"multiclass\"  # Fixed the objective function\n",
    "    }\n",
    "\n",
    "    # Run the training and validation\n",
    "    score = fit_and_valid_model(X, y, params, num_classes)\n",
    "    return score\n",
    "\n",
    "# Optuna study\n",
    "with warnings.catch_warnings():\n",
    "    warnings.simplefilter(action=\"ignore\", category=optuna.exceptions.ExperimentalWarning)\n",
    "    study = optuna.create_study(direction=\"maximize\", study_name=\"lightgbm\")\n",
    "\n",
    "    # Optimize\n",
    "    study.optimize(optuna_objective, timeout=7200, n_trials=50)\n",
    "\n",
    "# Display best parameters and score\n",
    "print(\"Best parameters:\", study.best_params)\n",
    "print(\"Best ROC AUC score (macro):\", study.best_value)"
   ]
  },
  {
   "cell_type": "code",
   "execution_count": 97,
   "id": "1f6e40f7-698d-43b4-8211-f118604debf6",
   "metadata": {},
   "outputs": [
    {
     "data": {
      "application/vnd.plotly.v1+json": {
       "config": {
        "plotlyServerURL": "https://plot.ly"
       },
       "data": [
        {
         "mode": "markers",
         "name": "CV Avg AUC",
         "type": "scatter",
         "x": [
          0,
          1,
          2,
          3,
          4,
          5,
          6,
          7,
          8,
          9,
          10,
          11,
          12,
          13,
          14,
          15,
          16,
          17,
          18,
          19,
          20,
          21,
          22,
          23,
          24,
          25,
          26,
          27,
          28,
          29,
          30,
          31,
          32,
          33,
          34,
          35,
          36,
          37,
          38,
          39,
          40,
          41,
          42,
          43,
          44,
          45,
          46,
          47,
          48,
          49
         ],
         "y": [
          0.5531559702602754,
          0.5489174227795802,
          0.5462844330206755,
          0.5296074336723112,
          0.5482733947092223,
          0.5427997493965073,
          0.539063145391995,
          0.534576463889836,
          0.5434250812882506,
          0.5245733797225076,
          0.5331972074750031,
          0.5421300631729093,
          0.5492293507775008,
          0.5366493160694897,
          0.5460788108035912,
          0.5397274068234676,
          0.5551779119624782,
          0.5456006728540487,
          0.5424676085592248,
          0.527913076608976,
          0.5349647569647811,
          0.5445710101983595,
          0.5461022262152658,
          0.5402339399547692,
          0.535358420113759,
          0.5460157091076063,
          0.5531077902623522,
          0.5392766381686547,
          0.5444515270388981,
          0.5507136130154526,
          0.539726192384666,
          0.5495962165983902,
          0.5463798345804872,
          0.5549026820571268,
          0.5438713701698481,
          0.5453468492429947,
          0.5438325065332994,
          0.5285160748662795,
          0.5296476515144134,
          0.5178439965840754,
          0.5554250529319775,
          0.5538704822527777,
          0.5559280048244557,
          0.5544985935500779,
          0.5483848475257759,
          0.5389721860915255,
          0.5485306658838314,
          0.5403933038428436,
          0.533555107577107,
          0.5516947813943528
         ]
        },
        {
         "mode": "lines",
         "name": "Best Value",
         "type": "scatter",
         "x": [
          0,
          1,
          2,
          3,
          4,
          5,
          6,
          7,
          8,
          9,
          10,
          11,
          12,
          13,
          14,
          15,
          16,
          17,
          18,
          19,
          20,
          21,
          22,
          23,
          24,
          25,
          26,
          27,
          28,
          29,
          30,
          31,
          32,
          33,
          34,
          35,
          36,
          37,
          38,
          39,
          40,
          41,
          42,
          43,
          44,
          45,
          46,
          47,
          48,
          49
         ],
         "y": [
          0.5531559702602754,
          0.5531559702602754,
          0.5531559702602754,
          0.5531559702602754,
          0.5531559702602754,
          0.5531559702602754,
          0.5531559702602754,
          0.5531559702602754,
          0.5531559702602754,
          0.5531559702602754,
          0.5531559702602754,
          0.5531559702602754,
          0.5531559702602754,
          0.5531559702602754,
          0.5531559702602754,
          0.5531559702602754,
          0.5551779119624782,
          0.5551779119624782,
          0.5551779119624782,
          0.5551779119624782,
          0.5551779119624782,
          0.5551779119624782,
          0.5551779119624782,
          0.5551779119624782,
          0.5551779119624782,
          0.5551779119624782,
          0.5551779119624782,
          0.5551779119624782,
          0.5551779119624782,
          0.5551779119624782,
          0.5551779119624782,
          0.5551779119624782,
          0.5551779119624782,
          0.5551779119624782,
          0.5551779119624782,
          0.5551779119624782,
          0.5551779119624782,
          0.5551779119624782,
          0.5551779119624782,
          0.5551779119624782,
          0.5554250529319775,
          0.5554250529319775,
          0.5559280048244557,
          0.5559280048244557,
          0.5559280048244557,
          0.5559280048244557,
          0.5559280048244557,
          0.5559280048244557,
          0.5559280048244557,
          0.5559280048244557
         ]
        },
        {
         "marker": {
          "color": "#cccccc"
         },
         "mode": "markers",
         "name": "Infeasible Trial",
         "showlegend": false,
         "type": "scatter",
         "x": [],
         "y": []
        }
       ],
       "layout": {
        "autosize": true,
        "height": 600,
        "template": {
         "data": {
          "bar": [
           {
            "error_x": {
             "color": "#2a3f5f"
            },
            "error_y": {
             "color": "#2a3f5f"
            },
            "marker": {
             "line": {
              "color": "#E5ECF6",
              "width": 0.5
             },
             "pattern": {
              "fillmode": "overlay",
              "size": 10,
              "solidity": 0.2
             }
            },
            "type": "bar"
           }
          ],
          "barpolar": [
           {
            "marker": {
             "line": {
              "color": "#E5ECF6",
              "width": 0.5
             },
             "pattern": {
              "fillmode": "overlay",
              "size": 10,
              "solidity": 0.2
             }
            },
            "type": "barpolar"
           }
          ],
          "carpet": [
           {
            "aaxis": {
             "endlinecolor": "#2a3f5f",
             "gridcolor": "white",
             "linecolor": "white",
             "minorgridcolor": "white",
             "startlinecolor": "#2a3f5f"
            },
            "baxis": {
             "endlinecolor": "#2a3f5f",
             "gridcolor": "white",
             "linecolor": "white",
             "minorgridcolor": "white",
             "startlinecolor": "#2a3f5f"
            },
            "type": "carpet"
           }
          ],
          "choropleth": [
           {
            "colorbar": {
             "outlinewidth": 0,
             "ticks": ""
            },
            "type": "choropleth"
           }
          ],
          "contour": [
           {
            "colorbar": {
             "outlinewidth": 0,
             "ticks": ""
            },
            "colorscale": [
             [
              0,
              "#0d0887"
             ],
             [
              0.1111111111111111,
              "#46039f"
             ],
             [
              0.2222222222222222,
              "#7201a8"
             ],
             [
              0.3333333333333333,
              "#9c179e"
             ],
             [
              0.4444444444444444,
              "#bd3786"
             ],
             [
              0.5555555555555556,
              "#d8576b"
             ],
             [
              0.6666666666666666,
              "#ed7953"
             ],
             [
              0.7777777777777778,
              "#fb9f3a"
             ],
             [
              0.8888888888888888,
              "#fdca26"
             ],
             [
              1,
              "#f0f921"
             ]
            ],
            "type": "contour"
           }
          ],
          "contourcarpet": [
           {
            "colorbar": {
             "outlinewidth": 0,
             "ticks": ""
            },
            "type": "contourcarpet"
           }
          ],
          "heatmap": [
           {
            "colorbar": {
             "outlinewidth": 0,
             "ticks": ""
            },
            "colorscale": [
             [
              0,
              "#0d0887"
             ],
             [
              0.1111111111111111,
              "#46039f"
             ],
             [
              0.2222222222222222,
              "#7201a8"
             ],
             [
              0.3333333333333333,
              "#9c179e"
             ],
             [
              0.4444444444444444,
              "#bd3786"
             ],
             [
              0.5555555555555556,
              "#d8576b"
             ],
             [
              0.6666666666666666,
              "#ed7953"
             ],
             [
              0.7777777777777778,
              "#fb9f3a"
             ],
             [
              0.8888888888888888,
              "#fdca26"
             ],
             [
              1,
              "#f0f921"
             ]
            ],
            "type": "heatmap"
           }
          ],
          "heatmapgl": [
           {
            "colorbar": {
             "outlinewidth": 0,
             "ticks": ""
            },
            "colorscale": [
             [
              0,
              "#0d0887"
             ],
             [
              0.1111111111111111,
              "#46039f"
             ],
             [
              0.2222222222222222,
              "#7201a8"
             ],
             [
              0.3333333333333333,
              "#9c179e"
             ],
             [
              0.4444444444444444,
              "#bd3786"
             ],
             [
              0.5555555555555556,
              "#d8576b"
             ],
             [
              0.6666666666666666,
              "#ed7953"
             ],
             [
              0.7777777777777778,
              "#fb9f3a"
             ],
             [
              0.8888888888888888,
              "#fdca26"
             ],
             [
              1,
              "#f0f921"
             ]
            ],
            "type": "heatmapgl"
           }
          ],
          "histogram": [
           {
            "marker": {
             "pattern": {
              "fillmode": "overlay",
              "size": 10,
              "solidity": 0.2
             }
            },
            "type": "histogram"
           }
          ],
          "histogram2d": [
           {
            "colorbar": {
             "outlinewidth": 0,
             "ticks": ""
            },
            "colorscale": [
             [
              0,
              "#0d0887"
             ],
             [
              0.1111111111111111,
              "#46039f"
             ],
             [
              0.2222222222222222,
              "#7201a8"
             ],
             [
              0.3333333333333333,
              "#9c179e"
             ],
             [
              0.4444444444444444,
              "#bd3786"
             ],
             [
              0.5555555555555556,
              "#d8576b"
             ],
             [
              0.6666666666666666,
              "#ed7953"
             ],
             [
              0.7777777777777778,
              "#fb9f3a"
             ],
             [
              0.8888888888888888,
              "#fdca26"
             ],
             [
              1,
              "#f0f921"
             ]
            ],
            "type": "histogram2d"
           }
          ],
          "histogram2dcontour": [
           {
            "colorbar": {
             "outlinewidth": 0,
             "ticks": ""
            },
            "colorscale": [
             [
              0,
              "#0d0887"
             ],
             [
              0.1111111111111111,
              "#46039f"
             ],
             [
              0.2222222222222222,
              "#7201a8"
             ],
             [
              0.3333333333333333,
              "#9c179e"
             ],
             [
              0.4444444444444444,
              "#bd3786"
             ],
             [
              0.5555555555555556,
              "#d8576b"
             ],
             [
              0.6666666666666666,
              "#ed7953"
             ],
             [
              0.7777777777777778,
              "#fb9f3a"
             ],
             [
              0.8888888888888888,
              "#fdca26"
             ],
             [
              1,
              "#f0f921"
             ]
            ],
            "type": "histogram2dcontour"
           }
          ],
          "mesh3d": [
           {
            "colorbar": {
             "outlinewidth": 0,
             "ticks": ""
            },
            "type": "mesh3d"
           }
          ],
          "parcoords": [
           {
            "line": {
             "colorbar": {
              "outlinewidth": 0,
              "ticks": ""
             }
            },
            "type": "parcoords"
           }
          ],
          "pie": [
           {
            "automargin": true,
            "type": "pie"
           }
          ],
          "scatter": [
           {
            "fillpattern": {
             "fillmode": "overlay",
             "size": 10,
             "solidity": 0.2
            },
            "type": "scatter"
           }
          ],
          "scatter3d": [
           {
            "line": {
             "colorbar": {
              "outlinewidth": 0,
              "ticks": ""
             }
            },
            "marker": {
             "colorbar": {
              "outlinewidth": 0,
              "ticks": ""
             }
            },
            "type": "scatter3d"
           }
          ],
          "scattercarpet": [
           {
            "marker": {
             "colorbar": {
              "outlinewidth": 0,
              "ticks": ""
             }
            },
            "type": "scattercarpet"
           }
          ],
          "scattergeo": [
           {
            "marker": {
             "colorbar": {
              "outlinewidth": 0,
              "ticks": ""
             }
            },
            "type": "scattergeo"
           }
          ],
          "scattergl": [
           {
            "marker": {
             "colorbar": {
              "outlinewidth": 0,
              "ticks": ""
             }
            },
            "type": "scattergl"
           }
          ],
          "scattermapbox": [
           {
            "marker": {
             "colorbar": {
              "outlinewidth": 0,
              "ticks": ""
             }
            },
            "type": "scattermapbox"
           }
          ],
          "scatterpolar": [
           {
            "marker": {
             "colorbar": {
              "outlinewidth": 0,
              "ticks": ""
             }
            },
            "type": "scatterpolar"
           }
          ],
          "scatterpolargl": [
           {
            "marker": {
             "colorbar": {
              "outlinewidth": 0,
              "ticks": ""
             }
            },
            "type": "scatterpolargl"
           }
          ],
          "scatterternary": [
           {
            "marker": {
             "colorbar": {
              "outlinewidth": 0,
              "ticks": ""
             }
            },
            "type": "scatterternary"
           }
          ],
          "surface": [
           {
            "colorbar": {
             "outlinewidth": 0,
             "ticks": ""
            },
            "colorscale": [
             [
              0,
              "#0d0887"
             ],
             [
              0.1111111111111111,
              "#46039f"
             ],
             [
              0.2222222222222222,
              "#7201a8"
             ],
             [
              0.3333333333333333,
              "#9c179e"
             ],
             [
              0.4444444444444444,
              "#bd3786"
             ],
             [
              0.5555555555555556,
              "#d8576b"
             ],
             [
              0.6666666666666666,
              "#ed7953"
             ],
             [
              0.7777777777777778,
              "#fb9f3a"
             ],
             [
              0.8888888888888888,
              "#fdca26"
             ],
             [
              1,
              "#f0f921"
             ]
            ],
            "type": "surface"
           }
          ],
          "table": [
           {
            "cells": {
             "fill": {
              "color": "#EBF0F8"
             },
             "line": {
              "color": "white"
             }
            },
            "header": {
             "fill": {
              "color": "#C8D4E3"
             },
             "line": {
              "color": "white"
             }
            },
            "type": "table"
           }
          ]
         },
         "layout": {
          "annotationdefaults": {
           "arrowcolor": "#2a3f5f",
           "arrowhead": 0,
           "arrowwidth": 1
          },
          "autotypenumbers": "strict",
          "coloraxis": {
           "colorbar": {
            "outlinewidth": 0,
            "ticks": ""
           }
          },
          "colorscale": {
           "diverging": [
            [
             0,
             "#8e0152"
            ],
            [
             0.1,
             "#c51b7d"
            ],
            [
             0.2,
             "#de77ae"
            ],
            [
             0.3,
             "#f1b6da"
            ],
            [
             0.4,
             "#fde0ef"
            ],
            [
             0.5,
             "#f7f7f7"
            ],
            [
             0.6,
             "#e6f5d0"
            ],
            [
             0.7,
             "#b8e186"
            ],
            [
             0.8,
             "#7fbc41"
            ],
            [
             0.9,
             "#4d9221"
            ],
            [
             1,
             "#276419"
            ]
           ],
           "sequential": [
            [
             0,
             "#0d0887"
            ],
            [
             0.1111111111111111,
             "#46039f"
            ],
            [
             0.2222222222222222,
             "#7201a8"
            ],
            [
             0.3333333333333333,
             "#9c179e"
            ],
            [
             0.4444444444444444,
             "#bd3786"
            ],
            [
             0.5555555555555556,
             "#d8576b"
            ],
            [
             0.6666666666666666,
             "#ed7953"
            ],
            [
             0.7777777777777778,
             "#fb9f3a"
            ],
            [
             0.8888888888888888,
             "#fdca26"
            ],
            [
             1,
             "#f0f921"
            ]
           ],
           "sequentialminus": [
            [
             0,
             "#0d0887"
            ],
            [
             0.1111111111111111,
             "#46039f"
            ],
            [
             0.2222222222222222,
             "#7201a8"
            ],
            [
             0.3333333333333333,
             "#9c179e"
            ],
            [
             0.4444444444444444,
             "#bd3786"
            ],
            [
             0.5555555555555556,
             "#d8576b"
            ],
            [
             0.6666666666666666,
             "#ed7953"
            ],
            [
             0.7777777777777778,
             "#fb9f3a"
            ],
            [
             0.8888888888888888,
             "#fdca26"
            ],
            [
             1,
             "#f0f921"
            ]
           ]
          },
          "colorway": [
           "#636efa",
           "#EF553B",
           "#00cc96",
           "#ab63fa",
           "#FFA15A",
           "#19d3f3",
           "#FF6692",
           "#B6E880",
           "#FF97FF",
           "#FECB52"
          ],
          "font": {
           "color": "#2a3f5f"
          },
          "geo": {
           "bgcolor": "white",
           "lakecolor": "white",
           "landcolor": "#E5ECF6",
           "showlakes": true,
           "showland": true,
           "subunitcolor": "white"
          },
          "hoverlabel": {
           "align": "left"
          },
          "hovermode": "closest",
          "mapbox": {
           "style": "light"
          },
          "paper_bgcolor": "white",
          "plot_bgcolor": "#E5ECF6",
          "polar": {
           "angularaxis": {
            "gridcolor": "white",
            "linecolor": "white",
            "ticks": ""
           },
           "bgcolor": "#E5ECF6",
           "radialaxis": {
            "gridcolor": "white",
            "linecolor": "white",
            "ticks": ""
           }
          },
          "scene": {
           "xaxis": {
            "backgroundcolor": "#E5ECF6",
            "gridcolor": "white",
            "gridwidth": 2,
            "linecolor": "white",
            "showbackground": true,
            "ticks": "",
            "zerolinecolor": "white"
           },
           "yaxis": {
            "backgroundcolor": "#E5ECF6",
            "gridcolor": "white",
            "gridwidth": 2,
            "linecolor": "white",
            "showbackground": true,
            "ticks": "",
            "zerolinecolor": "white"
           },
           "zaxis": {
            "backgroundcolor": "#E5ECF6",
            "gridcolor": "white",
            "gridwidth": 2,
            "linecolor": "white",
            "showbackground": true,
            "ticks": "",
            "zerolinecolor": "white"
           }
          },
          "shapedefaults": {
           "line": {
            "color": "#2a3f5f"
           }
          },
          "ternary": {
           "aaxis": {
            "gridcolor": "white",
            "linecolor": "white",
            "ticks": ""
           },
           "baxis": {
            "gridcolor": "white",
            "linecolor": "white",
            "ticks": ""
           },
           "bgcolor": "#E5ECF6",
           "caxis": {
            "gridcolor": "white",
            "linecolor": "white",
            "ticks": ""
           }
          },
          "title": {
           "x": 0.05
          },
          "xaxis": {
           "automargin": true,
           "gridcolor": "white",
           "linecolor": "white",
           "ticks": "",
           "title": {
            "standoff": 15
           },
           "zerolinecolor": "white",
           "zerolinewidth": 2
          },
          "yaxis": {
           "automargin": true,
           "gridcolor": "white",
           "linecolor": "white",
           "ticks": "",
           "title": {
            "standoff": 15
           },
           "zerolinecolor": "white",
           "zerolinewidth": 2
          }
         }
        },
        "title": {
         "text": "Optimization History Plot"
        },
        "width": 800,
        "xaxis": {
         "autorange": true,
         "range": [
          -3.120440803588844,
          52.12044080358884
         ],
         "title": {
          "text": "Trial"
         },
         "type": "linear"
        },
        "yaxis": {
         "autorange": true,
         "range": [
          0.5152999231591108,
          0.5584720782494204
         ],
         "title": {
          "text": "CV Avg AUC"
         },
         "type": "linear"
        }
       }
      },
      "image/png": "[encoded data removed]",
      "text/html": [
       "<div>                            <div id=\"88f5a098-4408-46ee-a232-739c6e821270\" class=\"plotly-graph-div\" style=\"height:600px; width:800px;\"></div>            <script type=\"text/javascript\">                require([\"plotly\"], function(Plotly) {                    window.PLOTLYENV=window.PLOTLYENV || {};                                    if (document.getElementById(\"88f5a098-4408-46ee-a232-739c6e821270\")) {                    Plotly.newPlot(                        \"88f5a098-4408-46ee-a232-739c6e821270\",                        [{\"mode\":\"markers\",\"name\":\"CV Avg AUC\",\"x\":[0,1,2,3,4,5,6,7,8,9,10,11,12,13,14,15,16,17,18,19,20,21,22,23,24,25,26,27,28,29,30,31,32,33,34,35,36,37,38,39,40,41,42,43,44,45,46,47,48,49],\"y\":[0.5531559702602754,0.5489174227795802,0.5462844330206755,0.5296074336723112,0.5482733947092223,0.5427997493965073,0.539063145391995,0.534576463889836,0.5434250812882506,0.5245733797225076,0.5331972074750031,0.5421300631729093,0.5492293507775008,0.5366493160694897,0.5460788108035912,0.5397274068234676,0.5551779119624782,0.5456006728540487,0.5424676085592248,0.527913076608976,0.5349647569647811,0.5445710101983595,0.5461022262152658,0.5402339399547692,0.535358420113759,0.5460157091076063,0.5531077902623522,0.5392766381686547,0.5444515270388981,0.5507136130154526,0.539726192384666,0.5495962165983902,0.5463798345804872,0.5549026820571268,0.5438713701698481,0.5453468492429947,0.5438325065332994,0.5285160748662795,0.5296476515144134,0.5178439965840754,0.5554250529319775,0.5538704822527777,0.5559280048244557,0.5544985935500779,0.5483848475257759,0.5389721860915255,0.5485306658838314,0.5403933038428436,0.533555107577107,0.5516947813943528],\"type\":\"scatter\"},{\"mode\":\"lines\",\"name\":\"Best Value\",\"x\":[0,1,2,3,4,5,6,7,8,9,10,11,12,13,14,15,16,17,18,19,20,21,22,23,24,25,26,27,28,29,30,31,32,33,34,35,36,37,38,39,40,41,42,43,44,45,46,47,48,49],\"y\":[0.5531559702602754,0.5531559702602754,0.5531559702602754,0.5531559702602754,0.5531559702602754,0.5531559702602754,0.5531559702602754,0.5531559702602754,0.5531559702602754,0.5531559702602754,0.5531559702602754,0.5531559702602754,0.5531559702602754,0.5531559702602754,0.5531559702602754,0.5531559702602754,0.5551779119624782,0.5551779119624782,0.5551779119624782,0.5551779119624782,0.5551779119624782,0.5551779119624782,0.5551779119624782,0.5551779119624782,0.5551779119624782,0.5551779119624782,0.5551779119624782,0.5551779119624782,0.5551779119624782,0.5551779119624782,0.5551779119624782,0.5551779119624782,0.5551779119624782,0.5551779119624782,0.5551779119624782,0.5551779119624782,0.5551779119624782,0.5551779119624782,0.5551779119624782,0.5551779119624782,0.5554250529319775,0.5554250529319775,0.5559280048244557,0.5559280048244557,0.5559280048244557,0.5559280048244557,0.5559280048244557,0.5559280048244557,0.5559280048244557,0.5559280048244557],\"type\":\"scatter\"},{\"marker\":{\"color\":\"#cccccc\"},\"mode\":\"markers\",\"name\":\"Infeasible Trial\",\"showlegend\":false,\"x\":[],\"y\":[],\"type\":\"scatter\"}],                        {\"title\":{\"text\":\"Optimization History Plot\"},\"xaxis\":{\"title\":{\"text\":\"Trial\"}},\"yaxis\":{\"title\":{\"text\":\"CV Avg AUC\"}},\"template\":{\"data\":{\"histogram2dcontour\":[{\"type\":\"histogram2dcontour\",\"colorbar\":{\"outlinewidth\":0,\"ticks\":\"\"},\"colorscale\":[[0.0,\"#0d0887\"],[0.1111111111111111,\"#46039f\"],[0.2222222222222222,\"#7201a8\"],[0.3333333333333333,\"#9c179e\"],[0.4444444444444444,\"#bd3786\"],[0.5555555555555556,\"#d8576b\"],[0.6666666666666666,\"#ed7953\"],[0.7777777777777778,\"#fb9f3a\"],[0.8888888888888888,\"#fdca26\"],[1.0,\"#f0f921\"]]}],\"choropleth\":[{\"type\":\"choropleth\",\"colorbar\":{\"outlinewidth\":0,\"ticks\":\"\"}}],\"histogram2d\":[{\"type\":\"histogram2d\",\"colorbar\":{\"outlinewidth\":0,\"ticks\":\"\"},\"colorscale\":[[0.0,\"#0d0887\"],[0.1111111111111111,\"#46039f\"],[0.2222222222222222,\"#7201a8\"],[0.3333333333333333,\"#9c179e\"],[0.4444444444444444,\"#bd3786\"],[0.5555555555555556,\"#d8576b\"],[0.6666666666666666,\"#ed7953\"],[0.7777777777777778,\"#fb9f3a\"],[0.8888888888888888,\"#fdca26\"],[1.0,\"#f0f921\"]]}],\"heatmap\":[{\"type\":\"heatmap\",\"colorbar\":{\"outlinewidth\":0,\"ticks\":\"\"},\"colorscale\":[[0.0,\"#0d0887\"],[0.1111111111111111,\"#46039f\"],[0.2222222222222222,\"#7201a8\"],[0.3333333333333333,\"#9c179e\"],[0.4444444444444444,\"#bd3786\"],[0.5555555555555556,\"#d8576b\"],[0.6666666666666666,\"#ed7953\"],[0.7777777777777778,\"#fb9f3a\"],[0.8888888888888888,\"#fdca26\"],[1.0,\"#f0f921\"]]}],\"heatmapgl\":[{\"type\":\"heatmapgl\",\"colorbar\":{\"outlinewidth\":0,\"ticks\":\"\"},\"colorscale\":[[0.0,\"#0d0887\"],[0.1111111111111111,\"#46039f\"],[0.2222222222222222,\"#7201a8\"],[0.3333333333333333,\"#9c179e\"],[0.4444444444444444,\"#bd3786\"],[0.5555555555555556,\"#d8576b\"],[0.6666666666666666,\"#ed7953\"],[0.7777777777777778,\"#fb9f3a\"],[0.8888888888888888,\"#fdca26\"],[1.0,\"#f0f921\"]]}],\"contourcarpet\":[{\"type\":\"contourcarpet\",\"colorbar\":{\"outlinewidth\":0,\"ticks\":\"\"}}],\"contour\":[{\"type\":\"contour\",\"colorbar\":{\"outlinewidth\":0,\"ticks\":\"\"},\"colorscale\":[[0.0,\"#0d0887\"],[0.1111111111111111,\"#46039f\"],[0.2222222222222222,\"#7201a8\"],[0.3333333333333333,\"#9c179e\"],[0.4444444444444444,\"#bd3786\"],[0.5555555555555556,\"#d8576b\"],[0.6666666666666666,\"#ed7953\"],[0.7777777777777778,\"#fb9f3a\"],[0.8888888888888888,\"#fdca26\"],[1.0,\"#f0f921\"]]}],\"surface\":[{\"type\":\"surface\",\"colorbar\":{\"outlinewidth\":0,\"ticks\":\"\"},\"colorscale\":[[0.0,\"#0d0887\"],[0.1111111111111111,\"#46039f\"],[0.2222222222222222,\"#7201a8\"],[0.3333333333333333,\"#9c179e\"],[0.4444444444444444,\"#bd3786\"],[0.5555555555555556,\"#d8576b\"],[0.6666666666666666,\"#ed7953\"],[0.7777777777777778,\"#fb9f3a\"],[0.8888888888888888,\"#fdca26\"],[1.0,\"#f0f921\"]]}],\"mesh3d\":[{\"type\":\"mesh3d\",\"colorbar\":{\"outlinewidth\":0,\"ticks\":\"\"}}],\"scatter\":[{\"fillpattern\":{\"fillmode\":\"overlay\",\"size\":10,\"solidity\":0.2},\"type\":\"scatter\"}],\"parcoords\":[{\"type\":\"parcoords\",\"line\":{\"colorbar\":{\"outlinewidth\":0,\"ticks\":\"\"}}}],\"scatterpolargl\":[{\"type\":\"scatterpolargl\",\"marker\":{\"colorbar\":{\"outlinewidth\":0,\"ticks\":\"\"}}}],\"bar\":[{\"error_x\":{\"color\":\"#2a3f5f\"},\"error_y\":{\"color\":\"#2a3f5f\"},\"marker\":{\"line\":{\"color\":\"#E5ECF6\",\"width\":0.5},\"pattern\":{\"fillmode\":\"overlay\",\"size\":10,\"solidity\":0.2}},\"type\":\"bar\"}],\"scattergeo\":[{\"type\":\"scattergeo\",\"marker\":{\"colorbar\":{\"outlinewidth\":0,\"ticks\":\"\"}}}],\"scatterpolar\":[{\"type\":\"scatterpolar\",\"marker\":{\"colorbar\":{\"outlinewidth\":0,\"ticks\":\"\"}}}],\"histogram\":[{\"marker\":{\"pattern\":{\"fillmode\":\"overlay\",\"size\":10,\"solidity\":0.2}},\"type\":\"histogram\"}],\"scattergl\":[{\"type\":\"scattergl\",\"marker\":{\"colorbar\":{\"outlinewidth\":0,\"ticks\":\"\"}}}],\"scatter3d\":[{\"type\":\"scatter3d\",\"line\":{\"colorbar\":{\"outlinewidth\":0,\"ticks\":\"\"}},\"marker\":{\"colorbar\":{\"outlinewidth\":0,\"ticks\":\"\"}}}],\"scattermapbox\":[{\"type\":\"scattermapbox\",\"marker\":{\"colorbar\":{\"outlinewidth\":0,\"ticks\":\"\"}}}],\"scatterternary\":[{\"type\":\"scatterternary\",\"marker\":{\"colorbar\":{\"outlinewidth\":0,\"ticks\":\"\"}}}],\"scattercarpet\":[{\"type\":\"scattercarpet\",\"marker\":{\"colorbar\":{\"outlinewidth\":0,\"ticks\":\"\"}}}],\"carpet\":[{\"aaxis\":{\"endlinecolor\":\"#2a3f5f\",\"gridcolor\":\"white\",\"linecolor\":\"white\",\"minorgridcolor\":\"white\",\"startlinecolor\":\"#2a3f5f\"},\"baxis\":{\"endlinecolor\":\"#2a3f5f\",\"gridcolor\":\"white\",\"linecolor\":\"white\",\"minorgridcolor\":\"white\",\"startlinecolor\":\"#2a3f5f\"},\"type\":\"carpet\"}],\"table\":[{\"cells\":{\"fill\":{\"color\":\"#EBF0F8\"},\"line\":{\"color\":\"white\"}},\"header\":{\"fill\":{\"color\":\"#C8D4E3\"},\"line\":{\"color\":\"white\"}},\"type\":\"table\"}],\"barpolar\":[{\"marker\":{\"line\":{\"color\":\"#E5ECF6\",\"width\":0.5},\"pattern\":{\"fillmode\":\"overlay\",\"size\":10,\"solidity\":0.2}},\"type\":\"barpolar\"}],\"pie\":[{\"automargin\":true,\"type\":\"pie\"}]},\"layout\":{\"autotypenumbers\":\"strict\",\"colorway\":[\"#636efa\",\"#EF553B\",\"#00cc96\",\"#ab63fa\",\"#FFA15A\",\"#19d3f3\",\"#FF6692\",\"#B6E880\",\"#FF97FF\",\"#FECB52\"],\"font\":{\"color\":\"#2a3f5f\"},\"hovermode\":\"closest\",\"hoverlabel\":{\"align\":\"left\"},\"paper_bgcolor\":\"white\",\"plot_bgcolor\":\"#E5ECF6\",\"polar\":{\"bgcolor\":\"#E5ECF6\",\"angularaxis\":{\"gridcolor\":\"white\",\"linecolor\":\"white\",\"ticks\":\"\"},\"radialaxis\":{\"gridcolor\":\"white\",\"linecolor\":\"white\",\"ticks\":\"\"}},\"ternary\":{\"bgcolor\":\"#E5ECF6\",\"aaxis\":{\"gridcolor\":\"white\",\"linecolor\":\"white\",\"ticks\":\"\"},\"baxis\":{\"gridcolor\":\"white\",\"linecolor\":\"white\",\"ticks\":\"\"},\"caxis\":{\"gridcolor\":\"white\",\"linecolor\":\"white\",\"ticks\":\"\"}},\"coloraxis\":{\"colorbar\":{\"outlinewidth\":0,\"ticks\":\"\"}},\"colorscale\":{\"sequential\":[[0.0,\"#0d0887\"],[0.1111111111111111,\"#46039f\"],[0.2222222222222222,\"#7201a8\"],[0.3333333333333333,\"#9c179e\"],[0.4444444444444444,\"#bd3786\"],[0.5555555555555556,\"#d8576b\"],[0.6666666666666666,\"#ed7953\"],[0.7777777777777778,\"#fb9f3a\"],[0.8888888888888888,\"#fdca26\"],[1.0,\"#f0f921\"]],\"sequentialminus\":[[0.0,\"#0d0887\"],[0.1111111111111111,\"#46039f\"],[0.2222222222222222,\"#7201a8\"],[0.3333333333333333,\"#9c179e\"],[0.4444444444444444,\"#bd3786\"],[0.5555555555555556,\"#d8576b\"],[0.6666666666666666,\"#ed7953\"],[0.7777777777777778,\"#fb9f3a\"],[0.8888888888888888,\"#fdca26\"],[1.0,\"#f0f921\"]],\"diverging\":[[0,\"#8e0152\"],[0.1,\"#c51b7d\"],[0.2,\"#de77ae\"],[0.3,\"#f1b6da\"],[0.4,\"#fde0ef\"],[0.5,\"#f7f7f7\"],[0.6,\"#e6f5d0\"],[0.7,\"#b8e186\"],[0.8,\"#7fbc41\"],[0.9,\"#4d9221\"],[1,\"#276419\"]]},\"xaxis\":{\"gridcolor\":\"white\",\"linecolor\":\"white\",\"ticks\":\"\",\"title\":{\"standoff\":15},\"zerolinecolor\":\"white\",\"automargin\":true,\"zerolinewidth\":2},\"yaxis\":{\"gridcolor\":\"white\",\"linecolor\":\"white\",\"ticks\":\"\",\"title\":{\"standoff\":15},\"zerolinecolor\":\"white\",\"automargin\":true,\"zerolinewidth\":2},\"scene\":{\"xaxis\":{\"backgroundcolor\":\"#E5ECF6\",\"gridcolor\":\"white\",\"linecolor\":\"white\",\"showbackground\":true,\"ticks\":\"\",\"zerolinecolor\":\"white\",\"gridwidth\":2},\"yaxis\":{\"backgroundcolor\":\"#E5ECF6\",\"gridcolor\":\"white\",\"linecolor\":\"white\",\"showbackground\":true,\"ticks\":\"\",\"zerolinecolor\":\"white\",\"gridwidth\":2},\"zaxis\":{\"backgroundcolor\":\"#E5ECF6\",\"gridcolor\":\"white\",\"linecolor\":\"white\",\"showbackground\":true,\"ticks\":\"\",\"zerolinecolor\":\"white\",\"gridwidth\":2}},\"shapedefaults\":{\"line\":{\"color\":\"#2a3f5f\"}},\"annotationdefaults\":{\"arrowcolor\":\"#2a3f5f\",\"arrowhead\":0,\"arrowwidth\":1},\"geo\":{\"bgcolor\":\"white\",\"landcolor\":\"#E5ECF6\",\"subunitcolor\":\"white\",\"showland\":true,\"showlakes\":true,\"lakecolor\":\"white\"},\"title\":{\"x\":0.05},\"mapbox\":{\"style\":\"light\"}}},\"autosize\":true,\"width\":800,\"height\":600},                        {\"responsive\": true}                    ).then(function(){\n",
       "                            \n",
       "var gd = document.getElementById('88f5a098-4408-46ee-a232-739c6e821270');\n",
       "var x = new MutationObserver(function (mutations, observer) {{\n",
       "        var display = window.getComputedStyle(gd).display;\n",
       "        if (!display || display === 'none') {{\n",
       "            console.log([gd, 'removed!']);\n",
       "            Plotly.purge(gd);\n",
       "            observer.disconnect();\n",
       "        }}\n",
       "}});\n",
       "\n",
       "// Listen for the removal of the full notebook cells\n",
       "var notebookContainer = gd.closest('#notebook-container');\n",
       "if (notebookContainer) {{\n",
       "    x.observe(notebookContainer, {childList: true});\n",
       "}}\n",
       "\n",
       "// Listen for the clearing of the current output cell\n",
       "var outputEl = gd.closest('.output');\n",
       "if (outputEl) {{\n",
       "    x.observe(outputEl, {childList: true});\n",
       "}}\n",
       "\n",
       "                        })                };                });            </script>        </div>"
      ]
     },
     "metadata": {},
     "output_type": "display_data"
    }
   ],
   "source": [
    "fig = optuna.visualization.plot_optimization_history(study, target_name='CV Avg AUC')\n",
    "\n",
    "fig.update_layout(\n",
    "    autosize=True,\n",
    "    width=800,\n",
    "    height=600\n",
    ")\n",
    "fig.show()"
   ]
  },
  {
   "cell_type": "code",
   "execution_count": 99,
   "id": "dcbdaafc-4fe8-4f38-a5e2-dde1a38c7aee",
   "metadata": {},
   "outputs": [
    {
     "data": {
      "application/vnd.plotly.v1+json": {
       "config": {
        "plotlyServerURL": "https://plot.ly"
       },
       "data": [
        {
         "cliponaxis": false,
         "hovertemplate": [
          "reg_alpha (FloatDistribution): 0.01314754731127858<extra></extra>",
          "reg_lambda (FloatDistribution): 0.022218609606651413<extra></extra>",
          "colsample_bynode (FloatDistribution): 0.04833655015618113<extra></extra>",
          "min_split_gain (FloatDistribution): 0.05313887786656027<extra></extra>",
          "learning_rate (FloatDistribution): 0.06164591737132855<extra></extra>",
          "max_depth (IntDistribution): 0.07404915287764133<extra></extra>",
          "min_child_samples (IntDistribution): 0.07501092310741271<extra></extra>",
          "subsample (FloatDistribution): 0.0935861795205084<extra></extra>",
          "n_estimators (IntDistribution): 0.12490200531582957<extra></extra>",
          "num_leaves (IntDistribution): 0.18220019833526377<extra></extra>",
          "colsample_bytree (FloatDistribution): 0.25176403853134427<extra></extra>"
         ],
         "name": "Objective Value",
         "orientation": "h",
         "text": [
          "0.01",
          "0.02",
          "0.05",
          "0.05",
          "0.06",
          "0.07",
          "0.08",
          "0.09",
          "0.12",
          "0.18",
          "0.25"
         ],
         "textposition": "outside",
         "type": "bar",
         "x": [
          0.01314754731127858,
          0.022218609606651413,
          0.04833655015618113,
          0.05313887786656027,
          0.06164591737132855,
          0.07404915287764133,
          0.07501092310741271,
          0.0935861795205084,
          0.12490200531582957,
          0.18220019833526377,
          0.25176403853134427
         ],
         "y": [
          "reg_alpha",
          "reg_lambda",
          "colsample_bynode",
          "min_split_gain",
          "learning_rate",
          "max_depth",
          "min_child_samples",
          "subsample",
          "n_estimators",
          "num_leaves",
          "colsample_bytree"
         ]
        }
       ],
       "layout": {
        "autosize": true,
        "height": 400,
        "template": {
         "data": {
          "bar": [
           {
            "error_x": {
             "color": "#2a3f5f"
            },
            "error_y": {
             "color": "#2a3f5f"
            },
            "marker": {
             "line": {
              "color": "#E5ECF6",
              "width": 0.5
             },
             "pattern": {
              "fillmode": "overlay",
              "size": 10,
              "solidity": 0.2
             }
            },
            "type": "bar"
           }
          ],
          "barpolar": [
           {
            "marker": {
             "line": {
              "color": "#E5ECF6",
              "width": 0.5
             },
             "pattern": {
              "fillmode": "overlay",
              "size": 10,
              "solidity": 0.2
             }
            },
            "type": "barpolar"
           }
          ],
          "carpet": [
           {
            "aaxis": {
             "endlinecolor": "#2a3f5f",
             "gridcolor": "white",
             "linecolor": "white",
             "minorgridcolor": "white",
             "startlinecolor": "#2a3f5f"
            },
            "baxis": {
             "endlinecolor": "#2a3f5f",
             "gridcolor": "white",
             "linecolor": "white",
             "minorgridcolor": "white",
             "startlinecolor": "#2a3f5f"
            },
            "type": "carpet"
           }
          ],
          "choropleth": [
           {
            "colorbar": {
             "outlinewidth": 0,
             "ticks": ""
            },
            "type": "choropleth"
           }
          ],
          "contour": [
           {
            "colorbar": {
             "outlinewidth": 0,
             "ticks": ""
            },
            "colorscale": [
             [
              0,
              "#0d0887"
             ],
             [
              0.1111111111111111,
              "#46039f"
             ],
             [
              0.2222222222222222,
              "#7201a8"
             ],
             [
              0.3333333333333333,
              "#9c179e"
             ],
             [
              0.4444444444444444,
              "#bd3786"
             ],
             [
              0.5555555555555556,
              "#d8576b"
             ],
             [
              0.6666666666666666,
              "#ed7953"
             ],
             [
              0.7777777777777778,
              "#fb9f3a"
             ],
             [
              0.8888888888888888,
              "#fdca26"
             ],
             [
              1,
              "#f0f921"
             ]
            ],
            "type": "contour"
           }
          ],
          "contourcarpet": [
           {
            "colorbar": {
             "outlinewidth": 0,
             "ticks": ""
            },
            "type": "contourcarpet"
           }
          ],
          "heatmap": [
           {
            "colorbar": {
             "outlinewidth": 0,
             "ticks": ""
            },
            "colorscale": [
             [
              0,
              "#0d0887"
             ],
             [
              0.1111111111111111,
              "#46039f"
             ],
             [
              0.2222222222222222,
              "#7201a8"
             ],
             [
              0.3333333333333333,
              "#9c179e"
             ],
             [
              0.4444444444444444,
              "#bd3786"
             ],
             [
              0.5555555555555556,
              "#d8576b"
             ],
             [
              0.6666666666666666,
              "#ed7953"
             ],
             [
              0.7777777777777778,
              "#fb9f3a"
             ],
             [
              0.8888888888888888,
              "#fdca26"
             ],
             [
              1,
              "#f0f921"
             ]
            ],
            "type": "heatmap"
           }
          ],
          "heatmapgl": [
           {
            "colorbar": {
             "outlinewidth": 0,
             "ticks": ""
            },
            "colorscale": [
             [
              0,
              "#0d0887"
             ],
             [
              0.1111111111111111,
              "#46039f"
             ],
             [
              0.2222222222222222,
              "#7201a8"
             ],
             [
              0.3333333333333333,
              "#9c179e"
             ],
             [
              0.4444444444444444,
              "#bd3786"
             ],
             [
              0.5555555555555556,
              "#d8576b"
             ],
             [
              0.6666666666666666,
              "#ed7953"
             ],
             [
              0.7777777777777778,
              "#fb9f3a"
             ],
             [
              0.8888888888888888,
              "#fdca26"
             ],
             [
              1,
              "#f0f921"
             ]
            ],
            "type": "heatmapgl"
           }
          ],
          "histogram": [
           {
            "marker": {
             "pattern": {
              "fillmode": "overlay",
              "size": 10,
              "solidity": 0.2
             }
            },
            "type": "histogram"
           }
          ],
          "histogram2d": [
           {
            "colorbar": {
             "outlinewidth": 0,
             "ticks": ""
            },
            "colorscale": [
             [
              0,
              "#0d0887"
             ],
             [
              0.1111111111111111,
              "#46039f"
             ],
             [
              0.2222222222222222,
              "#7201a8"
             ],
             [
              0.3333333333333333,
              "#9c179e"
             ],
             [
              0.4444444444444444,
              "#bd3786"
             ],
             [
              0.5555555555555556,
              "#d8576b"
             ],
             [
              0.6666666666666666,
              "#ed7953"
             ],
             [
              0.7777777777777778,
              "#fb9f3a"
             ],
             [
              0.8888888888888888,
              "#fdca26"
             ],
             [
              1,
              "#f0f921"
             ]
            ],
            "type": "histogram2d"
           }
          ],
          "histogram2dcontour": [
           {
            "colorbar": {
             "outlinewidth": 0,
             "ticks": ""
            },
            "colorscale": [
             [
              0,
              "#0d0887"
             ],
             [
              0.1111111111111111,
              "#46039f"
             ],
             [
              0.2222222222222222,
              "#7201a8"
             ],
             [
              0.3333333333333333,
              "#9c179e"
             ],
             [
              0.4444444444444444,
              "#bd3786"
             ],
             [
              0.5555555555555556,
              "#d8576b"
             ],
             [
              0.6666666666666666,
              "#ed7953"
             ],
             [
              0.7777777777777778,
              "#fb9f3a"
             ],
             [
              0.8888888888888888,
              "#fdca26"
             ],
             [
              1,
              "#f0f921"
             ]
            ],
            "type": "histogram2dcontour"
           }
          ],
          "mesh3d": [
           {
            "colorbar": {
             "outlinewidth": 0,
             "ticks": ""
            },
            "type": "mesh3d"
           }
          ],
          "parcoords": [
           {
            "line": {
             "colorbar": {
              "outlinewidth": 0,
              "ticks": ""
             }
            },
            "type": "parcoords"
           }
          ],
          "pie": [
           {
            "automargin": true,
            "type": "pie"
           }
          ],
          "scatter": [
           {
            "fillpattern": {
             "fillmode": "overlay",
             "size": 10,
             "solidity": 0.2
            },
            "type": "scatter"
           }
          ],
          "scatter3d": [
           {
            "line": {
             "colorbar": {
              "outlinewidth": 0,
              "ticks": ""
             }
            },
            "marker": {
             "colorbar": {
              "outlinewidth": 0,
              "ticks": ""
             }
            },
            "type": "scatter3d"
           }
          ],
          "scattercarpet": [
           {
            "marker": {
             "colorbar": {
              "outlinewidth": 0,
              "ticks": ""
             }
            },
            "type": "scattercarpet"
           }
          ],
          "scattergeo": [
           {
            "marker": {
             "colorbar": {
              "outlinewidth": 0,
              "ticks": ""
             }
            },
            "type": "scattergeo"
           }
          ],
          "scattergl": [
           {
            "marker": {
             "colorbar": {
              "outlinewidth": 0,
              "ticks": ""
             }
            },
            "type": "scattergl"
           }
          ],
          "scattermapbox": [
           {
            "marker": {
             "colorbar": {
              "outlinewidth": 0,
              "ticks": ""
             }
            },
            "type": "scattermapbox"
           }
          ],
          "scatterpolar": [
           {
            "marker": {
             "colorbar": {
              "outlinewidth": 0,
              "ticks": ""
             }
            },
            "type": "scatterpolar"
           }
          ],
          "scatterpolargl": [
           {
            "marker": {
             "colorbar": {
              "outlinewidth": 0,
              "ticks": ""
             }
            },
            "type": "scatterpolargl"
           }
          ],
          "scatterternary": [
           {
            "marker": {
             "colorbar": {
              "outlinewidth": 0,
              "ticks": ""
             }
            },
            "type": "scatterternary"
           }
          ],
          "surface": [
           {
            "colorbar": {
             "outlinewidth": 0,
             "ticks": ""
            },
            "colorscale": [
             [
              0,
              "#0d0887"
             ],
             [
              0.1111111111111111,
              "#46039f"
             ],
             [
              0.2222222222222222,
              "#7201a8"
             ],
             [
              0.3333333333333333,
              "#9c179e"
             ],
             [
              0.4444444444444444,
              "#bd3786"
             ],
             [
              0.5555555555555556,
              "#d8576b"
             ],
             [
              0.6666666666666666,
              "#ed7953"
             ],
             [
              0.7777777777777778,
              "#fb9f3a"
             ],
             [
              0.8888888888888888,
              "#fdca26"
             ],
             [
              1,
              "#f0f921"
             ]
            ],
            "type": "surface"
           }
          ],
          "table": [
           {
            "cells": {
             "fill": {
              "color": "#EBF0F8"
             },
             "line": {
              "color": "white"
             }
            },
            "header": {
             "fill": {
              "color": "#C8D4E3"
             },
             "line": {
              "color": "white"
             }
            },
            "type": "table"
           }
          ]
         },
         "layout": {
          "annotationdefaults": {
           "arrowcolor": "#2a3f5f",
           "arrowhead": 0,
           "arrowwidth": 1
          },
          "autotypenumbers": "strict",
          "coloraxis": {
           "colorbar": {
            "outlinewidth": 0,
            "ticks": ""
           }
          },
          "colorscale": {
           "diverging": [
            [
             0,
             "#8e0152"
            ],
            [
             0.1,
             "#c51b7d"
            ],
            [
             0.2,
             "#de77ae"
            ],
            [
             0.3,
             "#f1b6da"
            ],
            [
             0.4,
             "#fde0ef"
            ],
            [
             0.5,
             "#f7f7f7"
            ],
            [
             0.6,
             "#e6f5d0"
            ],
            [
             0.7,
             "#b8e186"
            ],
            [
             0.8,
             "#7fbc41"
            ],
            [
             0.9,
             "#4d9221"
            ],
            [
             1,
             "#276419"
            ]
           ],
           "sequential": [
            [
             0,
             "#0d0887"
            ],
            [
             0.1111111111111111,
             "#46039f"
            ],
            [
             0.2222222222222222,
             "#7201a8"
            ],
            [
             0.3333333333333333,
             "#9c179e"
            ],
            [
             0.4444444444444444,
             "#bd3786"
            ],
            [
             0.5555555555555556,
             "#d8576b"
            ],
            [
             0.6666666666666666,
             "#ed7953"
            ],
            [
             0.7777777777777778,
             "#fb9f3a"
            ],
            [
             0.8888888888888888,
             "#fdca26"
            ],
            [
             1,
             "#f0f921"
            ]
           ],
           "sequentialminus": [
            [
             0,
             "#0d0887"
            ],
            [
             0.1111111111111111,
             "#46039f"
            ],
            [
             0.2222222222222222,
             "#7201a8"
            ],
            [
             0.3333333333333333,
             "#9c179e"
            ],
            [
             0.4444444444444444,
             "#bd3786"
            ],
            [
             0.5555555555555556,
             "#d8576b"
            ],
            [
             0.6666666666666666,
             "#ed7953"
            ],
            [
             0.7777777777777778,
             "#fb9f3a"
            ],
            [
             0.8888888888888888,
             "#fdca26"
            ],
            [
             1,
             "#f0f921"
            ]
           ]
          },
          "colorway": [
           "#636efa",
           "#EF553B",
           "#00cc96",
           "#ab63fa",
           "#FFA15A",
           "#19d3f3",
           "#FF6692",
           "#B6E880",
           "#FF97FF",
           "#FECB52"
          ],
          "font": {
           "color": "#2a3f5f"
          },
          "geo": {
           "bgcolor": "white",
           "lakecolor": "white",
           "landcolor": "#E5ECF6",
           "showlakes": true,
           "showland": true,
           "subunitcolor": "white"
          },
          "hoverlabel": {
           "align": "left"
          },
          "hovermode": "closest",
          "mapbox": {
           "style": "light"
          },
          "paper_bgcolor": "white",
          "plot_bgcolor": "#E5ECF6",
          "polar": {
           "angularaxis": {
            "gridcolor": "white",
            "linecolor": "white",
            "ticks": ""
           },
           "bgcolor": "#E5ECF6",
           "radialaxis": {
            "gridcolor": "white",
            "linecolor": "white",
            "ticks": ""
           }
          },
          "scene": {
           "xaxis": {
            "backgroundcolor": "#E5ECF6",
            "gridcolor": "white",
            "gridwidth": 2,
            "linecolor": "white",
            "showbackground": true,
            "ticks": "",
            "zerolinecolor": "white"
           },
           "yaxis": {
            "backgroundcolor": "#E5ECF6",
            "gridcolor": "white",
            "gridwidth": 2,
            "linecolor": "white",
            "showbackground": true,
            "ticks": "",
            "zerolinecolor": "white"
           },
           "zaxis": {
            "backgroundcolor": "#E5ECF6",
            "gridcolor": "white",
            "gridwidth": 2,
            "linecolor": "white",
            "showbackground": true,
            "ticks": "",
            "zerolinecolor": "white"
           }
          },
          "shapedefaults": {
           "line": {
            "color": "#2a3f5f"
           }
          },
          "ternary": {
           "aaxis": {
            "gridcolor": "white",
            "linecolor": "white",
            "ticks": ""
           },
           "baxis": {
            "gridcolor": "white",
            "linecolor": "white",
            "ticks": ""
           },
           "bgcolor": "#E5ECF6",
           "caxis": {
            "gridcolor": "white",
            "linecolor": "white",
            "ticks": ""
           }
          },
          "title": {
           "x": 0.05
          },
          "xaxis": {
           "automargin": true,
           "gridcolor": "white",
           "linecolor": "white",
           "ticks": "",
           "title": {
            "standoff": 15
           },
           "zerolinecolor": "white",
           "zerolinewidth": 2
          },
          "yaxis": {
           "automargin": true,
           "gridcolor": "white",
           "linecolor": "white",
           "ticks": "",
           "title": {
            "standoff": 15
           },
           "zerolinecolor": "white",
           "zerolinewidth": 2
          }
         }
        },
        "title": {
         "text": "Hyperparameter Importances"
        },
        "width": 900,
        "xaxis": {
         "autorange": true,
         "range": [
          0,
          0.26501477740141505
         ],
         "title": {
          "text": "Hyperparameter Importance"
         },
         "type": "linear"
        },
        "yaxis": {
         "autorange": true,
         "range": [
          -0.5,
          10.5
         ],
         "title": {
          "text": "Hyperparameter"
         },
         "type": "category"
        }
       }
      },
      "image/png": "[encoded data removed]",
      "text/html": [
       "<div>                            <div id=\"46e5a55c-3d4c-477a-9f84-318d309f303d\" class=\"plotly-graph-div\" style=\"height:400px; width:900px;\"></div>            <script type=\"text/javascript\">                require([\"plotly\"], function(Plotly) {                    window.PLOTLYENV=window.PLOTLYENV || {};                                    if (document.getElementById(\"46e5a55c-3d4c-477a-9f84-318d309f303d\")) {                    Plotly.newPlot(                        \"46e5a55c-3d4c-477a-9f84-318d309f303d\",                        [{\"cliponaxis\":false,\"hovertemplate\":[\"reg_alpha (FloatDistribution): 0.01314754731127858\\u003cextra\\u003e\\u003c\\u002fextra\\u003e\",\"reg_lambda (FloatDistribution): 0.022218609606651413\\u003cextra\\u003e\\u003c\\u002fextra\\u003e\",\"colsample_bynode (FloatDistribution): 0.04833655015618113\\u003cextra\\u003e\\u003c\\u002fextra\\u003e\",\"min_split_gain (FloatDistribution): 0.05313887786656027\\u003cextra\\u003e\\u003c\\u002fextra\\u003e\",\"learning_rate (FloatDistribution): 0.06164591737132855\\u003cextra\\u003e\\u003c\\u002fextra\\u003e\",\"max_depth (IntDistribution): 0.07404915287764133\\u003cextra\\u003e\\u003c\\u002fextra\\u003e\",\"min_child_samples (IntDistribution): 0.07501092310741271\\u003cextra\\u003e\\u003c\\u002fextra\\u003e\",\"subsample (FloatDistribution): 0.0935861795205084\\u003cextra\\u003e\\u003c\\u002fextra\\u003e\",\"n_estimators (IntDistribution): 0.12490200531582957\\u003cextra\\u003e\\u003c\\u002fextra\\u003e\",\"num_leaves (IntDistribution): 0.18220019833526377\\u003cextra\\u003e\\u003c\\u002fextra\\u003e\",\"colsample_bytree (FloatDistribution): 0.25176403853134427\\u003cextra\\u003e\\u003c\\u002fextra\\u003e\"],\"name\":\"Objective Value\",\"orientation\":\"h\",\"text\":[\"0.01\",\"0.02\",\"0.05\",\"0.05\",\"0.06\",\"0.07\",\"0.08\",\"0.09\",\"0.12\",\"0.18\",\"0.25\"],\"textposition\":\"outside\",\"x\":[0.01314754731127858,0.022218609606651413,0.04833655015618113,0.05313887786656027,0.06164591737132855,0.07404915287764133,0.07501092310741271,0.0935861795205084,0.12490200531582957,0.18220019833526377,0.25176403853134427],\"y\":[\"reg_alpha\",\"reg_lambda\",\"colsample_bynode\",\"min_split_gain\",\"learning_rate\",\"max_depth\",\"min_child_samples\",\"subsample\",\"n_estimators\",\"num_leaves\",\"colsample_bytree\"],\"type\":\"bar\"}],                        {\"title\":{\"text\":\"Hyperparameter Importances\"},\"xaxis\":{\"title\":{\"text\":\"Hyperparameter Importance\"}},\"yaxis\":{\"title\":{\"text\":\"Hyperparameter\"}},\"template\":{\"data\":{\"histogram2dcontour\":[{\"type\":\"histogram2dcontour\",\"colorbar\":{\"outlinewidth\":0,\"ticks\":\"\"},\"colorscale\":[[0.0,\"#0d0887\"],[0.1111111111111111,\"#46039f\"],[0.2222222222222222,\"#7201a8\"],[0.3333333333333333,\"#9c179e\"],[0.4444444444444444,\"#bd3786\"],[0.5555555555555556,\"#d8576b\"],[0.6666666666666666,\"#ed7953\"],[0.7777777777777778,\"#fb9f3a\"],[0.8888888888888888,\"#fdca26\"],[1.0,\"#f0f921\"]]}],\"choropleth\":[{\"type\":\"choropleth\",\"colorbar\":{\"outlinewidth\":0,\"ticks\":\"\"}}],\"histogram2d\":[{\"type\":\"histogram2d\",\"colorbar\":{\"outlinewidth\":0,\"ticks\":\"\"},\"colorscale\":[[0.0,\"#0d0887\"],[0.1111111111111111,\"#46039f\"],[0.2222222222222222,\"#7201a8\"],[0.3333333333333333,\"#9c179e\"],[0.4444444444444444,\"#bd3786\"],[0.5555555555555556,\"#d8576b\"],[0.6666666666666666,\"#ed7953\"],[0.7777777777777778,\"#fb9f3a\"],[0.8888888888888888,\"#fdca26\"],[1.0,\"#f0f921\"]]}],\"heatmap\":[{\"type\":\"heatmap\",\"colorbar\":{\"outlinewidth\":0,\"ticks\":\"\"},\"colorscale\":[[0.0,\"#0d0887\"],[0.1111111111111111,\"#46039f\"],[0.2222222222222222,\"#7201a8\"],[0.3333333333333333,\"#9c179e\"],[0.4444444444444444,\"#bd3786\"],[0.5555555555555556,\"#d8576b\"],[0.6666666666666666,\"#ed7953\"],[0.7777777777777778,\"#fb9f3a\"],[0.8888888888888888,\"#fdca26\"],[1.0,\"#f0f921\"]]}],\"heatmapgl\":[{\"type\":\"heatmapgl\",\"colorbar\":{\"outlinewidth\":0,\"ticks\":\"\"},\"colorscale\":[[0.0,\"#0d0887\"],[0.1111111111111111,\"#46039f\"],[0.2222222222222222,\"#7201a8\"],[0.3333333333333333,\"#9c179e\"],[0.4444444444444444,\"#bd3786\"],[0.5555555555555556,\"#d8576b\"],[0.6666666666666666,\"#ed7953\"],[0.7777777777777778,\"#fb9f3a\"],[0.8888888888888888,\"#fdca26\"],[1.0,\"#f0f921\"]]}],\"contourcarpet\":[{\"type\":\"contourcarpet\",\"colorbar\":{\"outlinewidth\":0,\"ticks\":\"\"}}],\"contour\":[{\"type\":\"contour\",\"colorbar\":{\"outlinewidth\":0,\"ticks\":\"\"},\"colorscale\":[[0.0,\"#0d0887\"],[0.1111111111111111,\"#46039f\"],[0.2222222222222222,\"#7201a8\"],[0.3333333333333333,\"#9c179e\"],[0.4444444444444444,\"#bd3786\"],[0.5555555555555556,\"#d8576b\"],[0.6666666666666666,\"#ed7953\"],[0.7777777777777778,\"#fb9f3a\"],[0.8888888888888888,\"#fdca26\"],[1.0,\"#f0f921\"]]}],\"surface\":[{\"type\":\"surface\",\"colorbar\":{\"outlinewidth\":0,\"ticks\":\"\"},\"colorscale\":[[0.0,\"#0d0887\"],[0.1111111111111111,\"#46039f\"],[0.2222222222222222,\"#7201a8\"],[0.3333333333333333,\"#9c179e\"],[0.4444444444444444,\"#bd3786\"],[0.5555555555555556,\"#d8576b\"],[0.6666666666666666,\"#ed7953\"],[0.7777777777777778,\"#fb9f3a\"],[0.8888888888888888,\"#fdca26\"],[1.0,\"#f0f921\"]]}],\"mesh3d\":[{\"type\":\"mesh3d\",\"colorbar\":{\"outlinewidth\":0,\"ticks\":\"\"}}],\"scatter\":[{\"fillpattern\":{\"fillmode\":\"overlay\",\"size\":10,\"solidity\":0.2},\"type\":\"scatter\"}],\"parcoords\":[{\"type\":\"parcoords\",\"line\":{\"colorbar\":{\"outlinewidth\":0,\"ticks\":\"\"}}}],\"scatterpolargl\":[{\"type\":\"scatterpolargl\",\"marker\":{\"colorbar\":{\"outlinewidth\":0,\"ticks\":\"\"}}}],\"bar\":[{\"error_x\":{\"color\":\"#2a3f5f\"},\"error_y\":{\"color\":\"#2a3f5f\"},\"marker\":{\"line\":{\"color\":\"#E5ECF6\",\"width\":0.5},\"pattern\":{\"fillmode\":\"overlay\",\"size\":10,\"solidity\":0.2}},\"type\":\"bar\"}],\"scattergeo\":[{\"type\":\"scattergeo\",\"marker\":{\"colorbar\":{\"outlinewidth\":0,\"ticks\":\"\"}}}],\"scatterpolar\":[{\"type\":\"scatterpolar\",\"marker\":{\"colorbar\":{\"outlinewidth\":0,\"ticks\":\"\"}}}],\"histogram\":[{\"marker\":{\"pattern\":{\"fillmode\":\"overlay\",\"size\":10,\"solidity\":0.2}},\"type\":\"histogram\"}],\"scattergl\":[{\"type\":\"scattergl\",\"marker\":{\"colorbar\":{\"outlinewidth\":0,\"ticks\":\"\"}}}],\"scatter3d\":[{\"type\":\"scatter3d\",\"line\":{\"colorbar\":{\"outlinewidth\":0,\"ticks\":\"\"}},\"marker\":{\"colorbar\":{\"outlinewidth\":0,\"ticks\":\"\"}}}],\"scattermapbox\":[{\"type\":\"scattermapbox\",\"marker\":{\"colorbar\":{\"outlinewidth\":0,\"ticks\":\"\"}}}],\"scatterternary\":[{\"type\":\"scatterternary\",\"marker\":{\"colorbar\":{\"outlinewidth\":0,\"ticks\":\"\"}}}],\"scattercarpet\":[{\"type\":\"scattercarpet\",\"marker\":{\"colorbar\":{\"outlinewidth\":0,\"ticks\":\"\"}}}],\"carpet\":[{\"aaxis\":{\"endlinecolor\":\"#2a3f5f\",\"gridcolor\":\"white\",\"linecolor\":\"white\",\"minorgridcolor\":\"white\",\"startlinecolor\":\"#2a3f5f\"},\"baxis\":{\"endlinecolor\":\"#2a3f5f\",\"gridcolor\":\"white\",\"linecolor\":\"white\",\"minorgridcolor\":\"white\",\"startlinecolor\":\"#2a3f5f\"},\"type\":\"carpet\"}],\"table\":[{\"cells\":{\"fill\":{\"color\":\"#EBF0F8\"},\"line\":{\"color\":\"white\"}},\"header\":{\"fill\":{\"color\":\"#C8D4E3\"},\"line\":{\"color\":\"white\"}},\"type\":\"table\"}],\"barpolar\":[{\"marker\":{\"line\":{\"color\":\"#E5ECF6\",\"width\":0.5},\"pattern\":{\"fillmode\":\"overlay\",\"size\":10,\"solidity\":0.2}},\"type\":\"barpolar\"}],\"pie\":[{\"automargin\":true,\"type\":\"pie\"}]},\"layout\":{\"autotypenumbers\":\"strict\",\"colorway\":[\"#636efa\",\"#EF553B\",\"#00cc96\",\"#ab63fa\",\"#FFA15A\",\"#19d3f3\",\"#FF6692\",\"#B6E880\",\"#FF97FF\",\"#FECB52\"],\"font\":{\"color\":\"#2a3f5f\"},\"hovermode\":\"closest\",\"hoverlabel\":{\"align\":\"left\"},\"paper_bgcolor\":\"white\",\"plot_bgcolor\":\"#E5ECF6\",\"polar\":{\"bgcolor\":\"#E5ECF6\",\"angularaxis\":{\"gridcolor\":\"white\",\"linecolor\":\"white\",\"ticks\":\"\"},\"radialaxis\":{\"gridcolor\":\"white\",\"linecolor\":\"white\",\"ticks\":\"\"}},\"ternary\":{\"bgcolor\":\"#E5ECF6\",\"aaxis\":{\"gridcolor\":\"white\",\"linecolor\":\"white\",\"ticks\":\"\"},\"baxis\":{\"gridcolor\":\"white\",\"linecolor\":\"white\",\"ticks\":\"\"},\"caxis\":{\"gridcolor\":\"white\",\"linecolor\":\"white\",\"ticks\":\"\"}},\"coloraxis\":{\"colorbar\":{\"outlinewidth\":0,\"ticks\":\"\"}},\"colorscale\":{\"sequential\":[[0.0,\"#0d0887\"],[0.1111111111111111,\"#46039f\"],[0.2222222222222222,\"#7201a8\"],[0.3333333333333333,\"#9c179e\"],[0.4444444444444444,\"#bd3786\"],[0.5555555555555556,\"#d8576b\"],[0.6666666666666666,\"#ed7953\"],[0.7777777777777778,\"#fb9f3a\"],[0.8888888888888888,\"#fdca26\"],[1.0,\"#f0f921\"]],\"sequentialminus\":[[0.0,\"#0d0887\"],[0.1111111111111111,\"#46039f\"],[0.2222222222222222,\"#7201a8\"],[0.3333333333333333,\"#9c179e\"],[0.4444444444444444,\"#bd3786\"],[0.5555555555555556,\"#d8576b\"],[0.6666666666666666,\"#ed7953\"],[0.7777777777777778,\"#fb9f3a\"],[0.8888888888888888,\"#fdca26\"],[1.0,\"#f0f921\"]],\"diverging\":[[0,\"#8e0152\"],[0.1,\"#c51b7d\"],[0.2,\"#de77ae\"],[0.3,\"#f1b6da\"],[0.4,\"#fde0ef\"],[0.5,\"#f7f7f7\"],[0.6,\"#e6f5d0\"],[0.7,\"#b8e186\"],[0.8,\"#7fbc41\"],[0.9,\"#4d9221\"],[1,\"#276419\"]]},\"xaxis\":{\"gridcolor\":\"white\",\"linecolor\":\"white\",\"ticks\":\"\",\"title\":{\"standoff\":15},\"zerolinecolor\":\"white\",\"automargin\":true,\"zerolinewidth\":2},\"yaxis\":{\"gridcolor\":\"white\",\"linecolor\":\"white\",\"ticks\":\"\",\"title\":{\"standoff\":15},\"zerolinecolor\":\"white\",\"automargin\":true,\"zerolinewidth\":2},\"scene\":{\"xaxis\":{\"backgroundcolor\":\"#E5ECF6\",\"gridcolor\":\"white\",\"linecolor\":\"white\",\"showbackground\":true,\"ticks\":\"\",\"zerolinecolor\":\"white\",\"gridwidth\":2},\"yaxis\":{\"backgroundcolor\":\"#E5ECF6\",\"gridcolor\":\"white\",\"linecolor\":\"white\",\"showbackground\":true,\"ticks\":\"\",\"zerolinecolor\":\"white\",\"gridwidth\":2},\"zaxis\":{\"backgroundcolor\":\"#E5ECF6\",\"gridcolor\":\"white\",\"linecolor\":\"white\",\"showbackground\":true,\"ticks\":\"\",\"zerolinecolor\":\"white\",\"gridwidth\":2}},\"shapedefaults\":{\"line\":{\"color\":\"#2a3f5f\"}},\"annotationdefaults\":{\"arrowcolor\":\"#2a3f5f\",\"arrowhead\":0,\"arrowwidth\":1},\"geo\":{\"bgcolor\":\"white\",\"landcolor\":\"#E5ECF6\",\"subunitcolor\":\"white\",\"showland\":true,\"showlakes\":true,\"lakecolor\":\"white\"},\"title\":{\"x\":0.05},\"mapbox\":{\"style\":\"light\"}}},\"autosize\":true,\"width\":900,\"height\":400},                        {\"responsive\": true}                    ).then(function(){\n",
       "                            \n",
       "var gd = document.getElementById('46e5a55c-3d4c-477a-9f84-318d309f303d');\n",
       "var x = new MutationObserver(function (mutations, observer) {{\n",
       "        var display = window.getComputedStyle(gd).display;\n",
       "        if (!display || display === 'none') {{\n",
       "            console.log([gd, 'removed!']);\n",
       "            Plotly.purge(gd);\n",
       "            observer.disconnect();\n",
       "        }}\n",
       "}});\n",
       "\n",
       "// Listen for the removal of the full notebook cells\n",
       "var notebookContainer = gd.closest('#notebook-container');\n",
       "if (notebookContainer) {{\n",
       "    x.observe(notebookContainer, {childList: true});\n",
       "}}\n",
       "\n",
       "// Listen for the clearing of the current output cell\n",
       "var outputEl = gd.closest('.output');\n",
       "if (outputEl) {{\n",
       "    x.observe(outputEl, {childList: true});\n",
       "}}\n",
       "\n",
       "                        })                };                });            </script>        </div>"
      ]
     },
     "metadata": {},
     "output_type": "display_data"
    }
   ],
   "source": [
    "fig = optuna.visualization.plot_param_importances(study)\n",
    "fig.update_layout(\n",
    "    autosize=True,\n",
    "    width=900,\n",
    "    height=400\n",
    ")\n",
    "fig.show()"
   ]
  },
  {
   "cell_type": "code",
   "execution_count": 101,
   "id": "fd41846e-aedb-48f1-80b4-ee22e037fadd",
   "metadata": {},
   "outputs": [
    {
     "data": {
      "text/plain": [
       "{'n_estimators': 249,\n",
       " 'learning_rate': 0.01746426728858227,\n",
       " 'max_depth': 9,\n",
       " 'num_leaves': 2,\n",
       " 'subsample': 0.993906627478148,\n",
       " 'colsample_bytree': 0.4547457713757653,\n",
       " 'colsample_bynode': 0.9086634718214998,\n",
       " 'reg_alpha': 0.012471449885660778,\n",
       " 'reg_lambda': 3.3246399401279993,\n",
       " 'min_split_gain': 3.562716847823201,\n",
       " 'min_child_samples': 25}"
      ]
     },
     "execution_count": 101,
     "metadata": {},
     "output_type": "execute_result"
    }
   ],
   "source": [
    "study.best_params"
   ]
  },
  {
   "cell_type": "code",
   "execution_count": 103,
   "id": "c8af62f8-5519-4bab-b2c4-874924325fa3",
   "metadata": {},
   "outputs": [],
   "source": [
    "X_train, X_valid, y_train, y_valid = train_test_split(X, y, test_size=0.25, stratify=y, random_state=42)\n",
    "model_g = LGBMClassifier(\n",
    "    objective='multiclass',\n",
    "    num_class=4,\n",
    "    verbose=-1,\n",
    "    n_jobs=-1,\n",
    "    **study.best_params\n",
    ").fit(X_train, y_train)"
   ]
  },
  {
   "cell_type": "code",
   "execution_count": 105,
   "id": "8eb978a7-a166-4773-afac-aff19908c3b1",
   "metadata": {},
   "outputs": [
    {
     "name": "stdout",
     "output_type": "stream",
     "text": [
      "              precision    recall  f1-score   support\n",
      "\n",
      "           0       0.83      1.00      0.90      1438\n",
      "           1       0.00      0.00      0.00       104\n",
      "           2       0.00      0.00      0.00       103\n",
      "           3       0.00      0.00      0.00        95\n",
      "\n",
      "    accuracy                           0.83      1740\n",
      "   macro avg       0.21      0.25      0.23      1740\n",
      "weighted avg       0.68      0.83      0.75      1740\n",
      "\n",
      "\n",
      "Weighted F1 Score: 0.747901882916314\n"
     ]
    },
    {
     "name": "stderr",
     "output_type": "stream",
     "text": [
      "/opt/anaconda3/envs/geoai/lib/python3.10/site-packages/sklearn/metrics/_classification.py:1509: UndefinedMetricWarning:\n",
      "\n",
      "Precision is ill-defined and being set to 0.0 in labels with no predicted samples. Use `zero_division` parameter to control this behavior.\n",
      "\n",
      "/opt/anaconda3/envs/geoai/lib/python3.10/site-packages/sklearn/metrics/_classification.py:1509: UndefinedMetricWarning:\n",
      "\n",
      "Precision is ill-defined and being set to 0.0 in labels with no predicted samples. Use `zero_division` parameter to control this behavior.\n",
      "\n",
      "/opt/anaconda3/envs/geoai/lib/python3.10/site-packages/sklearn/metrics/_classification.py:1509: UndefinedMetricWarning:\n",
      "\n",
      "Precision is ill-defined and being set to 0.0 in labels with no predicted samples. Use `zero_division` parameter to control this behavior.\n",
      "\n"
     ]
    }
   ],
   "source": [
    "# Evaluate the model\n",
    "y_pred = model_g.predict(X_valid)\n",
    "print(classification_report(y_valid, y_pred))\n",
    "f1 = f1_score(y_valid, y_pred, average='weighted')\n",
    "print(\"\\nWeighted F1 Score:\", f1)"
   ]
  },
  {
   "cell_type": "code",
   "execution_count": 71,
   "id": "fbcf32f5-cf94-4617-a390-deee0b080748",
   "metadata": {},
   "outputs": [
    {
     "data": {
      "image/png": "[encoded data removed]",
      "text/plain": [
       "<Figure size 1200x600 with 1 Axes>"
      ]
     },
     "metadata": {},
     "output_type": "display_data"
    }
   ],
   "source": [
    "# Feature Importance Plot\n",
    "importances = model.feature_importances_\n",
    "indices = np.argsort(importances)[::-1]\n",
    "\n",
    "# Plot the feature importances\n",
    "plt.figure(figsize=(12, 6))\n",
    "plt.title('Feature Importances')\n",
    "plt.bar(range(X.shape[1]), importances[indices], align='center')\n",
    "plt.xticks(range(X.shape[1]), X.columns[indices], rotation=90)\n",
    "plt.xlim([-1, X.shape[1]])\n",
    "plt.show()"
   ]
  },
  {
   "cell_type": "code",
   "execution_count": 73,
   "id": "6309897a-8024-4ddd-8580-0967e5e9eb97",
   "metadata": {},
   "outputs": [
    {
     "data": {
      "image/png": "[encoded data removed]",
      "text/plain": [
       "<Figure size 1000x800 with 2 Axes>"
      ]
     },
     "metadata": {},
     "output_type": "display_data"
    }
   ],
   "source": [
    "plot_confusion_matrix(y_valid, y_pred, normalize=True, title=\"Confusion Matrix\")"
   ]
  },
  {
   "cell_type": "code",
   "execution_count": null,
   "id": "55adf2e1-03b2-4b05-b787-29f51735aeb8",
   "metadata": {},
   "outputs": [],
   "source": [
    "import shap"
   ]
  },
  {
   "cell_type": "code",
   "execution_count": null,
   "id": "31f5b80d-3cca-4290-810e-ddb66eb63ba0",
   "metadata": {},
   "outputs": [],
   "source": [
    "%%time\n",
    "explainer = shap.TreeExplainer(model)\n",
    "shap_values = explainer.shap_values(X)"
   ]
  },
  {
   "cell_type": "code",
   "execution_count": null,
   "id": "6d5447c8-9132-4b31-a56a-31dccef85dbc",
   "metadata": {},
   "outputs": [],
   "source": []
  },
  {
   "cell_type": "markdown",
   "id": "89ce5552-d7c7-452a-9781-055b10416df8",
   "metadata": {},
   "source": [
    "## Model Training & Validation"
   ]
  },
  {
   "cell_type": "markdown",
   "id": "3b922b1f-8377-4f59-ae31-5c171427b272",
   "metadata": {},
   "source": [
    "### Balanced Random Forest Model"
   ]
  },
  {
   "cell_type": "code",
   "execution_count": 126,
   "id": "04d58624-6b81-4d96-9a56-a31143278e08",
   "metadata": {},
   "outputs": [
    {
     "name": "stdout",
     "output_type": "stream",
     "text": [
      "              precision    recall  f1-score   support\n",
      "\n",
      "           0       0.84      0.58      0.69      1050\n",
      "           1       0.14      0.31      0.19        77\n",
      "           2       0.05      0.13      0.07        75\n",
      "           3       0.04      0.10      0.06        69\n",
      "\n",
      "    accuracy                           0.51      1271\n",
      "   macro avg       0.27      0.28      0.25      1271\n",
      "weighted avg       0.71      0.51      0.59      1271\n",
      "\n",
      "\n",
      "Weighted F1 Score: 0.5856716006741445\n"
     ]
    }
   ],
   "source": [
    "brf = BalancedRandomForestClassifier(n_estimators=500, \n",
    "                                     max_depth=30,\n",
    "                                     min_samples_split=4,\n",
    "                                     random_state=42,\n",
    "                                    )\n",
    "brf.fit(X_train, y_train)\n",
    "\n",
    "\n",
    "# Evaluate the model\n",
    "y_pred = brf.predict(X_valid)\n",
    "print(classification_report(y_valid, y_pred))\n",
    "f1 = f1_score(y_valid, y_pred, average='weighted')\n",
    "print(\"\\nWeighted F1 Score:\", f1)"
   ]
  },
  {
   "cell_type": "code",
   "execution_count": 128,
   "id": "53c6de75-4333-4ae6-8c3b-e0e88b4659b9",
   "metadata": {},
   "outputs": [
    {
     "data": {
      "image/png": "[encoded data removed]",
      "text/plain": [
       "<Figure size 1200x600 with 1 Axes>"
      ]
     },
     "metadata": {},
     "output_type": "display_data"
    }
   ],
   "source": [
    "# Feature Importance Plot\n",
    "importances = brf.feature_importances_\n",
    "indices = np.argsort(importances)[::-1]\n",
    "\n",
    "# Plot the feature importances\n",
    "plt.figure(figsize=(12, 6))\n",
    "plt.title('Feature Importances')\n",
    "plt.bar(range(X.shape[1]), importances[indices], align='center')\n",
    "plt.xticks(range(X.shape[1]), X.columns[indices], rotation=90)\n",
    "plt.xlim([-1, X.shape[1]])\n",
    "plt.show()"
   ]
  },
  {
   "cell_type": "code",
   "execution_count": 130,
   "id": "43b2f0c7-88c3-47aa-b156-6edb72898ec3",
   "metadata": {},
   "outputs": [
    {
     "data": {
      "image/png": "[encoded data removed]",
      "text/plain": [
       "<Figure size 1000x800 with 2 Axes>"
      ]
     },
     "metadata": {},
     "output_type": "display_data"
    }
   ],
   "source": [
    "plot_confusion_matrix(y_valid, y_pred, normalize=True, title=\"Confusion Matrix\")"
   ]
  },
  {
   "cell_type": "code",
   "execution_count": 132,
   "id": "3ef19f6d-5833-4384-8956-4067ff065ea2",
   "metadata": {},
   "outputs": [
    {
     "data": {
      "text/plain": [
       "array([[0.38966667, 0.23933333, 0.15      , 0.221     ],\n",
       "       [0.36833333, 0.11333333, 0.25766667, 0.26066667],\n",
       "       [0.38366667, 0.18666667, 0.20266667, 0.227     ],\n",
       "       ...,\n",
       "       [0.39866667, 0.19533333, 0.22133333, 0.18466667],\n",
       "       [0.339     , 0.11966667, 0.239     , 0.30233333],\n",
       "       [0.37733333, 0.122     , 0.27266667, 0.228     ]])"
      ]
     },
     "execution_count": 132,
     "metadata": {},
     "output_type": "execute_result"
    }
   ],
   "source": [
    "brf.predict_proba(train_data.drop(columns=['target']))"
   ]
  },
  {
   "cell_type": "markdown",
   "id": "2596738b-7705-45d3-ad60-5a17911dfeae",
   "metadata": {},
   "source": [
    "### LGBM Model"
   ]
  },
  {
   "cell_type": "code",
   "execution_count": 175,
   "id": "8a90c56d-d85c-4ab7-8632-68a377e65409",
   "metadata": {},
   "outputs": [
    {
     "name": "stdout",
     "output_type": "stream",
     "text": [
      "[LightGBM] [Warning] Found whitespace in feature_names, replace with underlines\n",
      "[LightGBM] [Info] Total Bins 2671\n",
      "[LightGBM] [Info] Number of data points in the train set: 5084, number of used features: 21\n",
      "[LightGBM] [Warning] Found whitespace in feature_names, replace with underlines\n",
      "[LightGBM] [Info] Start training from score -1.386294\n",
      "[LightGBM] [Info] Start training from score -1.386294\n",
      "[LightGBM] [Info] Start training from score -1.386294\n",
      "[LightGBM] [Info] Start training from score -1.386294\n"
     ]
    },
    {
     "data": {
      "text/html": [
       "<style>#sk-container-id-8 {\n",
       "  /* Definition of color scheme common for light and dark mode */\n",
       "  --sklearn-color-text: black;\n",
       "  --sklearn-color-line: gray;\n",
       "  /* Definition of color scheme for unfitted estimators */\n",
       "  --sklearn-color-unfitted-level-0: #fff5e6;\n",
       "  --sklearn-color-unfitted-level-1: #f6e4d2;\n",
       "  --sklearn-color-unfitted-level-2: #ffe0b3;\n",
       "  --sklearn-color-unfitted-level-3: chocolate;\n",
       "  /* Definition of color scheme for fitted estimators */\n",
       "  --sklearn-color-fitted-level-0: #f0f8ff;\n",
       "  --sklearn-color-fitted-level-1: #d4ebff;\n",
       "  --sklearn-color-fitted-level-2: #b3dbfd;\n",
       "  --sklearn-color-fitted-level-3: cornflowerblue;\n",
       "\n",
       "  /* Specific color for light theme */\n",
       "  --sklearn-color-text-on-default-background: var(--sg-text-color, var(--theme-code-foreground, var(--jp-content-font-color1, black)));\n",
       "  --sklearn-color-background: var(--sg-background-color, var(--theme-background, var(--jp-layout-color0, white)));\n",
       "  --sklearn-color-border-box: var(--sg-text-color, var(--theme-code-foreground, var(--jp-content-font-color1, black)));\n",
       "  --sklearn-color-icon: #696969;\n",
       "\n",
       "  @media (prefers-color-scheme: dark) {\n",
       "    /* Redefinition of color scheme for dark theme */\n",
       "    --sklearn-color-text-on-default-background: var(--sg-text-color, var(--theme-code-foreground, var(--jp-content-font-color1, white)));\n",
       "    --sklearn-color-background: var(--sg-background-color, var(--theme-background, var(--jp-layout-color0, #111)));\n",
       "    --sklearn-color-border-box: var(--sg-text-color, var(--theme-code-foreground, var(--jp-content-font-color1, white)));\n",
       "    --sklearn-color-icon: #878787;\n",
       "  }\n",
       "}\n",
       "\n",
       "#sk-container-id-8 {\n",
       "  color: var(--sklearn-color-text);\n",
       "}\n",
       "\n",
       "#sk-container-id-8 pre {\n",
       "  padding: 0;\n",
       "}\n",
       "\n",
       "#sk-container-id-8 input.sk-hidden--visually {\n",
       "  border: 0;\n",
       "  clip: rect(1px 1px 1px 1px);\n",
       "  clip: rect(1px, 1px, 1px, 1px);\n",
       "  height: 1px;\n",
       "  margin: -1px;\n",
       "  overflow: hidden;\n",
       "  padding: 0;\n",
       "  position: absolute;\n",
       "  width: 1px;\n",
       "}\n",
       "\n",
       "#sk-container-id-8 div.sk-dashed-wrapped {\n",
       "  border: 1px dashed var(--sklearn-color-line);\n",
       "  margin: 0 0.4em 0.5em 0.4em;\n",
       "  box-sizing: border-box;\n",
       "  padding-bottom: 0.4em;\n",
       "  background-color: var(--sklearn-color-background);\n",
       "}\n",
       "\n",
       "#sk-container-id-8 div.sk-container {\n",
       "  /* jupyter's `normalize.less` sets `[hidden] { display: none; }`\n",
       "     but bootstrap.min.css set `[hidden] { display: none !important; }`\n",
       "     so we also need the `!important` here to be able to override the\n",
       "     default hidden behavior on the sphinx rendered scikit-learn.org.\n",
       "     See: https://github.com/scikit-learn/scikit-learn/issues/21755 */\n",
       "  display: inline-block !important;\n",
       "  position: relative;\n",
       "}\n",
       "\n",
       "#sk-container-id-8 div.sk-text-repr-fallback {\n",
       "  display: none;\n",
       "}\n",
       "\n",
       "div.sk-parallel-item,\n",
       "div.sk-serial,\n",
       "div.sk-item {\n",
       "  /* draw centered vertical line to link estimators */\n",
       "  background-image: linear-gradient(var(--sklearn-color-text-on-default-background), var(--sklearn-color-text-on-default-background));\n",
       "  background-size: 2px 100%;\n",
       "  background-repeat: no-repeat;\n",
       "  background-position: center center;\n",
       "}\n",
       "\n",
       "/* Parallel-specific style estimator block */\n",
       "\n",
       "#sk-container-id-8 div.sk-parallel-item::after {\n",
       "  content: \"\";\n",
       "  width: 100%;\n",
       "  border-bottom: 2px solid var(--sklearn-color-text-on-default-background);\n",
       "  flex-grow: 1;\n",
       "}\n",
       "\n",
       "#sk-container-id-8 div.sk-parallel {\n",
       "  display: flex;\n",
       "  align-items: stretch;\n",
       "  justify-content: center;\n",
       "  background-color: var(--sklearn-color-background);\n",
       "  position: relative;\n",
       "}\n",
       "\n",
       "#sk-container-id-8 div.sk-parallel-item {\n",
       "  display: flex;\n",
       "  flex-direction: column;\n",
       "}\n",
       "\n",
       "#sk-container-id-8 div.sk-parallel-item:first-child::after {\n",
       "  align-self: flex-end;\n",
       "  width: 50%;\n",
       "}\n",
       "\n",
       "#sk-container-id-8 div.sk-parallel-item:last-child::after {\n",
       "  align-self: flex-start;\n",
       "  width: 50%;\n",
       "}\n",
       "\n",
       "#sk-container-id-8 div.sk-parallel-item:only-child::after {\n",
       "  width: 0;\n",
       "}\n",
       "\n",
       "/* Serial-specific style estimator block */\n",
       "\n",
       "#sk-container-id-8 div.sk-serial {\n",
       "  display: flex;\n",
       "  flex-direction: column;\n",
       "  align-items: center;\n",
       "  background-color: var(--sklearn-color-background);\n",
       "  padding-right: 1em;\n",
       "  padding-left: 1em;\n",
       "}\n",
       "\n",
       "\n",
       "/* Toggleable style: style used for estimator/Pipeline/ColumnTransformer box that is\n",
       "clickable and can be expanded/collapsed.\n",
       "- Pipeline and ColumnTransformer use this feature and define the default style\n",
       "- Estimators will overwrite some part of the style using the `sk-estimator` class\n",
       "*/\n",
       "\n",
       "/* Pipeline and ColumnTransformer style (default) */\n",
       "\n",
       "#sk-container-id-8 div.sk-toggleable {\n",
       "  /* Default theme specific background. It is overwritten whether we have a\n",
       "  specific estimator or a Pipeline/ColumnTransformer */\n",
       "  background-color: var(--sklearn-color-background);\n",
       "}\n",
       "\n",
       "/* Toggleable label */\n",
       "#sk-container-id-8 label.sk-toggleable__label {\n",
       "  cursor: pointer;\n",
       "  display: block;\n",
       "  width: 100%;\n",
       "  margin-bottom: 0;\n",
       "  padding: 0.5em;\n",
       "  box-sizing: border-box;\n",
       "  text-align: center;\n",
       "}\n",
       "\n",
       "#sk-container-id-8 label.sk-toggleable__label-arrow:before {\n",
       "  /* Arrow on the left of the label */\n",
       "  content: \"▸\";\n",
       "  float: left;\n",
       "  margin-right: 0.25em;\n",
       "  color: var(--sklearn-color-icon);\n",
       "}\n",
       "\n",
       "#sk-container-id-8 label.sk-toggleable__label-arrow:hover:before {\n",
       "  color: var(--sklearn-color-text);\n",
       "}\n",
       "\n",
       "/* Toggleable content - dropdown */\n",
       "\n",
       "#sk-container-id-8 div.sk-toggleable__content {\n",
       "  max-height: 0;\n",
       "  max-width: 0;\n",
       "  overflow: hidden;\n",
       "  text-align: left;\n",
       "  /* unfitted */\n",
       "  background-color: var(--sklearn-color-unfitted-level-0);\n",
       "}\n",
       "\n",
       "#sk-container-id-8 div.sk-toggleable__content.fitted {\n",
       "  /* fitted */\n",
       "  background-color: var(--sklearn-color-fitted-level-0);\n",
       "}\n",
       "\n",
       "#sk-container-id-8 div.sk-toggleable__content pre {\n",
       "  margin: 0.2em;\n",
       "  border-radius: 0.25em;\n",
       "  color: var(--sklearn-color-text);\n",
       "  /* unfitted */\n",
       "  background-color: var(--sklearn-color-unfitted-level-0);\n",
       "}\n",
       "\n",
       "#sk-container-id-8 div.sk-toggleable__content.fitted pre {\n",
       "  /* unfitted */\n",
       "  background-color: var(--sklearn-color-fitted-level-0);\n",
       "}\n",
       "\n",
       "#sk-container-id-8 input.sk-toggleable__control:checked~div.sk-toggleable__content {\n",
       "  /* Expand drop-down */\n",
       "  max-height: 200px;\n",
       "  max-width: 100%;\n",
       "  overflow: auto;\n",
       "}\n",
       "\n",
       "#sk-container-id-8 input.sk-toggleable__control:checked~label.sk-toggleable__label-arrow:before {\n",
       "  content: \"▾\";\n",
       "}\n",
       "\n",
       "/* Pipeline/ColumnTransformer-specific style */\n",
       "\n",
       "#sk-container-id-8 div.sk-label input.sk-toggleable__control:checked~label.sk-toggleable__label {\n",
       "  color: var(--sklearn-color-text);\n",
       "  background-color: var(--sklearn-color-unfitted-level-2);\n",
       "}\n",
       "\n",
       "#sk-container-id-8 div.sk-label.fitted input.sk-toggleable__control:checked~label.sk-toggleable__label {\n",
       "  background-color: var(--sklearn-color-fitted-level-2);\n",
       "}\n",
       "\n",
       "/* Estimator-specific style */\n",
       "\n",
       "/* Colorize estimator box */\n",
       "#sk-container-id-8 div.sk-estimator input.sk-toggleable__control:checked~label.sk-toggleable__label {\n",
       "  /* unfitted */\n",
       "  background-color: var(--sklearn-color-unfitted-level-2);\n",
       "}\n",
       "\n",
       "#sk-container-id-8 div.sk-estimator.fitted input.sk-toggleable__control:checked~label.sk-toggleable__label {\n",
       "  /* fitted */\n",
       "  background-color: var(--sklearn-color-fitted-level-2);\n",
       "}\n",
       "\n",
       "#sk-container-id-8 div.sk-label label.sk-toggleable__label,\n",
       "#sk-container-id-8 div.sk-label label {\n",
       "  /* The background is the default theme color */\n",
       "  color: var(--sklearn-color-text-on-default-background);\n",
       "}\n",
       "\n",
       "/* On hover, darken the color of the background */\n",
       "#sk-container-id-8 div.sk-label:hover label.sk-toggleable__label {\n",
       "  color: var(--sklearn-color-text);\n",
       "  background-color: var(--sklearn-color-unfitted-level-2);\n",
       "}\n",
       "\n",
       "/* Label box, darken color on hover, fitted */\n",
       "#sk-container-id-8 div.sk-label.fitted:hover label.sk-toggleable__label.fitted {\n",
       "  color: var(--sklearn-color-text);\n",
       "  background-color: var(--sklearn-color-fitted-level-2);\n",
       "}\n",
       "\n",
       "/* Estimator label */\n",
       "\n",
       "#sk-container-id-8 div.sk-label label {\n",
       "  font-family: monospace;\n",
       "  font-weight: bold;\n",
       "  display: inline-block;\n",
       "  line-height: 1.2em;\n",
       "}\n",
       "\n",
       "#sk-container-id-8 div.sk-label-container {\n",
       "  text-align: center;\n",
       "}\n",
       "\n",
       "/* Estimator-specific */\n",
       "#sk-container-id-8 div.sk-estimator {\n",
       "  font-family: monospace;\n",
       "  border: 1px dotted var(--sklearn-color-border-box);\n",
       "  border-radius: 0.25em;\n",
       "  box-sizing: border-box;\n",
       "  margin-bottom: 0.5em;\n",
       "  /* unfitted */\n",
       "  background-color: var(--sklearn-color-unfitted-level-0);\n",
       "}\n",
       "\n",
       "#sk-container-id-8 div.sk-estimator.fitted {\n",
       "  /* fitted */\n",
       "  background-color: var(--sklearn-color-fitted-level-0);\n",
       "}\n",
       "\n",
       "/* on hover */\n",
       "#sk-container-id-8 div.sk-estimator:hover {\n",
       "  /* unfitted */\n",
       "  background-color: var(--sklearn-color-unfitted-level-2);\n",
       "}\n",
       "\n",
       "#sk-container-id-8 div.sk-estimator.fitted:hover {\n",
       "  /* fitted */\n",
       "  background-color: var(--sklearn-color-fitted-level-2);\n",
       "}\n",
       "\n",
       "/* Specification for estimator info (e.g. \"i\" and \"?\") */\n",
       "\n",
       "/* Common style for \"i\" and \"?\" */\n",
       "\n",
       ".sk-estimator-doc-link,\n",
       "a:link.sk-estimator-doc-link,\n",
       "a:visited.sk-estimator-doc-link {\n",
       "  float: right;\n",
       "  font-size: smaller;\n",
       "  line-height: 1em;\n",
       "  font-family: monospace;\n",
       "  background-color: var(--sklearn-color-background);\n",
       "  border-radius: 1em;\n",
       "  height: 1em;\n",
       "  width: 1em;\n",
       "  text-decoration: none !important;\n",
       "  margin-left: 1ex;\n",
       "  /* unfitted */\n",
       "  border: var(--sklearn-color-unfitted-level-1) 1pt solid;\n",
       "  color: var(--sklearn-color-unfitted-level-1);\n",
       "}\n",
       "\n",
       ".sk-estimator-doc-link.fitted,\n",
       "a:link.sk-estimator-doc-link.fitted,\n",
       "a:visited.sk-estimator-doc-link.fitted {\n",
       "  /* fitted */\n",
       "  border: var(--sklearn-color-fitted-level-1) 1pt solid;\n",
       "  color: var(--sklearn-color-fitted-level-1);\n",
       "}\n",
       "\n",
       "/* On hover */\n",
       "div.sk-estimator:hover .sk-estimator-doc-link:hover,\n",
       ".sk-estimator-doc-link:hover,\n",
       "div.sk-label-container:hover .sk-estimator-doc-link:hover,\n",
       ".sk-estimator-doc-link:hover {\n",
       "  /* unfitted */\n",
       "  background-color: var(--sklearn-color-unfitted-level-3);\n",
       "  color: var(--sklearn-color-background);\n",
       "  text-decoration: none;\n",
       "}\n",
       "\n",
       "div.sk-estimator.fitted:hover .sk-estimator-doc-link.fitted:hover,\n",
       ".sk-estimator-doc-link.fitted:hover,\n",
       "div.sk-label-container:hover .sk-estimator-doc-link.fitted:hover,\n",
       ".sk-estimator-doc-link.fitted:hover {\n",
       "  /* fitted */\n",
       "  background-color: var(--sklearn-color-fitted-level-3);\n",
       "  color: var(--sklearn-color-background);\n",
       "  text-decoration: none;\n",
       "}\n",
       "\n",
       "/* Span, style for the box shown on hovering the info icon */\n",
       ".sk-estimator-doc-link span {\n",
       "  display: none;\n",
       "  z-index: 9999;\n",
       "  position: relative;\n",
       "  font-weight: normal;\n",
       "  right: .2ex;\n",
       "  padding: .5ex;\n",
       "  margin: .5ex;\n",
       "  width: min-content;\n",
       "  min-width: 20ex;\n",
       "  max-width: 50ex;\n",
       "  color: var(--sklearn-color-text);\n",
       "  box-shadow: 2pt 2pt 4pt #999;\n",
       "  /* unfitted */\n",
       "  background: var(--sklearn-color-unfitted-level-0);\n",
       "  border: .5pt solid var(--sklearn-color-unfitted-level-3);\n",
       "}\n",
       "\n",
       ".sk-estimator-doc-link.fitted span {\n",
       "  /* fitted */\n",
       "  background: var(--sklearn-color-fitted-level-0);\n",
       "  border: var(--sklearn-color-fitted-level-3);\n",
       "}\n",
       "\n",
       ".sk-estimator-doc-link:hover span {\n",
       "  display: block;\n",
       "}\n",
       "\n",
       "/* \"?\"-specific style due to the `<a>` HTML tag */\n",
       "\n",
       "#sk-container-id-8 a.estimator_doc_link {\n",
       "  float: right;\n",
       "  font-size: 1rem;\n",
       "  line-height: 1em;\n",
       "  font-family: monospace;\n",
       "  background-color: var(--sklearn-color-background);\n",
       "  border-radius: 1rem;\n",
       "  height: 1rem;\n",
       "  width: 1rem;\n",
       "  text-decoration: none;\n",
       "  /* unfitted */\n",
       "  color: var(--sklearn-color-unfitted-level-1);\n",
       "  border: var(--sklearn-color-unfitted-level-1) 1pt solid;\n",
       "}\n",
       "\n",
       "#sk-container-id-8 a.estimator_doc_link.fitted {\n",
       "  /* fitted */\n",
       "  border: var(--sklearn-color-fitted-level-1) 1pt solid;\n",
       "  color: var(--sklearn-color-fitted-level-1);\n",
       "}\n",
       "\n",
       "/* On hover */\n",
       "#sk-container-id-8 a.estimator_doc_link:hover {\n",
       "  /* unfitted */\n",
       "  background-color: var(--sklearn-color-unfitted-level-3);\n",
       "  color: var(--sklearn-color-background);\n",
       "  text-decoration: none;\n",
       "}\n",
       "\n",
       "#sk-container-id-8 a.estimator_doc_link.fitted:hover {\n",
       "  /* fitted */\n",
       "  background-color: var(--sklearn-color-fitted-level-3);\n",
       "}\n",
       "</style><div id=\"sk-container-id-8\" class=\"sk-top-container\"><div class=\"sk-text-repr-fallback\"><pre>LGBMClassifier(class_weight=&#x27;balanced&#x27;, force_col_wise=True, learning_rate=0.05,\n",
       "               max_depth=30, n_estimators=200, random_state=42)</pre><b>In a Jupyter environment, please rerun this cell to show the HTML representation or trust the notebook. <br />On GitHub, the HTML representation is unable to render, please try loading this page with nbviewer.org.</b></div><div class=\"sk-container\" hidden><div class=\"sk-item\"><div class=\"sk-estimator fitted sk-toggleable\"><input class=\"sk-toggleable__control sk-hidden--visually\" id=\"sk-estimator-id-12\" type=\"checkbox\" checked><label for=\"sk-estimator-id-12\" class=\"sk-toggleable__label fitted sk-toggleable__label-arrow fitted\">&nbsp;LGBMClassifier<span class=\"sk-estimator-doc-link fitted\">i<span>Fitted</span></span></label><div class=\"sk-toggleable__content fitted\"><pre>LGBMClassifier(class_weight=&#x27;balanced&#x27;, force_col_wise=True, learning_rate=0.05,\n",
       "               max_depth=30, n_estimators=200, random_state=42)</pre></div> </div></div></div></div>"
      ],
      "text/plain": [
       "LGBMClassifier(class_weight='balanced', force_col_wise=True, learning_rate=0.05,\n",
       "               max_depth=30, n_estimators=200, random_state=42)"
      ]
     },
     "execution_count": 175,
     "metadata": {},
     "output_type": "execute_result"
    }
   ],
   "source": [
    "lgbm = LGBMClassifier(\n",
    "    class_weight='balanced',\n",
    "    max_depth = 30, \n",
    "    learning_rate = 0.05,\n",
    "    n_estimators = 200,\n",
    "    force_col_wise = True,\n",
    "    random_state=42,)\n",
    "\n",
    "lgbm.fit(X_train, y_train, eval_set = (X_valid, y_valid))"
   ]
  },
  {
   "cell_type": "code",
   "execution_count": 177,
   "id": "e6246af7-60b8-4ffd-b7f9-e6ce4b35964b",
   "metadata": {},
   "outputs": [
    {
     "name": "stdout",
     "output_type": "stream",
     "text": [
      "Classification Report:\n",
      "               precision    recall  f1-score   support\n",
      "\n",
      "     Healthy       0.84      0.87      0.85      1050\n",
      "    Diseased       0.14      0.13      0.13        77\n",
      "       Pests       0.10      0.08      0.09        75\n",
      "    Stressed       0.04      0.03      0.03        69\n",
      "\n",
      "    accuracy                           0.73      1271\n",
      "   macro avg       0.28      0.28      0.28      1271\n",
      "weighted avg       0.71      0.73      0.72      1271\n",
      "\n",
      "\n",
      "Weighted F1 Score: 0.718771925942331\n"
     ]
    }
   ],
   "source": [
    "# Predict on the validation set\n",
    "y_pred = lgbm.predict(X_valid)\n",
    "\n",
    "# Generate classification report and weighted F1 score\n",
    "classification_rep = classification_report(y_valid, y_pred, target_names=list(category_mapper.keys()))\n",
    "f1 = f1_score(y_valid, y_pred, average='weighted')\n",
    "\n",
    "# Print model evaluation metrics\n",
    "print(\"Classification Report:\\n\", classification_rep)\n",
    "print(\"\\nWeighted F1 Score:\", f1)"
   ]
  },
  {
   "cell_type": "code",
   "execution_count": 179,
   "id": "eb84db97-44b7-4a6b-bff4-37dd93810d90",
   "metadata": {},
   "outputs": [
    {
     "data": {
      "image/png": "[encoded data removed]",
      "text/plain": [
       "<Figure size 1200x600 with 1 Axes>"
      ]
     },
     "metadata": {},
     "output_type": "display_data"
    }
   ],
   "source": [
    "# Feature Importance Plot\n",
    "importances = lgbm.feature_importances_\n",
    "indices = np.argsort(importances)[::-1]\n",
    "\n",
    "# Plot the feature importances\n",
    "plt.figure(figsize=(12, 6))\n",
    "plt.title('Feature Importances for LGBM model')\n",
    "plt.bar(range(X.shape[1]), importances[indices], align='center')\n",
    "plt.xticks(range(X.shape[1]), X.columns[indices], rotation=90)\n",
    "plt.xlim([-1, X.shape[1]])\n",
    "plt.show()"
   ]
  },
  {
   "cell_type": "code",
   "execution_count": 181,
   "id": "448e1f9b-1723-4b6c-a686-bfdca61c992c",
   "metadata": {},
   "outputs": [
    {
     "data": {
      "image/png": "[encoded data removed]",
      "text/plain": [
       "<Figure size 1000x800 with 2 Axes>"
      ]
     },
     "metadata": {},
     "output_type": "display_data"
    }
   ],
   "source": [
    "plot_confusion_matrix(y_valid, y_pred, normalize=True, title=\"Confusion Matrix\")"
   ]
  },
  {
   "cell_type": "markdown",
   "id": "c9ef34f3-f0fb-475e-b717-3f1d91ca4138",
   "metadata": {},
   "source": [
    "## Ensemble Model"
   ]
  },
  {
   "cell_type": "code",
   "execution_count": 183,
   "id": "0605d228-8f72-4274-af2d-32ca5bda56f3",
   "metadata": {},
   "outputs": [],
   "source": [
    "from sklearn.multiclass import OneVsRestClassifier\n",
    "ov_classifier = OneVsRestClassifier(lgbm)"
   ]
  },
  {
   "cell_type": "code",
   "execution_count": 185,
   "id": "99290e0d-88b5-42a9-8b15-ed7982a3beb5",
   "metadata": {},
   "outputs": [
    {
     "name": "stdout",
     "output_type": "stream",
     "text": [
      "[LightGBM] [Warning] Found whitespace in feature_names, replace with underlines\n",
      "[LightGBM] [Info] Number of positive: 4198, number of negative: 886\n",
      "[LightGBM] [Info] Total Bins 2671\n",
      "[LightGBM] [Info] Number of data points in the train set: 5084, number of used features: 21\n",
      "[LightGBM] [Info] [binary:BoostFromScore]: pavg=0.500000 -> initscore=-0.000000\n",
      "[LightGBM] [Info] Start training from score -0.000000\n",
      "[LightGBM] [Warning] Found whitespace in feature_names, replace with underlines\n",
      "[LightGBM] [Info] Number of positive: 308, number of negative: 4776\n",
      "[LightGBM] [Info] Total Bins 2671\n",
      "[LightGBM] [Info] Number of data points in the train set: 5084, number of used features: 21\n",
      "[LightGBM] [Info] [binary:BoostFromScore]: pavg=0.500000 -> initscore=-0.000000\n",
      "[LightGBM] [Info] Start training from score -0.000000\n",
      "[LightGBM] [Warning] Found whitespace in feature_names, replace with underlines\n",
      "[LightGBM] [Info] Number of positive: 302, number of negative: 4782\n",
      "[LightGBM] [Info] Total Bins 2671\n",
      "[LightGBM] [Info] Number of data points in the train set: 5084, number of used features: 21\n",
      "[LightGBM] [Info] [binary:BoostFromScore]: pavg=0.500000 -> initscore=-0.000000\n",
      "[LightGBM] [Info] Start training from score -0.000000\n",
      "[LightGBM] [Warning] Found whitespace in feature_names, replace with underlines\n",
      "[LightGBM] [Info] Number of positive: 276, number of negative: 4808\n",
      "[LightGBM] [Info] Total Bins 2671\n",
      "[LightGBM] [Info] Number of data points in the train set: 5084, number of used features: 21\n",
      "[LightGBM] [Info] [binary:BoostFromScore]: pavg=0.500000 -> initscore=0.000000\n",
      "[LightGBM] [Info] Start training from score 0.000000\n"
     ]
    },
    {
     "data": {
      "text/html": [
       "<style>#sk-container-id-9 {\n",
       "  /* Definition of color scheme common for light and dark mode */\n",
       "  --sklearn-color-text: black;\n",
       "  --sklearn-color-line: gray;\n",
       "  /* Definition of color scheme for unfitted estimators */\n",
       "  --sklearn-color-unfitted-level-0: #fff5e6;\n",
       "  --sklearn-color-unfitted-level-1: #f6e4d2;\n",
       "  --sklearn-color-unfitted-level-2: #ffe0b3;\n",
       "  --sklearn-color-unfitted-level-3: chocolate;\n",
       "  /* Definition of color scheme for fitted estimators */\n",
       "  --sklearn-color-fitted-level-0: #f0f8ff;\n",
       "  --sklearn-color-fitted-level-1: #d4ebff;\n",
       "  --sklearn-color-fitted-level-2: #b3dbfd;\n",
       "  --sklearn-color-fitted-level-3: cornflowerblue;\n",
       "\n",
       "  /* Specific color for light theme */\n",
       "  --sklearn-color-text-on-default-background: var(--sg-text-color, var(--theme-code-foreground, var(--jp-content-font-color1, black)));\n",
       "  --sklearn-color-background: var(--sg-background-color, var(--theme-background, var(--jp-layout-color0, white)));\n",
       "  --sklearn-color-border-box: var(--sg-text-color, var(--theme-code-foreground, var(--jp-content-font-color1, black)));\n",
       "  --sklearn-color-icon: #696969;\n",
       "\n",
       "  @media (prefers-color-scheme: dark) {\n",
       "    /* Redefinition of color scheme for dark theme */\n",
       "    --sklearn-color-text-on-default-background: var(--sg-text-color, var(--theme-code-foreground, var(--jp-content-font-color1, white)));\n",
       "    --sklearn-color-background: var(--sg-background-color, var(--theme-background, var(--jp-layout-color0, #111)));\n",
       "    --sklearn-color-border-box: var(--sg-text-color, var(--theme-code-foreground, var(--jp-content-font-color1, white)));\n",
       "    --sklearn-color-icon: #878787;\n",
       "  }\n",
       "}\n",
       "\n",
       "#sk-container-id-9 {\n",
       "  color: var(--sklearn-color-text);\n",
       "}\n",
       "\n",
       "#sk-container-id-9 pre {\n",
       "  padding: 0;\n",
       "}\n",
       "\n",
       "#sk-container-id-9 input.sk-hidden--visually {\n",
       "  border: 0;\n",
       "  clip: rect(1px 1px 1px 1px);\n",
       "  clip: rect(1px, 1px, 1px, 1px);\n",
       "  height: 1px;\n",
       "  margin: -1px;\n",
       "  overflow: hidden;\n",
       "  padding: 0;\n",
       "  position: absolute;\n",
       "  width: 1px;\n",
       "}\n",
       "\n",
       "#sk-container-id-9 div.sk-dashed-wrapped {\n",
       "  border: 1px dashed var(--sklearn-color-line);\n",
       "  margin: 0 0.4em 0.5em 0.4em;\n",
       "  box-sizing: border-box;\n",
       "  padding-bottom: 0.4em;\n",
       "  background-color: var(--sklearn-color-background);\n",
       "}\n",
       "\n",
       "#sk-container-id-9 div.sk-container {\n",
       "  /* jupyter's `normalize.less` sets `[hidden] { display: none; }`\n",
       "     but bootstrap.min.css set `[hidden] { display: none !important; }`\n",
       "     so we also need the `!important` here to be able to override the\n",
       "     default hidden behavior on the sphinx rendered scikit-learn.org.\n",
       "     See: https://github.com/scikit-learn/scikit-learn/issues/21755 */\n",
       "  display: inline-block !important;\n",
       "  position: relative;\n",
       "}\n",
       "\n",
       "#sk-container-id-9 div.sk-text-repr-fallback {\n",
       "  display: none;\n",
       "}\n",
       "\n",
       "div.sk-parallel-item,\n",
       "div.sk-serial,\n",
       "div.sk-item {\n",
       "  /* draw centered vertical line to link estimators */\n",
       "  background-image: linear-gradient(var(--sklearn-color-text-on-default-background), var(--sklearn-color-text-on-default-background));\n",
       "  background-size: 2px 100%;\n",
       "  background-repeat: no-repeat;\n",
       "  background-position: center center;\n",
       "}\n",
       "\n",
       "/* Parallel-specific style estimator block */\n",
       "\n",
       "#sk-container-id-9 div.sk-parallel-item::after {\n",
       "  content: \"\";\n",
       "  width: 100%;\n",
       "  border-bottom: 2px solid var(--sklearn-color-text-on-default-background);\n",
       "  flex-grow: 1;\n",
       "}\n",
       "\n",
       "#sk-container-id-9 div.sk-parallel {\n",
       "  display: flex;\n",
       "  align-items: stretch;\n",
       "  justify-content: center;\n",
       "  background-color: var(--sklearn-color-background);\n",
       "  position: relative;\n",
       "}\n",
       "\n",
       "#sk-container-id-9 div.sk-parallel-item {\n",
       "  display: flex;\n",
       "  flex-direction: column;\n",
       "}\n",
       "\n",
       "#sk-container-id-9 div.sk-parallel-item:first-child::after {\n",
       "  align-self: flex-end;\n",
       "  width: 50%;\n",
       "}\n",
       "\n",
       "#sk-container-id-9 div.sk-parallel-item:last-child::after {\n",
       "  align-self: flex-start;\n",
       "  width: 50%;\n",
       "}\n",
       "\n",
       "#sk-container-id-9 div.sk-parallel-item:only-child::after {\n",
       "  width: 0;\n",
       "}\n",
       "\n",
       "/* Serial-specific style estimator block */\n",
       "\n",
       "#sk-container-id-9 div.sk-serial {\n",
       "  display: flex;\n",
       "  flex-direction: column;\n",
       "  align-items: center;\n",
       "  background-color: var(--sklearn-color-background);\n",
       "  padding-right: 1em;\n",
       "  padding-left: 1em;\n",
       "}\n",
       "\n",
       "\n",
       "/* Toggleable style: style used for estimator/Pipeline/ColumnTransformer box that is\n",
       "clickable and can be expanded/collapsed.\n",
       "- Pipeline and ColumnTransformer use this feature and define the default style\n",
       "- Estimators will overwrite some part of the style using the `sk-estimator` class\n",
       "*/\n",
       "\n",
       "/* Pipeline and ColumnTransformer style (default) */\n",
       "\n",
       "#sk-container-id-9 div.sk-toggleable {\n",
       "  /* Default theme specific background. It is overwritten whether we have a\n",
       "  specific estimator or a Pipeline/ColumnTransformer */\n",
       "  background-color: var(--sklearn-color-background);\n",
       "}\n",
       "\n",
       "/* Toggleable label */\n",
       "#sk-container-id-9 label.sk-toggleable__label {\n",
       "  cursor: pointer;\n",
       "  display: block;\n",
       "  width: 100%;\n",
       "  margin-bottom: 0;\n",
       "  padding: 0.5em;\n",
       "  box-sizing: border-box;\n",
       "  text-align: center;\n",
       "}\n",
       "\n",
       "#sk-container-id-9 label.sk-toggleable__label-arrow:before {\n",
       "  /* Arrow on the left of the label */\n",
       "  content: \"▸\";\n",
       "  float: left;\n",
       "  margin-right: 0.25em;\n",
       "  color: var(--sklearn-color-icon);\n",
       "}\n",
       "\n",
       "#sk-container-id-9 label.sk-toggleable__label-arrow:hover:before {\n",
       "  color: var(--sklearn-color-text);\n",
       "}\n",
       "\n",
       "/* Toggleable content - dropdown */\n",
       "\n",
       "#sk-container-id-9 div.sk-toggleable__content {\n",
       "  max-height: 0;\n",
       "  max-width: 0;\n",
       "  overflow: hidden;\n",
       "  text-align: left;\n",
       "  /* unfitted */\n",
       "  background-color: var(--sklearn-color-unfitted-level-0);\n",
       "}\n",
       "\n",
       "#sk-container-id-9 div.sk-toggleable__content.fitted {\n",
       "  /* fitted */\n",
       "  background-color: var(--sklearn-color-fitted-level-0);\n",
       "}\n",
       "\n",
       "#sk-container-id-9 div.sk-toggleable__content pre {\n",
       "  margin: 0.2em;\n",
       "  border-radius: 0.25em;\n",
       "  color: var(--sklearn-color-text);\n",
       "  /* unfitted */\n",
       "  background-color: var(--sklearn-color-unfitted-level-0);\n",
       "}\n",
       "\n",
       "#sk-container-id-9 div.sk-toggleable__content.fitted pre {\n",
       "  /* unfitted */\n",
       "  background-color: var(--sklearn-color-fitted-level-0);\n",
       "}\n",
       "\n",
       "#sk-container-id-9 input.sk-toggleable__control:checked~div.sk-toggleable__content {\n",
       "  /* Expand drop-down */\n",
       "  max-height: 200px;\n",
       "  max-width: 100%;\n",
       "  overflow: auto;\n",
       "}\n",
       "\n",
       "#sk-container-id-9 input.sk-toggleable__control:checked~label.sk-toggleable__label-arrow:before {\n",
       "  content: \"▾\";\n",
       "}\n",
       "\n",
       "/* Pipeline/ColumnTransformer-specific style */\n",
       "\n",
       "#sk-container-id-9 div.sk-label input.sk-toggleable__control:checked~label.sk-toggleable__label {\n",
       "  color: var(--sklearn-color-text);\n",
       "  background-color: var(--sklearn-color-unfitted-level-2);\n",
       "}\n",
       "\n",
       "#sk-container-id-9 div.sk-label.fitted input.sk-toggleable__control:checked~label.sk-toggleable__label {\n",
       "  background-color: var(--sklearn-color-fitted-level-2);\n",
       "}\n",
       "\n",
       "/* Estimator-specific style */\n",
       "\n",
       "/* Colorize estimator box */\n",
       "#sk-container-id-9 div.sk-estimator input.sk-toggleable__control:checked~label.sk-toggleable__label {\n",
       "  /* unfitted */\n",
       "  background-color: var(--sklearn-color-unfitted-level-2);\n",
       "}\n",
       "\n",
       "#sk-container-id-9 div.sk-estimator.fitted input.sk-toggleable__control:checked~label.sk-toggleable__label {\n",
       "  /* fitted */\n",
       "  background-color: var(--sklearn-color-fitted-level-2);\n",
       "}\n",
       "\n",
       "#sk-container-id-9 div.sk-label label.sk-toggleable__label,\n",
       "#sk-container-id-9 div.sk-label label {\n",
       "  /* The background is the default theme color */\n",
       "  color: var(--sklearn-color-text-on-default-background);\n",
       "}\n",
       "\n",
       "/* On hover, darken the color of the background */\n",
       "#sk-container-id-9 div.sk-label:hover label.sk-toggleable__label {\n",
       "  color: var(--sklearn-color-text);\n",
       "  background-color: var(--sklearn-color-unfitted-level-2);\n",
       "}\n",
       "\n",
       "/* Label box, darken color on hover, fitted */\n",
       "#sk-container-id-9 div.sk-label.fitted:hover label.sk-toggleable__label.fitted {\n",
       "  color: var(--sklearn-color-text);\n",
       "  background-color: var(--sklearn-color-fitted-level-2);\n",
       "}\n",
       "\n",
       "/* Estimator label */\n",
       "\n",
       "#sk-container-id-9 div.sk-label label {\n",
       "  font-family: monospace;\n",
       "  font-weight: bold;\n",
       "  display: inline-block;\n",
       "  line-height: 1.2em;\n",
       "}\n",
       "\n",
       "#sk-container-id-9 div.sk-label-container {\n",
       "  text-align: center;\n",
       "}\n",
       "\n",
       "/* Estimator-specific */\n",
       "#sk-container-id-9 div.sk-estimator {\n",
       "  font-family: monospace;\n",
       "  border: 1px dotted var(--sklearn-color-border-box);\n",
       "  border-radius: 0.25em;\n",
       "  box-sizing: border-box;\n",
       "  margin-bottom: 0.5em;\n",
       "  /* unfitted */\n",
       "  background-color: var(--sklearn-color-unfitted-level-0);\n",
       "}\n",
       "\n",
       "#sk-container-id-9 div.sk-estimator.fitted {\n",
       "  /* fitted */\n",
       "  background-color: var(--sklearn-color-fitted-level-0);\n",
       "}\n",
       "\n",
       "/* on hover */\n",
       "#sk-container-id-9 div.sk-estimator:hover {\n",
       "  /* unfitted */\n",
       "  background-color: var(--sklearn-color-unfitted-level-2);\n",
       "}\n",
       "\n",
       "#sk-container-id-9 div.sk-estimator.fitted:hover {\n",
       "  /* fitted */\n",
       "  background-color: var(--sklearn-color-fitted-level-2);\n",
       "}\n",
       "\n",
       "/* Specification for estimator info (e.g. \"i\" and \"?\") */\n",
       "\n",
       "/* Common style for \"i\" and \"?\" */\n",
       "\n",
       ".sk-estimator-doc-link,\n",
       "a:link.sk-estimator-doc-link,\n",
       "a:visited.sk-estimator-doc-link {\n",
       "  float: right;\n",
       "  font-size: smaller;\n",
       "  line-height: 1em;\n",
       "  font-family: monospace;\n",
       "  background-color: var(--sklearn-color-background);\n",
       "  border-radius: 1em;\n",
       "  height: 1em;\n",
       "  width: 1em;\n",
       "  text-decoration: none !important;\n",
       "  margin-left: 1ex;\n",
       "  /* unfitted */\n",
       "  border: var(--sklearn-color-unfitted-level-1) 1pt solid;\n",
       "  color: var(--sklearn-color-unfitted-level-1);\n",
       "}\n",
       "\n",
       ".sk-estimator-doc-link.fitted,\n",
       "a:link.sk-estimator-doc-link.fitted,\n",
       "a:visited.sk-estimator-doc-link.fitted {\n",
       "  /* fitted */\n",
       "  border: var(--sklearn-color-fitted-level-1) 1pt solid;\n",
       "  color: var(--sklearn-color-fitted-level-1);\n",
       "}\n",
       "\n",
       "/* On hover */\n",
       "div.sk-estimator:hover .sk-estimator-doc-link:hover,\n",
       ".sk-estimator-doc-link:hover,\n",
       "div.sk-label-container:hover .sk-estimator-doc-link:hover,\n",
       ".sk-estimator-doc-link:hover {\n",
       "  /* unfitted */\n",
       "  background-color: var(--sklearn-color-unfitted-level-3);\n",
       "  color: var(--sklearn-color-background);\n",
       "  text-decoration: none;\n",
       "}\n",
       "\n",
       "div.sk-estimator.fitted:hover .sk-estimator-doc-link.fitted:hover,\n",
       ".sk-estimator-doc-link.fitted:hover,\n",
       "div.sk-label-container:hover .sk-estimator-doc-link.fitted:hover,\n",
       ".sk-estimator-doc-link.fitted:hover {\n",
       "  /* fitted */\n",
       "  background-color: var(--sklearn-color-fitted-level-3);\n",
       "  color: var(--sklearn-color-background);\n",
       "  text-decoration: none;\n",
       "}\n",
       "\n",
       "/* Span, style for the box shown on hovering the info icon */\n",
       ".sk-estimator-doc-link span {\n",
       "  display: none;\n",
       "  z-index: 9999;\n",
       "  position: relative;\n",
       "  font-weight: normal;\n",
       "  right: .2ex;\n",
       "  padding: .5ex;\n",
       "  margin: .5ex;\n",
       "  width: min-content;\n",
       "  min-width: 20ex;\n",
       "  max-width: 50ex;\n",
       "  color: var(--sklearn-color-text);\n",
       "  box-shadow: 2pt 2pt 4pt #999;\n",
       "  /* unfitted */\n",
       "  background: var(--sklearn-color-unfitted-level-0);\n",
       "  border: .5pt solid var(--sklearn-color-unfitted-level-3);\n",
       "}\n",
       "\n",
       ".sk-estimator-doc-link.fitted span {\n",
       "  /* fitted */\n",
       "  background: var(--sklearn-color-fitted-level-0);\n",
       "  border: var(--sklearn-color-fitted-level-3);\n",
       "}\n",
       "\n",
       ".sk-estimator-doc-link:hover span {\n",
       "  display: block;\n",
       "}\n",
       "\n",
       "/* \"?\"-specific style due to the `<a>` HTML tag */\n",
       "\n",
       "#sk-container-id-9 a.estimator_doc_link {\n",
       "  float: right;\n",
       "  font-size: 1rem;\n",
       "  line-height: 1em;\n",
       "  font-family: monospace;\n",
       "  background-color: var(--sklearn-color-background);\n",
       "  border-radius: 1rem;\n",
       "  height: 1rem;\n",
       "  width: 1rem;\n",
       "  text-decoration: none;\n",
       "  /* unfitted */\n",
       "  color: var(--sklearn-color-unfitted-level-1);\n",
       "  border: var(--sklearn-color-unfitted-level-1) 1pt solid;\n",
       "}\n",
       "\n",
       "#sk-container-id-9 a.estimator_doc_link.fitted {\n",
       "  /* fitted */\n",
       "  border: var(--sklearn-color-fitted-level-1) 1pt solid;\n",
       "  color: var(--sklearn-color-fitted-level-1);\n",
       "}\n",
       "\n",
       "/* On hover */\n",
       "#sk-container-id-9 a.estimator_doc_link:hover {\n",
       "  /* unfitted */\n",
       "  background-color: var(--sklearn-color-unfitted-level-3);\n",
       "  color: var(--sklearn-color-background);\n",
       "  text-decoration: none;\n",
       "}\n",
       "\n",
       "#sk-container-id-9 a.estimator_doc_link.fitted:hover {\n",
       "  /* fitted */\n",
       "  background-color: var(--sklearn-color-fitted-level-3);\n",
       "}\n",
       "</style><div id=\"sk-container-id-9\" class=\"sk-top-container\"><div class=\"sk-text-repr-fallback\"><pre>OneVsRestClassifier(estimator=LGBMClassifier(class_weight=&#x27;balanced&#x27;,\n",
       "                                             force_col_wise=True,\n",
       "                                             learning_rate=0.05, max_depth=30,\n",
       "                                             n_estimators=200,\n",
       "                                             random_state=42))</pre><b>In a Jupyter environment, please rerun this cell to show the HTML representation or trust the notebook. <br />On GitHub, the HTML representation is unable to render, please try loading this page with nbviewer.org.</b></div><div class=\"sk-container\" hidden><div class=\"sk-item sk-dashed-wrapped\"><div class=\"sk-label-container\"><div class=\"sk-label fitted sk-toggleable\"><input class=\"sk-toggleable__control sk-hidden--visually\" id=\"sk-estimator-id-13\" type=\"checkbox\" ><label for=\"sk-estimator-id-13\" class=\"sk-toggleable__label fitted sk-toggleable__label-arrow fitted\">&nbsp;&nbsp;OneVsRestClassifier<a class=\"sk-estimator-doc-link fitted\" rel=\"noreferrer\" target=\"_blank\" href=\"https://scikit-learn.org/1.4/modules/generated/sklearn.multiclass.OneVsRestClassifier.html\">?<span>Documentation for OneVsRestClassifier</span></a><span class=\"sk-estimator-doc-link fitted\">i<span>Fitted</span></span></label><div class=\"sk-toggleable__content fitted\"><pre>OneVsRestClassifier(estimator=LGBMClassifier(class_weight=&#x27;balanced&#x27;,\n",
       "                                             force_col_wise=True,\n",
       "                                             learning_rate=0.05, max_depth=30,\n",
       "                                             n_estimators=200,\n",
       "                                             random_state=42))</pre></div> </div></div><div class=\"sk-parallel\"><div class=\"sk-parallel-item\"><div class=\"sk-item\"><div class=\"sk-label-container\"><div class=\"sk-label fitted sk-toggleable\"><input class=\"sk-toggleable__control sk-hidden--visually\" id=\"sk-estimator-id-14\" type=\"checkbox\" ><label for=\"sk-estimator-id-14\" class=\"sk-toggleable__label fitted sk-toggleable__label-arrow fitted\">estimator: LGBMClassifier</label><div class=\"sk-toggleable__content fitted\"><pre>LGBMClassifier(class_weight=&#x27;balanced&#x27;, force_col_wise=True, learning_rate=0.05,\n",
       "               max_depth=30, n_estimators=200, random_state=42)</pre></div> </div></div><div class=\"sk-serial\"><div class=\"sk-item\"><div class=\"sk-estimator fitted sk-toggleable\"><input class=\"sk-toggleable__control sk-hidden--visually\" id=\"sk-estimator-id-15\" type=\"checkbox\" ><label for=\"sk-estimator-id-15\" class=\"sk-toggleable__label fitted sk-toggleable__label-arrow fitted\">LGBMClassifier</label><div class=\"sk-toggleable__content fitted\"><pre>LGBMClassifier(class_weight=&#x27;balanced&#x27;, force_col_wise=True, learning_rate=0.05,\n",
       "               max_depth=30, n_estimators=200, random_state=42)</pre></div> </div></div></div></div></div></div></div></div></div>"
      ],
      "text/plain": [
       "OneVsRestClassifier(estimator=LGBMClassifier(class_weight='balanced',\n",
       "                                             force_col_wise=True,\n",
       "                                             learning_rate=0.05, max_depth=30,\n",
       "                                             n_estimators=200,\n",
       "                                             random_state=42))"
      ]
     },
     "execution_count": 185,
     "metadata": {},
     "output_type": "execute_result"
    }
   ],
   "source": [
    "ov_classifier.fit(X_train, y_train)"
   ]
  },
  {
   "cell_type": "code",
   "execution_count": 187,
   "id": "c4f6fb1d-19e3-4756-90bc-c2bea78c4d10",
   "metadata": {},
   "outputs": [
    {
     "name": "stdout",
     "output_type": "stream",
     "text": [
      "Classification Report:\n",
      "               precision    recall  f1-score   support\n",
      "\n",
      "     Healthy       0.83      0.90      0.86      1050\n",
      "    Diseased       0.19      0.12      0.14        77\n",
      "       Pests       0.11      0.07      0.08        75\n",
      "    Stressed       0.05      0.03      0.04        69\n",
      "\n",
      "    accuracy                           0.75      1271\n",
      "   macro avg       0.29      0.28      0.28      1271\n",
      "weighted avg       0.70      0.75      0.73      1271\n",
      "\n",
      "\n",
      "Weighted F1 Score: 0.7264812163899429\n"
     ]
    }
   ],
   "source": [
    "# Predict on the validation set\n",
    "y_pred = ov_classifier.predict(X_valid)\n",
    "\n",
    "# Generate classification report and weighted F1 score\n",
    "classification_rep = classification_report(y_valid, y_pred, target_names=list(category_mapper.keys()))\n",
    "f1 = f1_score(y_valid, y_pred, average='weighted')\n",
    "\n",
    "# Print model evaluation metrics\n",
    "print(\"Classification Report:\\n\", classification_rep)\n",
    "print(\"\\nWeighted F1 Score:\", f1)"
   ]
  },
  {
   "cell_type": "code",
   "execution_count": 189,
   "id": "fe96dfcc-c918-432b-a942-d5f6ba90be9b",
   "metadata": {},
   "outputs": [
    {
     "data": {
      "image/png": "[encoded data removed]",
      "text/plain": [
       "<Figure size 1000x800 with 2 Axes>"
      ]
     },
     "metadata": {},
     "output_type": "display_data"
    }
   ],
   "source": [
    "plot_confusion_matrix(y_valid, y_pred, normalize=True, title=\"Confusion Matrix\")"
   ]
  },
  {
   "cell_type": "markdown",
   "id": "ffb3fe58-10ab-4d92-ab31-7fe3fdffb19f",
   "metadata": {},
   "source": [
    "## Model Test & Submission"
   ]
  },
  {
   "cell_type": "code",
   "execution_count": 101,
   "id": "344f81f1-13ae-4f73-bf79-154055e4815c",
   "metadata": {},
   "outputs": [
    {
     "data": {
      "text/html": [
       "<div>\n",
       "<style scoped>\n",
       "    .dataframe tbody tr th:only-of-type {\n",
       "        vertical-align: middle;\n",
       "    }\n",
       "\n",
       "    .dataframe tbody tr th {\n",
       "        vertical-align: top;\n",
       "    }\n",
       "\n",
       "    .dataframe thead th {\n",
       "        text-align: right;\n",
       "    }\n",
       "</style>\n",
       "<table border=\"1\" class=\"dataframe\">\n",
       "  <thead>\n",
       "    <tr style=\"text-align: right;\">\n",
       "      <th></th>\n",
       "      <th>FarmID</th>\n",
       "      <th>Crop</th>\n",
       "      <th>State</th>\n",
       "      <th>District</th>\n",
       "      <th>Sub-District</th>\n",
       "      <th>SDate</th>\n",
       "      <th>HDate</th>\n",
       "      <th>CropCoveredArea</th>\n",
       "      <th>CHeight</th>\n",
       "      <th>CNext</th>\n",
       "      <th>...</th>\n",
       "      <th>EVI</th>\n",
       "      <th>NDWI</th>\n",
       "      <th>GNDVI</th>\n",
       "      <th>SAVI</th>\n",
       "      <th>MSAVI</th>\n",
       "      <th>MoistureIndex</th>\n",
       "      <th>NDRE</th>\n",
       "      <th>TDays</th>\n",
       "      <th>category</th>\n",
       "      <th>CCCI</th>\n",
       "    </tr>\n",
       "  </thead>\n",
       "  <tbody>\n",
       "    <tr>\n",
       "      <th>0</th>\n",
       "      <td>85197</td>\n",
       "      <td>Paddy</td>\n",
       "      <td>Telangana</td>\n",
       "      <td>Medak</td>\n",
       "      <td>Nizampet</td>\n",
       "      <td>2023-11-12</td>\n",
       "      <td>2024-05-14</td>\n",
       "      <td>81</td>\n",
       "      <td>99</td>\n",
       "      <td>Lentil</td>\n",
       "      <td>...</td>\n",
       "      <td>0.477818</td>\n",
       "      <td>-0.186501</td>\n",
       "      <td>0.186501</td>\n",
       "      <td>0.166871</td>\n",
       "      <td>0.160190</td>\n",
       "      <td>-0.052240</td>\n",
       "      <td>0.018060</td>\n",
       "      <td>184</td>\n",
       "      <td>Healthy</td>\n",
       "      <td>0.096003</td>\n",
       "    </tr>\n",
       "    <tr>\n",
       "      <th>1</th>\n",
       "      <td>779677</td>\n",
       "      <td>Paddy</td>\n",
       "      <td>Telangana</td>\n",
       "      <td>Medak</td>\n",
       "      <td>Nizampet</td>\n",
       "      <td>2023-12-20</td>\n",
       "      <td>2024-05-28</td>\n",
       "      <td>91</td>\n",
       "      <td>63</td>\n",
       "      <td>Lentil</td>\n",
       "      <td>...</td>\n",
       "      <td>0.136052</td>\n",
       "      <td>-0.063854</td>\n",
       "      <td>0.063854</td>\n",
       "      <td>0.045236</td>\n",
       "      <td>0.045388</td>\n",
       "      <td>0.295778</td>\n",
       "      <td>0.013461</td>\n",
       "      <td>160</td>\n",
       "      <td>Healthy</td>\n",
       "      <td>0.299717</td>\n",
       "    </tr>\n",
       "    <tr>\n",
       "      <th>2</th>\n",
       "      <td>1331840</td>\n",
       "      <td>Paddy</td>\n",
       "      <td>Telangana</td>\n",
       "      <td>Medak</td>\n",
       "      <td>Nizampet</td>\n",
       "      <td>2023-11-29</td>\n",
       "      <td>2024-05-18</td>\n",
       "      <td>94</td>\n",
       "      <td>89</td>\n",
       "      <td>Pea</td>\n",
       "      <td>...</td>\n",
       "      <td>0.199967</td>\n",
       "      <td>-0.114407</td>\n",
       "      <td>0.114407</td>\n",
       "      <td>0.071668</td>\n",
       "      <td>0.069689</td>\n",
       "      <td>0.002065</td>\n",
       "      <td>0.014237</td>\n",
       "      <td>171</td>\n",
       "      <td>Healthy</td>\n",
       "      <td>0.180321</td>\n",
       "    </tr>\n",
       "    <tr>\n",
       "      <th>3</th>\n",
       "      <td>483053</td>\n",
       "      <td>Paddy</td>\n",
       "      <td>Telangana</td>\n",
       "      <td>Medak</td>\n",
       "      <td>Nizampet</td>\n",
       "      <td>2023-01-11</td>\n",
       "      <td>2024-04-27</td>\n",
       "      <td>83</td>\n",
       "      <td>78</td>\n",
       "      <td>Pea</td>\n",
       "      <td>...</td>\n",
       "      <td>0.292677</td>\n",
       "      <td>-0.224060</td>\n",
       "      <td>0.224060</td>\n",
       "      <td>0.176058</td>\n",
       "      <td>0.165684</td>\n",
       "      <td>0.090542</td>\n",
       "      <td>0.016683</td>\n",
       "      <td>472</td>\n",
       "      <td>Healthy</td>\n",
       "      <td>0.078465</td>\n",
       "    </tr>\n",
       "    <tr>\n",
       "      <th>4</th>\n",
       "      <td>542945</td>\n",
       "      <td>Paddy</td>\n",
       "      <td>Telangana</td>\n",
       "      <td>Medak</td>\n",
       "      <td>Nizampet</td>\n",
       "      <td>2023-04-11</td>\n",
       "      <td>2024-04-25</td>\n",
       "      <td>82</td>\n",
       "      <td>53</td>\n",
       "      <td>Lentil</td>\n",
       "      <td>...</td>\n",
       "      <td>0.369881</td>\n",
       "      <td>-0.234168</td>\n",
       "      <td>0.234168</td>\n",
       "      <td>0.192828</td>\n",
       "      <td>0.183282</td>\n",
       "      <td>0.064641</td>\n",
       "      <td>0.021081</td>\n",
       "      <td>380</td>\n",
       "      <td>Healthy</td>\n",
       "      <td>0.092908</td>\n",
       "    </tr>\n",
       "  </tbody>\n",
       "</table>\n",
       "<p>5 rows × 31 columns</p>\n",
       "</div>"
      ],
      "text/plain": [
       "    FarmID   Crop      State District Sub-District       SDate       HDate  \\\n",
       "0    85197  Paddy  Telangana    Medak     Nizampet  2023-11-12  2024-05-14   \n",
       "1   779677  Paddy  Telangana    Medak     Nizampet  2023-12-20  2024-05-28   \n",
       "2  1331840  Paddy  Telangana    Medak     Nizampet  2023-11-29  2024-05-18   \n",
       "3   483053  Paddy  Telangana    Medak     Nizampet  2023-01-11  2024-04-27   \n",
       "4   542945  Paddy  Telangana    Medak     Nizampet  2023-04-11  2024-04-25   \n",
       "\n",
       "   CropCoveredArea  CHeight   CNext  ...       EVI      NDWI     GNDVI  \\\n",
       "0               81       99  Lentil  ...  0.477818 -0.186501  0.186501   \n",
       "1               91       63  Lentil  ...  0.136052 -0.063854  0.063854   \n",
       "2               94       89     Pea  ...  0.199967 -0.114407  0.114407   \n",
       "3               83       78     Pea  ...  0.292677 -0.224060  0.224060   \n",
       "4               82       53  Lentil  ...  0.369881 -0.234168  0.234168   \n",
       "\n",
       "       SAVI     MSAVI  MoistureIndex      NDRE TDays category      CCCI  \n",
       "0  0.166871  0.160190      -0.052240  0.018060   184  Healthy  0.096003  \n",
       "1  0.045236  0.045388       0.295778  0.013461   160  Healthy  0.299717  \n",
       "2  0.071668  0.069689       0.002065  0.014237   171  Healthy  0.180321  \n",
       "3  0.176058  0.165684       0.090542  0.016683   472  Healthy  0.078465  \n",
       "4  0.192828  0.183282       0.064641  0.021081   380  Healthy  0.092908  \n",
       "\n",
       "[5 rows x 31 columns]"
      ]
     },
     "execution_count": 101,
     "metadata": {},
     "output_type": "execute_result"
    }
   ],
   "source": [
    "t_data = pd.read_csv('data/processed/test_s2_indices.csv', index_col=0)\n",
    "t_data.rename(columns={'Target': 'category'}, inplace=True)\n",
    "t_data['CCCI'] = t_data.NDRE/t_data.NDVI\n",
    "t_data.head()"
   ]
  },
  {
   "cell_type": "code",
   "execution_count": 103,
   "id": "8fe4be66-6f98-473c-9c03-bbde583194b9",
   "metadata": {},
   "outputs": [
    {
     "data": {
      "text/html": [
       "<div>\n",
       "<style scoped>\n",
       "    .dataframe tbody tr th:only-of-type {\n",
       "        vertical-align: middle;\n",
       "    }\n",
       "\n",
       "    .dataframe tbody tr th {\n",
       "        vertical-align: top;\n",
       "    }\n",
       "\n",
       "    .dataframe thead th {\n",
       "        text-align: right;\n",
       "    }\n",
       "</style>\n",
       "<table border=\"1\" class=\"dataframe\">\n",
       "  <thead>\n",
       "    <tr style=\"text-align: right;\">\n",
       "      <th></th>\n",
       "      <th>Crop</th>\n",
       "      <th>CropCoveredArea</th>\n",
       "      <th>CHeight</th>\n",
       "      <th>CNext</th>\n",
       "      <th>CLast</th>\n",
       "      <th>CTransp</th>\n",
       "      <th>IrriType</th>\n",
       "      <th>IrriSource</th>\n",
       "      <th>IrriCount</th>\n",
       "      <th>WaterCov</th>\n",
       "      <th>...</th>\n",
       "      <th>EVI</th>\n",
       "      <th>NDWI</th>\n",
       "      <th>GNDVI</th>\n",
       "      <th>SAVI</th>\n",
       "      <th>MSAVI</th>\n",
       "      <th>MoistureIndex</th>\n",
       "      <th>NDRE</th>\n",
       "      <th>TDays</th>\n",
       "      <th>CCCI</th>\n",
       "      <th>target</th>\n",
       "    </tr>\n",
       "  </thead>\n",
       "  <tbody>\n",
       "    <tr>\n",
       "      <th>0</th>\n",
       "      <td>5</td>\n",
       "      <td>81</td>\n",
       "      <td>99</td>\n",
       "      <td>0</td>\n",
       "      <td>4</td>\n",
       "      <td>3</td>\n",
       "      <td>1</td>\n",
       "      <td>1</td>\n",
       "      <td>5</td>\n",
       "      <td>81</td>\n",
       "      <td>...</td>\n",
       "      <td>0.477818</td>\n",
       "      <td>-0.186501</td>\n",
       "      <td>0.186501</td>\n",
       "      <td>0.166871</td>\n",
       "      <td>0.160190</td>\n",
       "      <td>-0.052240</td>\n",
       "      <td>0.018060</td>\n",
       "      <td>184</td>\n",
       "      <td>0.096003</td>\n",
       "      <td>0</td>\n",
       "    </tr>\n",
       "    <tr>\n",
       "      <th>1</th>\n",
       "      <td>5</td>\n",
       "      <td>91</td>\n",
       "      <td>63</td>\n",
       "      <td>0</td>\n",
       "      <td>4</td>\n",
       "      <td>3</td>\n",
       "      <td>1</td>\n",
       "      <td>0</td>\n",
       "      <td>5</td>\n",
       "      <td>97</td>\n",
       "      <td>...</td>\n",
       "      <td>0.136052</td>\n",
       "      <td>-0.063854</td>\n",
       "      <td>0.063854</td>\n",
       "      <td>0.045236</td>\n",
       "      <td>0.045388</td>\n",
       "      <td>0.295778</td>\n",
       "      <td>0.013461</td>\n",
       "      <td>160</td>\n",
       "      <td>0.299717</td>\n",
       "      <td>0</td>\n",
       "    </tr>\n",
       "    <tr>\n",
       "      <th>2</th>\n",
       "      <td>5</td>\n",
       "      <td>94</td>\n",
       "      <td>89</td>\n",
       "      <td>4</td>\n",
       "      <td>0</td>\n",
       "      <td>3</td>\n",
       "      <td>1</td>\n",
       "      <td>0</td>\n",
       "      <td>5</td>\n",
       "      <td>88</td>\n",
       "      <td>...</td>\n",
       "      <td>0.199967</td>\n",
       "      <td>-0.114407</td>\n",
       "      <td>0.114407</td>\n",
       "      <td>0.071668</td>\n",
       "      <td>0.069689</td>\n",
       "      <td>0.002065</td>\n",
       "      <td>0.014237</td>\n",
       "      <td>171</td>\n",
       "      <td>0.180321</td>\n",
       "      <td>0</td>\n",
       "    </tr>\n",
       "    <tr>\n",
       "      <th>3</th>\n",
       "      <td>5</td>\n",
       "      <td>83</td>\n",
       "      <td>78</td>\n",
       "      <td>4</td>\n",
       "      <td>0</td>\n",
       "      <td>3</td>\n",
       "      <td>1</td>\n",
       "      <td>0</td>\n",
       "      <td>5</td>\n",
       "      <td>98</td>\n",
       "      <td>...</td>\n",
       "      <td>0.292677</td>\n",
       "      <td>-0.224060</td>\n",
       "      <td>0.224060</td>\n",
       "      <td>0.176058</td>\n",
       "      <td>0.165684</td>\n",
       "      <td>0.090542</td>\n",
       "      <td>0.016683</td>\n",
       "      <td>472</td>\n",
       "      <td>0.078465</td>\n",
       "      <td>0</td>\n",
       "    </tr>\n",
       "    <tr>\n",
       "      <th>4</th>\n",
       "      <td>5</td>\n",
       "      <td>82</td>\n",
       "      <td>53</td>\n",
       "      <td>0</td>\n",
       "      <td>4</td>\n",
       "      <td>3</td>\n",
       "      <td>1</td>\n",
       "      <td>0</td>\n",
       "      <td>6</td>\n",
       "      <td>98</td>\n",
       "      <td>...</td>\n",
       "      <td>0.369881</td>\n",
       "      <td>-0.234168</td>\n",
       "      <td>0.234168</td>\n",
       "      <td>0.192828</td>\n",
       "      <td>0.183282</td>\n",
       "      <td>0.064641</td>\n",
       "      <td>0.021081</td>\n",
       "      <td>380</td>\n",
       "      <td>0.092908</td>\n",
       "      <td>0</td>\n",
       "    </tr>\n",
       "  </tbody>\n",
       "</table>\n",
       "<p>5 rows × 23 columns</p>\n",
       "</div>"
      ],
      "text/plain": [
       "   Crop  CropCoveredArea  CHeight  CNext  CLast  CTransp  IrriType  \\\n",
       "0     5               81       99      0      4        3         1   \n",
       "1     5               91       63      0      4        3         1   \n",
       "2     5               94       89      4      0        3         1   \n",
       "3     5               83       78      4      0        3         1   \n",
       "4     5               82       53      0      4        3         1   \n",
       "\n",
       "   IrriSource  IrriCount  WaterCov  ...       EVI      NDWI     GNDVI  \\\n",
       "0           1          5        81  ...  0.477818 -0.186501  0.186501   \n",
       "1           0          5        97  ...  0.136052 -0.063854  0.063854   \n",
       "2           0          5        88  ...  0.199967 -0.114407  0.114407   \n",
       "3           0          5        98  ...  0.292677 -0.224060  0.224060   \n",
       "4           0          6        98  ...  0.369881 -0.234168  0.234168   \n",
       "\n",
       "       SAVI     MSAVI  MoistureIndex      NDRE  TDays      CCCI  target  \n",
       "0  0.166871  0.160190      -0.052240  0.018060    184  0.096003       0  \n",
       "1  0.045236  0.045388       0.295778  0.013461    160  0.299717       0  \n",
       "2  0.071668  0.069689       0.002065  0.014237    171  0.180321       0  \n",
       "3  0.176058  0.165684       0.090542  0.016683    472  0.078465       0  \n",
       "4  0.192828  0.183282       0.064641  0.021081    380  0.092908       0  \n",
       "\n",
       "[5 rows x 23 columns]"
      ]
     },
     "execution_count": 103,
     "metadata": {},
     "output_type": "execute_result"
    }
   ],
   "source": [
    "## Data Preprocessing \n",
    "t_data['SDate'] = pd.to_datetime(t_data.SDate)\n",
    "t_data['HDate'] = pd.to_datetime(t_data.HDate)\n",
    "t_data['TDays'] = (t_data.HDate - t_data.SDate).dt.days\n",
    "to_drop = ['FarmID', 'State', 'District', 'Sub-District',\n",
    "       'SDate', 'HDate', 'geometry', 'tif_path']\n",
    "test = t_data.drop(columns=to_drop)\n",
    "test_data = prepare_model_data(test)\n",
    "test_data.head()"
   ]
  },
  {
   "cell_type": "code",
   "execution_count": 105,
   "id": "e923c0e0-c5f8-4d0e-bf66-dceb0c0388a1",
   "metadata": {},
   "outputs": [
    {
     "name": "stdout",
     "output_type": "stream",
     "text": [
      "<class 'pandas.core.frame.DataFrame'>\n",
      "Index: 2718 entries, 0 to 2717\n",
      "Data columns (total 18 columns):\n",
      " #   Column           Non-Null Count  Dtype  \n",
      "---  ------           --------------  -----  \n",
      " 0   NDVI             2718 non-null   float64\n",
      " 1   EVI              2718 non-null   float64\n",
      " 2   NDRE             2718 non-null   float64\n",
      " 3   CCCI             2718 non-null   float64\n",
      " 4   TDays            2718 non-null   int64  \n",
      " 5   Season           2718 non-null   int64  \n",
      " 6   MoistureIndex    2718 non-null   float64\n",
      " 7   CTransp          2718 non-null   int64  \n",
      " 8   WaterCov         2718 non-null   int64  \n",
      " 9   CLast            2718 non-null   int64  \n",
      " 10  IrriSource       2718 non-null   int64  \n",
      " 11  CropCoveredArea  2718 non-null   int64  \n",
      " 12  ExpYield         2718 non-null   int64  \n",
      " 13  Crop             2718 non-null   int64  \n",
      " 14  IrriCount        2718 non-null   int64  \n",
      " 15  CHeight          2718 non-null   int64  \n",
      " 16  CNext            2718 non-null   int64  \n",
      " 17  IrriType         2718 non-null   int64  \n",
      "dtypes: float64(5), int64(13)\n",
      "memory usage: 403.5 KB\n"
     ]
    },
    {
     "name": "stderr",
     "output_type": "stream",
     "text": [
      "/var/folders/6s/pmgl89tn2bz6y4blfg2jymbh0000gn/T/ipykernel_82208/546214617.py:3: SettingWithCopyWarning:\n",
      "\n",
      "\n",
      "A value is trying to be set on a copy of a slice from a DataFrame\n",
      "\n",
      "See the caveats in the documentation: https://pandas.pydata.org/pandas-docs/stable/user_guide/indexing.html#returning-a-view-versus-a-copy\n",
      "\n"
     ]
    }
   ],
   "source": [
    "test_data.fillna(test_data.mean(), inplace=True)\n",
    "test_data = test_data[cluster_features]\n",
    "test_data.drop(columns=['target'], inplace=True)\n",
    "test_data.info()"
   ]
  },
  {
   "cell_type": "code",
   "execution_count": 107,
   "id": "002c4951-debb-4c1d-bc5f-0d42e9ae96cb",
   "metadata": {},
   "outputs": [
    {
     "data": {
      "text/html": [
       "<div>\n",
       "<style scoped>\n",
       "    .dataframe tbody tr th:only-of-type {\n",
       "        vertical-align: middle;\n",
       "    }\n",
       "\n",
       "    .dataframe tbody tr th {\n",
       "        vertical-align: top;\n",
       "    }\n",
       "\n",
       "    .dataframe thead th {\n",
       "        text-align: right;\n",
       "    }\n",
       "</style>\n",
       "<table border=\"1\" class=\"dataframe\">\n",
       "  <thead>\n",
       "    <tr style=\"text-align: right;\">\n",
       "      <th></th>\n",
       "      <th>NDVI</th>\n",
       "      <th>EVI</th>\n",
       "      <th>NDRE</th>\n",
       "      <th>CCCI</th>\n",
       "      <th>TDays</th>\n",
       "      <th>Season</th>\n",
       "      <th>MoistureIndex</th>\n",
       "      <th>CTransp</th>\n",
       "      <th>WaterCov</th>\n",
       "      <th>CLast</th>\n",
       "      <th>IrriSource</th>\n",
       "      <th>CropCoveredArea</th>\n",
       "      <th>ExpYield</th>\n",
       "      <th>Crop</th>\n",
       "      <th>IrriCount</th>\n",
       "      <th>CHeight</th>\n",
       "      <th>CNext</th>\n",
       "      <th>IrriType</th>\n",
       "    </tr>\n",
       "  </thead>\n",
       "  <tbody>\n",
       "    <tr>\n",
       "      <th>0</th>\n",
       "      <td>0.188120</td>\n",
       "      <td>0.477818</td>\n",
       "      <td>0.018060</td>\n",
       "      <td>0.096003</td>\n",
       "      <td>184</td>\n",
       "      <td>1</td>\n",
       "      <td>-0.052240</td>\n",
       "      <td>3</td>\n",
       "      <td>81</td>\n",
       "      <td>4</td>\n",
       "      <td>1</td>\n",
       "      <td>81</td>\n",
       "      <td>19</td>\n",
       "      <td>5</td>\n",
       "      <td>5</td>\n",
       "      <td>99</td>\n",
       "      <td>0</td>\n",
       "      <td>1</td>\n",
       "    </tr>\n",
       "    <tr>\n",
       "      <th>1</th>\n",
       "      <td>0.044911</td>\n",
       "      <td>0.136052</td>\n",
       "      <td>0.013461</td>\n",
       "      <td>0.299717</td>\n",
       "      <td>160</td>\n",
       "      <td>1</td>\n",
       "      <td>0.295778</td>\n",
       "      <td>3</td>\n",
       "      <td>97</td>\n",
       "      <td>4</td>\n",
       "      <td>0</td>\n",
       "      <td>91</td>\n",
       "      <td>15</td>\n",
       "      <td>5</td>\n",
       "      <td>5</td>\n",
       "      <td>63</td>\n",
       "      <td>0</td>\n",
       "      <td>1</td>\n",
       "    </tr>\n",
       "    <tr>\n",
       "      <th>2</th>\n",
       "      <td>0.078955</td>\n",
       "      <td>0.199967</td>\n",
       "      <td>0.014237</td>\n",
       "      <td>0.180321</td>\n",
       "      <td>171</td>\n",
       "      <td>1</td>\n",
       "      <td>0.002065</td>\n",
       "      <td>3</td>\n",
       "      <td>88</td>\n",
       "      <td>0</td>\n",
       "      <td>0</td>\n",
       "      <td>94</td>\n",
       "      <td>15</td>\n",
       "      <td>5</td>\n",
       "      <td>5</td>\n",
       "      <td>89</td>\n",
       "      <td>4</td>\n",
       "      <td>1</td>\n",
       "    </tr>\n",
       "    <tr>\n",
       "      <th>3</th>\n",
       "      <td>0.212621</td>\n",
       "      <td>0.292677</td>\n",
       "      <td>0.016683</td>\n",
       "      <td>0.078465</td>\n",
       "      <td>472</td>\n",
       "      <td>1</td>\n",
       "      <td>0.090542</td>\n",
       "      <td>3</td>\n",
       "      <td>98</td>\n",
       "      <td>0</td>\n",
       "      <td>0</td>\n",
       "      <td>83</td>\n",
       "      <td>17</td>\n",
       "      <td>5</td>\n",
       "      <td>5</td>\n",
       "      <td>78</td>\n",
       "      <td>4</td>\n",
       "      <td>1</td>\n",
       "    </tr>\n",
       "    <tr>\n",
       "      <th>4</th>\n",
       "      <td>0.226900</td>\n",
       "      <td>0.369881</td>\n",
       "      <td>0.021081</td>\n",
       "      <td>0.092908</td>\n",
       "      <td>380</td>\n",
       "      <td>1</td>\n",
       "      <td>0.064641</td>\n",
       "      <td>3</td>\n",
       "      <td>98</td>\n",
       "      <td>4</td>\n",
       "      <td>0</td>\n",
       "      <td>82</td>\n",
       "      <td>18</td>\n",
       "      <td>5</td>\n",
       "      <td>6</td>\n",
       "      <td>53</td>\n",
       "      <td>0</td>\n",
       "      <td>1</td>\n",
       "    </tr>\n",
       "  </tbody>\n",
       "</table>\n",
       "</div>"
      ],
      "text/plain": [
       "       NDVI       EVI      NDRE      CCCI  TDays  Season  MoistureIndex  \\\n",
       "0  0.188120  0.477818  0.018060  0.096003    184       1      -0.052240   \n",
       "1  0.044911  0.136052  0.013461  0.299717    160       1       0.295778   \n",
       "2  0.078955  0.199967  0.014237  0.180321    171       1       0.002065   \n",
       "3  0.212621  0.292677  0.016683  0.078465    472       1       0.090542   \n",
       "4  0.226900  0.369881  0.021081  0.092908    380       1       0.064641   \n",
       "\n",
       "   CTransp  WaterCov  CLast  IrriSource  CropCoveredArea  ExpYield  Crop  \\\n",
       "0        3        81      4           1               81        19     5   \n",
       "1        3        97      4           0               91        15     5   \n",
       "2        3        88      0           0               94        15     5   \n",
       "3        3        98      0           0               83        17     5   \n",
       "4        3        98      4           0               82        18     5   \n",
       "\n",
       "   IrriCount  CHeight  CNext  IrriType  \n",
       "0          5       99      0         1  \n",
       "1          5       63      0         1  \n",
       "2          5       89      4         1  \n",
       "3          5       78      4         1  \n",
       "4          6       53      0         1  "
      ]
     },
     "execution_count": 107,
     "metadata": {},
     "output_type": "execute_result"
    }
   ],
   "source": [
    "test_data.head()"
   ]
  },
  {
   "cell_type": "code",
   "execution_count": 191,
   "id": "9bcef74d-e29b-4b57-9803-4a95bba90395",
   "metadata": {},
   "outputs": [
    {
     "data": {
      "text/plain": [
       "array([0, 1, 1, ..., 1, 0, 0])"
      ]
     },
     "execution_count": 191,
     "metadata": {},
     "output_type": "execute_result"
    }
   ],
   "source": [
    "# Predict submission\n",
    "rf_predictions = brf.predict(test_data)\n",
    "rf_predictions"
   ]
  },
  {
   "cell_type": "code",
   "execution_count": 193,
   "id": "800c8be1-5e1d-4922-91f4-a47ad0b77846",
   "metadata": {},
   "outputs": [
    {
     "data": {
      "text/plain": [
       "0    1651\n",
       "2     382\n",
       "1     366\n",
       "3     319\n",
       "Name: count, dtype: int64"
      ]
     },
     "execution_count": 193,
     "metadata": {},
     "output_type": "execute_result"
    }
   ],
   "source": [
    "pd.DataFrame(rf_predictions).value_counts()"
   ]
  },
  {
   "cell_type": "code",
   "execution_count": 195,
   "id": "9d4d6d7c-852d-4e49-8607-652de7229471",
   "metadata": {},
   "outputs": [
    {
     "data": {
      "text/plain": [
       "0    2432\n",
       "1     101\n",
       "3      95\n",
       "2      90\n",
       "Name: count, dtype: int64"
      ]
     },
     "execution_count": 195,
     "metadata": {},
     "output_type": "execute_result"
    }
   ],
   "source": [
    "# Predict submission\n",
    "lg_predictions = lgbm.predict(test_data)\n",
    "pd.DataFrame(lg_predictions).value_counts()"
   ]
  },
  {
   "cell_type": "code",
   "execution_count": 109,
   "id": "6df30875-115f-4eb6-bc16-be11da7341ad",
   "metadata": {},
   "outputs": [
    {
     "data": {
      "text/plain": [
       "0    2718\n",
       "Name: count, dtype: int64"
      ]
     },
     "execution_count": 109,
     "metadata": {},
     "output_type": "execute_result"
    }
   ],
   "source": [
    "# Predict submission\n",
    "f_predictions = model.predict(test_data)\n",
    "pd.DataFrame(f_predictions).value_counts()"
   ]
  },
  {
   "cell_type": "code",
   "execution_count": 144,
   "id": "0b54cc19-871e-459b-9f5e-b1de4e2cf4c9",
   "metadata": {},
   "outputs": [
    {
     "data": {
      "text/plain": [
       "{'Healthy': 0, 'Diseased': 1, 'Pests': 2, 'Stressed': 3}"
      ]
     },
     "execution_count": 144,
     "metadata": {},
     "output_type": "execute_result"
    }
   ],
   "source": [
    "category_mapper"
   ]
  },
  {
   "cell_type": "code",
   "execution_count": 146,
   "id": "1662a5bc-5e2c-437c-8567-aa4f055c79e7",
   "metadata": {},
   "outputs": [
    {
     "data": {
      "text/html": [
       "<div>\n",
       "<style scoped>\n",
       "    .dataframe tbody tr th:only-of-type {\n",
       "        vertical-align: middle;\n",
       "    }\n",
       "\n",
       "    .dataframe tbody tr th {\n",
       "        vertical-align: top;\n",
       "    }\n",
       "\n",
       "    .dataframe thead th {\n",
       "        text-align: right;\n",
       "    }\n",
       "</style>\n",
       "<table border=\"1\" class=\"dataframe\">\n",
       "  <thead>\n",
       "    <tr style=\"text-align: right;\">\n",
       "      <th></th>\n",
       "      <th>FarmID</th>\n",
       "      <th>Target</th>\n",
       "    </tr>\n",
       "  </thead>\n",
       "  <tbody>\n",
       "    <tr>\n",
       "      <th>0</th>\n",
       "      <td>85197</td>\n",
       "      <td>Healthy</td>\n",
       "    </tr>\n",
       "    <tr>\n",
       "      <th>1</th>\n",
       "      <td>779677</td>\n",
       "      <td>Healthy</td>\n",
       "    </tr>\n",
       "    <tr>\n",
       "      <th>2</th>\n",
       "      <td>1331840</td>\n",
       "      <td>Healthy</td>\n",
       "    </tr>\n",
       "    <tr>\n",
       "      <th>3</th>\n",
       "      <td>483053</td>\n",
       "      <td>Healthy</td>\n",
       "    </tr>\n",
       "    <tr>\n",
       "      <th>4</th>\n",
       "      <td>542945</td>\n",
       "      <td>Healthy</td>\n",
       "    </tr>\n",
       "  </tbody>\n",
       "</table>\n",
       "</div>"
      ],
      "text/plain": [
       "    FarmID   Target\n",
       "0    85197  Healthy\n",
       "1   779677  Healthy\n",
       "2  1331840  Healthy\n",
       "3   483053  Healthy\n",
       "4   542945  Healthy"
      ]
     },
     "execution_count": 146,
     "metadata": {},
     "output_type": "execute_result"
    }
   ],
   "source": [
    "t_data['Target'] = f_predictions\n",
    "t_data['Target'] = t_data['Target'].astype(int).map(idx_to_category_mapper)\n",
    "subm_df = t_data[['FarmID', 'Target']]\n",
    "subm_df.head()"
   ]
  },
  {
   "cell_type": "code",
   "execution_count": 148,
   "id": "e6aca28f-a59b-47e5-92ab-a854543b8316",
   "metadata": {},
   "outputs": [
    {
     "data": {
      "text/html": [
       "<div>\n",
       "<style scoped>\n",
       "    .dataframe tbody tr th:only-of-type {\n",
       "        vertical-align: middle;\n",
       "    }\n",
       "\n",
       "    .dataframe tbody tr th {\n",
       "        vertical-align: top;\n",
       "    }\n",
       "\n",
       "    .dataframe thead th {\n",
       "        text-align: right;\n",
       "    }\n",
       "</style>\n",
       "<table border=\"1\" class=\"dataframe\">\n",
       "  <thead>\n",
       "    <tr style=\"text-align: right;\">\n",
       "      <th></th>\n",
       "      <th>FarmID</th>\n",
       "    </tr>\n",
       "    <tr>\n",
       "      <th>Target</th>\n",
       "      <th></th>\n",
       "    </tr>\n",
       "  </thead>\n",
       "  <tbody>\n",
       "    <tr>\n",
       "      <th>Diseased</th>\n",
       "      <td>155</td>\n",
       "    </tr>\n",
       "    <tr>\n",
       "      <th>Healthy</th>\n",
       "      <td>2304</td>\n",
       "    </tr>\n",
       "    <tr>\n",
       "      <th>Pests</th>\n",
       "      <td>153</td>\n",
       "    </tr>\n",
       "    <tr>\n",
       "      <th>Stressed</th>\n",
       "      <td>106</td>\n",
       "    </tr>\n",
       "  </tbody>\n",
       "</table>\n",
       "</div>"
      ],
      "text/plain": [
       "          FarmID\n",
       "Target          \n",
       "Diseased     155\n",
       "Healthy     2304\n",
       "Pests        153\n",
       "Stressed     106"
      ]
     },
     "execution_count": 148,
     "metadata": {},
     "output_type": "execute_result"
    }
   ],
   "source": [
    "subm_df.groupby(['Target']).count()"
   ]
  },
  {
   "cell_type": "code",
   "execution_count": 150,
   "id": "a8a79cc6-0321-41d9-93f8-bca4acb7e40c",
   "metadata": {},
   "outputs": [],
   "source": [
    "subm_df.to_csv('data/sub_files/submission_mm2201.csv', index=0)"
   ]
  },
  {
   "cell_type": "code",
   "execution_count": 154,
   "id": "6e27621d-28e5-43ed-a69c-3fdbc8f981a1",
   "metadata": {},
   "outputs": [
    {
     "data": {
      "text/html": [
       "<div>\n",
       "<style scoped>\n",
       "    .dataframe tbody tr th:only-of-type {\n",
       "        vertical-align: middle;\n",
       "    }\n",
       "\n",
       "    .dataframe tbody tr th {\n",
       "        vertical-align: top;\n",
       "    }\n",
       "\n",
       "    .dataframe thead th {\n",
       "        text-align: right;\n",
       "    }\n",
       "</style>\n",
       "<table border=\"1\" class=\"dataframe\">\n",
       "  <thead>\n",
       "    <tr style=\"text-align: right;\">\n",
       "      <th></th>\n",
       "      <th>FarmID</th>\n",
       "      <th>Crop</th>\n",
       "      <th>State</th>\n",
       "      <th>District</th>\n",
       "      <th>Sub-District</th>\n",
       "      <th>SDate</th>\n",
       "      <th>HDate</th>\n",
       "      <th>CropCoveredArea</th>\n",
       "      <th>CHeight</th>\n",
       "      <th>CNext</th>\n",
       "      <th>...</th>\n",
       "      <th>NDVI</th>\n",
       "      <th>EVI</th>\n",
       "      <th>NDWI</th>\n",
       "      <th>GNDVI</th>\n",
       "      <th>SAVI</th>\n",
       "      <th>MSAVI</th>\n",
       "      <th>MoistureIndex</th>\n",
       "      <th>NDRE</th>\n",
       "      <th>CCCI</th>\n",
       "      <th>TDays</th>\n",
       "    </tr>\n",
       "    <tr>\n",
       "      <th>category</th>\n",
       "      <th></th>\n",
       "      <th></th>\n",
       "      <th></th>\n",
       "      <th></th>\n",
       "      <th></th>\n",
       "      <th></th>\n",
       "      <th></th>\n",
       "      <th></th>\n",
       "      <th></th>\n",
       "      <th></th>\n",
       "      <th></th>\n",
       "      <th></th>\n",
       "      <th></th>\n",
       "      <th></th>\n",
       "      <th></th>\n",
       "      <th></th>\n",
       "      <th></th>\n",
       "      <th></th>\n",
       "      <th></th>\n",
       "      <th></th>\n",
       "      <th></th>\n",
       "    </tr>\n",
       "  </thead>\n",
       "  <tbody>\n",
       "    <tr>\n",
       "      <th>Diseased</th>\n",
       "      <td>145.666667</td>\n",
       "      <td>145.666667</td>\n",
       "      <td>145.666667</td>\n",
       "      <td>145.666667</td>\n",
       "      <td>145.666667</td>\n",
       "      <td>145.666667</td>\n",
       "      <td>145.666667</td>\n",
       "      <td>145.666667</td>\n",
       "      <td>145.666667</td>\n",
       "      <td>145.666667</td>\n",
       "      <td>...</td>\n",
       "      <td>145.666667</td>\n",
       "      <td>145.666667</td>\n",
       "      <td>145.666667</td>\n",
       "      <td>145.666667</td>\n",
       "      <td>145.666667</td>\n",
       "      <td>145.666667</td>\n",
       "      <td>145.666667</td>\n",
       "      <td>145.666667</td>\n",
       "      <td>145.666667</td>\n",
       "      <td>145.666667</td>\n",
       "    </tr>\n",
       "    <tr>\n",
       "      <th>Healthy</th>\n",
       "      <td>2027.000000</td>\n",
       "      <td>2027.000000</td>\n",
       "      <td>2027.000000</td>\n",
       "      <td>2027.000000</td>\n",
       "      <td>2027.000000</td>\n",
       "      <td>2027.000000</td>\n",
       "      <td>2027.000000</td>\n",
       "      <td>2027.000000</td>\n",
       "      <td>2027.000000</td>\n",
       "      <td>2027.000000</td>\n",
       "      <td>...</td>\n",
       "      <td>2027.000000</td>\n",
       "      <td>2027.000000</td>\n",
       "      <td>2027.000000</td>\n",
       "      <td>2027.000000</td>\n",
       "      <td>2027.000000</td>\n",
       "      <td>2027.000000</td>\n",
       "      <td>2027.000000</td>\n",
       "      <td>2027.000000</td>\n",
       "      <td>2027.000000</td>\n",
       "      <td>2027.000000</td>\n",
       "    </tr>\n",
       "    <tr>\n",
       "      <th>Pests</th>\n",
       "      <td>147.333333</td>\n",
       "      <td>147.333333</td>\n",
       "      <td>147.333333</td>\n",
       "      <td>147.333333</td>\n",
       "      <td>147.333333</td>\n",
       "      <td>147.333333</td>\n",
       "      <td>147.333333</td>\n",
       "      <td>147.333333</td>\n",
       "      <td>147.333333</td>\n",
       "      <td>147.333333</td>\n",
       "      <td>...</td>\n",
       "      <td>147.333333</td>\n",
       "      <td>147.333333</td>\n",
       "      <td>147.333333</td>\n",
       "      <td>147.333333</td>\n",
       "      <td>147.333333</td>\n",
       "      <td>147.333333</td>\n",
       "      <td>147.333333</td>\n",
       "      <td>147.333333</td>\n",
       "      <td>147.333333</td>\n",
       "      <td>147.333333</td>\n",
       "    </tr>\n",
       "    <tr>\n",
       "      <th>Stressed</th>\n",
       "      <td>131.000000</td>\n",
       "      <td>131.000000</td>\n",
       "      <td>131.000000</td>\n",
       "      <td>131.000000</td>\n",
       "      <td>131.000000</td>\n",
       "      <td>131.000000</td>\n",
       "      <td>131.000000</td>\n",
       "      <td>131.000000</td>\n",
       "      <td>131.000000</td>\n",
       "      <td>131.000000</td>\n",
       "      <td>...</td>\n",
       "      <td>131.000000</td>\n",
       "      <td>131.000000</td>\n",
       "      <td>131.000000</td>\n",
       "      <td>131.000000</td>\n",
       "      <td>131.000000</td>\n",
       "      <td>131.000000</td>\n",
       "      <td>131.000000</td>\n",
       "      <td>131.000000</td>\n",
       "      <td>131.000000</td>\n",
       "      <td>131.000000</td>\n",
       "    </tr>\n",
       "  </tbody>\n",
       "</table>\n",
       "<p>4 rows × 30 columns</p>\n",
       "</div>"
      ],
      "text/plain": [
       "               FarmID         Crop        State     District  Sub-District  \\\n",
       "category                                                                     \n",
       "Diseased   145.666667   145.666667   145.666667   145.666667    145.666667   \n",
       "Healthy   2027.000000  2027.000000  2027.000000  2027.000000   2027.000000   \n",
       "Pests      147.333333   147.333333   147.333333   147.333333    147.333333   \n",
       "Stressed   131.000000   131.000000   131.000000   131.000000    131.000000   \n",
       "\n",
       "                SDate        HDate  CropCoveredArea      CHeight        CNext  \\\n",
       "category                                                                        \n",
       "Diseased   145.666667   145.666667       145.666667   145.666667   145.666667   \n",
       "Healthy   2027.000000  2027.000000      2027.000000  2027.000000  2027.000000   \n",
       "Pests      147.333333   147.333333       147.333333   147.333333   147.333333   \n",
       "Stressed   131.000000   131.000000       131.000000   131.000000   131.000000   \n",
       "\n",
       "          ...         NDVI          EVI         NDWI        GNDVI  \\\n",
       "category  ...                                                       \n",
       "Diseased  ...   145.666667   145.666667   145.666667   145.666667   \n",
       "Healthy   ...  2027.000000  2027.000000  2027.000000  2027.000000   \n",
       "Pests     ...   147.333333   147.333333   147.333333   147.333333   \n",
       "Stressed  ...   131.000000   131.000000   131.000000   131.000000   \n",
       "\n",
       "                 SAVI        MSAVI  MoistureIndex         NDRE         CCCI  \\\n",
       "category                                                                      \n",
       "Diseased   145.666667   145.666667     145.666667   145.666667   145.666667   \n",
       "Healthy   2027.000000  2027.000000    2027.000000  2027.000000  2027.000000   \n",
       "Pests      147.333333   147.333333     147.333333   147.333333   147.333333   \n",
       "Stressed   131.000000   131.000000     131.000000   131.000000   131.000000   \n",
       "\n",
       "                TDays  \n",
       "category               \n",
       "Diseased   145.666667  \n",
       "Healthy   2027.000000  \n",
       "Pests      147.333333  \n",
       "Stressed   131.000000  \n",
       "\n",
       "[4 rows x 30 columns]"
      ]
     },
     "execution_count": 154,
     "metadata": {},
     "output_type": "execute_result"
    }
   ],
   "source": [
    "df.groupby(['category']).count()/3"
   ]
  },
  {
   "cell_type": "code",
   "execution_count": null,
   "id": "4edbc02a-9e85-41bd-bd36-091d9689846e",
   "metadata": {},
   "outputs": [],
   "source": []
  }
 ],
 "metadata": {
  "kernelspec": {
   "display_name": "Python (geoai)",
   "language": "python",
   "name": "geoai"
  },
  "language_info": {
   "codemirror_mode": {
    "name": "ipython",
    "version": 3
   },
   "file_extension": ".py",
   "mimetype": "text/x-python",
   "name": "python",
   "nbconvert_exporter": "python",
   "pygments_lexer": "ipython3",
   "version": "3.10.16"
  }
 },
 "nbformat": 4,
 "nbformat_minor": 5
}
