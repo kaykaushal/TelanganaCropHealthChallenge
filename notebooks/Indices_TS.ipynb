{
 "cells": [
  {
   "cell_type": "markdown",
   "id": "217b130c-2b2c-4580-bfd1-88c44210ad3d",
   "metadata": {},
   "source": [
    "# Model Building using Quarterly data"
   ]
  },
  {
   "cell_type": "code",
   "execution_count": 1,
   "id": "6210a450-045b-416c-b0a6-18db00cd501a",
   "metadata": {},
   "outputs": [],
   "source": [
    "import os \n",
    "import numpy as np \n",
    "import pandas as pd\n",
    "from shapely import wkt\n",
    "import geopandas as gpd\n",
    "\n",
    "os.chdir('/Users/kaushalk/Desktop/open_projects/Telengana_Crop_Health')\n",
    "# Add the 'src' directory to the Python path\n",
    "from src.gee_download import main, format_date, process_row\n",
    "from src.gee_download_monthly import download_s2_monthly\n",
    "from src.process_data import compute_monthly_indices_for_df, compute_indices_for_df"
   ]
  },
  {
   "cell_type": "code",
   "execution_count": 3,
   "id": "ff60aae2-cf90-43f6-a9d0-1cdffa534b8a",
   "metadata": {},
   "outputs": [
    {
     "data": {
      "text/html": [
       "\n",
       "            <style>\n",
       "                .geemap-dark {\n",
       "                    --jp-widgets-color: white;\n",
       "                    --jp-widgets-label-color: white;\n",
       "                    --jp-ui-font-color1: white;\n",
       "                    --jp-layout-color2: #454545;\n",
       "                    background-color: #383838;\n",
       "                }\n",
       "\n",
       "                .geemap-dark .jupyter-button {\n",
       "                    --jp-layout-color3: #383838;\n",
       "                }\n",
       "\n",
       "                .geemap-colab {\n",
       "                    background-color: var(--colab-primary-surface-color, white);\n",
       "                }\n",
       "\n",
       "                .geemap-colab .jupyter-button {\n",
       "                    --jp-layout-color3: var(--colab-primary-surface-color, white);\n",
       "                }\n",
       "            </style>\n",
       "            "
      ],
      "text/plain": [
       "<IPython.core.display.HTML object>"
      ]
     },
     "metadata": {},
     "output_type": "display_data"
    }
   ],
   "source": [
    "trainq_path = 'data/s2_images/gee_downloads_train_Qtr/train_s2q_datapath.csv'\n",
    "testq_path = 'data/s2_images/gee_downloads_test_Qtr/test_s2q_datapath.csv'"
   ]
  },
  {
   "cell_type": "code",
   "execution_count": 5,
   "id": "36debf70-bd19-46e9-a455-89b78e6e4d81",
   "metadata": {},
   "outputs": [
    {
     "data": {
      "text/html": [
       "\n",
       "            <style>\n",
       "                .geemap-dark {\n",
       "                    --jp-widgets-color: white;\n",
       "                    --jp-widgets-label-color: white;\n",
       "                    --jp-ui-font-color1: white;\n",
       "                    --jp-layout-color2: #454545;\n",
       "                    background-color: #383838;\n",
       "                }\n",
       "\n",
       "                .geemap-dark .jupyter-button {\n",
       "                    --jp-layout-color3: #383838;\n",
       "                }\n",
       "\n",
       "                .geemap-colab {\n",
       "                    background-color: var(--colab-primary-surface-color, white);\n",
       "                }\n",
       "\n",
       "                .geemap-colab .jupyter-button {\n",
       "                    --jp-layout-color3: var(--colab-primary-surface-color, white);\n",
       "                }\n",
       "            </style>\n",
       "            "
      ],
      "text/plain": [
       "<IPython.core.display.HTML object>"
      ]
     },
     "metadata": {},
     "output_type": "display_data"
    },
    {
     "data": {
      "text/plain": [
       "((7888, 28), (2718, 27))"
      ]
     },
     "execution_count": 5,
     "metadata": {},
     "output_type": "execute_result"
    }
   ],
   "source": [
    "train_qtr_df = pd.read_csv(trainq_path)\n",
    "test_qtr_df = pd.read_csv(testq_path)\n",
    "train_qtr_df.shape, test_qtr_df.shape"
   ]
  },
  {
   "cell_type": "code",
   "execution_count": 42,
   "id": "057f5b68-cd2b-41fe-bdfb-f3e47f17926a",
   "metadata": {},
   "outputs": [
    {
     "data": {
      "text/html": [
       "\n",
       "            <style>\n",
       "                .geemap-dark {\n",
       "                    --jp-widgets-color: white;\n",
       "                    --jp-widgets-label-color: white;\n",
       "                    --jp-ui-font-color1: white;\n",
       "                    --jp-layout-color2: #454545;\n",
       "                    background-color: #383838;\n",
       "                }\n",
       "\n",
       "                .geemap-dark .jupyter-button {\n",
       "                    --jp-layout-color3: #383838;\n",
       "                }\n",
       "\n",
       "                .geemap-colab {\n",
       "                    background-color: var(--colab-primary-surface-color, white);\n",
       "                }\n",
       "\n",
       "                .geemap-colab .jupyter-button {\n",
       "                    --jp-layout-color3: var(--colab-primary-surface-color, white);\n",
       "                }\n",
       "            </style>\n",
       "            "
      ],
      "text/plain": [
       "<IPython.core.display.HTML object>"
      ]
     },
     "metadata": {},
     "output_type": "display_data"
    },
    {
     "data": {
      "text/html": [
       "<div>\n",
       "<style scoped>\n",
       "    .dataframe tbody tr th:only-of-type {\n",
       "        vertical-align: middle;\n",
       "    }\n",
       "\n",
       "    .dataframe tbody tr th {\n",
       "        vertical-align: top;\n",
       "    }\n",
       "\n",
       "    .dataframe thead th {\n",
       "        text-align: right;\n",
       "    }\n",
       "</style>\n",
       "<table border=\"1\" class=\"dataframe\">\n",
       "  <thead>\n",
       "    <tr style=\"text-align: right;\">\n",
       "      <th></th>\n",
       "      <th>FarmID</th>\n",
       "      <th>Crop</th>\n",
       "      <th>State</th>\n",
       "      <th>District</th>\n",
       "      <th>Sub-District</th>\n",
       "      <th>SDate</th>\n",
       "      <th>HDate</th>\n",
       "      <th>CropCoveredArea</th>\n",
       "      <th>CHeight</th>\n",
       "      <th>CNext</th>\n",
       "      <th>...</th>\n",
       "      <th>Season</th>\n",
       "      <th>geometry</th>\n",
       "      <th>M1_tif_path</th>\n",
       "      <th>M2_tif_path</th>\n",
       "      <th>M3_tif_path</th>\n",
       "      <th>M4_tif_path</th>\n",
       "      <th>M5_tif_path</th>\n",
       "      <th>M6_tif_path</th>\n",
       "      <th>M7_tif_path</th>\n",
       "      <th>M8_tif_path</th>\n",
       "    </tr>\n",
       "  </thead>\n",
       "  <tbody>\n",
       "    <tr>\n",
       "      <th>0</th>\n",
       "      <td>779677</td>\n",
       "      <td>Paddy</td>\n",
       "      <td>Telangana</td>\n",
       "      <td>Medak</td>\n",
       "      <td>Nizampet</td>\n",
       "      <td>2023-12-20 0:00:00</td>\n",
       "      <td>2024-05-28 0:00:00</td>\n",
       "      <td>91</td>\n",
       "      <td>63</td>\n",
       "      <td>Lentil</td>\n",
       "      <td>...</td>\n",
       "      <td>Rabi</td>\n",
       "      <td>POLYGON ((78.5469981469516 18.066190017327173,...</td>\n",
       "      <td>data/s2_images/gee_downloads_test_Qtr/M1/mean_...</td>\n",
       "      <td>data/s2_images/gee_downloads_test_Qtr/M2/mean_...</td>\n",
       "      <td>NaN</td>\n",
       "      <td>NaN</td>\n",
       "      <td>NaN</td>\n",
       "      <td>NaN</td>\n",
       "      <td>NaN</td>\n",
       "      <td>NaN</td>\n",
       "    </tr>\n",
       "    <tr>\n",
       "      <th>1</th>\n",
       "      <td>1331840</td>\n",
       "      <td>Paddy</td>\n",
       "      <td>Telangana</td>\n",
       "      <td>Medak</td>\n",
       "      <td>Nizampet</td>\n",
       "      <td>2023-11-29 0:00:00</td>\n",
       "      <td>2024-05-18 0:00:00</td>\n",
       "      <td>94</td>\n",
       "      <td>89</td>\n",
       "      <td>Pea</td>\n",
       "      <td>...</td>\n",
       "      <td>Rabi</td>\n",
       "      <td>POLYGON ((78.55945381903922 18.0801159146244, ...</td>\n",
       "      <td>data/s2_images/gee_downloads_test_Qtr/M1/mean_...</td>\n",
       "      <td>data/s2_images/gee_downloads_test_Qtr/M2/mean_...</td>\n",
       "      <td>NaN</td>\n",
       "      <td>NaN</td>\n",
       "      <td>NaN</td>\n",
       "      <td>NaN</td>\n",
       "      <td>NaN</td>\n",
       "      <td>NaN</td>\n",
       "    </tr>\n",
       "    <tr>\n",
       "      <th>2</th>\n",
       "      <td>85197</td>\n",
       "      <td>Paddy</td>\n",
       "      <td>Telangana</td>\n",
       "      <td>Medak</td>\n",
       "      <td>Nizampet</td>\n",
       "      <td>2023-11-12 0:00:00</td>\n",
       "      <td>2024-05-14 0:00:00</td>\n",
       "      <td>81</td>\n",
       "      <td>99</td>\n",
       "      <td>Lentil</td>\n",
       "      <td>...</td>\n",
       "      <td>Rabi</td>\n",
       "      <td>POLYGON ((78.54720514633546 18.063322390283137...</td>\n",
       "      <td>data/s2_images/gee_downloads_test_Qtr/M1/mean_...</td>\n",
       "      <td>data/s2_images/gee_downloads_test_Qtr/M2/mean_...</td>\n",
       "      <td>data/s2_images/gee_downloads_test_Qtr/M3/mean_...</td>\n",
       "      <td>NaN</td>\n",
       "      <td>NaN</td>\n",
       "      <td>NaN</td>\n",
       "      <td>NaN</td>\n",
       "      <td>NaN</td>\n",
       "    </tr>\n",
       "    <tr>\n",
       "      <th>3</th>\n",
       "      <td>924784</td>\n",
       "      <td>Paddy</td>\n",
       "      <td>Telangana</td>\n",
       "      <td>Medak</td>\n",
       "      <td>Nizampet</td>\n",
       "      <td>2023-11-16 0:00:00</td>\n",
       "      <td>2024-05-24 0:00:00</td>\n",
       "      <td>93</td>\n",
       "      <td>97</td>\n",
       "      <td>Lentil</td>\n",
       "      <td>...</td>\n",
       "      <td>Rabi</td>\n",
       "      <td>POLYGON ((78.56988121141707 18.092636637053605...</td>\n",
       "      <td>data/s2_images/gee_downloads_test_Qtr/M1/mean_...</td>\n",
       "      <td>data/s2_images/gee_downloads_test_Qtr/M2/mean_...</td>\n",
       "      <td>data/s2_images/gee_downloads_test_Qtr/M3/mean_...</td>\n",
       "      <td>NaN</td>\n",
       "      <td>NaN</td>\n",
       "      <td>NaN</td>\n",
       "      <td>NaN</td>\n",
       "      <td>NaN</td>\n",
       "    </tr>\n",
       "    <tr>\n",
       "      <th>4</th>\n",
       "      <td>544841</td>\n",
       "      <td>Paddy</td>\n",
       "      <td>Telangana</td>\n",
       "      <td>Medak</td>\n",
       "      <td>Nizampet</td>\n",
       "      <td>2023-12-30 0:00:00</td>\n",
       "      <td>2024-05-22 0:00:00</td>\n",
       "      <td>87</td>\n",
       "      <td>98</td>\n",
       "      <td>Pea</td>\n",
       "      <td>...</td>\n",
       "      <td>Rabi</td>\n",
       "      <td>POLYGON ((78.56293876041818 18.104647739233755...</td>\n",
       "      <td>data/s2_images/gee_downloads_test_Qtr/M1/mean_...</td>\n",
       "      <td>data/s2_images/gee_downloads_test_Qtr/M2/mean_...</td>\n",
       "      <td>NaN</td>\n",
       "      <td>NaN</td>\n",
       "      <td>NaN</td>\n",
       "      <td>NaN</td>\n",
       "      <td>NaN</td>\n",
       "      <td>NaN</td>\n",
       "    </tr>\n",
       "  </tbody>\n",
       "</table>\n",
       "<p>5 rows × 27 columns</p>\n",
       "</div>"
      ],
      "text/plain": [
       "    FarmID   Crop      State District Sub-District               SDate  \\\n",
       "0   779677  Paddy  Telangana    Medak     Nizampet  2023-12-20 0:00:00   \n",
       "1  1331840  Paddy  Telangana    Medak     Nizampet  2023-11-29 0:00:00   \n",
       "2    85197  Paddy  Telangana    Medak     Nizampet  2023-11-12 0:00:00   \n",
       "3   924784  Paddy  Telangana    Medak     Nizampet  2023-11-16 0:00:00   \n",
       "4   544841  Paddy  Telangana    Medak     Nizampet  2023-12-30 0:00:00   \n",
       "\n",
       "                HDate  CropCoveredArea  CHeight   CNext  ... Season  \\\n",
       "0  2024-05-28 0:00:00               91       63  Lentil  ...   Rabi   \n",
       "1  2024-05-18 0:00:00               94       89     Pea  ...   Rabi   \n",
       "2  2024-05-14 0:00:00               81       99  Lentil  ...   Rabi   \n",
       "3  2024-05-24 0:00:00               93       97  Lentil  ...   Rabi   \n",
       "4  2024-05-22 0:00:00               87       98     Pea  ...   Rabi   \n",
       "\n",
       "                                            geometry  \\\n",
       "0  POLYGON ((78.5469981469516 18.066190017327173,...   \n",
       "1  POLYGON ((78.55945381903922 18.0801159146244, ...   \n",
       "2  POLYGON ((78.54720514633546 18.063322390283137...   \n",
       "3  POLYGON ((78.56988121141707 18.092636637053605...   \n",
       "4  POLYGON ((78.56293876041818 18.104647739233755...   \n",
       "\n",
       "                                         M1_tif_path  \\\n",
       "0  data/s2_images/gee_downloads_test_Qtr/M1/mean_...   \n",
       "1  data/s2_images/gee_downloads_test_Qtr/M1/mean_...   \n",
       "2  data/s2_images/gee_downloads_test_Qtr/M1/mean_...   \n",
       "3  data/s2_images/gee_downloads_test_Qtr/M1/mean_...   \n",
       "4  data/s2_images/gee_downloads_test_Qtr/M1/mean_...   \n",
       "\n",
       "                                         M2_tif_path  \\\n",
       "0  data/s2_images/gee_downloads_test_Qtr/M2/mean_...   \n",
       "1  data/s2_images/gee_downloads_test_Qtr/M2/mean_...   \n",
       "2  data/s2_images/gee_downloads_test_Qtr/M2/mean_...   \n",
       "3  data/s2_images/gee_downloads_test_Qtr/M2/mean_...   \n",
       "4  data/s2_images/gee_downloads_test_Qtr/M2/mean_...   \n",
       "\n",
       "                                         M3_tif_path  M4_tif_path  \\\n",
       "0                                                NaN          NaN   \n",
       "1                                                NaN          NaN   \n",
       "2  data/s2_images/gee_downloads_test_Qtr/M3/mean_...          NaN   \n",
       "3  data/s2_images/gee_downloads_test_Qtr/M3/mean_...          NaN   \n",
       "4                                                NaN          NaN   \n",
       "\n",
       "   M5_tif_path M6_tif_path M7_tif_path M8_tif_path  \n",
       "0          NaN         NaN         NaN         NaN  \n",
       "1          NaN         NaN         NaN         NaN  \n",
       "2          NaN         NaN         NaN         NaN  \n",
       "3          NaN         NaN         NaN         NaN  \n",
       "4          NaN         NaN         NaN         NaN  \n",
       "\n",
       "[5 rows x 27 columns]"
      ]
     },
     "execution_count": 42,
     "metadata": {},
     "output_type": "execute_result"
    }
   ],
   "source": [
    "test_qtr_df.head()"
   ]
  },
  {
   "cell_type": "code",
   "execution_count": 58,
   "id": "360fcefa-bdf4-4d86-a9e1-460bb0b6ca73",
   "metadata": {
    "scrolled": true
   },
   "outputs": [
    {
     "data": {
      "text/html": [
       "\n",
       "            <style>\n",
       "                .geemap-dark {\n",
       "                    --jp-widgets-color: white;\n",
       "                    --jp-widgets-label-color: white;\n",
       "                    --jp-ui-font-color1: white;\n",
       "                    --jp-layout-color2: #454545;\n",
       "                    background-color: #383838;\n",
       "                }\n",
       "\n",
       "                .geemap-dark .jupyter-button {\n",
       "                    --jp-layout-color3: #383838;\n",
       "                }\n",
       "\n",
       "                .geemap-colab {\n",
       "                    background-color: var(--colab-primary-surface-color, white);\n",
       "                }\n",
       "\n",
       "                .geemap-colab .jupyter-button {\n",
       "                    --jp-layout-color3: var(--colab-primary-surface-color, white);\n",
       "                }\n",
       "            </style>\n",
       "            "
      ],
      "text/plain": [
       "<IPython.core.display.HTML object>"
      ]
     },
     "metadata": {},
     "output_type": "display_data"
    }
   ],
   "source": [
    "#test_qdf = compute_monthly_indices_for_df(test_qtr_df, tif_columns_prefix='M')"
   ]
  },
  {
   "cell_type": "code",
   "execution_count": null,
   "id": "c581f529-53b7-4f3d-8fcc-28eb77a44548",
   "metadata": {},
   "outputs": [],
   "source": [
    "columns_to_drop = [col for col in test_qdf.columns if 'tif_path' in col]\n",
    "test_qdf = test_qdf.drop(columns=columns_to_drop)\n",
    "columns_to_fill = [col for col in test_qdf.columns if any(match in col for match in ['M2', 'M3', 'M4', 'M5', 'M6', 'M7', 'M8'])]\n",
    "# Fill NaN values with 0 for the selected columns\n",
    "test_qdf[columns_to_fill] = test_qdf[columns_to_fill].fillna(0)\n",
    "test_qdf.info()"
   ]
  },
  {
   "cell_type": "code",
   "execution_count": 56,
   "id": "9a8c92ff-0fd0-482b-9625-9a659e2a9124",
   "metadata": {},
   "outputs": [
    {
     "data": {
      "text/html": [
       "\n",
       "            <style>\n",
       "                .geemap-dark {\n",
       "                    --jp-widgets-color: white;\n",
       "                    --jp-widgets-label-color: white;\n",
       "                    --jp-ui-font-color1: white;\n",
       "                    --jp-layout-color2: #454545;\n",
       "                    background-color: #383838;\n",
       "                }\n",
       "\n",
       "                .geemap-dark .jupyter-button {\n",
       "                    --jp-layout-color3: #383838;\n",
       "                }\n",
       "\n",
       "                .geemap-colab {\n",
       "                    background-color: var(--colab-primary-surface-color, white);\n",
       "                }\n",
       "\n",
       "                .geemap-colab .jupyter-button {\n",
       "                    --jp-layout-color3: var(--colab-primary-surface-color, white);\n",
       "                }\n",
       "            </style>\n",
       "            "
      ],
      "text/plain": [
       "<IPython.core.display.HTML object>"
      ]
     },
     "metadata": {},
     "output_type": "display_data"
    }
   ],
   "source": [
    "test_qdf.to_csv('data/processed/input_data/test_qtr_indx.csv')"
   ]
  },
  {
   "cell_type": "code",
   "execution_count": null,
   "id": "7d050137-79cb-40cd-8787-0165fadcdb93",
   "metadata": {},
   "outputs": [],
   "source": []
  }
 ],
 "metadata": {
  "kernelspec": {
   "display_name": "Python (geoai)",
   "language": "python",
   "name": "geoai"
  },
  "language_info": {
   "codemirror_mode": {
    "name": "ipython",
    "version": 3
   },
   "file_extension": ".py",
   "mimetype": "text/x-python",
   "name": "python",
   "nbconvert_exporter": "python",
   "pygments_lexer": "ipython3",
   "version": "3.10.16"
  }
 },
 "nbformat": 4,
 "nbformat_minor": 5
}
